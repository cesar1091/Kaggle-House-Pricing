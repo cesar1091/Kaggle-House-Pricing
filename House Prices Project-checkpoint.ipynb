{
 "cells": [
  {
   "cell_type": "markdown",
   "metadata": {},
   "source": [
    "# Data Wrangling"
   ]
  },
  {
   "cell_type": "code",
   "execution_count": 1,
   "metadata": {},
   "outputs": [],
   "source": [
    "import pandas as pd\n",
    "import numpy as np\n",
    "import seaborn as sns\n",
    "import matplotlib.pyplot as plt"
   ]
  },
  {
   "cell_type": "code",
   "execution_count": 2,
   "metadata": {},
   "outputs": [],
   "source": [
    "data_house = pd.read_csv('C:/Users/Cesar Aaron/Documents/Practicas de Python/House_Prices_Kaggle/Data/train.csv', sep = ',')"
   ]
  },
  {
   "cell_type": "code",
   "execution_count": 3,
   "metadata": {
    "scrolled": true
   },
   "outputs": [
    {
     "data": {
      "text/html": [
       "<div>\n",
       "<style scoped>\n",
       "    .dataframe tbody tr th:only-of-type {\n",
       "        vertical-align: middle;\n",
       "    }\n",
       "\n",
       "    .dataframe tbody tr th {\n",
       "        vertical-align: top;\n",
       "    }\n",
       "\n",
       "    .dataframe thead th {\n",
       "        text-align: right;\n",
       "    }\n",
       "</style>\n",
       "<table border=\"1\" class=\"dataframe\">\n",
       "  <thead>\n",
       "    <tr style=\"text-align: right;\">\n",
       "      <th></th>\n",
       "      <th>Id</th>\n",
       "      <th>MSSubClass</th>\n",
       "      <th>MSZoning</th>\n",
       "      <th>LotFrontage</th>\n",
       "      <th>LotArea</th>\n",
       "      <th>Street</th>\n",
       "      <th>Alley</th>\n",
       "      <th>LotShape</th>\n",
       "      <th>LandContour</th>\n",
       "      <th>Utilities</th>\n",
       "      <th>...</th>\n",
       "      <th>PoolArea</th>\n",
       "      <th>PoolQC</th>\n",
       "      <th>Fence</th>\n",
       "      <th>MiscFeature</th>\n",
       "      <th>MiscVal</th>\n",
       "      <th>MoSold</th>\n",
       "      <th>YrSold</th>\n",
       "      <th>SaleType</th>\n",
       "      <th>SaleCondition</th>\n",
       "      <th>SalePrice</th>\n",
       "    </tr>\n",
       "  </thead>\n",
       "  <tbody>\n",
       "    <tr>\n",
       "      <th>0</th>\n",
       "      <td>1</td>\n",
       "      <td>60</td>\n",
       "      <td>RL</td>\n",
       "      <td>65.0</td>\n",
       "      <td>8450</td>\n",
       "      <td>Pave</td>\n",
       "      <td>NaN</td>\n",
       "      <td>Reg</td>\n",
       "      <td>Lvl</td>\n",
       "      <td>AllPub</td>\n",
       "      <td>...</td>\n",
       "      <td>0</td>\n",
       "      <td>NaN</td>\n",
       "      <td>NaN</td>\n",
       "      <td>NaN</td>\n",
       "      <td>0</td>\n",
       "      <td>2</td>\n",
       "      <td>2008</td>\n",
       "      <td>WD</td>\n",
       "      <td>Normal</td>\n",
       "      <td>208500</td>\n",
       "    </tr>\n",
       "    <tr>\n",
       "      <th>1</th>\n",
       "      <td>2</td>\n",
       "      <td>20</td>\n",
       "      <td>RL</td>\n",
       "      <td>80.0</td>\n",
       "      <td>9600</td>\n",
       "      <td>Pave</td>\n",
       "      <td>NaN</td>\n",
       "      <td>Reg</td>\n",
       "      <td>Lvl</td>\n",
       "      <td>AllPub</td>\n",
       "      <td>...</td>\n",
       "      <td>0</td>\n",
       "      <td>NaN</td>\n",
       "      <td>NaN</td>\n",
       "      <td>NaN</td>\n",
       "      <td>0</td>\n",
       "      <td>5</td>\n",
       "      <td>2007</td>\n",
       "      <td>WD</td>\n",
       "      <td>Normal</td>\n",
       "      <td>181500</td>\n",
       "    </tr>\n",
       "    <tr>\n",
       "      <th>2</th>\n",
       "      <td>3</td>\n",
       "      <td>60</td>\n",
       "      <td>RL</td>\n",
       "      <td>68.0</td>\n",
       "      <td>11250</td>\n",
       "      <td>Pave</td>\n",
       "      <td>NaN</td>\n",
       "      <td>IR1</td>\n",
       "      <td>Lvl</td>\n",
       "      <td>AllPub</td>\n",
       "      <td>...</td>\n",
       "      <td>0</td>\n",
       "      <td>NaN</td>\n",
       "      <td>NaN</td>\n",
       "      <td>NaN</td>\n",
       "      <td>0</td>\n",
       "      <td>9</td>\n",
       "      <td>2008</td>\n",
       "      <td>WD</td>\n",
       "      <td>Normal</td>\n",
       "      <td>223500</td>\n",
       "    </tr>\n",
       "    <tr>\n",
       "      <th>3</th>\n",
       "      <td>4</td>\n",
       "      <td>70</td>\n",
       "      <td>RL</td>\n",
       "      <td>60.0</td>\n",
       "      <td>9550</td>\n",
       "      <td>Pave</td>\n",
       "      <td>NaN</td>\n",
       "      <td>IR1</td>\n",
       "      <td>Lvl</td>\n",
       "      <td>AllPub</td>\n",
       "      <td>...</td>\n",
       "      <td>0</td>\n",
       "      <td>NaN</td>\n",
       "      <td>NaN</td>\n",
       "      <td>NaN</td>\n",
       "      <td>0</td>\n",
       "      <td>2</td>\n",
       "      <td>2006</td>\n",
       "      <td>WD</td>\n",
       "      <td>Abnorml</td>\n",
       "      <td>140000</td>\n",
       "    </tr>\n",
       "    <tr>\n",
       "      <th>4</th>\n",
       "      <td>5</td>\n",
       "      <td>60</td>\n",
       "      <td>RL</td>\n",
       "      <td>84.0</td>\n",
       "      <td>14260</td>\n",
       "      <td>Pave</td>\n",
       "      <td>NaN</td>\n",
       "      <td>IR1</td>\n",
       "      <td>Lvl</td>\n",
       "      <td>AllPub</td>\n",
       "      <td>...</td>\n",
       "      <td>0</td>\n",
       "      <td>NaN</td>\n",
       "      <td>NaN</td>\n",
       "      <td>NaN</td>\n",
       "      <td>0</td>\n",
       "      <td>12</td>\n",
       "      <td>2008</td>\n",
       "      <td>WD</td>\n",
       "      <td>Normal</td>\n",
       "      <td>250000</td>\n",
       "    </tr>\n",
       "  </tbody>\n",
       "</table>\n",
       "<p>5 rows × 81 columns</p>\n",
       "</div>"
      ],
      "text/plain": [
       "   Id  MSSubClass MSZoning  LotFrontage  LotArea Street Alley LotShape  \\\n",
       "0   1          60       RL         65.0     8450   Pave   NaN      Reg   \n",
       "1   2          20       RL         80.0     9600   Pave   NaN      Reg   \n",
       "2   3          60       RL         68.0    11250   Pave   NaN      IR1   \n",
       "3   4          70       RL         60.0     9550   Pave   NaN      IR1   \n",
       "4   5          60       RL         84.0    14260   Pave   NaN      IR1   \n",
       "\n",
       "  LandContour Utilities  ... PoolArea PoolQC Fence MiscFeature MiscVal MoSold  \\\n",
       "0         Lvl    AllPub  ...        0    NaN   NaN         NaN       0      2   \n",
       "1         Lvl    AllPub  ...        0    NaN   NaN         NaN       0      5   \n",
       "2         Lvl    AllPub  ...        0    NaN   NaN         NaN       0      9   \n",
       "3         Lvl    AllPub  ...        0    NaN   NaN         NaN       0      2   \n",
       "4         Lvl    AllPub  ...        0    NaN   NaN         NaN       0     12   \n",
       "\n",
       "  YrSold  SaleType  SaleCondition  SalePrice  \n",
       "0   2008        WD         Normal     208500  \n",
       "1   2007        WD         Normal     181500  \n",
       "2   2008        WD         Normal     223500  \n",
       "3   2006        WD        Abnorml     140000  \n",
       "4   2008        WD         Normal     250000  \n",
       "\n",
       "[5 rows x 81 columns]"
      ]
     },
     "execution_count": 3,
     "metadata": {},
     "output_type": "execute_result"
    }
   ],
   "source": [
    "data_house.head()"
   ]
  },
  {
   "cell_type": "code",
   "execution_count": 4,
   "metadata": {},
   "outputs": [
    {
     "data": {
      "text/plain": [
       "(1460, 81)"
      ]
     },
     "execution_count": 4,
     "metadata": {},
     "output_type": "execute_result"
    }
   ],
   "source": [
    "data_house.shape"
   ]
  },
  {
   "cell_type": "code",
   "execution_count": 5,
   "metadata": {},
   "outputs": [],
   "source": [
    "#Observemos las variables con más datos perdidos:\n",
    "miss_values = data_house.isnull().sum()"
   ]
  },
  {
   "cell_type": "code",
   "execution_count": 6,
   "metadata": {},
   "outputs": [
    {
     "data": {
      "text/plain": [
       "<matplotlib.axes._subplots.AxesSubplot at 0x25bc1104988>"
      ]
     },
     "execution_count": 6,
     "metadata": {},
     "output_type": "execute_result"
    },
    {
     "data": {
      "image/png": "[encoded data removed]",
      "text/plain": [
       "<Figure size 432x288 with 1 Axes>"
      ]
     },
     "metadata": {
      "needs_background": "light"
     },
     "output_type": "display_data"
    }
   ],
   "source": [
    "#Separamos solo las columnas con datos perdidos:\n",
    "miss_values = miss_values[miss_values > 0]\n",
    "miss_values.sort_values(inplace = True)\n",
    "miss_values.plot.bar()"
   ]
  },
  {
   "cell_type": "code",
   "execution_count": 7,
   "metadata": {},
   "outputs": [
    {
     "data": {
      "text/plain": [
       "Electrical         1\n",
       "MasVnrType         8\n",
       "MasVnrArea         8\n",
       "BsmtQual          37\n",
       "BsmtCond          37\n",
       "BsmtFinType1      37\n",
       "BsmtExposure      38\n",
       "BsmtFinType2      38\n",
       "GarageCond        81\n",
       "GarageQual        81\n",
       "GarageFinish      81\n",
       "GarageType        81\n",
       "GarageYrBlt       81\n",
       "LotFrontage      259\n",
       "FireplaceQu      690\n",
       "Fence           1179\n",
       "Alley           1369\n",
       "MiscFeature     1406\n",
       "PoolQC          1453\n",
       "dtype: int64"
      ]
     },
     "execution_count": 7,
     "metadata": {},
     "output_type": "execute_result"
    }
   ],
   "source": [
    "miss_values"
   ]
  },
  {
   "cell_type": "code",
   "execution_count": 8,
   "metadata": {},
   "outputs": [],
   "source": [
    "#Borraremos la variable PoolQC puesto que PoolArea ya indica si hay o no piscina\n",
    "#Puesto que si el area de la piscina es cero es porque no hay piscina\n",
    "data_house = data_house.drop('PoolQC',axis = 1)"
   ]
  },
  {
   "cell_type": "code",
   "execution_count": 9,
   "metadata": {
    "scrolled": true
   },
   "outputs": [],
   "source": [
    "#Borramos la columna MiscFeature por su enorme cantidad de variables NA\n",
    "data_house = data_house.drop('MiscFeature', axis = 1)"
   ]
  },
  {
   "cell_type": "code",
   "execution_count": 10,
   "metadata": {
    "scrolled": false
   },
   "outputs": [
    {
     "data": {
      "text/html": [
       "<div>\n",
       "<style scoped>\n",
       "    .dataframe tbody tr th:only-of-type {\n",
       "        vertical-align: middle;\n",
       "    }\n",
       "\n",
       "    .dataframe tbody tr th {\n",
       "        vertical-align: top;\n",
       "    }\n",
       "\n",
       "    .dataframe thead th {\n",
       "        text-align: right;\n",
       "    }\n",
       "</style>\n",
       "<table border=\"1\" class=\"dataframe\">\n",
       "  <thead>\n",
       "    <tr style=\"text-align: right;\">\n",
       "      <th></th>\n",
       "      <th>Id</th>\n",
       "      <th>MSSubClass</th>\n",
       "      <th>MSZoning</th>\n",
       "      <th>LotFrontage</th>\n",
       "      <th>LotArea</th>\n",
       "      <th>Street</th>\n",
       "      <th>Alley</th>\n",
       "      <th>LotShape</th>\n",
       "      <th>LandContour</th>\n",
       "      <th>Utilities</th>\n",
       "      <th>...</th>\n",
       "      <th>3SsnPorch</th>\n",
       "      <th>ScreenPorch</th>\n",
       "      <th>PoolArea</th>\n",
       "      <th>Fence</th>\n",
       "      <th>MiscVal</th>\n",
       "      <th>MoSold</th>\n",
       "      <th>YrSold</th>\n",
       "      <th>SaleType</th>\n",
       "      <th>SaleCondition</th>\n",
       "      <th>SalePrice</th>\n",
       "    </tr>\n",
       "  </thead>\n",
       "  <tbody>\n",
       "    <tr>\n",
       "      <th>0</th>\n",
       "      <td>1</td>\n",
       "      <td>60</td>\n",
       "      <td>RL</td>\n",
       "      <td>65.0</td>\n",
       "      <td>8450</td>\n",
       "      <td>Pave</td>\n",
       "      <td>NaN</td>\n",
       "      <td>Reg</td>\n",
       "      <td>Lvl</td>\n",
       "      <td>AllPub</td>\n",
       "      <td>...</td>\n",
       "      <td>0</td>\n",
       "      <td>0</td>\n",
       "      <td>0</td>\n",
       "      <td>NaN</td>\n",
       "      <td>0</td>\n",
       "      <td>2</td>\n",
       "      <td>2008</td>\n",
       "      <td>WD</td>\n",
       "      <td>Normal</td>\n",
       "      <td>208500</td>\n",
       "    </tr>\n",
       "    <tr>\n",
       "      <th>1</th>\n",
       "      <td>2</td>\n",
       "      <td>20</td>\n",
       "      <td>RL</td>\n",
       "      <td>80.0</td>\n",
       "      <td>9600</td>\n",
       "      <td>Pave</td>\n",
       "      <td>NaN</td>\n",
       "      <td>Reg</td>\n",
       "      <td>Lvl</td>\n",
       "      <td>AllPub</td>\n",
       "      <td>...</td>\n",
       "      <td>0</td>\n",
       "      <td>0</td>\n",
       "      <td>0</td>\n",
       "      <td>NaN</td>\n",
       "      <td>0</td>\n",
       "      <td>5</td>\n",
       "      <td>2007</td>\n",
       "      <td>WD</td>\n",
       "      <td>Normal</td>\n",
       "      <td>181500</td>\n",
       "    </tr>\n",
       "    <tr>\n",
       "      <th>2</th>\n",
       "      <td>3</td>\n",
       "      <td>60</td>\n",
       "      <td>RL</td>\n",
       "      <td>68.0</td>\n",
       "      <td>11250</td>\n",
       "      <td>Pave</td>\n",
       "      <td>NaN</td>\n",
       "      <td>IR1</td>\n",
       "      <td>Lvl</td>\n",
       "      <td>AllPub</td>\n",
       "      <td>...</td>\n",
       "      <td>0</td>\n",
       "      <td>0</td>\n",
       "      <td>0</td>\n",
       "      <td>NaN</td>\n",
       "      <td>0</td>\n",
       "      <td>9</td>\n",
       "      <td>2008</td>\n",
       "      <td>WD</td>\n",
       "      <td>Normal</td>\n",
       "      <td>223500</td>\n",
       "    </tr>\n",
       "    <tr>\n",
       "      <th>3</th>\n",
       "      <td>4</td>\n",
       "      <td>70</td>\n",
       "      <td>RL</td>\n",
       "      <td>60.0</td>\n",
       "      <td>9550</td>\n",
       "      <td>Pave</td>\n",
       "      <td>NaN</td>\n",
       "      <td>IR1</td>\n",
       "      <td>Lvl</td>\n",
       "      <td>AllPub</td>\n",
       "      <td>...</td>\n",
       "      <td>0</td>\n",
       "      <td>0</td>\n",
       "      <td>0</td>\n",
       "      <td>NaN</td>\n",
       "      <td>0</td>\n",
       "      <td>2</td>\n",
       "      <td>2006</td>\n",
       "      <td>WD</td>\n",
       "      <td>Abnorml</td>\n",
       "      <td>140000</td>\n",
       "    </tr>\n",
       "    <tr>\n",
       "      <th>4</th>\n",
       "      <td>5</td>\n",
       "      <td>60</td>\n",
       "      <td>RL</td>\n",
       "      <td>84.0</td>\n",
       "      <td>14260</td>\n",
       "      <td>Pave</td>\n",
       "      <td>NaN</td>\n",
       "      <td>IR1</td>\n",
       "      <td>Lvl</td>\n",
       "      <td>AllPub</td>\n",
       "      <td>...</td>\n",
       "      <td>0</td>\n",
       "      <td>0</td>\n",
       "      <td>0</td>\n",
       "      <td>NaN</td>\n",
       "      <td>0</td>\n",
       "      <td>12</td>\n",
       "      <td>2008</td>\n",
       "      <td>WD</td>\n",
       "      <td>Normal</td>\n",
       "      <td>250000</td>\n",
       "    </tr>\n",
       "  </tbody>\n",
       "</table>\n",
       "<p>5 rows × 79 columns</p>\n",
       "</div>"
      ],
      "text/plain": [
       "   Id  MSSubClass MSZoning  LotFrontage  LotArea Street Alley LotShape  \\\n",
       "0   1          60       RL         65.0     8450   Pave   NaN      Reg   \n",
       "1   2          20       RL         80.0     9600   Pave   NaN      Reg   \n",
       "2   3          60       RL         68.0    11250   Pave   NaN      IR1   \n",
       "3   4          70       RL         60.0     9550   Pave   NaN      IR1   \n",
       "4   5          60       RL         84.0    14260   Pave   NaN      IR1   \n",
       "\n",
       "  LandContour Utilities  ... 3SsnPorch ScreenPorch PoolArea Fence MiscVal  \\\n",
       "0         Lvl    AllPub  ...         0           0        0   NaN       0   \n",
       "1         Lvl    AllPub  ...         0           0        0   NaN       0   \n",
       "2         Lvl    AllPub  ...         0           0        0   NaN       0   \n",
       "3         Lvl    AllPub  ...         0           0        0   NaN       0   \n",
       "4         Lvl    AllPub  ...         0           0        0   NaN       0   \n",
       "\n",
       "  MoSold YrSold  SaleType  SaleCondition  SalePrice  \n",
       "0      2   2008        WD         Normal     208500  \n",
       "1      5   2007        WD         Normal     181500  \n",
       "2      9   2008        WD         Normal     223500  \n",
       "3      2   2006        WD        Abnorml     140000  \n",
       "4     12   2008        WD         Normal     250000  \n",
       "\n",
       "[5 rows x 79 columns]"
      ]
     },
     "execution_count": 10,
     "metadata": {},
     "output_type": "execute_result"
    }
   ],
   "source": [
    "data_house.head()"
   ]
  },
  {
   "cell_type": "code",
   "execution_count": 11,
   "metadata": {},
   "outputs": [],
   "source": [
    "#Cambiamos los NAN values por la opcion No access, \n",
    "#puesto que la base de datos de los alley indica \n",
    "#que si no tiene acceso al callejon de la propiedad entonces son NA\n",
    "data_house['Alley'].fillna('No Access',inplace = True)"
   ]
  },
  {
   "cell_type": "code",
   "execution_count": 12,
   "metadata": {
    "scrolled": true
   },
   "outputs": [
    {
     "data": {
      "text/html": [
       "<div>\n",
       "<style scoped>\n",
       "    .dataframe tbody tr th:only-of-type {\n",
       "        vertical-align: middle;\n",
       "    }\n",
       "\n",
       "    .dataframe tbody tr th {\n",
       "        vertical-align: top;\n",
       "    }\n",
       "\n",
       "    .dataframe thead th {\n",
       "        text-align: right;\n",
       "    }\n",
       "</style>\n",
       "<table border=\"1\" class=\"dataframe\">\n",
       "  <thead>\n",
       "    <tr style=\"text-align: right;\">\n",
       "      <th></th>\n",
       "      <th>Id</th>\n",
       "      <th>MSSubClass</th>\n",
       "      <th>MSZoning</th>\n",
       "      <th>LotFrontage</th>\n",
       "      <th>LotArea</th>\n",
       "      <th>Street</th>\n",
       "      <th>Alley</th>\n",
       "      <th>LotShape</th>\n",
       "      <th>LandContour</th>\n",
       "      <th>Utilities</th>\n",
       "      <th>...</th>\n",
       "      <th>3SsnPorch</th>\n",
       "      <th>ScreenPorch</th>\n",
       "      <th>PoolArea</th>\n",
       "      <th>Fence</th>\n",
       "      <th>MiscVal</th>\n",
       "      <th>MoSold</th>\n",
       "      <th>YrSold</th>\n",
       "      <th>SaleType</th>\n",
       "      <th>SaleCondition</th>\n",
       "      <th>SalePrice</th>\n",
       "    </tr>\n",
       "  </thead>\n",
       "  <tbody>\n",
       "    <tr>\n",
       "      <th>0</th>\n",
       "      <td>1</td>\n",
       "      <td>60</td>\n",
       "      <td>RL</td>\n",
       "      <td>65.0</td>\n",
       "      <td>8450</td>\n",
       "      <td>Pave</td>\n",
       "      <td>No Access</td>\n",
       "      <td>Reg</td>\n",
       "      <td>Lvl</td>\n",
       "      <td>AllPub</td>\n",
       "      <td>...</td>\n",
       "      <td>0</td>\n",
       "      <td>0</td>\n",
       "      <td>0</td>\n",
       "      <td>NaN</td>\n",
       "      <td>0</td>\n",
       "      <td>2</td>\n",
       "      <td>2008</td>\n",
       "      <td>WD</td>\n",
       "      <td>Normal</td>\n",
       "      <td>208500</td>\n",
       "    </tr>\n",
       "    <tr>\n",
       "      <th>1</th>\n",
       "      <td>2</td>\n",
       "      <td>20</td>\n",
       "      <td>RL</td>\n",
       "      <td>80.0</td>\n",
       "      <td>9600</td>\n",
       "      <td>Pave</td>\n",
       "      <td>No Access</td>\n",
       "      <td>Reg</td>\n",
       "      <td>Lvl</td>\n",
       "      <td>AllPub</td>\n",
       "      <td>...</td>\n",
       "      <td>0</td>\n",
       "      <td>0</td>\n",
       "      <td>0</td>\n",
       "      <td>NaN</td>\n",
       "      <td>0</td>\n",
       "      <td>5</td>\n",
       "      <td>2007</td>\n",
       "      <td>WD</td>\n",
       "      <td>Normal</td>\n",
       "      <td>181500</td>\n",
       "    </tr>\n",
       "    <tr>\n",
       "      <th>2</th>\n",
       "      <td>3</td>\n",
       "      <td>60</td>\n",
       "      <td>RL</td>\n",
       "      <td>68.0</td>\n",
       "      <td>11250</td>\n",
       "      <td>Pave</td>\n",
       "      <td>No Access</td>\n",
       "      <td>IR1</td>\n",
       "      <td>Lvl</td>\n",
       "      <td>AllPub</td>\n",
       "      <td>...</td>\n",
       "      <td>0</td>\n",
       "      <td>0</td>\n",
       "      <td>0</td>\n",
       "      <td>NaN</td>\n",
       "      <td>0</td>\n",
       "      <td>9</td>\n",
       "      <td>2008</td>\n",
       "      <td>WD</td>\n",
       "      <td>Normal</td>\n",
       "      <td>223500</td>\n",
       "    </tr>\n",
       "    <tr>\n",
       "      <th>3</th>\n",
       "      <td>4</td>\n",
       "      <td>70</td>\n",
       "      <td>RL</td>\n",
       "      <td>60.0</td>\n",
       "      <td>9550</td>\n",
       "      <td>Pave</td>\n",
       "      <td>No Access</td>\n",
       "      <td>IR1</td>\n",
       "      <td>Lvl</td>\n",
       "      <td>AllPub</td>\n",
       "      <td>...</td>\n",
       "      <td>0</td>\n",
       "      <td>0</td>\n",
       "      <td>0</td>\n",
       "      <td>NaN</td>\n",
       "      <td>0</td>\n",
       "      <td>2</td>\n",
       "      <td>2006</td>\n",
       "      <td>WD</td>\n",
       "      <td>Abnorml</td>\n",
       "      <td>140000</td>\n",
       "    </tr>\n",
       "    <tr>\n",
       "      <th>4</th>\n",
       "      <td>5</td>\n",
       "      <td>60</td>\n",
       "      <td>RL</td>\n",
       "      <td>84.0</td>\n",
       "      <td>14260</td>\n",
       "      <td>Pave</td>\n",
       "      <td>No Access</td>\n",
       "      <td>IR1</td>\n",
       "      <td>Lvl</td>\n",
       "      <td>AllPub</td>\n",
       "      <td>...</td>\n",
       "      <td>0</td>\n",
       "      <td>0</td>\n",
       "      <td>0</td>\n",
       "      <td>NaN</td>\n",
       "      <td>0</td>\n",
       "      <td>12</td>\n",
       "      <td>2008</td>\n",
       "      <td>WD</td>\n",
       "      <td>Normal</td>\n",
       "      <td>250000</td>\n",
       "    </tr>\n",
       "  </tbody>\n",
       "</table>\n",
       "<p>5 rows × 79 columns</p>\n",
       "</div>"
      ],
      "text/plain": [
       "   Id  MSSubClass MSZoning  LotFrontage  LotArea Street      Alley LotShape  \\\n",
       "0   1          60       RL         65.0     8450   Pave  No Access      Reg   \n",
       "1   2          20       RL         80.0     9600   Pave  No Access      Reg   \n",
       "2   3          60       RL         68.0    11250   Pave  No Access      IR1   \n",
       "3   4          70       RL         60.0     9550   Pave  No Access      IR1   \n",
       "4   5          60       RL         84.0    14260   Pave  No Access      IR1   \n",
       "\n",
       "  LandContour Utilities  ... 3SsnPorch ScreenPorch PoolArea Fence MiscVal  \\\n",
       "0         Lvl    AllPub  ...         0           0        0   NaN       0   \n",
       "1         Lvl    AllPub  ...         0           0        0   NaN       0   \n",
       "2         Lvl    AllPub  ...         0           0        0   NaN       0   \n",
       "3         Lvl    AllPub  ...         0           0        0   NaN       0   \n",
       "4         Lvl    AllPub  ...         0           0        0   NaN       0   \n",
       "\n",
       "  MoSold YrSold  SaleType  SaleCondition  SalePrice  \n",
       "0      2   2008        WD         Normal     208500  \n",
       "1      5   2007        WD         Normal     181500  \n",
       "2      9   2008        WD         Normal     223500  \n",
       "3      2   2006        WD        Abnorml     140000  \n",
       "4     12   2008        WD         Normal     250000  \n",
       "\n",
       "[5 rows x 79 columns]"
      ]
     },
     "execution_count": 12,
     "metadata": {},
     "output_type": "execute_result"
    }
   ],
   "source": [
    "data_house.head()"
   ]
  },
  {
   "cell_type": "code",
   "execution_count": 13,
   "metadata": {},
   "outputs": [],
   "source": [
    "#Cambiamos los NaN de Fence por No Fence, dado que la data description indica\n",
    "#que si es NA no tiene vallas\n",
    "data_house['Fence'].fillna('No Fence', inplace = True)"
   ]
  },
  {
   "cell_type": "code",
   "execution_count": 14,
   "metadata": {},
   "outputs": [],
   "source": [
    "#Borramos la columna FireplaceQu dado que la variable Fireplaces nos indica el \n",
    "#número de Fireplaces que hay en la propiedad\n",
    "data_house['FireplaceQu'].fillna('No Fireplace', inplace = True)"
   ]
  },
  {
   "cell_type": "code",
   "execution_count": 15,
   "metadata": {},
   "outputs": [],
   "source": [
    "#Rellenamos los Lot Frontage por su promedio\n",
    "data_house['LotFrontage'].fillna(data_house['LotFrontage'].mean(), inplace = True)"
   ]
  },
  {
   "cell_type": "code",
   "execution_count": 16,
   "metadata": {},
   "outputs": [],
   "source": [
    "#Borraremos GarageCond,GarageQual,GarageFinish,GarageType,GarageYrBlt, dado \n",
    "#que la variable de GarageArea nos indica la existencia del Garage o no\n",
    "data_house = data_house.drop(['GarageCond','GarageQual','GarageFinish','GarageType','GarageYrBlt'], axis = 1)"
   ]
  },
  {
   "cell_type": "code",
   "execution_count": 17,
   "metadata": {},
   "outputs": [],
   "source": [
    "#Borraremos BsmtQual,BsmtCond,BsmtFinType1,BsmtExposure,BsmtFinType2, dado\n",
    "#Dado que las variables BsmtFinSF1, BsmtFinSF2, indican la existencia del sotano\n",
    "data_house = data_house.drop(['BsmtQual','BsmtCond','BsmtFinType1','BsmtExposure','BsmtFinType2'], axis = 1)"
   ]
  },
  {
   "cell_type": "code",
   "execution_count": 18,
   "metadata": {},
   "outputs": [],
   "source": [
    "#Rellenamos las variable MasVnrArea por cero en los casos de NA, dado que es el\n",
    "#caso en el que no hay area de mampostería en pies cuadrados y cambiamos la \n",
    "#columna MasVnrType por None \n",
    "data_house['MasVnrArea'].fillna(0, inplace = True)\n",
    "data_house['MasVnrType'].fillna('None', inplace = True)"
   ]
  },
  {
   "cell_type": "code",
   "execution_count": 19,
   "metadata": {},
   "outputs": [
    {
     "data": {
      "text/html": [
       "<div>\n",
       "<style scoped>\n",
       "    .dataframe tbody tr th:only-of-type {\n",
       "        vertical-align: middle;\n",
       "    }\n",
       "\n",
       "    .dataframe tbody tr th {\n",
       "        vertical-align: top;\n",
       "    }\n",
       "\n",
       "    .dataframe thead th {\n",
       "        text-align: right;\n",
       "    }\n",
       "</style>\n",
       "<table border=\"1\" class=\"dataframe\">\n",
       "  <thead>\n",
       "    <tr style=\"text-align: right;\">\n",
       "      <th></th>\n",
       "      <th>Id</th>\n",
       "      <th>MSSubClass</th>\n",
       "      <th>MSZoning</th>\n",
       "      <th>LotFrontage</th>\n",
       "      <th>LotArea</th>\n",
       "      <th>Street</th>\n",
       "      <th>Alley</th>\n",
       "      <th>LotShape</th>\n",
       "      <th>LandContour</th>\n",
       "      <th>Utilities</th>\n",
       "      <th>...</th>\n",
       "      <th>3SsnPorch</th>\n",
       "      <th>ScreenPorch</th>\n",
       "      <th>PoolArea</th>\n",
       "      <th>Fence</th>\n",
       "      <th>MiscVal</th>\n",
       "      <th>MoSold</th>\n",
       "      <th>YrSold</th>\n",
       "      <th>SaleType</th>\n",
       "      <th>SaleCondition</th>\n",
       "      <th>SalePrice</th>\n",
       "    </tr>\n",
       "  </thead>\n",
       "  <tbody>\n",
       "    <tr>\n",
       "      <th>1379</th>\n",
       "      <td>1380</td>\n",
       "      <td>80</td>\n",
       "      <td>RL</td>\n",
       "      <td>73.0</td>\n",
       "      <td>9735</td>\n",
       "      <td>Pave</td>\n",
       "      <td>No Access</td>\n",
       "      <td>Reg</td>\n",
       "      <td>Lvl</td>\n",
       "      <td>AllPub</td>\n",
       "      <td>...</td>\n",
       "      <td>0</td>\n",
       "      <td>0</td>\n",
       "      <td>0</td>\n",
       "      <td>No Fence</td>\n",
       "      <td>0</td>\n",
       "      <td>5</td>\n",
       "      <td>2008</td>\n",
       "      <td>WD</td>\n",
       "      <td>Normal</td>\n",
       "      <td>167500</td>\n",
       "    </tr>\n",
       "  </tbody>\n",
       "</table>\n",
       "<p>1 rows × 69 columns</p>\n",
       "</div>"
      ],
      "text/plain": [
       "        Id  MSSubClass MSZoning  LotFrontage  LotArea Street      Alley  \\\n",
       "1379  1380          80       RL         73.0     9735   Pave  No Access   \n",
       "\n",
       "     LotShape LandContour Utilities  ... 3SsnPorch ScreenPorch PoolArea  \\\n",
       "1379      Reg         Lvl    AllPub  ...         0           0        0   \n",
       "\n",
       "         Fence MiscVal MoSold YrSold  SaleType  SaleCondition  SalePrice  \n",
       "1379  No Fence       0      5   2008        WD         Normal     167500  \n",
       "\n",
       "[1 rows x 69 columns]"
      ]
     },
     "execution_count": 19,
     "metadata": {},
     "output_type": "execute_result"
    }
   ],
   "source": [
    "#Analizemos el caso de NA de Electrical\n",
    "data_house[data_house['Electrical'].isnull()]"
   ]
  },
  {
   "cell_type": "code",
   "execution_count": 20,
   "metadata": {},
   "outputs": [
    {
     "data": {
      "text/plain": [
       "<matplotlib.axes._subplots.AxesSubplot at 0x25bc3415808>"
      ]
     },
     "execution_count": 20,
     "metadata": {},
     "output_type": "execute_result"
    },
    {
     "data": {
      "image/png": "[encoded data removed]",
      "text/plain": [
       "<Figure size 432x288 with 1 Axes>"
      ]
     },
     "metadata": {
      "needs_background": "light"
     },
     "output_type": "display_data"
    }
   ],
   "source": [
    "#Se observa que esta en el precio promedio de SalesPrice\n",
    "data_house['SalePrice'].plot.hist()"
   ]
  },
  {
   "cell_type": "code",
   "execution_count": 21,
   "metadata": {},
   "outputs": [],
   "source": [
    "#Por lo tanto se le rellenara por FuseA que es lo común\n",
    "data_house['Electrical'].fillna('FuseA', inplace = True)"
   ]
  },
  {
   "cell_type": "code",
   "execution_count": 22,
   "metadata": {},
   "outputs": [
    {
     "data": {
      "text/plain": [
       "Id               0\n",
       "MSSubClass       0\n",
       "MSZoning         0\n",
       "LotFrontage      0\n",
       "LotArea          0\n",
       "                ..\n",
       "MoSold           0\n",
       "YrSold           0\n",
       "SaleType         0\n",
       "SaleCondition    0\n",
       "SalePrice        0\n",
       "Length: 69, dtype: int64"
      ]
     },
     "execution_count": 22,
     "metadata": {},
     "output_type": "execute_result"
    }
   ],
   "source": [
    "#De esta manera, ya no tenemos datos NA:\n",
    "data_house.isnull().sum()"
   ]
  },
  {
   "cell_type": "markdown",
   "metadata": {},
   "source": [
    "# Análisis gráfico de las variables"
   ]
  },
  {
   "cell_type": "code",
   "execution_count": 23,
   "metadata": {},
   "outputs": [
    {
     "data": {
      "text/html": [
       "<div>\n",
       "<style scoped>\n",
       "    .dataframe tbody tr th:only-of-type {\n",
       "        vertical-align: middle;\n",
       "    }\n",
       "\n",
       "    .dataframe tbody tr th {\n",
       "        vertical-align: top;\n",
       "    }\n",
       "\n",
       "    .dataframe thead th {\n",
       "        text-align: right;\n",
       "    }\n",
       "</style>\n",
       "<table border=\"1\" class=\"dataframe\">\n",
       "  <thead>\n",
       "    <tr style=\"text-align: right;\">\n",
       "      <th></th>\n",
       "      <th>MSZoning</th>\n",
       "      <th>Street</th>\n",
       "      <th>Alley</th>\n",
       "      <th>LotShape</th>\n",
       "      <th>LandContour</th>\n",
       "      <th>Utilities</th>\n",
       "      <th>LotConfig</th>\n",
       "      <th>LandSlope</th>\n",
       "      <th>Neighborhood</th>\n",
       "      <th>Condition1</th>\n",
       "      <th>...</th>\n",
       "      <th>HeatingQC</th>\n",
       "      <th>CentralAir</th>\n",
       "      <th>Electrical</th>\n",
       "      <th>KitchenQual</th>\n",
       "      <th>Functional</th>\n",
       "      <th>FireplaceQu</th>\n",
       "      <th>PavedDrive</th>\n",
       "      <th>Fence</th>\n",
       "      <th>SaleType</th>\n",
       "      <th>SaleCondition</th>\n",
       "    </tr>\n",
       "  </thead>\n",
       "  <tbody>\n",
       "    <tr>\n",
       "      <th>0</th>\n",
       "      <td>RL</td>\n",
       "      <td>Pave</td>\n",
       "      <td>No Access</td>\n",
       "      <td>Reg</td>\n",
       "      <td>Lvl</td>\n",
       "      <td>AllPub</td>\n",
       "      <td>Inside</td>\n",
       "      <td>Gtl</td>\n",
       "      <td>CollgCr</td>\n",
       "      <td>Norm</td>\n",
       "      <td>...</td>\n",
       "      <td>Ex</td>\n",
       "      <td>Y</td>\n",
       "      <td>SBrkr</td>\n",
       "      <td>Gd</td>\n",
       "      <td>Typ</td>\n",
       "      <td>No Fireplace</td>\n",
       "      <td>Y</td>\n",
       "      <td>No Fence</td>\n",
       "      <td>WD</td>\n",
       "      <td>Normal</td>\n",
       "    </tr>\n",
       "    <tr>\n",
       "      <th>1</th>\n",
       "      <td>RL</td>\n",
       "      <td>Pave</td>\n",
       "      <td>No Access</td>\n",
       "      <td>Reg</td>\n",
       "      <td>Lvl</td>\n",
       "      <td>AllPub</td>\n",
       "      <td>FR2</td>\n",
       "      <td>Gtl</td>\n",
       "      <td>Veenker</td>\n",
       "      <td>Feedr</td>\n",
       "      <td>...</td>\n",
       "      <td>Ex</td>\n",
       "      <td>Y</td>\n",
       "      <td>SBrkr</td>\n",
       "      <td>TA</td>\n",
       "      <td>Typ</td>\n",
       "      <td>TA</td>\n",
       "      <td>Y</td>\n",
       "      <td>No Fence</td>\n",
       "      <td>WD</td>\n",
       "      <td>Normal</td>\n",
       "    </tr>\n",
       "    <tr>\n",
       "      <th>2</th>\n",
       "      <td>RL</td>\n",
       "      <td>Pave</td>\n",
       "      <td>No Access</td>\n",
       "      <td>IR1</td>\n",
       "      <td>Lvl</td>\n",
       "      <td>AllPub</td>\n",
       "      <td>Inside</td>\n",
       "      <td>Gtl</td>\n",
       "      <td>CollgCr</td>\n",
       "      <td>Norm</td>\n",
       "      <td>...</td>\n",
       "      <td>Ex</td>\n",
       "      <td>Y</td>\n",
       "      <td>SBrkr</td>\n",
       "      <td>Gd</td>\n",
       "      <td>Typ</td>\n",
       "      <td>TA</td>\n",
       "      <td>Y</td>\n",
       "      <td>No Fence</td>\n",
       "      <td>WD</td>\n",
       "      <td>Normal</td>\n",
       "    </tr>\n",
       "    <tr>\n",
       "      <th>3</th>\n",
       "      <td>RL</td>\n",
       "      <td>Pave</td>\n",
       "      <td>No Access</td>\n",
       "      <td>IR1</td>\n",
       "      <td>Lvl</td>\n",
       "      <td>AllPub</td>\n",
       "      <td>Corner</td>\n",
       "      <td>Gtl</td>\n",
       "      <td>Crawfor</td>\n",
       "      <td>Norm</td>\n",
       "      <td>...</td>\n",
       "      <td>Gd</td>\n",
       "      <td>Y</td>\n",
       "      <td>SBrkr</td>\n",
       "      <td>Gd</td>\n",
       "      <td>Typ</td>\n",
       "      <td>Gd</td>\n",
       "      <td>Y</td>\n",
       "      <td>No Fence</td>\n",
       "      <td>WD</td>\n",
       "      <td>Abnorml</td>\n",
       "    </tr>\n",
       "    <tr>\n",
       "      <th>4</th>\n",
       "      <td>RL</td>\n",
       "      <td>Pave</td>\n",
       "      <td>No Access</td>\n",
       "      <td>IR1</td>\n",
       "      <td>Lvl</td>\n",
       "      <td>AllPub</td>\n",
       "      <td>FR2</td>\n",
       "      <td>Gtl</td>\n",
       "      <td>NoRidge</td>\n",
       "      <td>Norm</td>\n",
       "      <td>...</td>\n",
       "      <td>Ex</td>\n",
       "      <td>Y</td>\n",
       "      <td>SBrkr</td>\n",
       "      <td>Gd</td>\n",
       "      <td>Typ</td>\n",
       "      <td>TA</td>\n",
       "      <td>Y</td>\n",
       "      <td>No Fence</td>\n",
       "      <td>WD</td>\n",
       "      <td>Normal</td>\n",
       "    </tr>\n",
       "    <tr>\n",
       "      <th>...</th>\n",
       "      <td>...</td>\n",
       "      <td>...</td>\n",
       "      <td>...</td>\n",
       "      <td>...</td>\n",
       "      <td>...</td>\n",
       "      <td>...</td>\n",
       "      <td>...</td>\n",
       "      <td>...</td>\n",
       "      <td>...</td>\n",
       "      <td>...</td>\n",
       "      <td>...</td>\n",
       "      <td>...</td>\n",
       "      <td>...</td>\n",
       "      <td>...</td>\n",
       "      <td>...</td>\n",
       "      <td>...</td>\n",
       "      <td>...</td>\n",
       "      <td>...</td>\n",
       "      <td>...</td>\n",
       "      <td>...</td>\n",
       "      <td>...</td>\n",
       "    </tr>\n",
       "    <tr>\n",
       "      <th>1455</th>\n",
       "      <td>RL</td>\n",
       "      <td>Pave</td>\n",
       "      <td>No Access</td>\n",
       "      <td>Reg</td>\n",
       "      <td>Lvl</td>\n",
       "      <td>AllPub</td>\n",
       "      <td>Inside</td>\n",
       "      <td>Gtl</td>\n",
       "      <td>Gilbert</td>\n",
       "      <td>Norm</td>\n",
       "      <td>...</td>\n",
       "      <td>Ex</td>\n",
       "      <td>Y</td>\n",
       "      <td>SBrkr</td>\n",
       "      <td>TA</td>\n",
       "      <td>Typ</td>\n",
       "      <td>TA</td>\n",
       "      <td>Y</td>\n",
       "      <td>No Fence</td>\n",
       "      <td>WD</td>\n",
       "      <td>Normal</td>\n",
       "    </tr>\n",
       "    <tr>\n",
       "      <th>1456</th>\n",
       "      <td>RL</td>\n",
       "      <td>Pave</td>\n",
       "      <td>No Access</td>\n",
       "      <td>Reg</td>\n",
       "      <td>Lvl</td>\n",
       "      <td>AllPub</td>\n",
       "      <td>Inside</td>\n",
       "      <td>Gtl</td>\n",
       "      <td>NWAmes</td>\n",
       "      <td>Norm</td>\n",
       "      <td>...</td>\n",
       "      <td>TA</td>\n",
       "      <td>Y</td>\n",
       "      <td>SBrkr</td>\n",
       "      <td>TA</td>\n",
       "      <td>Min1</td>\n",
       "      <td>TA</td>\n",
       "      <td>Y</td>\n",
       "      <td>MnPrv</td>\n",
       "      <td>WD</td>\n",
       "      <td>Normal</td>\n",
       "    </tr>\n",
       "    <tr>\n",
       "      <th>1457</th>\n",
       "      <td>RL</td>\n",
       "      <td>Pave</td>\n",
       "      <td>No Access</td>\n",
       "      <td>Reg</td>\n",
       "      <td>Lvl</td>\n",
       "      <td>AllPub</td>\n",
       "      <td>Inside</td>\n",
       "      <td>Gtl</td>\n",
       "      <td>Crawfor</td>\n",
       "      <td>Norm</td>\n",
       "      <td>...</td>\n",
       "      <td>Ex</td>\n",
       "      <td>Y</td>\n",
       "      <td>SBrkr</td>\n",
       "      <td>Gd</td>\n",
       "      <td>Typ</td>\n",
       "      <td>Gd</td>\n",
       "      <td>Y</td>\n",
       "      <td>GdPrv</td>\n",
       "      <td>WD</td>\n",
       "      <td>Normal</td>\n",
       "    </tr>\n",
       "    <tr>\n",
       "      <th>1458</th>\n",
       "      <td>RL</td>\n",
       "      <td>Pave</td>\n",
       "      <td>No Access</td>\n",
       "      <td>Reg</td>\n",
       "      <td>Lvl</td>\n",
       "      <td>AllPub</td>\n",
       "      <td>Inside</td>\n",
       "      <td>Gtl</td>\n",
       "      <td>NAmes</td>\n",
       "      <td>Norm</td>\n",
       "      <td>...</td>\n",
       "      <td>Gd</td>\n",
       "      <td>Y</td>\n",
       "      <td>FuseA</td>\n",
       "      <td>Gd</td>\n",
       "      <td>Typ</td>\n",
       "      <td>No Fireplace</td>\n",
       "      <td>Y</td>\n",
       "      <td>No Fence</td>\n",
       "      <td>WD</td>\n",
       "      <td>Normal</td>\n",
       "    </tr>\n",
       "    <tr>\n",
       "      <th>1459</th>\n",
       "      <td>RL</td>\n",
       "      <td>Pave</td>\n",
       "      <td>No Access</td>\n",
       "      <td>Reg</td>\n",
       "      <td>Lvl</td>\n",
       "      <td>AllPub</td>\n",
       "      <td>Inside</td>\n",
       "      <td>Gtl</td>\n",
       "      <td>Edwards</td>\n",
       "      <td>Norm</td>\n",
       "      <td>...</td>\n",
       "      <td>Gd</td>\n",
       "      <td>Y</td>\n",
       "      <td>SBrkr</td>\n",
       "      <td>TA</td>\n",
       "      <td>Typ</td>\n",
       "      <td>No Fireplace</td>\n",
       "      <td>Y</td>\n",
       "      <td>No Fence</td>\n",
       "      <td>WD</td>\n",
       "      <td>Normal</td>\n",
       "    </tr>\n",
       "  </tbody>\n",
       "</table>\n",
       "<p>1460 rows × 32 columns</p>\n",
       "</div>"
      ],
      "text/plain": [
       "     MSZoning Street      Alley LotShape LandContour Utilities LotConfig  \\\n",
       "0          RL   Pave  No Access      Reg         Lvl    AllPub    Inside   \n",
       "1          RL   Pave  No Access      Reg         Lvl    AllPub       FR2   \n",
       "2          RL   Pave  No Access      IR1         Lvl    AllPub    Inside   \n",
       "3          RL   Pave  No Access      IR1         Lvl    AllPub    Corner   \n",
       "4          RL   Pave  No Access      IR1         Lvl    AllPub       FR2   \n",
       "...       ...    ...        ...      ...         ...       ...       ...   \n",
       "1455       RL   Pave  No Access      Reg         Lvl    AllPub    Inside   \n",
       "1456       RL   Pave  No Access      Reg         Lvl    AllPub    Inside   \n",
       "1457       RL   Pave  No Access      Reg         Lvl    AllPub    Inside   \n",
       "1458       RL   Pave  No Access      Reg         Lvl    AllPub    Inside   \n",
       "1459       RL   Pave  No Access      Reg         Lvl    AllPub    Inside   \n",
       "\n",
       "     LandSlope Neighborhood Condition1  ... HeatingQC CentralAir Electrical  \\\n",
       "0          Gtl      CollgCr       Norm  ...        Ex          Y      SBrkr   \n",
       "1          Gtl      Veenker      Feedr  ...        Ex          Y      SBrkr   \n",
       "2          Gtl      CollgCr       Norm  ...        Ex          Y      SBrkr   \n",
       "3          Gtl      Crawfor       Norm  ...        Gd          Y      SBrkr   \n",
       "4          Gtl      NoRidge       Norm  ...        Ex          Y      SBrkr   \n",
       "...        ...          ...        ...  ...       ...        ...        ...   \n",
       "1455       Gtl      Gilbert       Norm  ...        Ex          Y      SBrkr   \n",
       "1456       Gtl       NWAmes       Norm  ...        TA          Y      SBrkr   \n",
       "1457       Gtl      Crawfor       Norm  ...        Ex          Y      SBrkr   \n",
       "1458       Gtl        NAmes       Norm  ...        Gd          Y      FuseA   \n",
       "1459       Gtl      Edwards       Norm  ...        Gd          Y      SBrkr   \n",
       "\n",
       "     KitchenQual Functional   FireplaceQu PavedDrive     Fence SaleType  \\\n",
       "0             Gd        Typ  No Fireplace          Y  No Fence       WD   \n",
       "1             TA        Typ            TA          Y  No Fence       WD   \n",
       "2             Gd        Typ            TA          Y  No Fence       WD   \n",
       "3             Gd        Typ            Gd          Y  No Fence       WD   \n",
       "4             Gd        Typ            TA          Y  No Fence       WD   \n",
       "...          ...        ...           ...        ...       ...      ...   \n",
       "1455          TA        Typ            TA          Y  No Fence       WD   \n",
       "1456          TA       Min1            TA          Y     MnPrv       WD   \n",
       "1457          Gd        Typ            Gd          Y     GdPrv       WD   \n",
       "1458          Gd        Typ  No Fireplace          Y  No Fence       WD   \n",
       "1459          TA        Typ  No Fireplace          Y  No Fence       WD   \n",
       "\n",
       "     SaleCondition  \n",
       "0           Normal  \n",
       "1           Normal  \n",
       "2           Normal  \n",
       "3          Abnorml  \n",
       "4           Normal  \n",
       "...            ...  \n",
       "1455        Normal  \n",
       "1456        Normal  \n",
       "1457        Normal  \n",
       "1458        Normal  \n",
       "1459        Normal  \n",
       "\n",
       "[1460 rows x 32 columns]"
      ]
     },
     "execution_count": 23,
     "metadata": {},
     "output_type": "execute_result"
    }
   ],
   "source": [
    "Categorical_Variables = data_house.select_dtypes(include=np.object)\n",
    "Categorical_Variables"
   ]
  },
  {
   "cell_type": "code",
   "execution_count": 24,
   "metadata": {
    "scrolled": true
   },
   "outputs": [
    {
     "data": {
      "text/html": [
       "<div>\n",
       "<style scoped>\n",
       "    .dataframe tbody tr th:only-of-type {\n",
       "        vertical-align: middle;\n",
       "    }\n",
       "\n",
       "    .dataframe tbody tr th {\n",
       "        vertical-align: top;\n",
       "    }\n",
       "\n",
       "    .dataframe thead th {\n",
       "        text-align: right;\n",
       "    }\n",
       "</style>\n",
       "<table border=\"1\" class=\"dataframe\">\n",
       "  <thead>\n",
       "    <tr style=\"text-align: right;\">\n",
       "      <th></th>\n",
       "      <th>MSSubClass</th>\n",
       "      <th>LotFrontage</th>\n",
       "      <th>LotArea</th>\n",
       "      <th>OverallQual</th>\n",
       "      <th>OverallCond</th>\n",
       "      <th>YearBuilt</th>\n",
       "      <th>YearRemodAdd</th>\n",
       "      <th>MasVnrArea</th>\n",
       "      <th>BsmtFinSF1</th>\n",
       "      <th>BsmtFinSF2</th>\n",
       "      <th>...</th>\n",
       "      <th>WoodDeckSF</th>\n",
       "      <th>OpenPorchSF</th>\n",
       "      <th>EnclosedPorch</th>\n",
       "      <th>3SsnPorch</th>\n",
       "      <th>ScreenPorch</th>\n",
       "      <th>PoolArea</th>\n",
       "      <th>MiscVal</th>\n",
       "      <th>MoSold</th>\n",
       "      <th>YrSold</th>\n",
       "      <th>SalePrice</th>\n",
       "    </tr>\n",
       "  </thead>\n",
       "  <tbody>\n",
       "    <tr>\n",
       "      <th>0</th>\n",
       "      <td>60</td>\n",
       "      <td>65.0</td>\n",
       "      <td>8450</td>\n",
       "      <td>7</td>\n",
       "      <td>5</td>\n",
       "      <td>2003</td>\n",
       "      <td>2003</td>\n",
       "      <td>196.0</td>\n",
       "      <td>706</td>\n",
       "      <td>0</td>\n",
       "      <td>...</td>\n",
       "      <td>0</td>\n",
       "      <td>61</td>\n",
       "      <td>0</td>\n",
       "      <td>0</td>\n",
       "      <td>0</td>\n",
       "      <td>0</td>\n",
       "      <td>0</td>\n",
       "      <td>2</td>\n",
       "      <td>2008</td>\n",
       "      <td>208500</td>\n",
       "    </tr>\n",
       "    <tr>\n",
       "      <th>1</th>\n",
       "      <td>20</td>\n",
       "      <td>80.0</td>\n",
       "      <td>9600</td>\n",
       "      <td>6</td>\n",
       "      <td>8</td>\n",
       "      <td>1976</td>\n",
       "      <td>1976</td>\n",
       "      <td>0.0</td>\n",
       "      <td>978</td>\n",
       "      <td>0</td>\n",
       "      <td>...</td>\n",
       "      <td>298</td>\n",
       "      <td>0</td>\n",
       "      <td>0</td>\n",
       "      <td>0</td>\n",
       "      <td>0</td>\n",
       "      <td>0</td>\n",
       "      <td>0</td>\n",
       "      <td>5</td>\n",
       "      <td>2007</td>\n",
       "      <td>181500</td>\n",
       "    </tr>\n",
       "    <tr>\n",
       "      <th>2</th>\n",
       "      <td>60</td>\n",
       "      <td>68.0</td>\n",
       "      <td>11250</td>\n",
       "      <td>7</td>\n",
       "      <td>5</td>\n",
       "      <td>2001</td>\n",
       "      <td>2002</td>\n",
       "      <td>162.0</td>\n",
       "      <td>486</td>\n",
       "      <td>0</td>\n",
       "      <td>...</td>\n",
       "      <td>0</td>\n",
       "      <td>42</td>\n",
       "      <td>0</td>\n",
       "      <td>0</td>\n",
       "      <td>0</td>\n",
       "      <td>0</td>\n",
       "      <td>0</td>\n",
       "      <td>9</td>\n",
       "      <td>2008</td>\n",
       "      <td>223500</td>\n",
       "    </tr>\n",
       "    <tr>\n",
       "      <th>3</th>\n",
       "      <td>70</td>\n",
       "      <td>60.0</td>\n",
       "      <td>9550</td>\n",
       "      <td>7</td>\n",
       "      <td>5</td>\n",
       "      <td>1915</td>\n",
       "      <td>1970</td>\n",
       "      <td>0.0</td>\n",
       "      <td>216</td>\n",
       "      <td>0</td>\n",
       "      <td>...</td>\n",
       "      <td>0</td>\n",
       "      <td>35</td>\n",
       "      <td>272</td>\n",
       "      <td>0</td>\n",
       "      <td>0</td>\n",
       "      <td>0</td>\n",
       "      <td>0</td>\n",
       "      <td>2</td>\n",
       "      <td>2006</td>\n",
       "      <td>140000</td>\n",
       "    </tr>\n",
       "    <tr>\n",
       "      <th>4</th>\n",
       "      <td>60</td>\n",
       "      <td>84.0</td>\n",
       "      <td>14260</td>\n",
       "      <td>8</td>\n",
       "      <td>5</td>\n",
       "      <td>2000</td>\n",
       "      <td>2000</td>\n",
       "      <td>350.0</td>\n",
       "      <td>655</td>\n",
       "      <td>0</td>\n",
       "      <td>...</td>\n",
       "      <td>192</td>\n",
       "      <td>84</td>\n",
       "      <td>0</td>\n",
       "      <td>0</td>\n",
       "      <td>0</td>\n",
       "      <td>0</td>\n",
       "      <td>0</td>\n",
       "      <td>12</td>\n",
       "      <td>2008</td>\n",
       "      <td>250000</td>\n",
       "    </tr>\n",
       "    <tr>\n",
       "      <th>...</th>\n",
       "      <td>...</td>\n",
       "      <td>...</td>\n",
       "      <td>...</td>\n",
       "      <td>...</td>\n",
       "      <td>...</td>\n",
       "      <td>...</td>\n",
       "      <td>...</td>\n",
       "      <td>...</td>\n",
       "      <td>...</td>\n",
       "      <td>...</td>\n",
       "      <td>...</td>\n",
       "      <td>...</td>\n",
       "      <td>...</td>\n",
       "      <td>...</td>\n",
       "      <td>...</td>\n",
       "      <td>...</td>\n",
       "      <td>...</td>\n",
       "      <td>...</td>\n",
       "      <td>...</td>\n",
       "      <td>...</td>\n",
       "      <td>...</td>\n",
       "    </tr>\n",
       "    <tr>\n",
       "      <th>1455</th>\n",
       "      <td>60</td>\n",
       "      <td>62.0</td>\n",
       "      <td>7917</td>\n",
       "      <td>6</td>\n",
       "      <td>5</td>\n",
       "      <td>1999</td>\n",
       "      <td>2000</td>\n",
       "      <td>0.0</td>\n",
       "      <td>0</td>\n",
       "      <td>0</td>\n",
       "      <td>...</td>\n",
       "      <td>0</td>\n",
       "      <td>40</td>\n",
       "      <td>0</td>\n",
       "      <td>0</td>\n",
       "      <td>0</td>\n",
       "      <td>0</td>\n",
       "      <td>0</td>\n",
       "      <td>8</td>\n",
       "      <td>2007</td>\n",
       "      <td>175000</td>\n",
       "    </tr>\n",
       "    <tr>\n",
       "      <th>1456</th>\n",
       "      <td>20</td>\n",
       "      <td>85.0</td>\n",
       "      <td>13175</td>\n",
       "      <td>6</td>\n",
       "      <td>6</td>\n",
       "      <td>1978</td>\n",
       "      <td>1988</td>\n",
       "      <td>119.0</td>\n",
       "      <td>790</td>\n",
       "      <td>163</td>\n",
       "      <td>...</td>\n",
       "      <td>349</td>\n",
       "      <td>0</td>\n",
       "      <td>0</td>\n",
       "      <td>0</td>\n",
       "      <td>0</td>\n",
       "      <td>0</td>\n",
       "      <td>0</td>\n",
       "      <td>2</td>\n",
       "      <td>2010</td>\n",
       "      <td>210000</td>\n",
       "    </tr>\n",
       "    <tr>\n",
       "      <th>1457</th>\n",
       "      <td>70</td>\n",
       "      <td>66.0</td>\n",
       "      <td>9042</td>\n",
       "      <td>7</td>\n",
       "      <td>9</td>\n",
       "      <td>1941</td>\n",
       "      <td>2006</td>\n",
       "      <td>0.0</td>\n",
       "      <td>275</td>\n",
       "      <td>0</td>\n",
       "      <td>...</td>\n",
       "      <td>0</td>\n",
       "      <td>60</td>\n",
       "      <td>0</td>\n",
       "      <td>0</td>\n",
       "      <td>0</td>\n",
       "      <td>0</td>\n",
       "      <td>2500</td>\n",
       "      <td>5</td>\n",
       "      <td>2010</td>\n",
       "      <td>266500</td>\n",
       "    </tr>\n",
       "    <tr>\n",
       "      <th>1458</th>\n",
       "      <td>20</td>\n",
       "      <td>68.0</td>\n",
       "      <td>9717</td>\n",
       "      <td>5</td>\n",
       "      <td>6</td>\n",
       "      <td>1950</td>\n",
       "      <td>1996</td>\n",
       "      <td>0.0</td>\n",
       "      <td>49</td>\n",
       "      <td>1029</td>\n",
       "      <td>...</td>\n",
       "      <td>366</td>\n",
       "      <td>0</td>\n",
       "      <td>112</td>\n",
       "      <td>0</td>\n",
       "      <td>0</td>\n",
       "      <td>0</td>\n",
       "      <td>0</td>\n",
       "      <td>4</td>\n",
       "      <td>2010</td>\n",
       "      <td>142125</td>\n",
       "    </tr>\n",
       "    <tr>\n",
       "      <th>1459</th>\n",
       "      <td>20</td>\n",
       "      <td>75.0</td>\n",
       "      <td>9937</td>\n",
       "      <td>5</td>\n",
       "      <td>6</td>\n",
       "      <td>1965</td>\n",
       "      <td>1965</td>\n",
       "      <td>0.0</td>\n",
       "      <td>830</td>\n",
       "      <td>290</td>\n",
       "      <td>...</td>\n",
       "      <td>736</td>\n",
       "      <td>68</td>\n",
       "      <td>0</td>\n",
       "      <td>0</td>\n",
       "      <td>0</td>\n",
       "      <td>0</td>\n",
       "      <td>0</td>\n",
       "      <td>6</td>\n",
       "      <td>2008</td>\n",
       "      <td>147500</td>\n",
       "    </tr>\n",
       "  </tbody>\n",
       "</table>\n",
       "<p>1460 rows × 36 columns</p>\n",
       "</div>"
      ],
      "text/plain": [
       "      MSSubClass  LotFrontage  LotArea  OverallQual  OverallCond  YearBuilt  \\\n",
       "0             60         65.0     8450            7            5       2003   \n",
       "1             20         80.0     9600            6            8       1976   \n",
       "2             60         68.0    11250            7            5       2001   \n",
       "3             70         60.0     9550            7            5       1915   \n",
       "4             60         84.0    14260            8            5       2000   \n",
       "...          ...          ...      ...          ...          ...        ...   \n",
       "1455          60         62.0     7917            6            5       1999   \n",
       "1456          20         85.0    13175            6            6       1978   \n",
       "1457          70         66.0     9042            7            9       1941   \n",
       "1458          20         68.0     9717            5            6       1950   \n",
       "1459          20         75.0     9937            5            6       1965   \n",
       "\n",
       "      YearRemodAdd  MasVnrArea  BsmtFinSF1  BsmtFinSF2  ...  WoodDeckSF  \\\n",
       "0             2003       196.0         706           0  ...           0   \n",
       "1             1976         0.0         978           0  ...         298   \n",
       "2             2002       162.0         486           0  ...           0   \n",
       "3             1970         0.0         216           0  ...           0   \n",
       "4             2000       350.0         655           0  ...         192   \n",
       "...            ...         ...         ...         ...  ...         ...   \n",
       "1455          2000         0.0           0           0  ...           0   \n",
       "1456          1988       119.0         790         163  ...         349   \n",
       "1457          2006         0.0         275           0  ...           0   \n",
       "1458          1996         0.0          49        1029  ...         366   \n",
       "1459          1965         0.0         830         290  ...         736   \n",
       "\n",
       "      OpenPorchSF  EnclosedPorch  3SsnPorch  ScreenPorch  PoolArea  MiscVal  \\\n",
       "0              61              0          0            0         0        0   \n",
       "1               0              0          0            0         0        0   \n",
       "2              42              0          0            0         0        0   \n",
       "3              35            272          0            0         0        0   \n",
       "4              84              0          0            0         0        0   \n",
       "...           ...            ...        ...          ...       ...      ...   \n",
       "1455           40              0          0            0         0        0   \n",
       "1456            0              0          0            0         0        0   \n",
       "1457           60              0          0            0         0     2500   \n",
       "1458            0            112          0            0         0        0   \n",
       "1459           68              0          0            0         0        0   \n",
       "\n",
       "      MoSold  YrSold  SalePrice  \n",
       "0          2    2008     208500  \n",
       "1          5    2007     181500  \n",
       "2          9    2008     223500  \n",
       "3          2    2006     140000  \n",
       "4         12    2008     250000  \n",
       "...      ...     ...        ...  \n",
       "1455       8    2007     175000  \n",
       "1456       2    2010     210000  \n",
       "1457       5    2010     266500  \n",
       "1458       4    2010     142125  \n",
       "1459       6    2008     147500  \n",
       "\n",
       "[1460 rows x 36 columns]"
      ]
     },
     "execution_count": 24,
     "metadata": {},
     "output_type": "execute_result"
    }
   ],
   "source": [
    "Numerical_Variables = data_house.select_dtypes(include=np.number).drop('Id',axis = 1)\n",
    "Numerical_Variables"
   ]
  },
  {
   "cell_type": "markdown",
   "metadata": {},
   "source": [
    "## Numerical Variables"
   ]
  },
  {
   "cell_type": "code",
   "execution_count": 25,
   "metadata": {},
   "outputs": [
    {
     "data": {
      "text/plain": [
       "<matplotlib.axes._subplots.AxesSubplot at 0x25bc34cbb08>"
      ]
     },
     "execution_count": 25,
     "metadata": {},
     "output_type": "execute_result"
    },
    {
     "data": {
      "image/png": "[encoded data removed]",
      "text/plain": [
       "<Figure size 432x288 with 1 Axes>"
      ]
     },
     "metadata": {
      "needs_background": "light"
     },
     "output_type": "display_data"
    }
   ],
   "source": [
    "#Normalizamos la variable SalePrice\n",
    "sns.distplot(np.log(Numerical_Variables['SalePrice']))"
   ]
  },
  {
   "cell_type": "code",
   "execution_count": 26,
   "metadata": {},
   "outputs": [
    {
     "data": {
      "text/plain": [
       "OverallQual     0.790982\n",
       "YearBuilt       0.522897\n",
       "YearRemodAdd    0.507101\n",
       "TotalBsmtSF     0.613581\n",
       "1stFlrSF        0.605852\n",
       "GrLivArea       0.708624\n",
       "FullBath        0.560664\n",
       "TotRmsAbvGrd    0.533723\n",
       "GarageCars      0.640409\n",
       "GarageArea      0.623431\n",
       "SalePrice       1.000000\n",
       "Name: SalePrice, dtype: float64"
      ]
     },
     "execution_count": 26,
     "metadata": {},
     "output_type": "execute_result"
    }
   ],
   "source": [
    "Matrix_corr = Numerical_Variables.corr()\n",
    "Matrix_corr[Matrix_corr['SalePrice'] > 0.5]['SalePrice']"
   ]
  },
  {
   "cell_type": "code",
   "execution_count": 27,
   "metadata": {},
   "outputs": [],
   "source": [
    "#Nos enfocaremos en esta variable:\n",
    "Principal_numerical_variables = ['OverallQual','YearBuilt','YearRemodAdd','TotalBsmtSF','1stFlrSF','GrLivArea','FullBath','TotRmsAbvGrd','GarageCars','GarageArea']\n",
    "X = Numerical_Variables[Principal_numerical_variables]\n",
    "Y = Numerical_Variables['SalePrice']"
   ]
  },
  {
   "cell_type": "code",
   "execution_count": 28,
   "metadata": {},
   "outputs": [
    {
     "data": {
      "text/plain": [
       "<matplotlib.axes._subplots.AxesSubplot at 0x25bc33f8608>"
      ]
     },
     "execution_count": 28,
     "metadata": {},
     "output_type": "execute_result"
    },
    {
     "data": {
      "image/png": "[encoded data removed]",
      "text/plain": [
       "<Figure size 432x288 with 1 Axes>"
      ]
     },
     "metadata": {
      "needs_background": "light"
     },
     "output_type": "display_data"
    }
   ],
   "source": [
    "sns.countplot(X['OverallQual'])"
   ]
  },
  {
   "cell_type": "code",
   "execution_count": 29,
   "metadata": {},
   "outputs": [
    {
     "data": {
      "text/plain": [
       "<matplotlib.axes._subplots.AxesSubplot at 0x25bc3349808>"
      ]
     },
     "execution_count": 29,
     "metadata": {},
     "output_type": "execute_result"
    },
    {
     "data": {
      "image/png": "[encoded data removed]",
      "text/plain": [
       "<Figure size 432x288 with 1 Axes>"
      ]
     },
     "metadata": {
      "needs_background": "light"
     },
     "output_type": "display_data"
    }
   ],
   "source": [
    "sns.distplot(X['YearBuilt'])"
   ]
  },
  {
   "cell_type": "code",
   "execution_count": 30,
   "metadata": {},
   "outputs": [
    {
     "data": {
      "text/plain": [
       "<matplotlib.axes._subplots.AxesSubplot at 0x25bc36d4848>"
      ]
     },
     "execution_count": 30,
     "metadata": {},
     "output_type": "execute_result"
    },
    {
     "data": {
      "image/png": "[encoded data removed]",
      "text/plain": [
       "<Figure size 432x288 with 1 Axes>"
      ]
     },
     "metadata": {
      "needs_background": "light"
     },
     "output_type": "display_data"
    }
   ],
   "source": [
    "sns.distplot(X['YearRemodAdd'])"
   ]
  },
  {
   "cell_type": "code",
   "execution_count": 31,
   "metadata": {},
   "outputs": [
    {
     "data": {
      "text/plain": [
       "<matplotlib.axes._subplots.AxesSubplot at 0x25bc3757088>"
      ]
     },
     "execution_count": 31,
     "metadata": {},
     "output_type": "execute_result"
    },
    {
     "data": {
      "image/png": "[encoded data removed]",
      "text/plain": [
       "<Figure size 432x288 with 1 Axes>"
      ]
     },
     "metadata": {
      "needs_background": "light"
     },
     "output_type": "display_data"
    }
   ],
   "source": [
    "sns.distplot(X['TotalBsmtSF'])"
   ]
  },
  {
   "cell_type": "code",
   "execution_count": 32,
   "metadata": {},
   "outputs": [
    {
     "data": {
      "text/plain": [
       "<matplotlib.axes._subplots.AxesSubplot at 0x25bc3848a08>"
      ]
     },
     "execution_count": 32,
     "metadata": {},
     "output_type": "execute_result"
    },
    {
     "data": {
      "image/png": "[encoded data removed]",
      "text/plain": [
       "<Figure size 432x288 with 1 Axes>"
      ]
     },
     "metadata": {
      "needs_background": "light"
     },
     "output_type": "display_data"
    }
   ],
   "source": [
    "sns.distplot(X['1stFlrSF'])"
   ]
  },
  {
   "cell_type": "code",
   "execution_count": 33,
   "metadata": {},
   "outputs": [
    {
     "data": {
      "text/plain": [
       "<matplotlib.axes._subplots.AxesSubplot at 0x25bc3884d08>"
      ]
     },
     "execution_count": 33,
     "metadata": {},
     "output_type": "execute_result"
    },
    {
     "data": {
      "image/png": "[encoded data removed]",
      "text/plain": [
       "<Figure size 432x288 with 1 Axes>"
      ]
     },
     "metadata": {
      "needs_background": "light"
     },
     "output_type": "display_data"
    }
   ],
   "source": [
    "sns.distplot(X['GrLivArea'])"
   ]
  },
  {
   "cell_type": "code",
   "execution_count": 34,
   "metadata": {},
   "outputs": [
    {
     "data": {
      "text/plain": [
       "<matplotlib.axes._subplots.AxesSubplot at 0x25bc3a16f48>"
      ]
     },
     "execution_count": 34,
     "metadata": {},
     "output_type": "execute_result"
    },
    {
     "data": {
      "image/png": "[encoded data removed]",
      "text/plain": [
       "<Figure size 432x288 with 1 Axes>"
      ]
     },
     "metadata": {
      "needs_background": "light"
     },
     "output_type": "display_data"
    }
   ],
   "source": [
    "sns.countplot(X['FullBath'])"
   ]
  },
  {
   "cell_type": "code",
   "execution_count": 35,
   "metadata": {},
   "outputs": [
    {
     "data": {
      "text/plain": [
       "<matplotlib.axes._subplots.AxesSubplot at 0x25bc3a75508>"
      ]
     },
     "execution_count": 35,
     "metadata": {},
     "output_type": "execute_result"
    },
    {
     "data": {
      "image/png": "[encoded data removed]",
      "text/plain": [
       "<Figure size 432x288 with 1 Axes>"
      ]
     },
     "metadata": {
      "needs_background": "light"
     },
     "output_type": "display_data"
    }
   ],
   "source": [
    "sns.countplot(X['TotRmsAbvGrd'])"
   ]
  },
  {
   "cell_type": "code",
   "execution_count": 36,
   "metadata": {},
   "outputs": [
    {
     "data": {
      "text/plain": [
       "<matplotlib.axes._subplots.AxesSubplot at 0x25bc3a75d88>"
      ]
     },
     "execution_count": 36,
     "metadata": {},
     "output_type": "execute_result"
    },
    {
     "data": {
      "image/png": "[encoded data removed]",
      "text/plain": [
       "<Figure size 432x288 with 1 Axes>"
      ]
     },
     "metadata": {
      "needs_background": "light"
     },
     "output_type": "display_data"
    }
   ],
   "source": [
    "sns.countplot(X['GarageCars'])"
   ]
  },
  {
   "cell_type": "code",
   "execution_count": 37,
   "metadata": {},
   "outputs": [
    {
     "data": {
      "text/plain": [
       "<matplotlib.axes._subplots.AxesSubplot at 0x25bc3b83e08>"
      ]
     },
     "execution_count": 37,
     "metadata": {},
     "output_type": "execute_result"
    },
    {
     "data": {
      "image/png": "[encoded data removed]",
      "text/plain": [
       "<Figure size 432x288 with 1 Axes>"
      ]
     },
     "metadata": {
      "needs_background": "light"
     },
     "output_type": "display_data"
    }
   ],
   "source": [
    "sns.distplot(X['GarageArea'])"
   ]
  },
  {
   "cell_type": "code",
   "execution_count": 38,
   "metadata": {
    "scrolled": true
   },
   "outputs": [],
   "source": [
    "data = X.join(Y)"
   ]
  },
  {
   "cell_type": "code",
   "execution_count": 39,
   "metadata": {},
   "outputs": [
    {
     "data": {
      "text/plain": [
       "<seaborn.axisgrid.JointGrid at 0x25bc3c53748>"
      ]
     },
     "execution_count": 39,
     "metadata": {},
     "output_type": "execute_result"
    },
    {
     "data": {
      "image/png": "[encoded data removed]",
      "text/plain": [
       "<Figure size 432x432 with 3 Axes>"
      ]
     },
     "metadata": {
      "needs_background": "light"
     },
     "output_type": "display_data"
    }
   ],
   "source": [
    "sns.jointplot(x = data['GarageArea'],y = data['SalePrice'],kind='reg' )"
   ]
  },
  {
   "cell_type": "code",
   "execution_count": 40,
   "metadata": {},
   "outputs": [
    {
     "data": {
      "text/plain": [
       "<seaborn.axisgrid.JointGrid at 0x25bc4e47708>"
      ]
     },
     "execution_count": 40,
     "metadata": {},
     "output_type": "execute_result"
    },
    {
     "data": {
      "image/png": "[encoded data removed]",
      "text/plain": [
       "<Figure size 432x432 with 3 Axes>"
      ]
     },
     "metadata": {
      "needs_background": "light"
     },
     "output_type": "display_data"
    }
   ],
   "source": [
    "sns.jointplot(x = data['GrLivArea'], y = data['SalePrice'],kind = 'reg')"
   ]
  },
  {
   "cell_type": "code",
   "execution_count": 41,
   "metadata": {},
   "outputs": [
    {
     "data": {
      "text/plain": [
       "<seaborn.axisgrid.JointGrid at 0x25bc4faa3c8>"
      ]
     },
     "execution_count": 41,
     "metadata": {},
     "output_type": "execute_result"
    },
    {
     "data": {
      "image/png": "[encoded data removed]",
      "text/plain": [
       "<Figure size 432x432 with 3 Axes>"
      ]
     },
     "metadata": {
      "needs_background": "light"
     },
     "output_type": "display_data"
    }
   ],
   "source": [
    "sns.jointplot(x = data['1stFlrSF'], y = data['SalePrice'],kind = 'reg')"
   ]
  },
  {
   "cell_type": "code",
   "execution_count": 42,
   "metadata": {},
   "outputs": [
    {
     "data": {
      "text/plain": [
       "<matplotlib.axes._subplots.AxesSubplot at 0x25bc529f908>"
      ]
     },
     "execution_count": 42,
     "metadata": {},
     "output_type": "execute_result"
    },
    {
     "data": {
      "image/png": "[encoded data removed]",
      "text/plain": [
       "<Figure size 432x288 with 1 Axes>"
      ]
     },
     "metadata": {
      "needs_background": "light"
     },
     "output_type": "display_data"
    }
   ],
   "source": [
    "sns.boxplot(x = data['OverallQual'], y = data['SalePrice'])"
   ]
  },
  {
   "cell_type": "code",
   "execution_count": 43,
   "metadata": {},
   "outputs": [
    {
     "data": {
      "text/plain": [
       "<matplotlib.axes._subplots.AxesSubplot at 0x25bc53e61c8>"
      ]
     },
     "execution_count": 43,
     "metadata": {},
     "output_type": "execute_result"
    },
    {
     "data": {
      "image/png": "[encoded data removed]",
      "text/plain": [
       "<Figure size 432x288 with 1 Axes>"
      ]
     },
     "metadata": {
      "needs_background": "light"
     },
     "output_type": "display_data"
    }
   ],
   "source": [
    "sns.boxplot(x = data['FullBath'], y = data['SalePrice'])"
   ]
  },
  {
   "cell_type": "code",
   "execution_count": 44,
   "metadata": {},
   "outputs": [
    {
     "data": {
      "text/plain": [
       "<matplotlib.axes._subplots.AxesSubplot at 0x25bc54909c8>"
      ]
     },
     "execution_count": 44,
     "metadata": {},
     "output_type": "execute_result"
    },
    {
     "data": {
      "image/png": "[encoded data removed]",
      "text/plain": [
       "<Figure size 432x288 with 1 Axes>"
      ]
     },
     "metadata": {
      "needs_background": "light"
     },
     "output_type": "display_data"
    }
   ],
   "source": [
    "sns.boxplot(x = data['TotRmsAbvGrd'], y = data['SalePrice'])"
   ]
  },
  {
   "cell_type": "code",
   "execution_count": 45,
   "metadata": {},
   "outputs": [
    {
     "data": {
      "text/plain": [
       "<matplotlib.axes._subplots.AxesSubplot at 0x25bc55dda48>"
      ]
     },
     "execution_count": 45,
     "metadata": {},
     "output_type": "execute_result"
    },
    {
     "data": {
      "image/png": "[encoded data removed]",
      "text/plain": [
       "<Figure size 432x288 with 1 Axes>"
      ]
     },
     "metadata": {
      "needs_background": "light"
     },
     "output_type": "display_data"
    }
   ],
   "source": [
    "sns.boxplot(x = data['GarageCars'], y = data['SalePrice'])"
   ]
  },
  {
   "cell_type": "markdown",
   "metadata": {},
   "source": [
    "## Categorical Variables"
   ]
  },
  {
   "cell_type": "code",
   "execution_count": 46,
   "metadata": {},
   "outputs": [
    {
     "data": {
      "text/plain": [
       "<matplotlib.axes._subplots.AxesSubplot at 0x25bc56ac588>"
      ]
     },
     "execution_count": 46,
     "metadata": {},
     "output_type": "execute_result"
    },
    {
     "data": {
      "image/png": "[encoded data removed]",
      "text/plain": [
       "<Figure size 432x288 with 1 Axes>"
      ]
     },
     "metadata": {
      "needs_background": "light"
     },
     "output_type": "display_data"
    }
   ],
   "source": [
    "sns.countplot(Categorical_Variables['Alley'])"
   ]
  },
  {
   "cell_type": "code",
   "execution_count": 47,
   "metadata": {},
   "outputs": [
    {
     "data": {
      "text/plain": [
       "<matplotlib.axes._subplots.AxesSubplot at 0x25bc5727848>"
      ]
     },
     "execution_count": 47,
     "metadata": {},
     "output_type": "execute_result"
    },
    {
     "data": {
      "image/png": "[encoded data removed]",
      "text/plain": [
       "<Figure size 432x288 with 1 Axes>"
      ]
     },
     "metadata": {
      "needs_background": "light"
     },
     "output_type": "display_data"
    }
   ],
   "source": [
    "sns.countplot(Categorical_Variables['BldgType'])"
   ]
  },
  {
   "cell_type": "code",
   "execution_count": 48,
   "metadata": {},
   "outputs": [
    {
     "data": {
      "text/plain": [
       "<matplotlib.axes._subplots.AxesSubplot at 0x25bc5772688>"
      ]
     },
     "execution_count": 48,
     "metadata": {},
     "output_type": "execute_result"
    },
    {
     "data": {
      "image/png": "[encoded data removed]",
      "text/plain": [
       "<Figure size 432x288 with 1 Axes>"
      ]
     },
     "metadata": {
      "needs_background": "light"
     },
     "output_type": "display_data"
    }
   ],
   "source": [
    "sns.countplot(Categorical_Variables['CentralAir'])"
   ]
  },
  {
   "cell_type": "code",
   "execution_count": 49,
   "metadata": {},
   "outputs": [
    {
     "data": {
      "text/plain": [
       "<matplotlib.axes._subplots.AxesSubplot at 0x25bc57e9908>"
      ]
     },
     "execution_count": 49,
     "metadata": {},
     "output_type": "execute_result"
    },
    {
     "data": {
      "image/png": "[encoded data removed]",
      "text/plain": [
       "<Figure size 432x288 with 1 Axes>"
      ]
     },
     "metadata": {
      "needs_background": "light"
     },
     "output_type": "display_data"
    }
   ],
   "source": [
    "sns.countplot(Categorical_Variables['Condition1'])"
   ]
  },
  {
   "cell_type": "code",
   "execution_count": 50,
   "metadata": {},
   "outputs": [
    {
     "data": {
      "text/plain": [
       "<matplotlib.axes._subplots.AxesSubplot at 0x25bc585a748>"
      ]
     },
     "execution_count": 50,
     "metadata": {},
     "output_type": "execute_result"
    },
    {
     "data": {
      "image/png": "[encoded data removed]",
      "text/plain": [
       "<Figure size 432x288 with 1 Axes>"
      ]
     },
     "metadata": {
      "needs_background": "light"
     },
     "output_type": "display_data"
    }
   ],
   "source": [
    "sns.countplot(Categorical_Variables['Condition2'])"
   ]
  },
  {
   "cell_type": "code",
   "execution_count": 51,
   "metadata": {},
   "outputs": [
    {
     "data": {
      "text/plain": [
       "<matplotlib.axes._subplots.AxesSubplot at 0x25bc1284188>"
      ]
     },
     "execution_count": 51,
     "metadata": {},
     "output_type": "execute_result"
    },
    {
     "data": {
      "image/png": "[encoded data removed]",
      "text/plain": [
       "<Figure size 432x288 with 1 Axes>"
      ]
     },
     "metadata": {
      "needs_background": "light"
     },
     "output_type": "display_data"
    }
   ],
   "source": [
    "sns.countplot(Categorical_Variables['Electrical'])"
   ]
  },
  {
   "cell_type": "code",
   "execution_count": 52,
   "metadata": {},
   "outputs": [
    {
     "data": {
      "text/plain": [
       "<matplotlib.axes._subplots.AxesSubplot at 0x25bc6918e48>"
      ]
     },
     "execution_count": 52,
     "metadata": {},
     "output_type": "execute_result"
    },
    {
     "data": {
      "image/png": "[encoded data removed]",
      "text/plain": [
       "<Figure size 432x288 with 1 Axes>"
      ]
     },
     "metadata": {
      "needs_background": "light"
     },
     "output_type": "display_data"
    }
   ],
   "source": [
    "sns.countplot(Categorical_Variables['ExterCond'])"
   ]
  },
  {
   "cell_type": "code",
   "execution_count": 53,
   "metadata": {},
   "outputs": [
    {
     "data": {
      "text/plain": [
       "<matplotlib.axes._subplots.AxesSubplot at 0x25bc697cb08>"
      ]
     },
     "execution_count": 53,
     "metadata": {},
     "output_type": "execute_result"
    },
    {
     "data": {
      "image/png": "[encoded data removed]",
      "text/plain": [
       "<Figure size 432x288 with 1 Axes>"
      ]
     },
     "metadata": {
      "needs_background": "light"
     },
     "output_type": "display_data"
    }
   ],
   "source": [
    "sns.countplot(Categorical_Variables['ExterQual'])"
   ]
  },
  {
   "cell_type": "code",
   "execution_count": 54,
   "metadata": {},
   "outputs": [
    {
     "data": {
      "text/plain": [
       "<matplotlib.axes._subplots.AxesSubplot at 0x25bc69f3208>"
      ]
     },
     "execution_count": 54,
     "metadata": {},
     "output_type": "execute_result"
    },
    {
     "data": {
      "image/png": "[encoded data removed]",
      "text/plain": [
       "<Figure size 432x288 with 1 Axes>"
      ]
     },
     "metadata": {
      "needs_background": "light"
     },
     "output_type": "display_data"
    }
   ],
   "source": [
    "sns.countplot(Categorical_Variables['Exterior1st'])"
   ]
  },
  {
   "cell_type": "code",
   "execution_count": 55,
   "metadata": {},
   "outputs": [
    {
     "data": {
      "text/plain": [
       "<matplotlib.axes._subplots.AxesSubplot at 0x25bc6a95208>"
      ]
     },
     "execution_count": 55,
     "metadata": {},
     "output_type": "execute_result"
    },
    {
     "data": {
      "image/png": "[encoded data removed]",
      "text/plain": [
       "<Figure size 432x288 with 1 Axes>"
      ]
     },
     "metadata": {
      "needs_background": "light"
     },
     "output_type": "display_data"
    }
   ],
   "source": [
    "sns.countplot(Categorical_Variables['Exterior2nd'])"
   ]
  },
  {
   "cell_type": "code",
   "execution_count": 56,
   "metadata": {},
   "outputs": [
    {
     "data": {
      "text/plain": [
       "<matplotlib.axes._subplots.AxesSubplot at 0x25bc6af8488>"
      ]
     },
     "execution_count": 56,
     "metadata": {},
     "output_type": "execute_result"
    },
    {
     "data": {
      "image/png": "[encoded data removed]",
      "text/plain": [
       "<Figure size 432x288 with 1 Axes>"
      ]
     },
     "metadata": {
      "needs_background": "light"
     },
     "output_type": "display_data"
    }
   ],
   "source": [
    "sns.countplot(Categorical_Variables['Fence'])"
   ]
  },
  {
   "cell_type": "code",
   "execution_count": 57,
   "metadata": {},
   "outputs": [
    {
     "data": {
      "text/plain": [
       "<matplotlib.axes._subplots.AxesSubplot at 0x25bc6b97848>"
      ]
     },
     "execution_count": 57,
     "metadata": {},
     "output_type": "execute_result"
    },
    {
     "data": {
      "image/png": "[encoded data removed]",
      "text/plain": [
       "<Figure size 432x288 with 1 Axes>"
      ]
     },
     "metadata": {
      "needs_background": "light"
     },
     "output_type": "display_data"
    }
   ],
   "source": [
    "sns.countplot(Categorical_Variables['FireplaceQu'])"
   ]
  },
  {
   "cell_type": "code",
   "execution_count": 58,
   "metadata": {},
   "outputs": [
    {
     "data": {
      "text/plain": [
       "<matplotlib.axes._subplots.AxesSubplot at 0x25bc6c087c8>"
      ]
     },
     "execution_count": 58,
     "metadata": {},
     "output_type": "execute_result"
    },
    {
     "data": {
      "image/png": "[encoded data removed]",
      "text/plain": [
       "<Figure size 432x288 with 1 Axes>"
      ]
     },
     "metadata": {
      "needs_background": "light"
     },
     "output_type": "display_data"
    }
   ],
   "source": [
    "sns.countplot(Categorical_Variables['Foundation'])"
   ]
  },
  {
   "cell_type": "code",
   "execution_count": 59,
   "metadata": {},
   "outputs": [
    {
     "data": {
      "text/plain": [
       "<matplotlib.axes._subplots.AxesSubplot at 0x25bc6c848c8>"
      ]
     },
     "execution_count": 59,
     "metadata": {},
     "output_type": "execute_result"
    },
    {
     "data": {
      "image/png": "[encoded data removed]",
      "text/plain": [
       "<Figure size 432x288 with 1 Axes>"
      ]
     },
     "metadata": {
      "needs_background": "light"
     },
     "output_type": "display_data"
    }
   ],
   "source": [
    "sns.countplot(Categorical_Variables['Functional'])"
   ]
  },
  {
   "cell_type": "code",
   "execution_count": 60,
   "metadata": {},
   "outputs": [
    {
     "data": {
      "text/plain": [
       "<matplotlib.axes._subplots.AxesSubplot at 0x25bc6ce6cc8>"
      ]
     },
     "execution_count": 60,
     "metadata": {},
     "output_type": "execute_result"
    },
    {
     "data": {
      "image/png": "[encoded data removed]",
      "text/plain": [
       "<Figure size 432x288 with 1 Axes>"
      ]
     },
     "metadata": {
      "needs_background": "light"
     },
     "output_type": "display_data"
    }
   ],
   "source": [
    "sns.countplot(Categorical_Variables['Heating'])"
   ]
  },
  {
   "cell_type": "code",
   "execution_count": 61,
   "metadata": {},
   "outputs": [
    {
     "data": {
      "text/plain": [
       "<matplotlib.axes._subplots.AxesSubplot at 0x25bc6d75848>"
      ]
     },
     "execution_count": 61,
     "metadata": {},
     "output_type": "execute_result"
    },
    {
     "data": {
      "image/png": "[encoded data removed]",
      "text/plain": [
       "<Figure size 432x288 with 1 Axes>"
      ]
     },
     "metadata": {
      "needs_background": "light"
     },
     "output_type": "display_data"
    }
   ],
   "source": [
    "sns.countplot(Categorical_Variables['HeatingQC'])"
   ]
  },
  {
   "cell_type": "code",
   "execution_count": 62,
   "metadata": {},
   "outputs": [
    {
     "data": {
      "text/plain": [
       "<matplotlib.axes._subplots.AxesSubplot at 0x25bc6dd19c8>"
      ]
     },
     "execution_count": 62,
     "metadata": {},
     "output_type": "execute_result"
    },
    {
     "data": {
      "image/png": "[encoded data removed]",
      "text/plain": [
       "<Figure size 432x288 with 1 Axes>"
      ]
     },
     "metadata": {
      "needs_background": "light"
     },
     "output_type": "display_data"
    }
   ],
   "source": [
    "sns.countplot(Categorical_Variables['HouseStyle'])"
   ]
  },
  {
   "cell_type": "code",
   "execution_count": 63,
   "metadata": {},
   "outputs": [
    {
     "data": {
      "text/plain": [
       "<matplotlib.axes._subplots.AxesSubplot at 0x25bc6e59508>"
      ]
     },
     "execution_count": 63,
     "metadata": {},
     "output_type": "execute_result"
    },
    {
     "data": {
      "image/png": "[encoded data removed]",
      "text/plain": [
       "<Figure size 432x288 with 1 Axes>"
      ]
     },
     "metadata": {
      "needs_background": "light"
     },
     "output_type": "display_data"
    }
   ],
   "source": [
    "sns.countplot(Categorical_Variables['KitchenQual'])"
   ]
  },
  {
   "cell_type": "code",
   "execution_count": 64,
   "metadata": {},
   "outputs": [
    {
     "data": {
      "text/plain": [
       "<matplotlib.axes._subplots.AxesSubplot at 0x25bc6ec5b08>"
      ]
     },
     "execution_count": 64,
     "metadata": {},
     "output_type": "execute_result"
    },
    {
     "data": {
      "image/png": "[encoded data removed]",
      "text/plain": [
       "<Figure size 432x288 with 1 Axes>"
      ]
     },
     "metadata": {
      "needs_background": "light"
     },
     "output_type": "display_data"
    }
   ],
   "source": [
    "sns.countplot(Categorical_Variables['LandContour'])"
   ]
  },
  {
   "cell_type": "code",
   "execution_count": 65,
   "metadata": {},
   "outputs": [
    {
     "data": {
      "text/plain": [
       "<matplotlib.axes._subplots.AxesSubplot at 0x25bc6ecb3c8>"
      ]
     },
     "execution_count": 65,
     "metadata": {},
     "output_type": "execute_result"
    },
    {
     "data": {
      "image/png": "[encoded data removed]",
      "text/plain": [
       "<Figure size 432x288 with 1 Axes>"
      ]
     },
     "metadata": {
      "needs_background": "light"
     },
     "output_type": "display_data"
    }
   ],
   "source": [
    "sns.countplot(Categorical_Variables['LandSlope'])"
   ]
  },
  {
   "cell_type": "code",
   "execution_count": 66,
   "metadata": {},
   "outputs": [
    {
     "data": {
      "text/plain": [
       "<matplotlib.axes._subplots.AxesSubplot at 0x25bc6f8ba88>"
      ]
     },
     "execution_count": 66,
     "metadata": {},
     "output_type": "execute_result"
    },
    {
     "data": {
      "image/png": "[encoded data removed]",
      "text/plain": [
       "<Figure size 432x288 with 1 Axes>"
      ]
     },
     "metadata": {
      "needs_background": "light"
     },
     "output_type": "display_data"
    }
   ],
   "source": [
    "sns.countplot(Categorical_Variables['LotConfig'])"
   ]
  },
  {
   "cell_type": "code",
   "execution_count": 67,
   "metadata": {},
   "outputs": [
    {
     "data": {
      "text/plain": [
       "<matplotlib.axes._subplots.AxesSubplot at 0x25bc7000708>"
      ]
     },
     "execution_count": 67,
     "metadata": {},
     "output_type": "execute_result"
    },
    {
     "data": {
      "image/png": "[encoded data removed]",
      "text/plain": [
       "<Figure size 432x288 with 1 Axes>"
      ]
     },
     "metadata": {
      "needs_background": "light"
     },
     "output_type": "display_data"
    }
   ],
   "source": [
    "sns.countplot(Categorical_Variables['LotShape'])"
   ]
  },
  {
   "cell_type": "code",
   "execution_count": 68,
   "metadata": {},
   "outputs": [
    {
     "data": {
      "text/plain": [
       "<matplotlib.axes._subplots.AxesSubplot at 0x25bc3581ac8>"
      ]
     },
     "execution_count": 68,
     "metadata": {},
     "output_type": "execute_result"
    },
    {
     "data": {
      "image/png": "[encoded data removed]",
      "text/plain": [
       "<Figure size 432x288 with 1 Axes>"
      ]
     },
     "metadata": {
      "needs_background": "light"
     },
     "output_type": "display_data"
    }
   ],
   "source": [
    "sns.countplot(Categorical_Variables['MSZoning'])"
   ]
  },
  {
   "cell_type": "code",
   "execution_count": 69,
   "metadata": {},
   "outputs": [
    {
     "data": {
      "text/plain": [
       "<matplotlib.axes._subplots.AxesSubplot at 0x25bc70a4b88>"
      ]
     },
     "execution_count": 69,
     "metadata": {},
     "output_type": "execute_result"
    },
    {
     "data": {
      "image/png": "[encoded data removed]",
      "text/plain": [
       "<Figure size 432x288 with 1 Axes>"
      ]
     },
     "metadata": {
      "needs_background": "light"
     },
     "output_type": "display_data"
    }
   ],
   "source": [
    "sns.countplot(Categorical_Variables['MasVnrType'])"
   ]
  },
  {
   "cell_type": "code",
   "execution_count": 70,
   "metadata": {},
   "outputs": [
    {
     "data": {
      "text/plain": [
       "<matplotlib.axes._subplots.AxesSubplot at 0x25bc710acc8>"
      ]
     },
     "execution_count": 70,
     "metadata": {},
     "output_type": "execute_result"
    },
    {
     "data": {
      "image/png": "[encoded data removed]",
      "text/plain": [
       "<Figure size 432x288 with 1 Axes>"
      ]
     },
     "metadata": {
      "needs_background": "light"
     },
     "output_type": "display_data"
    }
   ],
   "source": [
    "sns.countplot(Categorical_Variables['Neighborhood'])"
   ]
  },
  {
   "cell_type": "code",
   "execution_count": 71,
   "metadata": {},
   "outputs": [
    {
     "data": {
      "text/plain": [
       "<matplotlib.axes._subplots.AxesSubplot at 0x25bc7152188>"
      ]
     },
     "execution_count": 71,
     "metadata": {},
     "output_type": "execute_result"
    },
    {
     "data": {
      "image/png": "[encoded data removed]",
      "text/plain": [
       "<Figure size 432x288 with 1 Axes>"
      ]
     },
     "metadata": {
      "needs_background": "light"
     },
     "output_type": "display_data"
    }
   ],
   "source": [
    "sns.countplot(Categorical_Variables['PavedDrive'])"
   ]
  },
  {
   "cell_type": "code",
   "execution_count": 72,
   "metadata": {},
   "outputs": [
    {
     "data": {
      "text/plain": [
       "<matplotlib.axes._subplots.AxesSubplot at 0x25bc7201448>"
      ]
     },
     "execution_count": 72,
     "metadata": {},
     "output_type": "execute_result"
    },
    {
     "data": {
      "image/png": "[encoded data removed]",
      "text/plain": [
       "<Figure size 432x288 with 1 Axes>"
      ]
     },
     "metadata": {
      "needs_background": "light"
     },
     "output_type": "display_data"
    }
   ],
   "source": [
    "sns.countplot(Categorical_Variables['SaleCondition'])"
   ]
  },
  {
   "cell_type": "markdown",
   "metadata": {},
   "source": [
    "## Dummies Variables"
   ]
  },
  {
   "cell_type": "code",
   "execution_count": 73,
   "metadata": {},
   "outputs": [],
   "source": [
    "categories = Categorical_Variables.columns.tolist()\n",
    "for category in categories:\n",
    "    cat_list = category\n",
    "    cat_dummies = pd.get_dummies(Categorical_Variables[category],prefix = cat_list)\n",
    "    X = X.join(cat_dummies)"
   ]
  },
  {
   "cell_type": "code",
   "execution_count": 74,
   "metadata": {
    "scrolled": true
   },
   "outputs": [
    {
     "data": {
      "text/html": [
       "<div>\n",
       "<style scoped>\n",
       "    .dataframe tbody tr th:only-of-type {\n",
       "        vertical-align: middle;\n",
       "    }\n",
       "\n",
       "    .dataframe tbody tr th {\n",
       "        vertical-align: top;\n",
       "    }\n",
       "\n",
       "    .dataframe thead th {\n",
       "        text-align: right;\n",
       "    }\n",
       "</style>\n",
       "<table border=\"1\" class=\"dataframe\">\n",
       "  <thead>\n",
       "    <tr style=\"text-align: right;\">\n",
       "      <th></th>\n",
       "      <th>OverallQual</th>\n",
       "      <th>YearBuilt</th>\n",
       "      <th>YearRemodAdd</th>\n",
       "      <th>TotalBsmtSF</th>\n",
       "      <th>1stFlrSF</th>\n",
       "      <th>GrLivArea</th>\n",
       "      <th>FullBath</th>\n",
       "      <th>TotRmsAbvGrd</th>\n",
       "      <th>GarageCars</th>\n",
       "      <th>GarageArea</th>\n",
       "      <th>...</th>\n",
       "      <th>SaleType_ConLw</th>\n",
       "      <th>SaleType_New</th>\n",
       "      <th>SaleType_Oth</th>\n",
       "      <th>SaleType_WD</th>\n",
       "      <th>SaleCondition_Abnorml</th>\n",
       "      <th>SaleCondition_AdjLand</th>\n",
       "      <th>SaleCondition_Alloca</th>\n",
       "      <th>SaleCondition_Family</th>\n",
       "      <th>SaleCondition_Normal</th>\n",
       "      <th>SaleCondition_Partial</th>\n",
       "    </tr>\n",
       "  </thead>\n",
       "  <tbody>\n",
       "    <tr>\n",
       "      <th>0</th>\n",
       "      <td>7</td>\n",
       "      <td>2003</td>\n",
       "      <td>2003</td>\n",
       "      <td>856</td>\n",
       "      <td>856</td>\n",
       "      <td>1710</td>\n",
       "      <td>2</td>\n",
       "      <td>8</td>\n",
       "      <td>2</td>\n",
       "      <td>548</td>\n",
       "      <td>...</td>\n",
       "      <td>0</td>\n",
       "      <td>0</td>\n",
       "      <td>0</td>\n",
       "      <td>1</td>\n",
       "      <td>0</td>\n",
       "      <td>0</td>\n",
       "      <td>0</td>\n",
       "      <td>0</td>\n",
       "      <td>1</td>\n",
       "      <td>0</td>\n",
       "    </tr>\n",
       "    <tr>\n",
       "      <th>1</th>\n",
       "      <td>6</td>\n",
       "      <td>1976</td>\n",
       "      <td>1976</td>\n",
       "      <td>1262</td>\n",
       "      <td>1262</td>\n",
       "      <td>1262</td>\n",
       "      <td>2</td>\n",
       "      <td>6</td>\n",
       "      <td>2</td>\n",
       "      <td>460</td>\n",
       "      <td>...</td>\n",
       "      <td>0</td>\n",
       "      <td>0</td>\n",
       "      <td>0</td>\n",
       "      <td>1</td>\n",
       "      <td>0</td>\n",
       "      <td>0</td>\n",
       "      <td>0</td>\n",
       "      <td>0</td>\n",
       "      <td>1</td>\n",
       "      <td>0</td>\n",
       "    </tr>\n",
       "    <tr>\n",
       "      <th>2</th>\n",
       "      <td>7</td>\n",
       "      <td>2001</td>\n",
       "      <td>2002</td>\n",
       "      <td>920</td>\n",
       "      <td>920</td>\n",
       "      <td>1786</td>\n",
       "      <td>2</td>\n",
       "      <td>6</td>\n",
       "      <td>2</td>\n",
       "      <td>608</td>\n",
       "      <td>...</td>\n",
       "      <td>0</td>\n",
       "      <td>0</td>\n",
       "      <td>0</td>\n",
       "      <td>1</td>\n",
       "      <td>0</td>\n",
       "      <td>0</td>\n",
       "      <td>0</td>\n",
       "      <td>0</td>\n",
       "      <td>1</td>\n",
       "      <td>0</td>\n",
       "    </tr>\n",
       "    <tr>\n",
       "      <th>3</th>\n",
       "      <td>7</td>\n",
       "      <td>1915</td>\n",
       "      <td>1970</td>\n",
       "      <td>756</td>\n",
       "      <td>961</td>\n",
       "      <td>1717</td>\n",
       "      <td>1</td>\n",
       "      <td>7</td>\n",
       "      <td>3</td>\n",
       "      <td>642</td>\n",
       "      <td>...</td>\n",
       "      <td>0</td>\n",
       "      <td>0</td>\n",
       "      <td>0</td>\n",
       "      <td>1</td>\n",
       "      <td>1</td>\n",
       "      <td>0</td>\n",
       "      <td>0</td>\n",
       "      <td>0</td>\n",
       "      <td>0</td>\n",
       "      <td>0</td>\n",
       "    </tr>\n",
       "    <tr>\n",
       "      <th>4</th>\n",
       "      <td>8</td>\n",
       "      <td>2000</td>\n",
       "      <td>2000</td>\n",
       "      <td>1145</td>\n",
       "      <td>1145</td>\n",
       "      <td>2198</td>\n",
       "      <td>2</td>\n",
       "      <td>9</td>\n",
       "      <td>3</td>\n",
       "      <td>836</td>\n",
       "      <td>...</td>\n",
       "      <td>0</td>\n",
       "      <td>0</td>\n",
       "      <td>0</td>\n",
       "      <td>1</td>\n",
       "      <td>0</td>\n",
       "      <td>0</td>\n",
       "      <td>0</td>\n",
       "      <td>0</td>\n",
       "      <td>1</td>\n",
       "      <td>0</td>\n",
       "    </tr>\n",
       "  </tbody>\n",
       "</table>\n",
       "<p>5 rows × 215 columns</p>\n",
       "</div>"
      ],
      "text/plain": [
       "   OverallQual  YearBuilt  YearRemodAdd  TotalBsmtSF  1stFlrSF  GrLivArea  \\\n",
       "0            7       2003          2003          856       856       1710   \n",
       "1            6       1976          1976         1262      1262       1262   \n",
       "2            7       2001          2002          920       920       1786   \n",
       "3            7       1915          1970          756       961       1717   \n",
       "4            8       2000          2000         1145      1145       2198   \n",
       "\n",
       "   FullBath  TotRmsAbvGrd  GarageCars  GarageArea  ...  SaleType_ConLw  \\\n",
       "0         2             8           2         548  ...               0   \n",
       "1         2             6           2         460  ...               0   \n",
       "2         2             6           2         608  ...               0   \n",
       "3         1             7           3         642  ...               0   \n",
       "4         2             9           3         836  ...               0   \n",
       "\n",
       "   SaleType_New  SaleType_Oth  SaleType_WD  SaleCondition_Abnorml  \\\n",
       "0             0             0            1                      0   \n",
       "1             0             0            1                      0   \n",
       "2             0             0            1                      0   \n",
       "3             0             0            1                      1   \n",
       "4             0             0            1                      0   \n",
       "\n",
       "   SaleCondition_AdjLand  SaleCondition_Alloca  SaleCondition_Family  \\\n",
       "0                      0                     0                     0   \n",
       "1                      0                     0                     0   \n",
       "2                      0                     0                     0   \n",
       "3                      0                     0                     0   \n",
       "4                      0                     0                     0   \n",
       "\n",
       "   SaleCondition_Normal  SaleCondition_Partial  \n",
       "0                     1                      0  \n",
       "1                     1                      0  \n",
       "2                     1                      0  \n",
       "3                     0                      0  \n",
       "4                     1                      0  \n",
       "\n",
       "[5 rows x 215 columns]"
      ]
     },
     "execution_count": 74,
     "metadata": {},
     "output_type": "execute_result"
    }
   ],
   "source": [
    "X.head()"
   ]
  },
  {
   "cell_type": "code",
   "execution_count": 75,
   "metadata": {},
   "outputs": [
    {
     "data": {
      "text/plain": [
       "(1460, 215)"
      ]
     },
     "execution_count": 75,
     "metadata": {},
     "output_type": "execute_result"
    }
   ],
   "source": [
    "X.shape"
   ]
  },
  {
   "cell_type": "markdown",
   "metadata": {},
   "source": [
    "## Modelo de regresion lineal"
   ]
  },
  {
   "cell_type": "code",
   "execution_count": 76,
   "metadata": {},
   "outputs": [],
   "source": [
    "from sklearn.linear_model import LinearRegression"
   ]
  },
  {
   "cell_type": "code",
   "execution_count": 77,
   "metadata": {},
   "outputs": [
    {
     "data": {
      "text/plain": [
       "LinearRegression()"
      ]
     },
     "execution_count": 77,
     "metadata": {},
     "output_type": "execute_result"
    }
   ],
   "source": [
    "lm = LinearRegression()\n",
    "lm.fit(X, Y)"
   ]
  },
  {
   "cell_type": "code",
   "execution_count": 78,
   "metadata": {},
   "outputs": [
    {
     "data": {
      "text/plain": [
       "0.9007013658424172"
      ]
     },
     "execution_count": 78,
     "metadata": {},
     "output_type": "execute_result"
    }
   ],
   "source": [
    "lm.score(X,Y)"
   ]
  },
  {
   "cell_type": "code",
   "execution_count": 79,
   "metadata": {},
   "outputs": [
    {
     "data": {
      "text/plain": [
       "-975802.8971081182"
      ]
     },
     "execution_count": 79,
     "metadata": {},
     "output_type": "execute_result"
    }
   ],
   "source": [
    "lm.intercept_"
   ]
  },
  {
   "cell_type": "code",
   "execution_count": 80,
   "metadata": {},
   "outputs": [
    {
     "data": {
      "text/plain": [
       "array([ 8.41953769e+03,  2.21682502e+02,  2.14547695e+02,  2.46589958e+01,\n",
       "       -1.20386664e+01,  7.41521283e+01, -1.55406159e+03, -1.84586192e+03,\n",
       "        2.86242867e+03,  2.16420776e+01, -2.78306019e+04,  1.86893535e+04,\n",
       "        2.08965436e+03,  3.59653668e+03,  3.45505742e+03, -6.44909939e+03,\n",
       "        6.44909939e+03,  2.01621247e+03, -8.68974102e+02, -1.14723837e+03,\n",
       "       -7.09251833e+03,  2.86206339e+03,  1.20302247e+04, -7.79976981e+03,\n",
       "       -7.52232142e+03,  6.45115442e+03, -6.56143703e+01,  1.13678137e+03,\n",
       "        1.27437706e+04, -1.27437706e+04,  2.06168346e+02,  1.05825848e+04,\n",
       "       -3.61611630e+03, -6.83397624e+03, -3.38660562e+02, -1.01954232e+04,\n",
       "        3.22203478e+03,  6.97338842e+03, -1.66444380e+03,  1.19219495e+03,\n",
       "        6.21619996e+03,  6.46053879e+02, -6.30090971e+03, -8.99605411e+03,\n",
       "        1.56787724e+04, -1.42870775e+04, -1.27986363e+04, -7.85591862e+03,\n",
       "       -6.95894133e+03, -1.48916735e+04, -1.29173189e+04,  1.08686228e+04,\n",
       "       -1.49540715e+04,  3.57117140e+04,  2.28272632e+04, -1.75270596e+04,\n",
       "       -9.52316371e+03, -8.26714179e+03, -3.39566260e+03, -1.18815414e+04,\n",
       "        3.90999004e+04,  3.18550384e+03,  1.67933889e+04, -5.14095119e+03,\n",
       "       -1.90990149e+03,  7.46092802e+03,  6.60399801e+03, -1.38547211e+03,\n",
       "       -1.58491441e+04,  8.05144575e+03, -2.38168222e+03,  4.55077934e+03,\n",
       "        3.50466279e+04,  2.38802443e+04,  3.54263839e+04,  6.11566481e+04,\n",
       "       -1.62189139e+05, -5.07673270e+04,  1.55966395e+04,  4.18499221e+04,\n",
       "        1.56069994e+04,  1.22998437e+04, -5.82833977e+03, -1.37697713e+04,\n",
       "       -8.30873201e+03,  1.43024952e+02,  9.87102792e+03,  1.01881016e+04,\n",
       "       -3.50701915e+04, -1.18579914e+04, -4.00771051e+03,  1.85672785e+04,\n",
       "        1.21664605e+04,  5.58400034e+02, -1.45121306e+04, -1.42707320e+04,\n",
       "       -1.06760530e+04, -8.94301937e+03,  4.78435349e+04, -4.87975953e+05,\n",
       "        5.82607260e+04,  9.36168790e+04,  4.55631346e+04,  5.56462185e+04,\n",
       "        4.89872407e+04,  3.86545328e+04,  1.47247222e+05,  1.01957348e+04,\n",
       "       -4.36660018e+03, -1.96159917e+04,  1.90529272e+04,  9.39531404e+02,\n",
       "        3.04682107e+04, -7.18850736e+03, -4.60338567e+04,  7.70181463e+03,\n",
       "       -7.12995234e+03,  6.06134182e+03,  1.19675009e+04, -9.13047637e+03,\n",
       "        6.51941689e+02,  6.42638147e+03, -9.11459889e+03,  7.64160123e+03,\n",
       "        7.06984551e+03, -1.15930750e+04,  9.39531404e+02, -2.60819814e+04,\n",
       "        5.11375518e+03,  3.28861421e+04, -4.53640388e+03,  1.46009732e+04,\n",
       "        4.84041514e+03, -2.04313567e+04, -8.16657162e+03,  1.06422016e+04,\n",
       "        1.16855012e+03, -4.97902800e+03, -6.19401971e+03, -1.47876487e+03,\n",
       "       -1.37677968e+03,  9.04956427e+03,  2.38524100e+04, -3.76892346e+03,\n",
       "       -1.07108203e+04, -9.37266619e+03,  1.82686849e+04, -2.23583553e+03,\n",
       "        3.38312665e+03, -2.01015357e+04,  6.85559742e+02, -7.32059041e+02,\n",
       "        6.05472879e+03,  4.07123762e+03,  1.06977740e+04,  1.40296523e+03,\n",
       "       -2.14946466e+04,  1.11311003e+04,  8.89441242e+02,  1.07512703e+03,\n",
       "        9.38546460e+02, -4.24708796e+04,  2.84366645e+04,  2.30676432e+02,\n",
       "       -4.98295428e+02, -3.10094460e+03,  8.19919695e+03, -4.83063335e+03,\n",
       "       -1.25907668e+03,  1.25907668e+03,  1.16219528e+02, -6.01879612e+02,\n",
       "       -8.56618661e+03,  7.12784739e+03,  1.92399930e+03,  2.42755886e+04,\n",
       "       -8.06399480e+03, -7.62481836e+03, -8.58677539e+03,  2.09140410e+02,\n",
       "       -7.14637140e+03,  1.81116020e+04,  1.10708512e+04,  4.18725447e+03,\n",
       "       -5.82965413e+04,  3.18640647e+04,  5.33816788e+03, -2.19183574e+03,\n",
       "       -1.98743313e+03, -4.28723623e+03,  4.61712333e+03, -1.48878610e+03,\n",
       "        2.23537637e+03, -3.58074818e+03,  1.34537181e+03, -3.01003178e+03,\n",
       "        2.82907857e+03,  1.81889277e+03, -1.85668124e+03,  2.18741668e+02,\n",
       "       -1.94810877e+04,  7.57019019e+03,  2.58330064e+04, -5.48300228e+03,\n",
       "       -1.01491471e+04, -6.73434361e+03,  2.33035308e+04,  9.21748547e+02,\n",
       "       -1.57808952e+04, -3.41304213e+03,  1.65592850e+04,  1.35292952e+04,\n",
       "       -1.02323039e+04,  5.00021447e+03, -2.14434487e+04])"
      ]
     },
     "execution_count": 80,
     "metadata": {},
     "output_type": "execute_result"
    }
   ],
   "source": [
    "lm.coef_"
   ]
  },
  {
   "cell_type": "code",
   "execution_count": 81,
   "metadata": {},
   "outputs": [],
   "source": [
    "from sklearn.feature_selection import RFE\n",
    "from sklearn.svm import SVR"
   ]
  },
  {
   "cell_type": "code",
   "execution_count": 82,
   "metadata": {
    "scrolled": true
   },
   "outputs": [
    {
     "name": "stderr",
     "output_type": "stream",
     "text": [
      "C:\\Users\\Cesar Aaron\\anaconda3\\lib\\site-packages\\sklearn\\utils\\validation.py:70: FutureWarning: Pass n_features_to_select=100 as keyword args. From version 0.25 passing these as positional arguments will result in an error\n",
      "  FutureWarning)\n"
     ]
    }
   ],
   "source": [
    "estimator = SVR(kernel = \"linear\")\n",
    "selector = RFE(estimator,100,step = 1)\n",
    "selector = selector.fit(X,Y)"
   ]
  },
  {
   "cell_type": "code",
   "execution_count": 83,
   "metadata": {},
   "outputs": [
    {
     "data": {
      "text/plain": [
       "array([ True,  True,  True,  True, False,  True,  True,  True,  True,\n",
       "        True,  True,  True, False,  True,  True, False, False, False,\n",
       "        True, False,  True, False, False,  True, False,  True, False,\n",
       "        True, False, False, False,  True,  True, False,  True,  True,\n",
       "        True, False, False, False,  True,  True, False,  True,  True,\n",
       "        True,  True, False,  True,  True, False, False,  True,  True,\n",
       "        True,  True, False,  True,  True,  True,  True,  True, False,\n",
       "        True,  True,  True, False, False, False, False, False, False,\n",
       "       False, False, False, False, False, False, False, False,  True,\n",
       "       False,  True,  True,  True,  True,  True,  True, False, False,\n",
       "       False, False,  True, False,  True, False,  True, False, False,\n",
       "       False, False, False, False, False, False, False, False, False,\n",
       "       False, False,  True, False,  True,  True, False, False,  True,\n",
       "       False,  True,  True,  True, False,  True, False, False,  True,\n",
       "       False,  True,  True, False, False, False,  True, False, False,\n",
       "        True,  True,  True, False,  True,  True,  True,  True, False,\n",
       "        True,  True, False, False,  True, False,  True,  True,  True,\n",
       "        True, False, False, False, False, False, False, False, False,\n",
       "       False,  True,  True, False, False,  True,  True,  True, False,\n",
       "       False, False, False, False,  True, False, False,  True, False,\n",
       "       False,  True,  True, False, False,  True,  True, False,  True,\n",
       "        True, False,  True, False, False, False, False,  True,  True,\n",
       "       False, False,  True, False, False, False, False, False,  True,\n",
       "       False,  True,  True, False, False, False, False,  True])"
      ]
     },
     "execution_count": 83,
     "metadata": {},
     "output_type": "execute_result"
    }
   ],
   "source": [
    "selector.support_"
   ]
  },
  {
   "cell_type": "code",
   "execution_count": 84,
   "metadata": {},
   "outputs": [
    {
     "data": {
      "text/plain": [
       "array([  1,   1,   1,   1,  70,   1,   1,   1,   1,   1,   1,   1,  37,\n",
       "         1,   1,  68,  67,  36,   1,   9,   1,  10, 113,   1,  75,   1,\n",
       "        19,   1, 105,  91,  24,   1,   1,  62,   1,   1,   1,  47,  31,\n",
       "        58,   1,   1,  40,   1,   1,   1,   1,  98,   1,   1,  55,  13,\n",
       "         1,   1,   1,   1,  28,   1,   1,   1,   1,   1,  11,   1,   1,\n",
       "         1,  60,  51,  14,   2,  66,  76, 111,  65,  50,  77, 115,  92,\n",
       "        79, 109,   1,  12,   1,   1,   1,   1,   1,   1,  20, 104,  17,\n",
       "        25,   1,  49,   1,  87,   1,  90, 110,  74,  41,  86,  85,  99,\n",
       "       101, 103,  39,   3, 102, 112,   1,  96,   1,   1,  72,   4,   1,\n",
       "       108,   1,   1,   1,  16,   1,  88,  30,   1,  89,   1,   1, 116,\n",
       "         5,  78,   1,  48,  42,   1,   1,   1,  15,   1,   1,   1,   1,\n",
       "        23,   1,   1,  45,  21,   1,  73,   1,   1,   1,   1,  34,  56,\n",
       "        53,  81, 107,  57,  71,  64,  59,   1,   1,  35, 100,   1,   1,\n",
       "         1,  52,  44,  82,  83,  38,   1,  94, 106,   1,   6,  26,   1,\n",
       "         1,  29,  97,   1,   1,  46,   1,   1,  63,   1,   7,  54,  33,\n",
       "        32,   1,   1,  95,   8,   1, 114,  69,  93,  80,  27,   1,  84,\n",
       "         1,   1,  61,  18,  43,  22,   1])"
      ]
     },
     "execution_count": 84,
     "metadata": {},
     "output_type": "execute_result"
    }
   ],
   "source": [
    "selector.ranking_"
   ]
  },
  {
   "cell_type": "code",
   "execution_count": 85,
   "metadata": {
    "scrolled": true
   },
   "outputs": [
    {
     "name": "stdout",
     "output_type": "stream",
     "text": [
      "Fitting estimator with 215 features.\n",
      "Fitting estimator with 214 features.\n",
      "Fitting estimator with 213 features.\n",
      "Fitting estimator with 212 features.\n",
      "Fitting estimator with 211 features.\n",
      "Fitting estimator with 210 features.\n",
      "Fitting estimator with 209 features.\n",
      "Fitting estimator with 208 features.\n",
      "Fitting estimator with 207 features.\n",
      "Fitting estimator with 206 features.\n",
      "Fitting estimator with 205 features.\n",
      "Fitting estimator with 204 features.\n",
      "Fitting estimator with 203 features.\n",
      "Fitting estimator with 202 features.\n",
      "Fitting estimator with 201 features.\n",
      "Fitting estimator with 200 features.\n",
      "Fitting estimator with 199 features.\n",
      "Fitting estimator with 198 features.\n",
      "Fitting estimator with 197 features.\n",
      "Fitting estimator with 196 features.\n",
      "Fitting estimator with 195 features.\n",
      "Fitting estimator with 194 features.\n",
      "Fitting estimator with 193 features.\n",
      "Fitting estimator with 192 features.\n",
      "Fitting estimator with 191 features.\n",
      "Fitting estimator with 190 features.\n",
      "Fitting estimator with 189 features.\n",
      "Fitting estimator with 188 features.\n",
      "Fitting estimator with 187 features.\n",
      "Fitting estimator with 186 features.\n",
      "Fitting estimator with 185 features.\n",
      "Fitting estimator with 184 features.\n",
      "Fitting estimator with 183 features.\n",
      "Fitting estimator with 182 features.\n",
      "Fitting estimator with 181 features.\n",
      "Fitting estimator with 180 features.\n",
      "Fitting estimator with 179 features.\n",
      "Fitting estimator with 178 features.\n",
      "Fitting estimator with 177 features.\n",
      "Fitting estimator with 176 features.\n",
      "Fitting estimator with 175 features.\n",
      "Fitting estimator with 174 features.\n",
      "Fitting estimator with 173 features.\n",
      "Fitting estimator with 172 features.\n",
      "Fitting estimator with 171 features.\n",
      "Fitting estimator with 170 features.\n",
      "Fitting estimator with 169 features.\n",
      "Fitting estimator with 168 features.\n",
      "Fitting estimator with 167 features.\n",
      "Fitting estimator with 166 features.\n",
      "Fitting estimator with 165 features.\n",
      "Fitting estimator with 164 features.\n",
      "Fitting estimator with 163 features.\n",
      "Fitting estimator with 162 features.\n",
      "Fitting estimator with 161 features.\n",
      "Fitting estimator with 160 features.\n",
      "Fitting estimator with 159 features.\n",
      "Fitting estimator with 158 features.\n",
      "Fitting estimator with 157 features.\n",
      "Fitting estimator with 156 features.\n",
      "Fitting estimator with 155 features.\n",
      "Fitting estimator with 154 features.\n",
      "Fitting estimator with 153 features.\n",
      "Fitting estimator with 152 features.\n",
      "Fitting estimator with 151 features.\n",
      "Fitting estimator with 150 features.\n",
      "Fitting estimator with 149 features.\n",
      "Fitting estimator with 148 features.\n",
      "Fitting estimator with 147 features.\n",
      "Fitting estimator with 146 features.\n",
      "Fitting estimator with 145 features.\n",
      "Fitting estimator with 144 features.\n",
      "Fitting estimator with 143 features.\n",
      "Fitting estimator with 142 features.\n",
      "Fitting estimator with 141 features.\n",
      "Fitting estimator with 140 features.\n",
      "Fitting estimator with 139 features.\n",
      "Fitting estimator with 138 features.\n",
      "Fitting estimator with 137 features.\n",
      "Fitting estimator with 136 features.\n",
      "Fitting estimator with 135 features.\n",
      "Fitting estimator with 134 features.\n",
      "Fitting estimator with 133 features.\n",
      "Fitting estimator with 132 features.\n",
      "Fitting estimator with 131 features.\n",
      "Fitting estimator with 130 features.\n",
      "Fitting estimator with 129 features.\n",
      "Fitting estimator with 128 features.\n",
      "Fitting estimator with 127 features.\n",
      "Fitting estimator with 126 features.\n",
      "Fitting estimator with 125 features.\n",
      "Fitting estimator with 124 features.\n",
      "Fitting estimator with 123 features.\n",
      "Fitting estimator with 122 features.\n",
      "Fitting estimator with 121 features.\n",
      "Fitting estimator with 120 features.\n",
      "Fitting estimator with 119 features.\n",
      "Fitting estimator with 118 features.\n",
      "Fitting estimator with 117 features.\n",
      "Fitting estimator with 116 features.\n",
      "Fitting estimator with 115 features.\n",
      "Fitting estimator with 114 features.\n",
      "Fitting estimator with 113 features.\n",
      "Fitting estimator with 112 features.\n",
      "Fitting estimator with 111 features.\n",
      "Fitting estimator with 110 features.\n",
      "Fitting estimator with 109 features.\n",
      "Fitting estimator with 108 features.\n",
      "Fitting estimator with 107 features.\n",
      "Fitting estimator with 106 features.\n",
      "Fitting estimator with 105 features.\n",
      "Fitting estimator with 104 features.\n",
      "Fitting estimator with 103 features.\n",
      "Fitting estimator with 102 features.\n",
      "Fitting estimator with 101 features.\n",
      "Fitting estimator with 100 features.\n",
      "Fitting estimator with 99 features.\n",
      "Fitting estimator with 98 features.\n",
      "Fitting estimator with 97 features.\n",
      "Fitting estimator with 96 features.\n",
      "Fitting estimator with 95 features.\n",
      "Fitting estimator with 94 features.\n",
      "Fitting estimator with 93 features.\n",
      "Fitting estimator with 92 features.\n",
      "Fitting estimator with 91 features.\n",
      "Fitting estimator with 90 features.\n",
      "Fitting estimator with 89 features.\n",
      "Fitting estimator with 88 features.\n",
      "Fitting estimator with 87 features.\n",
      "Fitting estimator with 86 features.\n",
      "Fitting estimator with 85 features.\n",
      "Fitting estimator with 84 features.\n",
      "Fitting estimator with 83 features.\n",
      "Fitting estimator with 82 features.\n",
      "Fitting estimator with 81 features.\n",
      "Fitting estimator with 80 features.\n",
      "Fitting estimator with 79 features.\n",
      "Fitting estimator with 78 features.\n",
      "Fitting estimator with 77 features.\n",
      "Fitting estimator with 76 features.\n",
      "Fitting estimator with 75 features.\n",
      "Fitting estimator with 74 features.\n",
      "Fitting estimator with 73 features.\n",
      "Fitting estimator with 72 features.\n",
      "Fitting estimator with 71 features.\n",
      "Fitting estimator with 70 features.\n",
      "Fitting estimator with 69 features.\n",
      "Fitting estimator with 68 features.\n",
      "Fitting estimator with 67 features.\n",
      "Fitting estimator with 66 features.\n",
      "Fitting estimator with 65 features.\n",
      "Fitting estimator with 64 features.\n",
      "Fitting estimator with 63 features.\n",
      "Fitting estimator with 62 features.\n",
      "Fitting estimator with 61 features.\n",
      "Fitting estimator with 60 features.\n",
      "Fitting estimator with 59 features.\n",
      "Fitting estimator with 58 features.\n",
      "Fitting estimator with 57 features.\n",
      "Fitting estimator with 56 features.\n",
      "Fitting estimator with 55 features.\n",
      "Fitting estimator with 54 features.\n",
      "Fitting estimator with 53 features.\n",
      "Fitting estimator with 52 features.\n",
      "Fitting estimator with 51 features.\n",
      "Fitting estimator with 50 features.\n",
      "Fitting estimator with 49 features.\n",
      "Fitting estimator with 48 features.\n",
      "Fitting estimator with 47 features.\n",
      "Fitting estimator with 46 features.\n",
      "Fitting estimator with 45 features.\n",
      "Fitting estimator with 44 features.\n",
      "Fitting estimator with 43 features.\n",
      "Fitting estimator with 42 features.\n",
      "Fitting estimator with 41 features.\n",
      "Fitting estimator with 40 features.\n",
      "Fitting estimator with 39 features.\n",
      "Fitting estimator with 38 features.\n",
      "Fitting estimator with 37 features.\n",
      "Fitting estimator with 36 features.\n",
      "Fitting estimator with 35 features.\n",
      "Fitting estimator with 34 features.\n",
      "Fitting estimator with 33 features.\n",
      "Fitting estimator with 32 features.\n",
      "Fitting estimator with 31 features.\n",
      "Fitting estimator with 30 features.\n",
      "Fitting estimator with 29 features.\n",
      "Fitting estimator with 28 features.\n",
      "Fitting estimator with 27 features.\n",
      "Fitting estimator with 26 features.\n",
      "Fitting estimator with 25 features.\n",
      "Fitting estimator with 24 features.\n",
      "Fitting estimator with 23 features.\n",
      "Fitting estimator with 22 features.\n",
      "Fitting estimator with 21 features.\n",
      "Fitting estimator with 20 features.\n",
      "Fitting estimator with 19 features.\n",
      "Fitting estimator with 18 features.\n",
      "Fitting estimator with 17 features.\n",
      "Fitting estimator with 16 features.\n"
     ]
    },
    {
     "data": {
      "text/plain": [
       "RFE(estimator=LinearRegression(normalize=True), n_features_to_select=15,\n",
       "    verbose=5)"
      ]
     },
     "execution_count": 85,
     "metadata": {},
     "output_type": "execute_result"
    }
   ],
   "source": [
    "lr = LinearRegression(normalize = True)\n",
    "lr.fit(X,Y)\n",
    "\n",
    "rfe = RFE(lr,n_features_to_select = 15, verbose = 5)\n",
    "rfe.fit(X,Y)"
   ]
  },
  {
   "cell_type": "code",
   "execution_count": 86,
   "metadata": {},
   "outputs": [],
   "source": [
    "ranks = {}\n",
    "# Create our function which stores the feature rankings to the ranks dictionary\n",
    "def ranking(ranks, names, order=1):\n",
    "    from sklearn.preprocessing import MinMaxScaler\n",
    "    minmax = MinMaxScaler()\n",
    "    ranks = minmax.fit_transform(order*np.array([ranks]).T).T[0]\n",
    "    ranks = map(lambda x: round(x,2), ranks)\n",
    "    return dict(zip(names, ranks))"
   ]
  },
  {
   "cell_type": "code",
   "execution_count": 87,
   "metadata": {},
   "outputs": [
    {
     "data": {
      "text/plain": [
       "{'OverallQual': 0.04,\n",
       " 'YearBuilt': 0.02,\n",
       " 'YearRemodAdd': 0.03,\n",
       " 'TotalBsmtSF': 0.01,\n",
       " '1stFlrSF': 0.0,\n",
       " 'GrLivArea': 0.02,\n",
       " 'FullBath': 0.05,\n",
       " 'TotRmsAbvGrd': 0.03,\n",
       " 'GarageCars': 0.04,\n",
       " 'GarageArea': 0.01,\n",
       " 'MSZoning_C (all)': 0.66,\n",
       " 'MSZoning_FV': 0.65,\n",
       " 'MSZoning_RH': 0.66,\n",
       " 'MSZoning_RL': 0.65,\n",
       " 'MSZoning_RM': 0.66,\n",
       " 'Street_Grvl': 0.67,\n",
       " 'Street_Pave': 0.68,\n",
       " 'Alley_Grvl': 0.23,\n",
       " 'Alley_No Access': 0.23,\n",
       " 'Alley_Pave': 0.22,\n",
       " 'LotShape_IR1': 0.4,\n",
       " 'LotShape_IR2': 0.4,\n",
       " 'LotShape_IR3': 0.39,\n",
       " 'LotShape_Reg': 0.41,\n",
       " 'LandContour_Bnk': 0.13,\n",
       " 'LandContour_HLS': 0.14,\n",
       " 'LandContour_Low': 0.13,\n",
       " 'LandContour_Lvl': 0.14,\n",
       " 'Utilities_AllPub': 0.76,\n",
       " 'Utilities_NoSeWa': 0.77,\n",
       " 'LotConfig_Corner': 0.78,\n",
       " 'LotConfig_CulDSac': 0.77,\n",
       " 'LotConfig_FR2': 0.79,\n",
       " 'LotConfig_FR3': 0.78,\n",
       " 'LotConfig_Inside': 0.79,\n",
       " 'LandSlope_Gtl': 0.48,\n",
       " 'LandSlope_Mod': 0.47,\n",
       " 'LandSlope_Sev': 0.47,\n",
       " 'Neighborhood_Blmngtn': 0.37,\n",
       " 'Neighborhood_Blueste': 0.36,\n",
       " 'Neighborhood_BrDale': 0.32,\n",
       " 'Neighborhood_BrkSide': 0.28,\n",
       " 'Neighborhood_ClearCr': 0.33,\n",
       " 'Neighborhood_CollgCr': 0.32,\n",
       " 'Neighborhood_Crawfor': 0.35,\n",
       " 'Neighborhood_Edwards': 0.29,\n",
       " 'Neighborhood_Gilbert': 0.3,\n",
       " 'Neighborhood_IDOTRR': 0.27,\n",
       " 'Neighborhood_MeadowV': 0.28,\n",
       " 'Neighborhood_Mitchel': 0.31,\n",
       " 'Neighborhood_NAmes': 0.31,\n",
       " 'Neighborhood_NPkVill': 0.34,\n",
       " 'Neighborhood_NWAmes': 0.34,\n",
       " 'Neighborhood_NoRidge': 0.39,\n",
       " 'Neighborhood_NridgHt': 0.38,\n",
       " 'Neighborhood_OldTown': 0.27,\n",
       " 'Neighborhood_SWISU': 0.29,\n",
       " 'Neighborhood_Sawyer': 0.3,\n",
       " 'Neighborhood_SawyerW': 0.33,\n",
       " 'Neighborhood_Somerst': 0.37,\n",
       " 'Neighborhood_StoneBr': 0.38,\n",
       " 'Neighborhood_Timber': 0.36,\n",
       " 'Neighborhood_Veenker': 0.35,\n",
       " 'Condition1_Artery': 0.74,\n",
       " 'Condition1_Feedr': 0.74,\n",
       " 'Condition1_Norm': 0.72,\n",
       " 'Condition1_PosA': 0.7,\n",
       " 'Condition1_PosN': 0.72,\n",
       " 'Condition1_RRAe': 0.75,\n",
       " 'Condition1_RRAn': 0.73,\n",
       " 'Condition1_RRNe': 0.73,\n",
       " 'Condition1_RRNn': 0.71,\n",
       " 'Condition2_Artery': 1.0,\n",
       " 'Condition2_Feedr': 1.0,\n",
       " 'Condition2_Norm': 1.0,\n",
       " 'Condition2_PosA': 1.0,\n",
       " 'Condition2_PosN': 1.0,\n",
       " 'Condition2_RRAe': 1.0,\n",
       " 'Condition2_RRAn': 1.0,\n",
       " 'Condition2_RRNn': 1.0,\n",
       " 'BldgType_1Fam': 0.87,\n",
       " 'BldgType_2fmCon': 0.85,\n",
       " 'BldgType_Duplex': 0.86,\n",
       " 'BldgType_Twnhs': 0.86,\n",
       " 'BldgType_TwnhsE': 0.87,\n",
       " 'HouseStyle_1.5Fin': 0.45,\n",
       " 'HouseStyle_1.5Unf': 0.43,\n",
       " 'HouseStyle_1Story': 0.44,\n",
       " 'HouseStyle_2.5Fin': 0.46,\n",
       " 'HouseStyle_2.5Unf': 0.46,\n",
       " 'HouseStyle_2Story': 0.45,\n",
       " 'HouseStyle_SFoyer': 0.43,\n",
       " 'HouseStyle_SLvl': 0.44,\n",
       " 'RoofStyle_Flat': 0.17,\n",
       " 'RoofStyle_Gable': 0.19,\n",
       " 'RoofStyle_Gambrel': 0.19,\n",
       " 'RoofStyle_Hip': 0.18,\n",
       " 'RoofStyle_Mansard': 0.18,\n",
       " 'RoofStyle_Shed': 0.17,\n",
       " 'RoofMatl_ClyTile': 0.88,\n",
       " 'RoofMatl_CompShg': 0.89,\n",
       " 'RoofMatl_Membran': 0.9,\n",
       " 'RoofMatl_Metal': 0.89,\n",
       " 'RoofMatl_Roll': 0.88,\n",
       " 'RoofMatl_Tar&Grv': 0.9,\n",
       " 'RoofMatl_WdShake': 0.91,\n",
       " 'RoofMatl_WdShngl': 0.91,\n",
       " 'Exterior1st_AsbShng': 0.52,\n",
       " 'Exterior1st_AsphShn': 0.51,\n",
       " 'Exterior1st_BrkComm': 0.55,\n",
       " 'Exterior1st_BrkFace': 0.49,\n",
       " 'Exterior1st_CBlock': 0.92,\n",
       " 'Exterior1st_CemntBd': 0.49,\n",
       " 'Exterior1st_HdBoard': 0.53,\n",
       " 'Exterior1st_ImStucc': 0.54,\n",
       " 'Exterior1st_MetalSd': 0.51,\n",
       " 'Exterior1st_Plywood': 0.5,\n",
       " 'Exterior1st_Stone': 0.48,\n",
       " 'Exterior1st_Stucco': 0.52,\n",
       " 'Exterior1st_VinylSd': 0.53,\n",
       " 'Exterior1st_Wd Sdng': 0.5,\n",
       " 'Exterior1st_WdShing': 0.54,\n",
       " 'Exterior2nd_AsbShng': 0.59,\n",
       " 'Exterior2nd_AsphShn': 0.6,\n",
       " 'Exterior2nd_Brk Cmn': 0.6,\n",
       " 'Exterior2nd_BrkFace': 0.63,\n",
       " 'Exterior2nd_CBlock': 0.92,\n",
       " 'Exterior2nd_CmentBd': 0.63,\n",
       " 'Exterior2nd_HdBoard': 0.61,\n",
       " 'Exterior2nd_ImStucc': 0.64,\n",
       " 'Exterior2nd_MetalSd': 0.58,\n",
       " 'Exterior2nd_Other': 0.64,\n",
       " 'Exterior2nd_Plywood': 0.61,\n",
       " 'Exterior2nd_Stone': 0.59,\n",
       " 'Exterior2nd_Stucco': 0.62,\n",
       " 'Exterior2nd_VinylSd': 0.62,\n",
       " 'Exterior2nd_Wd Sdng': 0.57,\n",
       " 'Exterior2nd_Wd Shng': 0.58,\n",
       " 'MasVnrType_BrkCmn': 0.15,\n",
       " 'MasVnrType_BrkFace': 0.16,\n",
       " 'MasVnrType_None': 0.15,\n",
       " 'MasVnrType_Stone': 0.16,\n",
       " 'ExterQual_Ex': 0.55,\n",
       " 'ExterQual_Fa': 0.57,\n",
       " 'ExterQual_Gd': 0.56,\n",
       " 'ExterQual_TA': 0.56,\n",
       " 'ExterCond_Ex': 0.68,\n",
       " 'ExterCond_Fa': 0.69,\n",
       " 'ExterCond_Gd': 0.7,\n",
       " 'ExterCond_Po': 0.68,\n",
       " 'ExterCond_TA': 0.7,\n",
       " 'Foundation_BrkTil': 0.11,\n",
       " 'Foundation_CBlock': 0.11,\n",
       " 'Foundation_PConc': 0.1,\n",
       " 'Foundation_Slab': 0.12,\n",
       " 'Foundation_Stone': 0.12,\n",
       " 'Foundation_Wood': 0.1,\n",
       " 'Heating_Floor': 0.93,\n",
       " 'Heating_GasA': 0.95,\n",
       " 'Heating_GasW': 0.94,\n",
       " 'Heating_Grav': 0.93,\n",
       " 'Heating_OthW': 0.94,\n",
       " 'Heating_Wall': 0.94,\n",
       " 'HeatingQC_Ex': 0.82,\n",
       " 'HeatingQC_Fa': 0.8,\n",
       " 'HeatingQC_Gd': 0.81,\n",
       " 'HeatingQC_Po': 0.8,\n",
       " 'HeatingQC_TA': 0.81,\n",
       " 'CentralAir_N': 0.76,\n",
       " 'CentralAir_Y': 0.75,\n",
       " 'Electrical_FuseA': 0.21,\n",
       " 'Electrical_FuseF': 0.2,\n",
       " 'Electrical_FuseP': 0.2,\n",
       " 'Electrical_Mix': 0.22,\n",
       " 'Electrical_SBrkr': 0.21,\n",
       " 'KitchenQual_Ex': 0.08,\n",
       " 'KitchenQual_Fa': 0.09,\n",
       " 'KitchenQual_Gd': 0.08,\n",
       " 'KitchenQual_TA': 0.09,\n",
       " 'Functional_Maj1': 0.98,\n",
       " 'Functional_Maj2': 0.96,\n",
       " 'Functional_Min1': 0.97,\n",
       " 'Functional_Min2': 0.97,\n",
       " 'Functional_Mod': 0.98,\n",
       " 'Functional_Sev': 0.96,\n",
       " 'Functional_Typ': 0.99,\n",
       " 'FireplaceQu_Ex': 0.24,\n",
       " 'FireplaceQu_Fa': 0.25,\n",
       " 'FireplaceQu_Gd': 0.25,\n",
       " 'FireplaceQu_No Fireplace': 0.26,\n",
       " 'FireplaceQu_Po': 0.26,\n",
       " 'FireplaceQu_TA': 0.24,\n",
       " 'PavedDrive_N': 0.42,\n",
       " 'PavedDrive_P': 0.42,\n",
       " 'PavedDrive_Y': 0.41,\n",
       " 'Fence_GdPrv': 0.07,\n",
       " 'Fence_GdWo': 0.06,\n",
       " 'Fence_MnPrv': 0.07,\n",
       " 'Fence_MnWw': 0.05,\n",
       " 'Fence_No Fence': 0.06,\n",
       " 'SaleType_COD': 1.0,\n",
       " 'SaleType_CWD': 1.0,\n",
       " 'SaleType_Con': 1.0,\n",
       " 'SaleType_ConLD': 1.0,\n",
       " 'SaleType_ConLI': 1.0,\n",
       " 'SaleType_ConLw': 1.0,\n",
       " 'SaleType_New': 0.99,\n",
       " 'SaleType_Oth': 1.0,\n",
       " 'SaleType_WD': 1.0,\n",
       " 'SaleCondition_Abnorml': 0.84,\n",
       " 'SaleCondition_AdjLand': 0.85,\n",
       " 'SaleCondition_Alloca': 0.83,\n",
       " 'SaleCondition_Family': 0.83,\n",
       " 'SaleCondition_Normal': 0.82,\n",
       " 'SaleCondition_Partial': 0.84}"
      ]
     },
     "execution_count": 87,
     "metadata": {},
     "output_type": "execute_result"
    }
   ],
   "source": [
    "ranks[\"RFE\"] = ranking(list(map(float, rfe.ranking_)), X.columns.tolist(), order=-1)\n",
    "ranks[\"RFE\"]"
   ]
  },
  {
   "cell_type": "markdown",
   "metadata": {},
   "source": [
    "# Modelo de clusters de regresión"
   ]
  },
  {
   "cell_type": "code",
   "execution_count": 89,
   "metadata": {},
   "outputs": [],
   "source": [
    "from sklearn.tree import DecisionTreeRegressor"
   ]
  },
  {
   "cell_type": "code",
   "execution_count": 90,
   "metadata": {},
   "outputs": [],
   "source": [
    "reg_tree = DecisionTreeRegressor(min_samples_split = 30, min_samples_leaf = 10, random_state = 0)"
   ]
  },
  {
   "cell_type": "code",
   "execution_count": 91,
   "metadata": {},
   "outputs": [
    {
     "data": {
      "text/plain": [
       "DecisionTreeRegressor(min_samples_leaf=10, min_samples_split=30, random_state=0)"
      ]
     },
     "execution_count": 91,
     "metadata": {},
     "output_type": "execute_result"
    }
   ],
   "source": [
    "reg_tree.fit(X,Y)"
   ]
  },
  {
   "cell_type": "code",
   "execution_count": 92,
   "metadata": {},
   "outputs": [],
   "source": [
    "from sklearn.tree import export_graphviz"
   ]
  },
  {
   "cell_type": "code",
   "execution_count": 97,
   "metadata": {
    "scrolled": true
   },
   "outputs": [
    {
     "data": {
      "image/svg+xml": [
       "<?xml version=\"1.0\" encoding=\"UTF-8\" standalone=\"no\"?>\r\n",
       "<!DOCTYPE svg PUBLIC \"-//W3C//DTD SVG 1.1//EN\"\r\n",
       " \"http://www.w3.org/Graphics/SVG/1.1/DTD/svg11.dtd\">\r\n",
       "<!-- Generated by graphviz version 2.38.0 (20140413.2041)\r\n",
       " -->\r\n",
       "<!-- Title: Tree Pages: 1 -->\r\n",
       "<svg width=\"6872pt\" height=\"1517pt\"\r\n",
       " viewBox=\"0.00 0.00 6871.50 1517.00\" xmlns=\"http://www.w3.org/2000/svg\" xmlns:xlink=\"http://www.w3.org/1999/xlink\">\r\n",
       "<g id=\"graph0\" class=\"graph\" transform=\"scale(1 1) rotate(0) translate(4 1513)\">\r\n",
       "<title>Tree</title>\r\n",
       "<polygon fill=\"white\" stroke=\"none\" points=\"-4,4 -4,-1513 6867.5,-1513 6867.5,4 -4,4\"/>\r\n",
       "<!-- 0 -->\r\n",
       "<g id=\"node1\" class=\"node\"><title>0</title>\r\n",
       "<polygon fill=\"none\" stroke=\"black\" points=\"5414,-1509 5268,-1509 5268,-1441 5414,-1441 5414,-1509\"/>\r\n",
       "<text text-anchor=\"middle\" x=\"5341\" y=\"-1493.8\" font-family=\"Times New Roman,serif\" font-size=\"14.00\">OverallQual &lt;= 7.5</text>\r\n",
       "<text text-anchor=\"middle\" x=\"5341\" y=\"-1478.8\" font-family=\"Times New Roman,serif\" font-size=\"14.00\">mse = 6306788585.349</text>\r\n",
       "<text text-anchor=\"middle\" x=\"5341\" y=\"-1463.8\" font-family=\"Times New Roman,serif\" font-size=\"14.00\">samples = 1460</text>\r\n",
       "<text text-anchor=\"middle\" x=\"5341\" y=\"-1448.8\" font-family=\"Times New Roman,serif\" font-size=\"14.00\">value = 180921.196</text>\r\n",
       "</g>\r\n",
       "<!-- 1 -->\r\n",
       "<g id=\"node2\" class=\"node\"><title>1</title>\r\n",
       "<polygon fill=\"none\" stroke=\"black\" points=\"4835,-1405 4695,-1405 4695,-1337 4835,-1337 4835,-1405\"/>\r\n",
       "<text text-anchor=\"middle\" x=\"4765\" y=\"-1389.8\" font-family=\"Times New Roman,serif\" font-size=\"14.00\">OverallQual &lt;= 6.5</text>\r\n",
       "<text text-anchor=\"middle\" x=\"4765\" y=\"-1374.8\" font-family=\"Times New Roman,serif\" font-size=\"14.00\">mse = 2426928665.05</text>\r\n",
       "<text text-anchor=\"middle\" x=\"4765\" y=\"-1359.8\" font-family=\"Times New Roman,serif\" font-size=\"14.00\">samples = 1231</text>\r\n",
       "<text text-anchor=\"middle\" x=\"4765\" y=\"-1344.8\" font-family=\"Times New Roman,serif\" font-size=\"14.00\">value = 157832.433</text>\r\n",
       "</g>\r\n",
       "<!-- 0&#45;&gt;1 -->\r\n",
       "<g id=\"edge1\" class=\"edge\"><title>0&#45;&gt;1</title>\r\n",
       "<path fill=\"none\" stroke=\"black\" d=\"M5267.76,-1461.03C5159.37,-1441.84 4957.04,-1406.01 4844.93,-1386.15\"/>\r\n",
       "<polygon fill=\"black\" stroke=\"black\" points=\"4845.49,-1382.7 4835.03,-1384.4 4844.27,-1389.59 4845.49,-1382.7\"/>\r\n",
       "<text text-anchor=\"middle\" x=\"4849.35\" y=\"-1401.19\" font-family=\"Times New Roman,serif\" font-size=\"14.00\">True</text>\r\n",
       "</g>\r\n",
       "<!-- 144 -->\r\n",
       "<g id=\"node145\" class=\"node\"><title>144</title>\r\n",
       "<polygon fill=\"none\" stroke=\"black\" points=\"6149,-1405 6003,-1405 6003,-1337 6149,-1337 6149,-1405\"/>\r\n",
       "<text text-anchor=\"middle\" x=\"6076\" y=\"-1389.8\" font-family=\"Times New Roman,serif\" font-size=\"14.00\">OverallQual &lt;= 8.5</text>\r\n",
       "<text text-anchor=\"middle\" x=\"6076\" y=\"-1374.8\" font-family=\"Times New Roman,serif\" font-size=\"14.00\">mse = 8893038849.977</text>\r\n",
       "<text text-anchor=\"middle\" x=\"6076\" y=\"-1359.8\" font-family=\"Times New Roman,serif\" font-size=\"14.00\">samples = 229</text>\r\n",
       "<text text-anchor=\"middle\" x=\"6076\" y=\"-1344.8\" font-family=\"Times New Roman,serif\" font-size=\"14.00\">value = 305035.9</text>\r\n",
       "</g>\r\n",
       "<!-- 0&#45;&gt;144 -->\r\n",
       "<g id=\"edge144\" class=\"edge\"><title>0&#45;&gt;144</title>\r\n",
       "<path fill=\"none\" stroke=\"black\" d=\"M5414.16,-1463.85C5551.66,-1444.77 5847.78,-1403.67 5992.69,-1383.56\"/>\r\n",
       "<polygon fill=\"black\" stroke=\"black\" points=\"5993.44,-1386.99 6002.86,-1382.15 5992.48,-1380.06 5993.44,-1386.99\"/>\r\n",
       "<text text-anchor=\"middle\" x=\"5987.78\" y=\"-1398.39\" font-family=\"Times New Roman,serif\" font-size=\"14.00\">False</text>\r\n",
       "</g>\r\n",
       "<!-- 2 -->\r\n",
       "<g id=\"node3\" class=\"node\"><title>2</title>\r\n",
       "<polygon fill=\"none\" stroke=\"black\" points=\"2809,-1301 2663,-1301 2663,-1233 2809,-1233 2809,-1301\"/>\r\n",
       "<text text-anchor=\"middle\" x=\"2736\" y=\"-1285.8\" font-family=\"Times New Roman,serif\" font-size=\"14.00\">GrLivArea &lt;= 1378.5</text>\r\n",
       "<text text-anchor=\"middle\" x=\"2736\" y=\"-1270.8\" font-family=\"Times New Roman,serif\" font-size=\"14.00\">mse = 1411538921.037</text>\r\n",
       "<text text-anchor=\"middle\" x=\"2736\" y=\"-1255.8\" font-family=\"Times New Roman,serif\" font-size=\"14.00\">samples = 912</text>\r\n",
       "<text text-anchor=\"middle\" x=\"2736\" y=\"-1240.8\" font-family=\"Times New Roman,serif\" font-size=\"14.00\">value = 140383.976</text>\r\n",
       "</g>\r\n",
       "<!-- 1&#45;&gt;2 -->\r\n",
       "<g id=\"edge2\" class=\"edge\"><title>1&#45;&gt;2</title>\r\n",
       "<path fill=\"none\" stroke=\"black\" d=\"M4694.86,-1366.47C4386.58,-1350.98 3152.48,-1288.94 2819.27,-1272.19\"/>\r\n",
       "<polygon fill=\"black\" stroke=\"black\" points=\"2819.37,-1268.69 2809.21,-1271.68 2819.02,-1275.68 2819.37,-1268.69\"/>\r\n",
       "</g>\r\n",
       "<!-- 107 -->\r\n",
       "<g id=\"node108\" class=\"node\"><title>107</title>\r\n",
       "<polygon fill=\"none\" stroke=\"black\" points=\"4838,-1301 4692,-1301 4692,-1233 4838,-1233 4838,-1301\"/>\r\n",
       "<text text-anchor=\"middle\" x=\"4765\" y=\"-1285.8\" font-family=\"Times New Roman,serif\" font-size=\"14.00\">GrLivArea &lt;= 1941.0</text>\r\n",
       "<text text-anchor=\"middle\" x=\"4765\" y=\"-1270.8\" font-family=\"Times New Roman,serif\" font-size=\"14.00\">mse = 1971049955.987</text>\r\n",
       "<text text-anchor=\"middle\" x=\"4765\" y=\"-1255.8\" font-family=\"Times New Roman,serif\" font-size=\"14.00\">samples = 319</text>\r\n",
       "<text text-anchor=\"middle\" x=\"4765\" y=\"-1240.8\" font-family=\"Times New Roman,serif\" font-size=\"14.00\">value = 207716.423</text>\r\n",
       "</g>\r\n",
       "<!-- 1&#45;&gt;107 -->\r\n",
       "<g id=\"edge107\" class=\"edge\"><title>1&#45;&gt;107</title>\r\n",
       "<path fill=\"none\" stroke=\"black\" d=\"M4765,-1336.88C4765,-1328.78 4765,-1319.98 4765,-1311.47\"/>\r\n",
       "<polygon fill=\"black\" stroke=\"black\" points=\"4768.5,-1311.3 4765,-1301.3 4761.5,-1311.3 4768.5,-1311.3\"/>\r\n",
       "</g>\r\n",
       "<!-- 3 -->\r\n",
       "<g id=\"node4\" class=\"node\"><title>3</title>\r\n",
       "<polygon fill=\"none\" stroke=\"black\" points=\"1499.5,-1197 1346.5,-1197 1346.5,-1129 1499.5,-1129 1499.5,-1197\"/>\r\n",
       "<text text-anchor=\"middle\" x=\"1423\" y=\"-1181.8\" font-family=\"Times New Roman,serif\" font-size=\"14.00\">TotalBsmtSF &lt;= 1007.5</text>\r\n",
       "<text text-anchor=\"middle\" x=\"1423\" y=\"-1166.8\" font-family=\"Times New Roman,serif\" font-size=\"14.00\">mse = 837746927.031</text>\r\n",
       "<text text-anchor=\"middle\" x=\"1423\" y=\"-1151.8\" font-family=\"Times New Roman,serif\" font-size=\"14.00\">samples = 564</text>\r\n",
       "<text text-anchor=\"middle\" x=\"1423\" y=\"-1136.8\" font-family=\"Times New Roman,serif\" font-size=\"14.00\">value = 124907.778</text>\r\n",
       "</g>\r\n",
       "<!-- 2&#45;&gt;3 -->\r\n",
       "<g id=\"edge3\" class=\"edge\"><title>2&#45;&gt;3</title>\r\n",
       "<path fill=\"none\" stroke=\"black\" d=\"M2662.59,-1260.3C2436.72,-1242.75 1752.7,-1189.61 1509.76,-1170.74\"/>\r\n",
       "<polygon fill=\"black\" stroke=\"black\" points=\"1509.8,-1167.23 1499.56,-1169.95 1509.26,-1174.21 1509.8,-1167.23\"/>\r\n",
       "</g>\r\n",
       "<!-- 66 -->\r\n",
       "<g id=\"node67\" class=\"node\"><title>66</title>\r\n",
       "<polygon fill=\"none\" stroke=\"black\" points=\"2806,-1197 2666,-1197 2666,-1129 2806,-1129 2806,-1197\"/>\r\n",
       "<text text-anchor=\"middle\" x=\"2736\" y=\"-1181.8\" font-family=\"Times New Roman,serif\" font-size=\"14.00\">GarageCars &lt;= 1.5</text>\r\n",
       "<text text-anchor=\"middle\" x=\"2736\" y=\"-1166.8\" font-family=\"Times New Roman,serif\" font-size=\"14.00\">mse = 1324189529.34</text>\r\n",
       "<text text-anchor=\"middle\" x=\"2736\" y=\"-1151.8\" font-family=\"Times New Roman,serif\" font-size=\"14.00\">samples = 348</text>\r\n",
       "<text text-anchor=\"middle\" x=\"2736\" y=\"-1136.8\" font-family=\"Times New Roman,serif\" font-size=\"14.00\">value = 165466.089</text>\r\n",
       "</g>\r\n",
       "<!-- 2&#45;&gt;66 -->\r\n",
       "<g id=\"edge66\" class=\"edge\"><title>2&#45;&gt;66</title>\r\n",
       "<path fill=\"none\" stroke=\"black\" d=\"M2736,-1232.88C2736,-1224.78 2736,-1215.98 2736,-1207.47\"/>\r\n",
       "<polygon fill=\"black\" stroke=\"black\" points=\"2739.5,-1207.3 2736,-1197.3 2732.5,-1207.3 2739.5,-1207.3\"/>\r\n",
       "</g>\r\n",
       "<!-- 4 -->\r\n",
       "<g id=\"node5\" class=\"node\"><title>4</title>\r\n",
       "<polygon fill=\"none\" stroke=\"black\" points=\"682.5,-1093 549.5,-1093 549.5,-1025 682.5,-1025 682.5,-1093\"/>\r\n",
       "<text text-anchor=\"middle\" x=\"616\" y=\"-1077.8\" font-family=\"Times New Roman,serif\" font-size=\"14.00\">CentralAir_Y &lt;= 0.5</text>\r\n",
       "<text text-anchor=\"middle\" x=\"616\" y=\"-1062.8\" font-family=\"Times New Roman,serif\" font-size=\"14.00\">mse = 641983560.06</text>\r\n",
       "<text text-anchor=\"middle\" x=\"616\" y=\"-1047.8\" font-family=\"Times New Roman,serif\" font-size=\"14.00\">samples = 376</text>\r\n",
       "<text text-anchor=\"middle\" x=\"616\" y=\"-1032.8\" font-family=\"Times New Roman,serif\" font-size=\"14.00\">value = 113919.918</text>\r\n",
       "</g>\r\n",
       "<!-- 3&#45;&gt;4 -->\r\n",
       "<g id=\"edge4\" class=\"edge\"><title>3&#45;&gt;4</title>\r\n",
       "<path fill=\"none\" stroke=\"black\" d=\"M1346.35,-1152.31C1192.41,-1132.86 847.245,-1089.23 693.009,-1069.73\"/>\r\n",
       "<polygon fill=\"black\" stroke=\"black\" points=\"693.045,-1066.21 682.685,-1068.43 692.167,-1073.15 693.045,-1066.21\"/>\r\n",
       "</g>\r\n",
       "<!-- 47 -->\r\n",
       "<g id=\"node48\" class=\"node\"><title>47</title>\r\n",
       "<polygon fill=\"none\" stroke=\"black\" points=\"1493,-1093 1353,-1093 1353,-1025 1493,-1025 1493,-1093\"/>\r\n",
       "<text text-anchor=\"middle\" x=\"1423\" y=\"-1077.8\" font-family=\"Times New Roman,serif\" font-size=\"14.00\">YearBuilt &lt;= 1958.5</text>\r\n",
       "<text text-anchor=\"middle\" x=\"1423\" y=\"-1062.8\" font-family=\"Times New Roman,serif\" font-size=\"14.00\">mse = 504875149.154</text>\r\n",
       "<text text-anchor=\"middle\" x=\"1423\" y=\"-1047.8\" font-family=\"Times New Roman,serif\" font-size=\"14.00\">samples = 188</text>\r\n",
       "<text text-anchor=\"middle\" x=\"1423\" y=\"-1032.8\" font-family=\"Times New Roman,serif\" font-size=\"14.00\">value = 146883.5</text>\r\n",
       "</g>\r\n",
       "<!-- 3&#45;&gt;47 -->\r\n",
       "<g id=\"edge47\" class=\"edge\"><title>3&#45;&gt;47</title>\r\n",
       "<path fill=\"none\" stroke=\"black\" d=\"M1423,-1128.88C1423,-1120.78 1423,-1111.98 1423,-1103.47\"/>\r\n",
       "<polygon fill=\"black\" stroke=\"black\" points=\"1426.5,-1103.3 1423,-1093.3 1419.5,-1103.3 1426.5,-1103.3\"/>\r\n",
       "</g>\r\n",
       "<!-- 5 -->\r\n",
       "<g id=\"node6\" class=\"node\"><title>5</title>\r\n",
       "<polygon fill=\"none\" stroke=\"black\" points=\"301,-989 161,-989 161,-921 301,-921 301,-989\"/>\r\n",
       "<text text-anchor=\"middle\" x=\"231\" y=\"-973.8\" font-family=\"Times New Roman,serif\" font-size=\"14.00\">GrLivArea &lt;= 801.5</text>\r\n",
       "<text text-anchor=\"middle\" x=\"231\" y=\"-958.8\" font-family=\"Times New Roman,serif\" font-size=\"14.00\">mse = 573823485.316</text>\r\n",
       "<text text-anchor=\"middle\" x=\"231\" y=\"-943.8\" font-family=\"Times New Roman,serif\" font-size=\"14.00\">samples = 56</text>\r\n",
       "<text text-anchor=\"middle\" x=\"231\" y=\"-928.8\" font-family=\"Times New Roman,serif\" font-size=\"14.00\">value = 84009.071</text>\r\n",
       "</g>\r\n",
       "<!-- 4&#45;&gt;5 -->\r\n",
       "<g id=\"edge5\" class=\"edge\"><title>4&#45;&gt;5</title>\r\n",
       "<path fill=\"none\" stroke=\"black\" d=\"M549.378,-1040.35C483.088,-1022.79 381.333,-995.828 310.774,-977.135\"/>\r\n",
       "<polygon fill=\"black\" stroke=\"black\" points=\"311.595,-973.732 301.032,-974.554 309.803,-980.498 311.595,-973.732\"/>\r\n",
       "</g>\r\n",
       "<!-- 10 -->\r\n",
       "<g id=\"node11\" class=\"node\"><title>10</title>\r\n",
       "<polygon fill=\"none\" stroke=\"black\" points=\"686,-989 546,-989 546,-921 686,-921 686,-989\"/>\r\n",
       "<text text-anchor=\"middle\" x=\"616\" y=\"-973.8\" font-family=\"Times New Roman,serif\" font-size=\"14.00\">OverallQual &lt;= 4.5</text>\r\n",
       "<text text-anchor=\"middle\" x=\"616\" y=\"-958.8\" font-family=\"Times New Roman,serif\" font-size=\"14.00\">mse = 469947374.685</text>\r\n",
       "<text text-anchor=\"middle\" x=\"616\" y=\"-943.8\" font-family=\"Times New Roman,serif\" font-size=\"14.00\">samples = 320</text>\r\n",
       "<text text-anchor=\"middle\" x=\"616\" y=\"-928.8\" font-family=\"Times New Roman,serif\" font-size=\"14.00\">value = 119154.316</text>\r\n",
       "</g>\r\n",
       "<!-- 4&#45;&gt;10 -->\r\n",
       "<g id=\"edge10\" class=\"edge\"><title>4&#45;&gt;10</title>\r\n",
       "<path fill=\"none\" stroke=\"black\" d=\"M616,-1024.88C616,-1016.78 616,-1007.98 616,-999.472\"/>\r\n",
       "<polygon fill=\"black\" stroke=\"black\" points=\"619.5,-999.299 616,-989.299 612.5,-999.299 619.5,-999.299\"/>\r\n",
       "</g>\r\n",
       "<!-- 6 -->\r\n",
       "<g id=\"node7\" class=\"node\"><title>6</title>\r\n",
       "<polygon fill=\"none\" stroke=\"black\" points=\"140,-877.5 0,-877.5 0,-824.5 140,-824.5 140,-877.5\"/>\r\n",
       "<text text-anchor=\"middle\" x=\"70\" y=\"-862.3\" font-family=\"Times New Roman,serif\" font-size=\"14.00\">mse = 379003999.973</text>\r\n",
       "<text text-anchor=\"middle\" x=\"70\" y=\"-847.3\" font-family=\"Times New Roman,serif\" font-size=\"14.00\">samples = 15</text>\r\n",
       "<text text-anchor=\"middle\" x=\"70\" y=\"-832.3\" font-family=\"Times New Roman,serif\" font-size=\"14.00\">value = 65957.4</text>\r\n",
       "</g>\r\n",
       "<!-- 5&#45;&gt;6 -->\r\n",
       "<g id=\"edge6\" class=\"edge\"><title>5&#45;&gt;6</title>\r\n",
       "<path fill=\"none\" stroke=\"black\" d=\"M178.728,-920.884C159.459,-908.676 137.719,-894.903 118.772,-882.899\"/>\r\n",
       "<polygon fill=\"black\" stroke=\"black\" points=\"120.602,-879.915 110.281,-877.52 116.856,-885.828 120.602,-879.915\"/>\r\n",
       "</g>\r\n",
       "<!-- 7 -->\r\n",
       "<g id=\"node8\" class=\"node\"><title>7</title>\r\n",
       "<polygon fill=\"none\" stroke=\"black\" points=\"304,-885 158,-885 158,-817 304,-817 304,-885\"/>\r\n",
       "<text text-anchor=\"middle\" x=\"231\" y=\"-869.8\" font-family=\"Times New Roman,serif\" font-size=\"14.00\">TotalBsmtSF &lt;= 683.5</text>\r\n",
       "<text text-anchor=\"middle\" x=\"231\" y=\"-854.8\" font-family=\"Times New Roman,serif\" font-size=\"14.00\">mse = 482264411.396</text>\r\n",
       "<text text-anchor=\"middle\" x=\"231\" y=\"-839.8\" font-family=\"Times New Roman,serif\" font-size=\"14.00\">samples = 41</text>\r\n",
       "<text text-anchor=\"middle\" x=\"231\" y=\"-824.8\" font-family=\"Times New Roman,serif\" font-size=\"14.00\">value = 90613.341</text>\r\n",
       "</g>\r\n",
       "<!-- 5&#45;&gt;7 -->\r\n",
       "<g id=\"edge7\" class=\"edge\"><title>5&#45;&gt;7</title>\r\n",
       "<path fill=\"none\" stroke=\"black\" d=\"M231,-920.884C231,-912.778 231,-903.982 231,-895.472\"/>\r\n",
       "<polygon fill=\"black\" stroke=\"black\" points=\"234.5,-895.299 231,-885.299 227.5,-895.299 234.5,-895.299\"/>\r\n",
       "</g>\r\n",
       "<!-- 8 -->\r\n",
       "<g id=\"node9\" class=\"node\"><title>8</title>\r\n",
       "<polygon fill=\"none\" stroke=\"black\" points=\"143,-773.5 3,-773.5 3,-720.5 143,-720.5 143,-773.5\"/>\r\n",
       "<text text-anchor=\"middle\" x=\"73\" y=\"-758.3\" font-family=\"Times New Roman,serif\" font-size=\"14.00\">mse = 377159675.195</text>\r\n",
       "<text text-anchor=\"middle\" x=\"73\" y=\"-743.3\" font-family=\"Times New Roman,serif\" font-size=\"14.00\">samples = 23</text>\r\n",
       "<text text-anchor=\"middle\" x=\"73\" y=\"-728.3\" font-family=\"Times New Roman,serif\" font-size=\"14.00\">value = 81658.391</text>\r\n",
       "</g>\r\n",
       "<!-- 7&#45;&gt;8 -->\r\n",
       "<g id=\"edge8\" class=\"edge\"><title>7&#45;&gt;8</title>\r\n",
       "<path fill=\"none\" stroke=\"black\" d=\"M179.702,-816.884C160.877,-804.731 139.65,-791.027 121.114,-779.061\"/>\r\n",
       "<polygon fill=\"black\" stroke=\"black\" points=\"122.831,-776.003 112.531,-773.52 119.034,-781.884 122.831,-776.003\"/>\r\n",
       "</g>\r\n",
       "<!-- 9 -->\r\n",
       "<g id=\"node10\" class=\"node\"><title>9</title>\r\n",
       "<polygon fill=\"none\" stroke=\"black\" points=\"301,-773.5 161,-773.5 161,-720.5 301,-720.5 301,-773.5\"/>\r\n",
       "<text text-anchor=\"middle\" x=\"231\" y=\"-758.3\" font-family=\"Times New Roman,serif\" font-size=\"14.00\">mse = 383169111.951</text>\r\n",
       "<text text-anchor=\"middle\" x=\"231\" y=\"-743.3\" font-family=\"Times New Roman,serif\" font-size=\"14.00\">samples = 18</text>\r\n",
       "<text text-anchor=\"middle\" x=\"231\" y=\"-728.3\" font-family=\"Times New Roman,serif\" font-size=\"14.00\">value = 102055.778</text>\r\n",
       "</g>\r\n",
       "<!-- 7&#45;&gt;9 -->\r\n",
       "<g id=\"edge9\" class=\"edge\"><title>7&#45;&gt;9</title>\r\n",
       "<path fill=\"none\" stroke=\"black\" d=\"M231,-816.884C231,-806.326 231,-794.597 231,-783.854\"/>\r\n",
       "<polygon fill=\"black\" stroke=\"black\" points=\"234.5,-783.52 231,-773.52 227.5,-783.52 234.5,-783.52\"/>\r\n",
       "</g>\r\n",
       "<!-- 11 -->\r\n",
       "<g id=\"node12\" class=\"node\"><title>11</title>\r\n",
       "<polygon fill=\"none\" stroke=\"black\" points=\"617,-885 471,-885 471,-817 617,-817 617,-885\"/>\r\n",
       "<text text-anchor=\"middle\" x=\"544\" y=\"-869.8\" font-family=\"Times New Roman,serif\" font-size=\"14.00\">TotalBsmtSF &lt;= 633.5</text>\r\n",
       "<text text-anchor=\"middle\" x=\"544\" y=\"-854.8\" font-family=\"Times New Roman,serif\" font-size=\"14.00\">mse = 373867172.338</text>\r\n",
       "<text text-anchor=\"middle\" x=\"544\" y=\"-839.8\" font-family=\"Times New Roman,serif\" font-size=\"14.00\">samples = 73</text>\r\n",
       "<text text-anchor=\"middle\" x=\"544\" y=\"-824.8\" font-family=\"Times New Roman,serif\" font-size=\"14.00\">value = 101900.068</text>\r\n",
       "</g>\r\n",
       "<!-- 10&#45;&gt;11 -->\r\n",
       "<g id=\"edge11\" class=\"edge\"><title>10&#45;&gt;11</title>\r\n",
       "<path fill=\"none\" stroke=\"black\" d=\"M592.624,-920.884C586.462,-912.154 579.735,-902.625 573.304,-893.514\"/>\r\n",
       "<polygon fill=\"black\" stroke=\"black\" points=\"576.132,-891.451 567.505,-885.299 570.413,-895.487 576.132,-891.451\"/>\r\n",
       "</g>\r\n",
       "<!-- 16 -->\r\n",
       "<g id=\"node17\" class=\"node\"><title>16</title>\r\n",
       "<polygon fill=\"none\" stroke=\"black\" points=\"842,-885 702,-885 702,-817 842,-817 842,-885\"/>\r\n",
       "<text text-anchor=\"middle\" x=\"772\" y=\"-869.8\" font-family=\"Times New Roman,serif\" font-size=\"14.00\">GarageArea &lt;= 417.0</text>\r\n",
       "<text text-anchor=\"middle\" x=\"772\" y=\"-854.8\" font-family=\"Times New Roman,serif\" font-size=\"14.00\">mse = 384352443.751</text>\r\n",
       "<text text-anchor=\"middle\" x=\"772\" y=\"-839.8\" font-family=\"Times New Roman,serif\" font-size=\"14.00\">samples = 247</text>\r\n",
       "<text text-anchor=\"middle\" x=\"772\" y=\"-824.8\" font-family=\"Times New Roman,serif\" font-size=\"14.00\">value = 124253.749</text>\r\n",
       "</g>\r\n",
       "<!-- 10&#45;&gt;16 -->\r\n",
       "<g id=\"edge16\" class=\"edge\"><title>10&#45;&gt;16</title>\r\n",
       "<path fill=\"none\" stroke=\"black\" d=\"M666.649,-920.884C681.3,-911.304 697.425,-900.761 712.56,-890.864\"/>\r\n",
       "<polygon fill=\"black\" stroke=\"black\" points=\"714.884,-893.527 721.339,-885.125 711.054,-887.668 714.884,-893.527\"/>\r\n",
       "</g>\r\n",
       "<!-- 12 -->\r\n",
       "<g id=\"node13\" class=\"node\"><title>12</title>\r\n",
       "<polygon fill=\"none\" stroke=\"black\" points=\"459,-773.5 319,-773.5 319,-720.5 459,-720.5 459,-773.5\"/>\r\n",
       "<text text-anchor=\"middle\" x=\"389\" y=\"-758.3\" font-family=\"Times New Roman,serif\" font-size=\"14.00\">mse = 200433761.815</text>\r\n",
       "<text text-anchor=\"middle\" x=\"389\" y=\"-743.3\" font-family=\"Times New Roman,serif\" font-size=\"14.00\">samples = 23</text>\r\n",
       "<text text-anchor=\"middle\" x=\"389\" y=\"-728.3\" font-family=\"Times New Roman,serif\" font-size=\"14.00\">value = 87956.522</text>\r\n",
       "</g>\r\n",
       "<!-- 11&#45;&gt;12 -->\r\n",
       "<g id=\"edge12\" class=\"edge\"><title>11&#45;&gt;12</title>\r\n",
       "<path fill=\"none\" stroke=\"black\" d=\"M493.676,-816.884C475.292,-804.786 454.573,-791.151 436.448,-779.224\"/>\r\n",
       "<polygon fill=\"black\" stroke=\"black\" points=\"438.058,-776.093 427.78,-773.52 434.21,-781.941 438.058,-776.093\"/>\r\n",
       "</g>\r\n",
       "<!-- 13 -->\r\n",
       "<g id=\"node14\" class=\"node\"><title>13</title>\r\n",
       "<polygon fill=\"none\" stroke=\"black\" points=\"610.5,-781 477.5,-781 477.5,-713 610.5,-713 610.5,-781\"/>\r\n",
       "<text text-anchor=\"middle\" x=\"544\" y=\"-765.8\" font-family=\"Times New Roman,serif\" font-size=\"14.00\">YearBuilt &lt;= 1945.5</text>\r\n",
       "<text text-anchor=\"middle\" x=\"544\" y=\"-750.8\" font-family=\"Times New Roman,serif\" font-size=\"14.00\">mse = 323072392.81</text>\r\n",
       "<text text-anchor=\"middle\" x=\"544\" y=\"-735.8\" font-family=\"Times New Roman,serif\" font-size=\"14.00\">samples = 50</text>\r\n",
       "<text text-anchor=\"middle\" x=\"544\" y=\"-720.8\" font-family=\"Times New Roman,serif\" font-size=\"14.00\">value = 108314.1</text>\r\n",
       "</g>\r\n",
       "<!-- 11&#45;&gt;13 -->\r\n",
       "<g id=\"edge13\" class=\"edge\"><title>11&#45;&gt;13</title>\r\n",
       "<path fill=\"none\" stroke=\"black\" d=\"M544,-816.884C544,-808.778 544,-799.982 544,-791.472\"/>\r\n",
       "<polygon fill=\"black\" stroke=\"black\" points=\"547.5,-791.299 544,-781.299 540.5,-791.299 547.5,-791.299\"/>\r\n",
       "</g>\r\n",
       "<!-- 14 -->\r\n",
       "<g id=\"node15\" class=\"node\"><title>14</title>\r\n",
       "<polygon fill=\"none\" stroke=\"black\" points=\"392.5,-669.5 259.5,-669.5 259.5,-616.5 392.5,-616.5 392.5,-669.5\"/>\r\n",
       "<text text-anchor=\"middle\" x=\"326\" y=\"-654.3\" font-family=\"Times New Roman,serif\" font-size=\"14.00\">mse = 341900670.63</text>\r\n",
       "<text text-anchor=\"middle\" x=\"326\" y=\"-639.3\" font-family=\"Times New Roman,serif\" font-size=\"14.00\">samples = 21</text>\r\n",
       "<text text-anchor=\"middle\" x=\"326\" y=\"-624.3\" font-family=\"Times New Roman,serif\" font-size=\"14.00\">value = 98983.19</text>\r\n",
       "</g>\r\n",
       "<!-- 13&#45;&gt;14 -->\r\n",
       "<g id=\"edge14\" class=\"edge\"><title>13&#45;&gt;14</title>\r\n",
       "<path fill=\"none\" stroke=\"black\" d=\"M477.408,-714.842C449.621,-701.841 417.478,-686.802 389.975,-673.933\"/>\r\n",
       "<polygon fill=\"black\" stroke=\"black\" points=\"391.38,-670.727 380.839,-669.659 388.413,-677.067 391.38,-670.727\"/>\r\n",
       "</g>\r\n",
       "<!-- 15 -->\r\n",
       "<g id=\"node16\" class=\"node\"><title>15</title>\r\n",
       "<polygon fill=\"none\" stroke=\"black\" points=\"543.5,-669.5 410.5,-669.5 410.5,-616.5 543.5,-616.5 543.5,-669.5\"/>\r\n",
       "<text text-anchor=\"middle\" x=\"477\" y=\"-654.3\" font-family=\"Times New Roman,serif\" font-size=\"14.00\">mse = 200735190.24</text>\r\n",
       "<text text-anchor=\"middle\" x=\"477\" y=\"-639.3\" font-family=\"Times New Roman,serif\" font-size=\"14.00\">samples = 29</text>\r\n",
       "<text text-anchor=\"middle\" x=\"477\" y=\"-624.3\" font-family=\"Times New Roman,serif\" font-size=\"14.00\">value = 115070.966</text>\r\n",
       "</g>\r\n",
       "<!-- 13&#45;&gt;15 -->\r\n",
       "<g id=\"edge15\" class=\"edge\"><title>13&#45;&gt;15</title>\r\n",
       "<path fill=\"none\" stroke=\"black\" d=\"M522.247,-712.884C514.951,-701.776 506.803,-689.372 499.454,-678.184\"/>\r\n",
       "<polygon fill=\"black\" stroke=\"black\" points=\"502.179,-675.957 493.763,-669.52 496.328,-679.8 502.179,-675.957\"/>\r\n",
       "</g>\r\n",
       "<!-- 17 -->\r\n",
       "<g id=\"node18\" class=\"node\"><title>17</title>\r\n",
       "<polygon fill=\"none\" stroke=\"black\" points=\"845,-781 699,-781 699,-713 845,-713 845,-781\"/>\r\n",
       "<text text-anchor=\"middle\" x=\"772\" y=\"-765.8\" font-family=\"Times New Roman,serif\" font-size=\"14.00\">MSZoning_RM &lt;= 0.5</text>\r\n",
       "<text text-anchor=\"middle\" x=\"772\" y=\"-750.8\" font-family=\"Times New Roman,serif\" font-size=\"14.00\">mse = 331833833.322</text>\r\n",
       "<text text-anchor=\"middle\" x=\"772\" y=\"-735.8\" font-family=\"Times New Roman,serif\" font-size=\"14.00\">samples = 148</text>\r\n",
       "<text text-anchor=\"middle\" x=\"772\" y=\"-720.8\" font-family=\"Times New Roman,serif\" font-size=\"14.00\">value = 116412.723</text>\r\n",
       "</g>\r\n",
       "<!-- 16&#45;&gt;17 -->\r\n",
       "<g id=\"edge17\" class=\"edge\"><title>16&#45;&gt;17</title>\r\n",
       "<path fill=\"none\" stroke=\"black\" d=\"M772,-816.884C772,-808.778 772,-799.982 772,-791.472\"/>\r\n",
       "<polygon fill=\"black\" stroke=\"black\" points=\"775.5,-791.299 772,-781.299 768.5,-791.299 775.5,-791.299\"/>\r\n",
       "</g>\r\n",
       "<!-- 36 -->\r\n",
       "<g id=\"node37\" class=\"node\"><title>36</title>\r\n",
       "<polygon fill=\"none\" stroke=\"black\" points=\"1023,-781 883,-781 883,-713 1023,-713 1023,-781\"/>\r\n",
       "<text text-anchor=\"middle\" x=\"953\" y=\"-765.8\" font-family=\"Times New Roman,serif\" font-size=\"14.00\">YearBuilt &lt;= 1956.0</text>\r\n",
       "<text text-anchor=\"middle\" x=\"953\" y=\"-750.8\" font-family=\"Times New Roman,serif\" font-size=\"14.00\">mse = 233549266.336</text>\r\n",
       "<text text-anchor=\"middle\" x=\"953\" y=\"-735.8\" font-family=\"Times New Roman,serif\" font-size=\"14.00\">samples = 99</text>\r\n",
       "<text text-anchor=\"middle\" x=\"953\" y=\"-720.8\" font-family=\"Times New Roman,serif\" font-size=\"14.00\">value = 135975.687</text>\r\n",
       "</g>\r\n",
       "<!-- 16&#45;&gt;36 -->\r\n",
       "<g id=\"edge36\" class=\"edge\"><title>16&#45;&gt;36</title>\r\n",
       "<path fill=\"none\" stroke=\"black\" d=\"M830.766,-816.884C848.082,-807.125 867.174,-796.366 885.018,-786.31\"/>\r\n",
       "<polygon fill=\"black\" stroke=\"black\" points=\"887.226,-789.083 894.22,-781.125 883.79,-782.985 887.226,-789.083\"/>\r\n",
       "</g>\r\n",
       "<!-- 18 -->\r\n",
       "<g id=\"node19\" class=\"node\"><title>18</title>\r\n",
       "<polygon fill=\"none\" stroke=\"black\" points=\"702,-677 562,-677 562,-609 702,-609 702,-677\"/>\r\n",
       "<text text-anchor=\"middle\" x=\"632\" y=\"-661.8\" font-family=\"Times New Roman,serif\" font-size=\"14.00\">GarageArea &lt;= 93.0</text>\r\n",
       "<text text-anchor=\"middle\" x=\"632\" y=\"-646.8\" font-family=\"Times New Roman,serif\" font-size=\"14.00\">mse = 265345690.345</text>\r\n",
       "<text text-anchor=\"middle\" x=\"632\" y=\"-631.8\" font-family=\"Times New Roman,serif\" font-size=\"14.00\">samples = 104</text>\r\n",
       "<text text-anchor=\"middle\" x=\"632\" y=\"-616.8\" font-family=\"Times New Roman,serif\" font-size=\"14.00\">value = 121779.644</text>\r\n",
       "</g>\r\n",
       "<!-- 17&#45;&gt;18 -->\r\n",
       "<g id=\"edge18\" class=\"edge\"><title>17&#45;&gt;18</title>\r\n",
       "<path fill=\"none\" stroke=\"black\" d=\"M726.546,-712.884C713.587,-703.442 699.342,-693.064 685.93,-683.292\"/>\r\n",
       "<polygon fill=\"black\" stroke=\"black\" points=\"687.848,-680.359 677.705,-677.299 683.726,-686.017 687.848,-680.359\"/>\r\n",
       "</g>\r\n",
       "<!-- 31 -->\r\n",
       "<g id=\"node32\" class=\"node\"><title>31</title>\r\n",
       "<polygon fill=\"none\" stroke=\"black\" points=\"860,-677 720,-677 720,-609 860,-609 860,-677\"/>\r\n",
       "<text text-anchor=\"middle\" x=\"790\" y=\"-661.8\" font-family=\"Times New Roman,serif\" font-size=\"14.00\">GrLivArea &lt;= 1266.0</text>\r\n",
       "<text text-anchor=\"middle\" x=\"790\" y=\"-646.8\" font-family=\"Times New Roman,serif\" font-size=\"14.00\">mse = 259985165.289</text>\r\n",
       "<text text-anchor=\"middle\" x=\"790\" y=\"-631.8\" font-family=\"Times New Roman,serif\" font-size=\"14.00\">samples = 44</text>\r\n",
       "<text text-anchor=\"middle\" x=\"790\" y=\"-616.8\" font-family=\"Times New Roman,serif\" font-size=\"14.00\">value = 103727.273</text>\r\n",
       "</g>\r\n",
       "<!-- 17&#45;&gt;31 -->\r\n",
       "<g id=\"edge31\" class=\"edge\"><title>17&#45;&gt;31</title>\r\n",
       "<path fill=\"none\" stroke=\"black\" d=\"M777.844,-712.884C779.29,-704.689 780.861,-695.789 782.378,-687.192\"/>\r\n",
       "<polygon fill=\"black\" stroke=\"black\" points=\"785.832,-687.755 784.124,-677.299 778.939,-686.539 785.832,-687.755\"/>\r\n",
       "</g>\r\n",
       "<!-- 19 -->\r\n",
       "<g id=\"node20\" class=\"node\"><title>19</title>\r\n",
       "<polygon fill=\"none\" stroke=\"black\" points=\"402,-565.5 262,-565.5 262,-512.5 402,-512.5 402,-565.5\"/>\r\n",
       "<text text-anchor=\"middle\" x=\"332\" y=\"-550.3\" font-family=\"Times New Roman,serif\" font-size=\"14.00\">mse = 265817869.822</text>\r\n",
       "<text text-anchor=\"middle\" x=\"332\" y=\"-535.3\" font-family=\"Times New Roman,serif\" font-size=\"14.00\">samples = 13</text>\r\n",
       "<text text-anchor=\"middle\" x=\"332\" y=\"-520.3\" font-family=\"Times New Roman,serif\" font-size=\"14.00\">value = 104646.154</text>\r\n",
       "</g>\r\n",
       "<!-- 18&#45;&gt;19 -->\r\n",
       "<g id=\"edge19\" class=\"edge\"><title>18&#45;&gt;19</title>\r\n",
       "<path fill=\"none\" stroke=\"black\" d=\"M561.971,-612.458C558.615,-611.249 555.279,-610.089 552,-609 490.619,-588.618 472.336,-593.519 411,-573 407.48,-571.823 403.896,-570.561 400.293,-569.243\"/>\r\n",
       "<polygon fill=\"black\" stroke=\"black\" points=\"401.334,-565.895 390.742,-565.64 398.863,-572.444 401.334,-565.895\"/>\r\n",
       "</g>\r\n",
       "<!-- 20 -->\r\n",
       "<g id=\"node21\" class=\"node\"><title>20</title>\r\n",
       "<polygon fill=\"none\" stroke=\"black\" points=\"575.5,-573 420.5,-573 420.5,-505 575.5,-505 575.5,-573\"/>\r\n",
       "<text text-anchor=\"middle\" x=\"498\" y=\"-557.8\" font-family=\"Times New Roman,serif\" font-size=\"14.00\">RoofStyle_Gable &lt;= 0.5</text>\r\n",
       "<text text-anchor=\"middle\" x=\"498\" y=\"-542.8\" font-family=\"Times New Roman,serif\" font-size=\"14.00\">mse = 217350645.479</text>\r\n",
       "<text text-anchor=\"middle\" x=\"498\" y=\"-527.8\" font-family=\"Times New Roman,serif\" font-size=\"14.00\">samples = 91</text>\r\n",
       "<text text-anchor=\"middle\" x=\"498\" y=\"-512.8\" font-family=\"Times New Roman,serif\" font-size=\"14.00\">value = 124227.286</text>\r\n",
       "</g>\r\n",
       "<!-- 18&#45;&gt;20 -->\r\n",
       "<g id=\"edge20\" class=\"edge\"><title>18&#45;&gt;20</title>\r\n",
       "<path fill=\"none\" stroke=\"black\" d=\"M588.494,-608.884C576.207,-599.531 562.713,-589.259 549.982,-579.568\"/>\r\n",
       "<polygon fill=\"black\" stroke=\"black\" points=\"551.823,-576.571 541.746,-573.299 547.583,-582.141 551.823,-576.571\"/>\r\n",
       "</g>\r\n",
       "<!-- 21 -->\r\n",
       "<g id=\"node22\" class=\"node\"><title>21</title>\r\n",
       "<polygon fill=\"none\" stroke=\"black\" points=\"412.5,-461.5 279.5,-461.5 279.5,-408.5 412.5,-408.5 412.5,-461.5\"/>\r\n",
       "<text text-anchor=\"middle\" x=\"346\" y=\"-446.3\" font-family=\"Times New Roman,serif\" font-size=\"14.00\">mse = 93586193.772</text>\r\n",
       "<text text-anchor=\"middle\" x=\"346\" y=\"-431.3\" font-family=\"Times New Roman,serif\" font-size=\"14.00\">samples = 17</text>\r\n",
       "<text text-anchor=\"middle\" x=\"346\" y=\"-416.3\" font-family=\"Times New Roman,serif\" font-size=\"14.00\">value = 133479.412</text>\r\n",
       "</g>\r\n",
       "<!-- 20&#45;&gt;21 -->\r\n",
       "<g id=\"edge21\" class=\"edge\"><title>20&#45;&gt;21</title>\r\n",
       "<path fill=\"none\" stroke=\"black\" d=\"M448.65,-504.884C430.622,-492.786 410.303,-479.151 392.53,-467.224\"/>\r\n",
       "<polygon fill=\"black\" stroke=\"black\" points=\"394.284,-464.186 384.03,-461.52 390.383,-469.998 394.284,-464.186\"/>\r\n",
       "</g>\r\n",
       "<!-- 22 -->\r\n",
       "<g id=\"node23\" class=\"node\"><title>22</title>\r\n",
       "<polygon fill=\"none\" stroke=\"black\" points=\"571,-469 431,-469 431,-401 571,-401 571,-469\"/>\r\n",
       "<text text-anchor=\"middle\" x=\"501\" y=\"-453.8\" font-family=\"Times New Roman,serif\" font-size=\"14.00\">YearBuilt &lt;= 1968.5</text>\r\n",
       "<text text-anchor=\"middle\" x=\"501\" y=\"-438.8\" font-family=\"Times New Roman,serif\" font-size=\"14.00\">mse = 221600031.756</text>\r\n",
       "<text text-anchor=\"middle\" x=\"501\" y=\"-423.8\" font-family=\"Times New Roman,serif\" font-size=\"14.00\">samples = 74</text>\r\n",
       "<text text-anchor=\"middle\" x=\"501\" y=\"-408.8\" font-family=\"Times New Roman,serif\" font-size=\"14.00\">value = 122101.797</text>\r\n",
       "</g>\r\n",
       "<!-- 20&#45;&gt;22 -->\r\n",
       "<g id=\"edge22\" class=\"edge\"><title>20&#45;&gt;22</title>\r\n",
       "<path fill=\"none\" stroke=\"black\" d=\"M498.974,-504.884C499.212,-496.778 499.471,-487.982 499.721,-479.472\"/>\r\n",
       "<polygon fill=\"black\" stroke=\"black\" points=\"503.225,-479.398 500.021,-469.299 496.228,-479.192 503.225,-479.398\"/>\r\n",
       "</g>\r\n",
       "<!-- 23 -->\r\n",
       "<g id=\"node24\" class=\"node\"><title>23</title>\r\n",
       "<polygon fill=\"none\" stroke=\"black\" points=\"492,-365 352,-365 352,-297 492,-297 492,-365\"/>\r\n",
       "<text text-anchor=\"middle\" x=\"422\" y=\"-349.8\" font-family=\"Times New Roman,serif\" font-size=\"14.00\">GrLivArea &lt;= 893.0</text>\r\n",
       "<text text-anchor=\"middle\" x=\"422\" y=\"-334.8\" font-family=\"Times New Roman,serif\" font-size=\"14.00\">mse = 218925127.518</text>\r\n",
       "<text text-anchor=\"middle\" x=\"422\" y=\"-319.8\" font-family=\"Times New Roman,serif\" font-size=\"14.00\">samples = 56</text>\r\n",
       "<text text-anchor=\"middle\" x=\"422\" y=\"-304.8\" font-family=\"Times New Roman,serif\" font-size=\"14.00\">value = 119672.018</text>\r\n",
       "</g>\r\n",
       "<!-- 22&#45;&gt;23 -->\r\n",
       "<g id=\"edge23\" class=\"edge\"><title>22&#45;&gt;23</title>\r\n",
       "<path fill=\"none\" stroke=\"black\" d=\"M475.351,-400.884C468.521,-392.065 461.059,-382.43 453.937,-373.235\"/>\r\n",
       "<polygon fill=\"black\" stroke=\"black\" points=\"456.681,-371.062 447.791,-365.299 451.147,-375.349 456.681,-371.062\"/>\r\n",
       "</g>\r\n",
       "<!-- 30 -->\r\n",
       "<g id=\"node31\" class=\"node\"><title>30</title>\r\n",
       "<polygon fill=\"none\" stroke=\"black\" points=\"650,-357.5 510,-357.5 510,-304.5 650,-304.5 650,-357.5\"/>\r\n",
       "<text text-anchor=\"middle\" x=\"580\" y=\"-342.3\" font-family=\"Times New Roman,serif\" font-size=\"14.00\">mse = 154411265.432</text>\r\n",
       "<text text-anchor=\"middle\" x=\"580\" y=\"-327.3\" font-family=\"Times New Roman,serif\" font-size=\"14.00\">samples = 18</text>\r\n",
       "<text text-anchor=\"middle\" x=\"580\" y=\"-312.3\" font-family=\"Times New Roman,serif\" font-size=\"14.00\">value = 129661.111</text>\r\n",
       "</g>\r\n",
       "<!-- 22&#45;&gt;30 -->\r\n",
       "<g id=\"edge30\" class=\"edge\"><title>22&#45;&gt;30</title>\r\n",
       "<path fill=\"none\" stroke=\"black\" d=\"M526.649,-400.884C535.423,-389.556 545.24,-376.88 554.038,-365.521\"/>\r\n",
       "<polygon fill=\"black\" stroke=\"black\" points=\"556.878,-367.569 560.235,-357.52 551.344,-363.283 556.878,-367.569\"/>\r\n",
       "</g>\r\n",
       "<!-- 24 -->\r\n",
       "<g id=\"node25\" class=\"node\"><title>24</title>\r\n",
       "<polygon fill=\"none\" stroke=\"black\" points=\"412,-253.5 272,-253.5 272,-200.5 412,-200.5 412,-253.5\"/>\r\n",
       "<text text-anchor=\"middle\" x=\"342\" y=\"-238.3\" font-family=\"Times New Roman,serif\" font-size=\"14.00\">mse = 307047206.923</text>\r\n",
       "<text text-anchor=\"middle\" x=\"342\" y=\"-223.3\" font-family=\"Times New Roman,serif\" font-size=\"14.00\">samples = 14</text>\r\n",
       "<text text-anchor=\"middle\" x=\"342\" y=\"-208.3\" font-family=\"Times New Roman,serif\" font-size=\"14.00\">value = 109055.929</text>\r\n",
       "</g>\r\n",
       "<!-- 23&#45;&gt;24 -->\r\n",
       "<g id=\"edge24\" class=\"edge\"><title>23&#45;&gt;24</title>\r\n",
       "<path fill=\"none\" stroke=\"black\" d=\"M396.026,-296.884C387.142,-285.556 377.2,-272.88 368.291,-261.521\"/>\r\n",
       "<polygon fill=\"black\" stroke=\"black\" points=\"370.941,-259.228 362.016,-253.52 365.433,-263.548 370.941,-259.228\"/>\r\n",
       "</g>\r\n",
       "<!-- 25 -->\r\n",
       "<g id=\"node26\" class=\"node\"><title>25</title>\r\n",
       "<polygon fill=\"none\" stroke=\"black\" points=\"573.5,-261 430.5,-261 430.5,-193 573.5,-193 573.5,-261\"/>\r\n",
       "<text text-anchor=\"middle\" x=\"502\" y=\"-245.8\" font-family=\"Times New Roman,serif\" font-size=\"14.00\">HeatingQC_Ex &lt;= 0.5</text>\r\n",
       "<text text-anchor=\"middle\" x=\"502\" y=\"-230.8\" font-family=\"Times New Roman,serif\" font-size=\"14.00\">mse = 139461611.395</text>\r\n",
       "<text text-anchor=\"middle\" x=\"502\" y=\"-215.8\" font-family=\"Times New Roman,serif\" font-size=\"14.00\">samples = 42</text>\r\n",
       "<text text-anchor=\"middle\" x=\"502\" y=\"-200.8\" font-family=\"Times New Roman,serif\" font-size=\"14.00\">value = 123210.714</text>\r\n",
       "</g>\r\n",
       "<!-- 23&#45;&gt;25 -->\r\n",
       "<g id=\"edge25\" class=\"edge\"><title>23&#45;&gt;25</title>\r\n",
       "<path fill=\"none\" stroke=\"black\" d=\"M447.974,-296.884C454.89,-288.065 462.447,-278.43 469.659,-269.235\"/>\r\n",
       "<polygon fill=\"black\" stroke=\"black\" points=\"472.465,-271.328 475.883,-261.299 466.957,-267.008 472.465,-271.328\"/>\r\n",
       "</g>\r\n",
       "<!-- 26 -->\r\n",
       "<g id=\"node27\" class=\"node\"><title>26</title>\r\n",
       "<polygon fill=\"none\" stroke=\"black\" points=\"495,-157 349,-157 349,-89 495,-89 495,-157\"/>\r\n",
       "<text text-anchor=\"middle\" x=\"422\" y=\"-141.8\" font-family=\"Times New Roman,serif\" font-size=\"14.00\">TotalBsmtSF &lt;= 799.0</text>\r\n",
       "<text text-anchor=\"middle\" x=\"422\" y=\"-126.8\" font-family=\"Times New Roman,serif\" font-size=\"14.00\">mse = 89751788.889</text>\r\n",
       "<text text-anchor=\"middle\" x=\"422\" y=\"-111.8\" font-family=\"Times New Roman,serif\" font-size=\"14.00\">samples = 30</text>\r\n",
       "<text text-anchor=\"middle\" x=\"422\" y=\"-96.8\" font-family=\"Times New Roman,serif\" font-size=\"14.00\">value = 120256.667</text>\r\n",
       "</g>\r\n",
       "<!-- 25&#45;&gt;26 -->\r\n",
       "<g id=\"edge26\" class=\"edge\"><title>25&#45;&gt;26</title>\r\n",
       "<path fill=\"none\" stroke=\"black\" d=\"M476.026,-192.884C469.11,-184.065 461.553,-174.43 454.341,-165.235\"/>\r\n",
       "<polygon fill=\"black\" stroke=\"black\" points=\"457.043,-163.008 448.117,-157.299 451.535,-167.328 457.043,-163.008\"/>\r\n",
       "</g>\r\n",
       "<!-- 29 -->\r\n",
       "<g id=\"node30\" class=\"node\"><title>29</title>\r\n",
       "<polygon fill=\"none\" stroke=\"black\" points=\"653,-149.5 513,-149.5 513,-96.5 653,-96.5 653,-149.5\"/>\r\n",
       "<text text-anchor=\"middle\" x=\"583\" y=\"-134.3\" font-family=\"Times New Roman,serif\" font-size=\"14.00\">mse = 187380190.972</text>\r\n",
       "<text text-anchor=\"middle\" x=\"583\" y=\"-119.3\" font-family=\"Times New Roman,serif\" font-size=\"14.00\">samples = 12</text>\r\n",
       "<text text-anchor=\"middle\" x=\"583\" y=\"-104.3\" font-family=\"Times New Roman,serif\" font-size=\"14.00\">value = 130595.833</text>\r\n",
       "</g>\r\n",
       "<!-- 25&#45;&gt;29 -->\r\n",
       "<g id=\"edge29\" class=\"edge\"><title>25&#45;&gt;29</title>\r\n",
       "<path fill=\"none\" stroke=\"black\" d=\"M528.298,-192.884C537.294,-181.556 547.36,-168.88 556.381,-157.521\"/>\r\n",
       "<polygon fill=\"black\" stroke=\"black\" points=\"559.256,-159.528 562.734,-149.52 553.774,-155.174 559.256,-159.528\"/>\r\n",
       "</g>\r\n",
       "<!-- 27 -->\r\n",
       "<g id=\"node28\" class=\"node\"><title>27</title>\r\n",
       "<polygon fill=\"none\" stroke=\"black\" points=\"413.5,-53 294.5,-53 294.5,-0 413.5,-0 413.5,-53\"/>\r\n",
       "<text text-anchor=\"middle\" x=\"354\" y=\"-37.8\" font-family=\"Times New Roman,serif\" font-size=\"14.00\">mse = 81812900.0</text>\r\n",
       "<text text-anchor=\"middle\" x=\"354\" y=\"-22.8\" font-family=\"Times New Roman,serif\" font-size=\"14.00\">samples = 10</text>\r\n",
       "<text text-anchor=\"middle\" x=\"354\" y=\"-7.8\" font-family=\"Times New Roman,serif\" font-size=\"14.00\">value = 113590.0</text>\r\n",
       "</g>\r\n",
       "<!-- 26&#45;&gt;27 -->\r\n",
       "<g id=\"edge27\" class=\"edge\"><title>26&#45;&gt;27</title>\r\n",
       "<path fill=\"none\" stroke=\"black\" d=\"M398.217,-88.9485C391.832,-80.0749 384.916,-70.4648 378.493,-61.5388\"/>\r\n",
       "<polygon fill=\"black\" stroke=\"black\" points=\"381.201,-59.3094 372.52,-53.2367 375.519,-63.398 381.201,-59.3094\"/>\r\n",
       "</g>\r\n",
       "<!-- 28 -->\r\n",
       "<g id=\"node29\" class=\"node\"><title>28</title>\r\n",
       "<polygon fill=\"none\" stroke=\"black\" points=\"550.5,-53 431.5,-53 431.5,-0 550.5,-0 550.5,-53\"/>\r\n",
       "<text text-anchor=\"middle\" x=\"491\" y=\"-37.8\" font-family=\"Times New Roman,serif\" font-size=\"14.00\">mse = 60387900.0</text>\r\n",
       "<text text-anchor=\"middle\" x=\"491\" y=\"-22.8\" font-family=\"Times New Roman,serif\" font-size=\"14.00\">samples = 20</text>\r\n",
       "<text text-anchor=\"middle\" x=\"491\" y=\"-7.8\" font-family=\"Times New Roman,serif\" font-size=\"14.00\">value = 123590.0</text>\r\n",
       "</g>\r\n",
       "<!-- 26&#45;&gt;28 -->\r\n",
       "<g id=\"edge28\" class=\"edge\"><title>26&#45;&gt;28</title>\r\n",
       "<path fill=\"none\" stroke=\"black\" d=\"M446.133,-88.9485C452.612,-80.0749 459.629,-70.4648 466.146,-61.5388\"/>\r\n",
       "<polygon fill=\"black\" stroke=\"black\" points=\"469.138,-63.3769 472.208,-53.2367 463.484,-59.249 469.138,-63.3769\"/>\r\n",
       "</g>\r\n",
       "<!-- 32 -->\r\n",
       "<g id=\"node33\" class=\"node\"><title>32</title>\r\n",
       "<polygon fill=\"none\" stroke=\"black\" points=\"740,-573 594,-573 594,-505 740,-505 740,-573\"/>\r\n",
       "<text text-anchor=\"middle\" x=\"667\" y=\"-557.8\" font-family=\"Times New Roman,serif\" font-size=\"14.00\">TotalBsmtSF &lt;= 763.0</text>\r\n",
       "<text text-anchor=\"middle\" x=\"667\" y=\"-542.8\" font-family=\"Times New Roman,serif\" font-size=\"14.00\">mse = 240665510.381</text>\r\n",
       "<text text-anchor=\"middle\" x=\"667\" y=\"-527.8\" font-family=\"Times New Roman,serif\" font-size=\"14.00\">samples = 34</text>\r\n",
       "<text text-anchor=\"middle\" x=\"667\" y=\"-512.8\" font-family=\"Times New Roman,serif\" font-size=\"14.00\">value = 99308.824</text>\r\n",
       "</g>\r\n",
       "<!-- 31&#45;&gt;32 -->\r\n",
       "<g id=\"edge32\" class=\"edge\"><title>31&#45;&gt;32</title>\r\n",
       "<path fill=\"none\" stroke=\"black\" d=\"M750.065,-608.884C738.895,-599.62 726.637,-589.455 715.049,-579.845\"/>\r\n",
       "<polygon fill=\"black\" stroke=\"black\" points=\"717.087,-576.989 707.155,-573.299 712.619,-582.377 717.087,-576.989\"/>\r\n",
       "</g>\r\n",
       "<!-- 35 -->\r\n",
       "<g id=\"node36\" class=\"node\"><title>35</title>\r\n",
       "<polygon fill=\"none\" stroke=\"black\" points=\"877.5,-565.5 758.5,-565.5 758.5,-512.5 877.5,-512.5 877.5,-565.5\"/>\r\n",
       "<text text-anchor=\"middle\" x=\"818\" y=\"-550.3\" font-family=\"Times New Roman,serif\" font-size=\"14.00\">mse = 33612500.0</text>\r\n",
       "<text text-anchor=\"middle\" x=\"818\" y=\"-535.3\" font-family=\"Times New Roman,serif\" font-size=\"14.00\">samples = 10</text>\r\n",
       "<text text-anchor=\"middle\" x=\"818\" y=\"-520.3\" font-family=\"Times New Roman,serif\" font-size=\"14.00\">value = 118750.0</text>\r\n",
       "</g>\r\n",
       "<!-- 31&#45;&gt;35 -->\r\n",
       "<g id=\"edge35\" class=\"edge\"><title>31&#45;&gt;35</title>\r\n",
       "<path fill=\"none\" stroke=\"black\" d=\"M799.091,-608.884C802.049,-598.106 805.343,-586.108 808.342,-575.184\"/>\r\n",
       "<polygon fill=\"black\" stroke=\"black\" points=\"811.722,-576.09 810.995,-565.52 804.972,-574.237 811.722,-576.09\"/>\r\n",
       "</g>\r\n",
       "<!-- 33 -->\r\n",
       "<g id=\"node34\" class=\"node\"><title>33</title>\r\n",
       "<polygon fill=\"none\" stroke=\"black\" points=\"734,-461.5 594,-461.5 594,-408.5 734,-408.5 734,-461.5\"/>\r\n",
       "<text text-anchor=\"middle\" x=\"664\" y=\"-446.3\" font-family=\"Times New Roman,serif\" font-size=\"14.00\">mse = 165429160.998</text>\r\n",
       "<text text-anchor=\"middle\" x=\"664\" y=\"-431.3\" font-family=\"Times New Roman,serif\" font-size=\"14.00\">samples = 21</text>\r\n",
       "<text text-anchor=\"middle\" x=\"664\" y=\"-416.3\" font-family=\"Times New Roman,serif\" font-size=\"14.00\">value = 94747.619</text>\r\n",
       "</g>\r\n",
       "<!-- 32&#45;&gt;33 -->\r\n",
       "<g id=\"edge33\" class=\"edge\"><title>32&#45;&gt;33</title>\r\n",
       "<path fill=\"none\" stroke=\"black\" d=\"M666.026,-504.884C665.712,-494.216 665.363,-482.352 665.045,-471.519\"/>\r\n",
       "<polygon fill=\"black\" stroke=\"black\" points=\"668.543,-471.413 664.751,-461.52 661.546,-471.619 668.543,-471.413\"/>\r\n",
       "</g>\r\n",
       "<!-- 34 -->\r\n",
       "<g id=\"node35\" class=\"node\"><title>34</title>\r\n",
       "<polygon fill=\"none\" stroke=\"black\" points=\"892,-461.5 752,-461.5 752,-408.5 892,-408.5 892,-461.5\"/>\r\n",
       "<text text-anchor=\"middle\" x=\"822\" y=\"-446.3\" font-family=\"Times New Roman,serif\" font-size=\"14.00\">mse = 274304852.071</text>\r\n",
       "<text text-anchor=\"middle\" x=\"822\" y=\"-431.3\" font-family=\"Times New Roman,serif\" font-size=\"14.00\">samples = 13</text>\r\n",
       "<text text-anchor=\"middle\" x=\"822\" y=\"-416.3\" font-family=\"Times New Roman,serif\" font-size=\"14.00\">value = 106676.923</text>\r\n",
       "</g>\r\n",
       "<!-- 32&#45;&gt;34 -->\r\n",
       "<g id=\"edge34\" class=\"edge\"><title>32&#45;&gt;34</title>\r\n",
       "<path fill=\"none\" stroke=\"black\" d=\"M717.324,-504.884C735.708,-492.786 756.427,-479.151 774.552,-467.224\"/>\r\n",
       "<polygon fill=\"black\" stroke=\"black\" points=\"776.79,-469.941 783.22,-461.52 772.942,-464.093 776.79,-469.941\"/>\r\n",
       "</g>\r\n",
       "<!-- 37 -->\r\n",
       "<g id=\"node38\" class=\"node\"><title>37</title>\r\n",
       "<polygon fill=\"none\" stroke=\"black\" points=\"1036,-677 896,-677 896,-609 1036,-609 1036,-677\"/>\r\n",
       "<text text-anchor=\"middle\" x=\"966\" y=\"-661.8\" font-family=\"Times New Roman,serif\" font-size=\"14.00\">GrLivArea &lt;= 1120.0</text>\r\n",
       "<text text-anchor=\"middle\" x=\"966\" y=\"-646.8\" font-family=\"Times New Roman,serif\" font-size=\"14.00\">mse = 222547490.234</text>\r\n",
       "<text text-anchor=\"middle\" x=\"966\" y=\"-631.8\" font-family=\"Times New Roman,serif\" font-size=\"14.00\">samples = 32</text>\r\n",
       "<text text-anchor=\"middle\" x=\"966\" y=\"-616.8\" font-family=\"Times New Roman,serif\" font-size=\"14.00\">value = 125446.875</text>\r\n",
       "</g>\r\n",
       "<!-- 36&#45;&gt;37 -->\r\n",
       "<g id=\"edge37\" class=\"edge\"><title>36&#45;&gt;37</title>\r\n",
       "<path fill=\"none\" stroke=\"black\" d=\"M957.221,-712.884C958.254,-704.778 959.375,-695.982 960.459,-687.472\"/>\r\n",
       "<polygon fill=\"black\" stroke=\"black\" points=\"963.964,-687.662 961.756,-677.299 957.02,-686.777 963.964,-687.662\"/>\r\n",
       "</g>\r\n",
       "<!-- 40 -->\r\n",
       "<g id=\"node41\" class=\"node\"><title>40</title>\r\n",
       "<polygon fill=\"none\" stroke=\"black\" points=\"1367,-677 1227,-677 1227,-609 1367,-609 1367,-677\"/>\r\n",
       "<text text-anchor=\"middle\" x=\"1297\" y=\"-661.8\" font-family=\"Times New Roman,serif\" font-size=\"14.00\">OverallQual &lt;= 5.5</text>\r\n",
       "<text text-anchor=\"middle\" x=\"1297\" y=\"-646.8\" font-family=\"Times New Roman,serif\" font-size=\"14.00\">mse = 160570068.771</text>\r\n",
       "<text text-anchor=\"middle\" x=\"1297\" y=\"-631.8\" font-family=\"Times New Roman,serif\" font-size=\"14.00\">samples = 67</text>\r\n",
       "<text text-anchor=\"middle\" x=\"1297\" y=\"-616.8\" font-family=\"Times New Roman,serif\" font-size=\"14.00\">value = 141004.373</text>\r\n",
       "</g>\r\n",
       "<!-- 36&#45;&gt;40 -->\r\n",
       "<g id=\"edge40\" class=\"edge\"><title>36&#45;&gt;40</title>\r\n",
       "<path fill=\"none\" stroke=\"black\" d=\"M1023.02,-716.151C1026.04,-715.053 1029.04,-713.997 1032,-713 1093.05,-692.416 1163.72,-674.289 1216.72,-661.786\"/>\r\n",
       "<polygon fill=\"black\" stroke=\"black\" points=\"1217.81,-665.128 1226.74,-659.44 1216.21,-658.312 1217.81,-665.128\"/>\r\n",
       "</g>\r\n",
       "<!-- 38 -->\r\n",
       "<g id=\"node39\" class=\"node\"><title>38</title>\r\n",
       "<polygon fill=\"none\" stroke=\"black\" points=\"1036,-565.5 896,-565.5 896,-512.5 1036,-512.5 1036,-565.5\"/>\r\n",
       "<text text-anchor=\"middle\" x=\"966\" y=\"-550.3\" font-family=\"Times New Roman,serif\" font-size=\"14.00\">mse = 251872802.768</text>\r\n",
       "<text text-anchor=\"middle\" x=\"966\" y=\"-535.3\" font-family=\"Times New Roman,serif\" font-size=\"14.00\">samples = 17</text>\r\n",
       "<text text-anchor=\"middle\" x=\"966\" y=\"-520.3\" font-family=\"Times New Roman,serif\" font-size=\"14.00\">value = 120788.235</text>\r\n",
       "</g>\r\n",
       "<!-- 37&#45;&gt;38 -->\r\n",
       "<g id=\"edge38\" class=\"edge\"><title>37&#45;&gt;38</title>\r\n",
       "<path fill=\"none\" stroke=\"black\" d=\"M966,-608.884C966,-598.326 966,-586.597 966,-575.854\"/>\r\n",
       "<polygon fill=\"black\" stroke=\"black\" points=\"969.5,-575.52 966,-565.52 962.5,-575.52 969.5,-575.52\"/>\r\n",
       "</g>\r\n",
       "<!-- 39 -->\r\n",
       "<g id=\"node40\" class=\"node\"><title>39</title>\r\n",
       "<polygon fill=\"none\" stroke=\"black\" points=\"1194,-565.5 1054,-565.5 1054,-512.5 1194,-512.5 1194,-565.5\"/>\r\n",
       "<text text-anchor=\"middle\" x=\"1124\" y=\"-550.3\" font-family=\"Times New Roman,serif\" font-size=\"14.00\">mse = 136839288.889</text>\r\n",
       "<text text-anchor=\"middle\" x=\"1124\" y=\"-535.3\" font-family=\"Times New Roman,serif\" font-size=\"14.00\">samples = 15</text>\r\n",
       "<text text-anchor=\"middle\" x=\"1124\" y=\"-520.3\" font-family=\"Times New Roman,serif\" font-size=\"14.00\">value = 130726.667</text>\r\n",
       "</g>\r\n",
       "<!-- 37&#45;&gt;39 -->\r\n",
       "<g id=\"edge39\" class=\"edge\"><title>37&#45;&gt;39</title>\r\n",
       "<path fill=\"none\" stroke=\"black\" d=\"M1017.3,-608.884C1036.12,-596.731 1057.35,-583.027 1075.89,-571.061\"/>\r\n",
       "<polygon fill=\"black\" stroke=\"black\" points=\"1077.97,-573.884 1084.47,-565.52 1074.17,-568.003 1077.97,-573.884\"/>\r\n",
       "</g>\r\n",
       "<!-- 41 -->\r\n",
       "<g id=\"node42\" class=\"node\"><title>41</title>\r\n",
       "<polygon fill=\"none\" stroke=\"black\" points=\"1382,-573 1212,-573 1212,-505 1382,-505 1382,-573\"/>\r\n",
       "<text text-anchor=\"middle\" x=\"1297\" y=\"-557.8\" font-family=\"Times New Roman,serif\" font-size=\"14.00\">YearRemodAdd &lt;= 1976.5</text>\r\n",
       "<text text-anchor=\"middle\" x=\"1297\" y=\"-542.8\" font-family=\"Times New Roman,serif\" font-size=\"14.00\">mse = 128092955.429</text>\r\n",
       "<text text-anchor=\"middle\" x=\"1297\" y=\"-527.8\" font-family=\"Times New Roman,serif\" font-size=\"14.00\">samples = 35</text>\r\n",
       "<text text-anchor=\"middle\" x=\"1297\" y=\"-512.8\" font-family=\"Times New Roman,serif\" font-size=\"14.00\">value = 135376.0</text>\r\n",
       "</g>\r\n",
       "<!-- 40&#45;&gt;41 -->\r\n",
       "<g id=\"edge41\" class=\"edge\"><title>40&#45;&gt;41</title>\r\n",
       "<path fill=\"none\" stroke=\"black\" d=\"M1297,-608.884C1297,-600.778 1297,-591.982 1297,-583.472\"/>\r\n",
       "<polygon fill=\"black\" stroke=\"black\" points=\"1300.5,-583.299 1297,-573.299 1293.5,-583.299 1300.5,-583.299\"/>\r\n",
       "</g>\r\n",
       "<!-- 44 -->\r\n",
       "<g id=\"node45\" class=\"node\"><title>44</title>\r\n",
       "<polygon fill=\"none\" stroke=\"black\" points=\"1540,-573 1400,-573 1400,-505 1540,-505 1540,-573\"/>\r\n",
       "<text text-anchor=\"middle\" x=\"1470\" y=\"-557.8\" font-family=\"Times New Roman,serif\" font-size=\"14.00\">GarageArea &lt;= 526.5</text>\r\n",
       "<text text-anchor=\"middle\" x=\"1470\" y=\"-542.8\" font-family=\"Times New Roman,serif\" font-size=\"14.00\">mse = 123546716.366</text>\r\n",
       "<text text-anchor=\"middle\" x=\"1470\" y=\"-527.8\" font-family=\"Times New Roman,serif\" font-size=\"14.00\">samples = 32</text>\r\n",
       "<text text-anchor=\"middle\" x=\"1470\" y=\"-512.8\" font-family=\"Times New Roman,serif\" font-size=\"14.00\">value = 147160.406</text>\r\n",
       "</g>\r\n",
       "<!-- 40&#45;&gt;44 -->\r\n",
       "<g id=\"edge44\" class=\"edge\"><title>40&#45;&gt;44</title>\r\n",
       "<path fill=\"none\" stroke=\"black\" d=\"M1353.17,-608.884C1369.72,-599.125 1387.97,-588.366 1405.02,-578.31\"/>\r\n",
       "<polygon fill=\"black\" stroke=\"black\" points=\"1406.98,-581.219 1413.82,-573.125 1403.43,-575.189 1406.98,-581.219\"/>\r\n",
       "</g>\r\n",
       "<!-- 42 -->\r\n",
       "<g id=\"node43\" class=\"node\"><title>42</title>\r\n",
       "<polygon fill=\"none\" stroke=\"black\" points=\"1217,-461.5 1077,-461.5 1077,-408.5 1217,-408.5 1217,-461.5\"/>\r\n",
       "<text text-anchor=\"middle\" x=\"1147\" y=\"-446.3\" font-family=\"Times New Roman,serif\" font-size=\"14.00\">mse = 130736835.938</text>\r\n",
       "<text text-anchor=\"middle\" x=\"1147\" y=\"-431.3\" font-family=\"Times New Roman,serif\" font-size=\"14.00\">samples = 16</text>\r\n",
       "<text text-anchor=\"middle\" x=\"1147\" y=\"-416.3\" font-family=\"Times New Roman,serif\" font-size=\"14.00\">value = 128206.25</text>\r\n",
       "</g>\r\n",
       "<!-- 41&#45;&gt;42 -->\r\n",
       "<g id=\"edge42\" class=\"edge\"><title>41&#45;&gt;42</title>\r\n",
       "<path fill=\"none\" stroke=\"black\" d=\"M1248.3,-504.884C1230.51,-492.786 1210.46,-479.151 1192.92,-467.224\"/>\r\n",
       "<polygon fill=\"black\" stroke=\"black\" points=\"1194.77,-464.249 1184.53,-461.52 1190.83,-470.037 1194.77,-464.249\"/>\r\n",
       "</g>\r\n",
       "<!-- 43 -->\r\n",
       "<g id=\"node44\" class=\"node\"><title>43</title>\r\n",
       "<polygon fill=\"none\" stroke=\"black\" points=\"1368.5,-461.5 1235.5,-461.5 1235.5,-408.5 1368.5,-408.5 1368.5,-461.5\"/>\r\n",
       "<text text-anchor=\"middle\" x=\"1302\" y=\"-446.3\" font-family=\"Times New Roman,serif\" font-size=\"14.00\">mse = 46124212.742</text>\r\n",
       "<text text-anchor=\"middle\" x=\"1302\" y=\"-431.3\" font-family=\"Times New Roman,serif\" font-size=\"14.00\">samples = 19</text>\r\n",
       "<text text-anchor=\"middle\" x=\"1302\" y=\"-416.3\" font-family=\"Times New Roman,serif\" font-size=\"14.00\">value = 141413.684</text>\r\n",
       "</g>\r\n",
       "<!-- 41&#45;&gt;43 -->\r\n",
       "<g id=\"edge43\" class=\"edge\"><title>41&#45;&gt;43</title>\r\n",
       "<path fill=\"none\" stroke=\"black\" d=\"M1298.62,-504.884C1299.15,-494.216 1299.73,-482.352 1300.26,-471.519\"/>\r\n",
       "<polygon fill=\"black\" stroke=\"black\" points=\"1303.76,-471.679 1300.75,-461.52 1296.76,-471.337 1303.76,-471.679\"/>\r\n",
       "</g>\r\n",
       "<!-- 45 -->\r\n",
       "<g id=\"node46\" class=\"node\"><title>45</title>\r\n",
       "<polygon fill=\"none\" stroke=\"black\" points=\"1525.5,-461.5 1392.5,-461.5 1392.5,-408.5 1525.5,-408.5 1525.5,-461.5\"/>\r\n",
       "<text text-anchor=\"middle\" x=\"1459\" y=\"-446.3\" font-family=\"Times New Roman,serif\" font-size=\"14.00\">mse = 62493951.446</text>\r\n",
       "<text text-anchor=\"middle\" x=\"1459\" y=\"-431.3\" font-family=\"Times New Roman,serif\" font-size=\"14.00\">samples = 22</text>\r\n",
       "<text text-anchor=\"middle\" x=\"1459\" y=\"-416.3\" font-family=\"Times New Roman,serif\" font-size=\"14.00\">value = 143565.909</text>\r\n",
       "</g>\r\n",
       "<!-- 44&#45;&gt;45 -->\r\n",
       "<g id=\"edge45\" class=\"edge\"><title>44&#45;&gt;45</title>\r\n",
       "<path fill=\"none\" stroke=\"black\" d=\"M1466.43,-504.884C1465.28,-494.216 1464,-482.352 1462.83,-471.519\"/>\r\n",
       "<polygon fill=\"black\" stroke=\"black\" points=\"1466.3,-471.087 1461.75,-461.52 1459.34,-471.838 1466.3,-471.087\"/>\r\n",
       "</g>\r\n",
       "<!-- 46 -->\r\n",
       "<g id=\"node47\" class=\"node\"><title>46</title>\r\n",
       "<polygon fill=\"none\" stroke=\"black\" points=\"1676.5,-461.5 1543.5,-461.5 1543.5,-408.5 1676.5,-408.5 1676.5,-461.5\"/>\r\n",
       "<text text-anchor=\"middle\" x=\"1610\" y=\"-446.3\" font-family=\"Times New Roman,serif\" font-size=\"14.00\">mse = 166903114.01</text>\r\n",
       "<text text-anchor=\"middle\" x=\"1610\" y=\"-431.3\" font-family=\"Times New Roman,serif\" font-size=\"14.00\">samples = 10</text>\r\n",
       "<text text-anchor=\"middle\" x=\"1610\" y=\"-416.3\" font-family=\"Times New Roman,serif\" font-size=\"14.00\">value = 155068.3</text>\r\n",
       "</g>\r\n",
       "<!-- 44&#45;&gt;46 -->\r\n",
       "<g id=\"edge46\" class=\"edge\"><title>44&#45;&gt;46</title>\r\n",
       "<path fill=\"none\" stroke=\"black\" d=\"M1515.45,-504.884C1531.91,-492.896 1550.43,-479.399 1566.7,-467.549\"/>\r\n",
       "<polygon fill=\"black\" stroke=\"black\" points=\"1568.95,-470.237 1574.97,-461.52 1564.83,-464.58 1568.95,-470.237\"/>\r\n",
       "</g>\r\n",
       "<!-- 48 -->\r\n",
       "<g id=\"node49\" class=\"node\"><title>48</title>\r\n",
       "<polygon fill=\"none\" stroke=\"black\" points=\"1335.5,-989 1202.5,-989 1202.5,-921 1335.5,-921 1335.5,-989\"/>\r\n",
       "<text text-anchor=\"middle\" x=\"1269\" y=\"-973.8\" font-family=\"Times New Roman,serif\" font-size=\"14.00\">YearBuilt &lt;= 1949.0</text>\r\n",
       "<text text-anchor=\"middle\" x=\"1269\" y=\"-958.8\" font-family=\"Times New Roman,serif\" font-size=\"14.00\">mse = 382140219.44</text>\r\n",
       "<text text-anchor=\"middle\" x=\"1269\" y=\"-943.8\" font-family=\"Times New Roman,serif\" font-size=\"14.00\">samples = 50</text>\r\n",
       "<text text-anchor=\"middle\" x=\"1269\" y=\"-928.8\" font-family=\"Times New Roman,serif\" font-size=\"14.00\">value = 131856.6</text>\r\n",
       "</g>\r\n",
       "<!-- 47&#45;&gt;48 -->\r\n",
       "<g id=\"edge48\" class=\"edge\"><title>47&#45;&gt;48</title>\r\n",
       "<path fill=\"none\" stroke=\"black\" d=\"M1373,-1024.88C1358.54,-1015.3 1342.62,-1004.76 1327.68,-994.864\"/>\r\n",
       "<polygon fill=\"black\" stroke=\"black\" points=\"1329.28,-991.729 1319.01,-989.125 1325.42,-997.565 1329.28,-991.729\"/>\r\n",
       "</g>\r\n",
       "<!-- 53 -->\r\n",
       "<g id=\"node54\" class=\"node\"><title>53</title>\r\n",
       "<polygon fill=\"none\" stroke=\"black\" points=\"1593,-989 1453,-989 1453,-921 1593,-921 1593,-989\"/>\r\n",
       "<text text-anchor=\"middle\" x=\"1523\" y=\"-973.8\" font-family=\"Times New Roman,serif\" font-size=\"14.00\">GrLivArea &lt;= 1151.0</text>\r\n",
       "<text text-anchor=\"middle\" x=\"1523\" y=\"-958.8\" font-family=\"Times New Roman,serif\" font-size=\"14.00\">mse = 437887038.101</text>\r\n",
       "<text text-anchor=\"middle\" x=\"1523\" y=\"-943.8\" font-family=\"Times New Roman,serif\" font-size=\"14.00\">samples = 138</text>\r\n",
       "<text text-anchor=\"middle\" x=\"1523\" y=\"-928.8\" font-family=\"Times New Roman,serif\" font-size=\"14.00\">value = 152328.029</text>\r\n",
       "</g>\r\n",
       "<!-- 47&#45;&gt;53 -->\r\n",
       "<g id=\"edge53\" class=\"edge\"><title>47&#45;&gt;53</title>\r\n",
       "<path fill=\"none\" stroke=\"black\" d=\"M1455.47,-1024.88C1464.29,-1015.89 1473.94,-1006.04 1483.12,-996.678\"/>\r\n",
       "<polygon fill=\"black\" stroke=\"black\" points=\"1485.85,-998.89 1490.35,-989.299 1480.85,-993.99 1485.85,-998.89\"/>\r\n",
       "</g>\r\n",
       "<!-- 49 -->\r\n",
       "<g id=\"node50\" class=\"node\"><title>49</title>\r\n",
       "<polygon fill=\"none\" stroke=\"black\" points=\"1148,-877.5 1008,-877.5 1008,-824.5 1148,-824.5 1148,-877.5\"/>\r\n",
       "<text text-anchor=\"middle\" x=\"1078\" y=\"-862.3\" font-family=\"Times New Roman,serif\" font-size=\"14.00\">mse = 111971768.595</text>\r\n",
       "<text text-anchor=\"middle\" x=\"1078\" y=\"-847.3\" font-family=\"Times New Roman,serif\" font-size=\"14.00\">samples = 11</text>\r\n",
       "<text text-anchor=\"middle\" x=\"1078\" y=\"-832.3\" font-family=\"Times New Roman,serif\" font-size=\"14.00\">value = 110816.364</text>\r\n",
       "</g>\r\n",
       "<!-- 48&#45;&gt;49 -->\r\n",
       "<g id=\"edge49\" class=\"edge\"><title>48&#45;&gt;49</title>\r\n",
       "<path fill=\"none\" stroke=\"black\" d=\"M1206.99,-920.884C1183.72,-908.456 1157.41,-894.406 1134.65,-882.252\"/>\r\n",
       "<polygon fill=\"black\" stroke=\"black\" points=\"1136.26,-879.143 1125.79,-877.52 1132.96,-885.318 1136.26,-879.143\"/>\r\n",
       "</g>\r\n",
       "<!-- 50 -->\r\n",
       "<g id=\"node51\" class=\"node\"><title>50</title>\r\n",
       "<polygon fill=\"none\" stroke=\"black\" points=\"1372,-885 1166,-885 1166,-817 1372,-817 1372,-885\"/>\r\n",
       "<text text-anchor=\"middle\" x=\"1269\" y=\"-869.8\" font-family=\"Times New Roman,serif\" font-size=\"14.00\">FireplaceQu_No Fireplace &lt;= 0.5</text>\r\n",
       "<text text-anchor=\"middle\" x=\"1269\" y=\"-854.8\" font-family=\"Times New Roman,serif\" font-size=\"14.00\">mse = 298262451.512</text>\r\n",
       "<text text-anchor=\"middle\" x=\"1269\" y=\"-839.8\" font-family=\"Times New Roman,serif\" font-size=\"14.00\">samples = 39</text>\r\n",
       "<text text-anchor=\"middle\" x=\"1269\" y=\"-824.8\" font-family=\"Times New Roman,serif\" font-size=\"14.00\">value = 137791.026</text>\r\n",
       "</g>\r\n",
       "<!-- 48&#45;&gt;50 -->\r\n",
       "<g id=\"edge50\" class=\"edge\"><title>48&#45;&gt;50</title>\r\n",
       "<path fill=\"none\" stroke=\"black\" d=\"M1269,-920.884C1269,-912.778 1269,-903.982 1269,-895.472\"/>\r\n",
       "<polygon fill=\"black\" stroke=\"black\" points=\"1272.5,-895.299 1269,-885.299 1265.5,-895.299 1272.5,-895.299\"/>\r\n",
       "</g>\r\n",
       "<!-- 51 -->\r\n",
       "<g id=\"node52\" class=\"node\"><title>51</title>\r\n",
       "<polygon fill=\"none\" stroke=\"black\" points=\"1181,-773.5 1041,-773.5 1041,-720.5 1181,-720.5 1181,-773.5\"/>\r\n",
       "<text text-anchor=\"middle\" x=\"1111\" y=\"-758.3\" font-family=\"Times New Roman,serif\" font-size=\"14.00\">mse = 103354288.889</text>\r\n",
       "<text text-anchor=\"middle\" x=\"1111\" y=\"-743.3\" font-family=\"Times New Roman,serif\" font-size=\"14.00\">samples = 15</text>\r\n",
       "<text text-anchor=\"middle\" x=\"1111\" y=\"-728.3\" font-family=\"Times New Roman,serif\" font-size=\"14.00\">value = 147723.333</text>\r\n",
       "</g>\r\n",
       "<!-- 50&#45;&gt;51 -->\r\n",
       "<g id=\"edge51\" class=\"edge\"><title>50&#45;&gt;51</title>\r\n",
       "<path fill=\"none\" stroke=\"black\" d=\"M1217.7,-816.884C1198.88,-804.731 1177.65,-791.027 1159.11,-779.061\"/>\r\n",
       "<polygon fill=\"black\" stroke=\"black\" points=\"1160.83,-776.003 1150.53,-773.52 1157.03,-781.884 1160.83,-776.003\"/>\r\n",
       "</g>\r\n",
       "<!-- 52 -->\r\n",
       "<g id=\"node53\" class=\"node\"><title>52</title>\r\n",
       "<polygon fill=\"none\" stroke=\"black\" points=\"1339,-773.5 1199,-773.5 1199,-720.5 1339,-720.5 1339,-773.5\"/>\r\n",
       "<text text-anchor=\"middle\" x=\"1269\" y=\"-758.3\" font-family=\"Times New Roman,serif\" font-size=\"14.00\">mse = 319887899.306</text>\r\n",
       "<text text-anchor=\"middle\" x=\"1269\" y=\"-743.3\" font-family=\"Times New Roman,serif\" font-size=\"14.00\">samples = 24</text>\r\n",
       "<text text-anchor=\"middle\" x=\"1269\" y=\"-728.3\" font-family=\"Times New Roman,serif\" font-size=\"14.00\">value = 131583.333</text>\r\n",
       "</g>\r\n",
       "<!-- 50&#45;&gt;52 -->\r\n",
       "<g id=\"edge52\" class=\"edge\"><title>50&#45;&gt;52</title>\r\n",
       "<path fill=\"none\" stroke=\"black\" d=\"M1269,-816.884C1269,-806.326 1269,-794.597 1269,-783.854\"/>\r\n",
       "<polygon fill=\"black\" stroke=\"black\" points=\"1272.5,-783.52 1269,-773.52 1265.5,-783.52 1272.5,-783.52\"/>\r\n",
       "</g>\r\n",
       "<!-- 54 -->\r\n",
       "<g id=\"node55\" class=\"node\"><title>54</title>\r\n",
       "<polygon fill=\"none\" stroke=\"black\" points=\"1599.5,-885 1446.5,-885 1446.5,-817 1599.5,-817 1599.5,-885\"/>\r\n",
       "<text text-anchor=\"middle\" x=\"1523\" y=\"-869.8\" font-family=\"Times New Roman,serif\" font-size=\"14.00\">KitchenQual_TA &lt;= 0.5</text>\r\n",
       "<text text-anchor=\"middle\" x=\"1523\" y=\"-854.8\" font-family=\"Times New Roman,serif\" font-size=\"14.00\">mse = 261355273.438</text>\r\n",
       "<text text-anchor=\"middle\" x=\"1523\" y=\"-839.8\" font-family=\"Times New Roman,serif\" font-size=\"14.00\">samples = 72</text>\r\n",
       "<text text-anchor=\"middle\" x=\"1523\" y=\"-824.8\" font-family=\"Times New Roman,serif\" font-size=\"14.00\">value = 142543.75</text>\r\n",
       "</g>\r\n",
       "<!-- 53&#45;&gt;54 -->\r\n",
       "<g id=\"edge54\" class=\"edge\"><title>53&#45;&gt;54</title>\r\n",
       "<path fill=\"none\" stroke=\"black\" d=\"M1523,-920.884C1523,-912.778 1523,-903.982 1523,-895.472\"/>\r\n",
       "<polygon fill=\"black\" stroke=\"black\" points=\"1526.5,-895.299 1523,-885.299 1519.5,-895.299 1526.5,-895.299\"/>\r\n",
       "</g>\r\n",
       "<!-- 61 -->\r\n",
       "<g id=\"node62\" class=\"node\"><title>61</title>\r\n",
       "<polygon fill=\"none\" stroke=\"black\" points=\"1813,-885 1673,-885 1673,-817 1813,-817 1813,-885\"/>\r\n",
       "<text text-anchor=\"middle\" x=\"1743\" y=\"-869.8\" font-family=\"Times New Roman,serif\" font-size=\"14.00\">OverallQual &lt;= 5.5</text>\r\n",
       "<text text-anchor=\"middle\" x=\"1743\" y=\"-854.8\" font-family=\"Times New Roman,serif\" font-size=\"14.00\">mse = 412102981.258</text>\r\n",
       "<text text-anchor=\"middle\" x=\"1743\" y=\"-839.8\" font-family=\"Times New Roman,serif\" font-size=\"14.00\">samples = 66</text>\r\n",
       "<text text-anchor=\"middle\" x=\"1743\" y=\"-824.8\" font-family=\"Times New Roman,serif\" font-size=\"14.00\">value = 163001.788</text>\r\n",
       "</g>\r\n",
       "<!-- 53&#45;&gt;61 -->\r\n",
       "<g id=\"edge61\" class=\"edge\"><title>53&#45;&gt;61</title>\r\n",
       "<path fill=\"none\" stroke=\"black\" d=\"M1593.21,-921.446C1615.54,-911.095 1640.39,-899.572 1663.34,-888.935\"/>\r\n",
       "<polygon fill=\"black\" stroke=\"black\" points=\"1665.1,-891.976 1672.7,-884.594 1662.15,-885.625 1665.1,-891.976\"/>\r\n",
       "</g>\r\n",
       "<!-- 55 -->\r\n",
       "<g id=\"node56\" class=\"node\"><title>55</title>\r\n",
       "<polygon fill=\"none\" stroke=\"black\" points=\"1497,-773.5 1357,-773.5 1357,-720.5 1497,-720.5 1497,-773.5\"/>\r\n",
       "<text text-anchor=\"middle\" x=\"1427\" y=\"-758.3\" font-family=\"Times New Roman,serif\" font-size=\"14.00\">mse = 175985207.101</text>\r\n",
       "<text text-anchor=\"middle\" x=\"1427\" y=\"-743.3\" font-family=\"Times New Roman,serif\" font-size=\"14.00\">samples = 13</text>\r\n",
       "<text text-anchor=\"middle\" x=\"1427\" y=\"-728.3\" font-family=\"Times New Roman,serif\" font-size=\"14.00\">value = 156730.769</text>\r\n",
       "</g>\r\n",
       "<!-- 54&#45;&gt;55 -->\r\n",
       "<g id=\"edge55\" class=\"edge\"><title>54&#45;&gt;55</title>\r\n",
       "<path fill=\"none\" stroke=\"black\" d=\"M1491.83,-816.884C1480.96,-805.336 1468.78,-792.387 1457.93,-780.86\"/>\r\n",
       "<polygon fill=\"black\" stroke=\"black\" points=\"1460.42,-778.403 1451.02,-773.52 1455.32,-783.201 1460.42,-778.403\"/>\r\n",
       "</g>\r\n",
       "<!-- 56 -->\r\n",
       "<g id=\"node57\" class=\"node\"><title>56</title>\r\n",
       "<polygon fill=\"none\" stroke=\"black\" points=\"1655,-781 1515,-781 1515,-713 1655,-713 1655,-781\"/>\r\n",
       "<text text-anchor=\"middle\" x=\"1585\" y=\"-765.8\" font-family=\"Times New Roman,serif\" font-size=\"14.00\">GarageArea &lt;= 407.0</text>\r\n",
       "<text text-anchor=\"middle\" x=\"1585\" y=\"-750.8\" font-family=\"Times New Roman,serif\" font-size=\"14.00\">mse = 226046081.586</text>\r\n",
       "<text text-anchor=\"middle\" x=\"1585\" y=\"-735.8\" font-family=\"Times New Roman,serif\" font-size=\"14.00\">samples = 59</text>\r\n",
       "<text text-anchor=\"middle\" x=\"1585\" y=\"-720.8\" font-family=\"Times New Roman,serif\" font-size=\"14.00\">value = 139417.797</text>\r\n",
       "</g>\r\n",
       "<!-- 54&#45;&gt;56 -->\r\n",
       "<g id=\"edge56\" class=\"edge\"><title>54&#45;&gt;56</title>\r\n",
       "<path fill=\"none\" stroke=\"black\" d=\"M1543.13,-816.884C1548.33,-808.332 1553.99,-799.013 1559.43,-790.072\"/>\r\n",
       "<polygon fill=\"black\" stroke=\"black\" points=\"1562.56,-791.663 1564.76,-781.299 1556.57,-788.027 1562.56,-791.663\"/>\r\n",
       "</g>\r\n",
       "<!-- 57 -->\r\n",
       "<g id=\"node58\" class=\"node\"><title>57</title>\r\n",
       "<polygon fill=\"none\" stroke=\"black\" points=\"1537,-669.5 1397,-669.5 1397,-616.5 1537,-616.5 1537,-669.5\"/>\r\n",
       "<text text-anchor=\"middle\" x=\"1467\" y=\"-654.3\" font-family=\"Times New Roman,serif\" font-size=\"14.00\">mse = 263529754.253</text>\r\n",
       "<text text-anchor=\"middle\" x=\"1467\" y=\"-639.3\" font-family=\"Times New Roman,serif\" font-size=\"14.00\">samples = 23</text>\r\n",
       "<text text-anchor=\"middle\" x=\"1467\" y=\"-624.3\" font-family=\"Times New Roman,serif\" font-size=\"14.00\">value = 132826.087</text>\r\n",
       "</g>\r\n",
       "<!-- 56&#45;&gt;57 -->\r\n",
       "<g id=\"edge57\" class=\"edge\"><title>56&#45;&gt;57</title>\r\n",
       "<path fill=\"none\" stroke=\"black\" d=\"M1546.69,-712.884C1533.08,-701.116 1517.78,-687.894 1504.25,-676.203\"/>\r\n",
       "<polygon fill=\"black\" stroke=\"black\" points=\"1506.38,-673.412 1496.52,-669.52 1501.8,-678.707 1506.38,-673.412\"/>\r\n",
       "</g>\r\n",
       "<!-- 58 -->\r\n",
       "<g id=\"node59\" class=\"node\"><title>58</title>\r\n",
       "<polygon fill=\"none\" stroke=\"black\" points=\"1742.5,-677 1555.5,-677 1555.5,-609 1742.5,-609 1742.5,-677\"/>\r\n",
       "<text text-anchor=\"middle\" x=\"1649\" y=\"-661.8\" font-family=\"Times New Roman,serif\" font-size=\"14.00\">MasVnrType_BrkFace &lt;= 0.5</text>\r\n",
       "<text text-anchor=\"middle\" x=\"1649\" y=\"-646.8\" font-family=\"Times New Roman,serif\" font-size=\"14.00\">mse = 156602413.194</text>\r\n",
       "<text text-anchor=\"middle\" x=\"1649\" y=\"-631.8\" font-family=\"Times New Roman,serif\" font-size=\"14.00\">samples = 36</text>\r\n",
       "<text text-anchor=\"middle\" x=\"1649\" y=\"-616.8\" font-family=\"Times New Roman,serif\" font-size=\"14.00\">value = 143629.167</text>\r\n",
       "</g>\r\n",
       "<!-- 56&#45;&gt;58 -->\r\n",
       "<g id=\"edge58\" class=\"edge\"><title>56&#45;&gt;58</title>\r\n",
       "<path fill=\"none\" stroke=\"black\" d=\"M1605.78,-712.884C1611.2,-704.243 1617.11,-694.819 1622.78,-685.793\"/>\r\n",
       "<polygon fill=\"black\" stroke=\"black\" points=\"1625.76,-687.63 1628.11,-677.299 1619.83,-683.91 1625.76,-687.63\"/>\r\n",
       "</g>\r\n",
       "<!-- 59 -->\r\n",
       "<g id=\"node60\" class=\"node\"><title>59</title>\r\n",
       "<polygon fill=\"none\" stroke=\"black\" points=\"1708,-565.5 1568,-565.5 1568,-512.5 1708,-512.5 1708,-565.5\"/>\r\n",
       "<text text-anchor=\"middle\" x=\"1638\" y=\"-550.3\" font-family=\"Times New Roman,serif\" font-size=\"14.00\">mse = 137544619.083</text>\r\n",
       "<text text-anchor=\"middle\" x=\"1638\" y=\"-535.3\" font-family=\"Times New Roman,serif\" font-size=\"14.00\">samples = 26</text>\r\n",
       "<text text-anchor=\"middle\" x=\"1638\" y=\"-520.3\" font-family=\"Times New Roman,serif\" font-size=\"14.00\">value = 139840.385</text>\r\n",
       "</g>\r\n",
       "<!-- 58&#45;&gt;59 -->\r\n",
       "<g id=\"edge59\" class=\"edge\"><title>58&#45;&gt;59</title>\r\n",
       "<path fill=\"none\" stroke=\"black\" d=\"M1645.43,-608.884C1644.28,-598.216 1643,-586.352 1641.83,-575.519\"/>\r\n",
       "<polygon fill=\"black\" stroke=\"black\" points=\"1645.3,-575.087 1640.75,-565.52 1638.34,-575.838 1645.3,-575.087\"/>\r\n",
       "</g>\r\n",
       "<!-- 60 -->\r\n",
       "<g id=\"node61\" class=\"node\"><title>60</title>\r\n",
       "<polygon fill=\"none\" stroke=\"black\" points=\"1845.5,-565.5 1726.5,-565.5 1726.5,-512.5 1845.5,-512.5 1845.5,-565.5\"/>\r\n",
       "<text text-anchor=\"middle\" x=\"1786\" y=\"-550.3\" font-family=\"Times New Roman,serif\" font-size=\"14.00\">mse = 71791100.0</text>\r\n",
       "<text text-anchor=\"middle\" x=\"1786\" y=\"-535.3\" font-family=\"Times New Roman,serif\" font-size=\"14.00\">samples = 10</text>\r\n",
       "<text text-anchor=\"middle\" x=\"1786\" y=\"-520.3\" font-family=\"Times New Roman,serif\" font-size=\"14.00\">value = 153480.0</text>\r\n",
       "</g>\r\n",
       "<!-- 58&#45;&gt;60 -->\r\n",
       "<g id=\"edge60\" class=\"edge\"><title>58&#45;&gt;60</title>\r\n",
       "<path fill=\"none\" stroke=\"black\" d=\"M1693.48,-608.884C1709.58,-596.896 1727.71,-583.399 1743.62,-571.549\"/>\r\n",
       "<polygon fill=\"black\" stroke=\"black\" points=\"1745.79,-574.299 1751.72,-565.52 1741.61,-568.684 1745.79,-574.299\"/>\r\n",
       "</g>\r\n",
       "<!-- 62 -->\r\n",
       "<g id=\"node63\" class=\"node\"><title>62</title>\r\n",
       "<polygon fill=\"none\" stroke=\"black\" points=\"1813,-773.5 1673,-773.5 1673,-720.5 1813,-720.5 1813,-773.5\"/>\r\n",
       "<text text-anchor=\"middle\" x=\"1743\" y=\"-758.3\" font-family=\"Times New Roman,serif\" font-size=\"14.00\">mse = 345360584.148</text>\r\n",
       "<text text-anchor=\"middle\" x=\"1743\" y=\"-743.3\" font-family=\"Times New Roman,serif\" font-size=\"14.00\">samples = 26</text>\r\n",
       "<text text-anchor=\"middle\" x=\"1743\" y=\"-728.3\" font-family=\"Times New Roman,serif\" font-size=\"14.00\">value = 151319.077</text>\r\n",
       "</g>\r\n",
       "<!-- 61&#45;&gt;62 -->\r\n",
       "<g id=\"edge62\" class=\"edge\"><title>61&#45;&gt;62</title>\r\n",
       "<path fill=\"none\" stroke=\"black\" d=\"M1743,-816.884C1743,-806.326 1743,-794.597 1743,-783.854\"/>\r\n",
       "<polygon fill=\"black\" stroke=\"black\" points=\"1746.5,-783.52 1743,-773.52 1739.5,-783.52 1746.5,-783.52\"/>\r\n",
       "</g>\r\n",
       "<!-- 63 -->\r\n",
       "<g id=\"node64\" class=\"node\"><title>63</title>\r\n",
       "<polygon fill=\"none\" stroke=\"black\" points=\"1974.5,-781 1831.5,-781 1831.5,-713 1974.5,-713 1974.5,-781\"/>\r\n",
       "<text text-anchor=\"middle\" x=\"1903\" y=\"-765.8\" font-family=\"Times New Roman,serif\" font-size=\"14.00\">RoofStyle_Hip &lt;= 0.5</text>\r\n",
       "<text text-anchor=\"middle\" x=\"1903\" y=\"-750.8\" font-family=\"Times New Roman,serif\" font-size=\"14.00\">mse = 309104588.298</text>\r\n",
       "<text text-anchor=\"middle\" x=\"1903\" y=\"-735.8\" font-family=\"Times New Roman,serif\" font-size=\"14.00\">samples = 40</text>\r\n",
       "<text text-anchor=\"middle\" x=\"1903\" y=\"-720.8\" font-family=\"Times New Roman,serif\" font-size=\"14.00\">value = 170595.55</text>\r\n",
       "</g>\r\n",
       "<!-- 61&#45;&gt;63 -->\r\n",
       "<g id=\"edge63\" class=\"edge\"><title>61&#45;&gt;63</title>\r\n",
       "<path fill=\"none\" stroke=\"black\" d=\"M1794.95,-816.884C1810.11,-807.214 1826.82,-796.563 1842.47,-786.587\"/>\r\n",
       "<polygon fill=\"black\" stroke=\"black\" points=\"1844.49,-789.452 1851.04,-781.125 1840.73,-783.549 1844.49,-789.452\"/>\r\n",
       "</g>\r\n",
       "<!-- 64 -->\r\n",
       "<g id=\"node65\" class=\"node\"><title>64</title>\r\n",
       "<polygon fill=\"none\" stroke=\"black\" points=\"1925,-669.5 1785,-669.5 1785,-616.5 1925,-616.5 1925,-669.5\"/>\r\n",
       "<text text-anchor=\"middle\" x=\"1855\" y=\"-654.3\" font-family=\"Times New Roman,serif\" font-size=\"14.00\">mse = 301750021.158</text>\r\n",
       "<text text-anchor=\"middle\" x=\"1855\" y=\"-639.3\" font-family=\"Times New Roman,serif\" font-size=\"14.00\">samples = 28</text>\r\n",
       "<text text-anchor=\"middle\" x=\"1855\" y=\"-624.3\" font-family=\"Times New Roman,serif\" font-size=\"14.00\">value = 175904.357</text>\r\n",
       "</g>\r\n",
       "<!-- 63&#45;&gt;64 -->\r\n",
       "<g id=\"edge64\" class=\"edge\"><title>63&#45;&gt;64</title>\r\n",
       "<path fill=\"none\" stroke=\"black\" d=\"M1887.42,-712.884C1882.29,-701.996 1876.58,-689.863 1871.4,-678.85\"/>\r\n",
       "<polygon fill=\"black\" stroke=\"black\" points=\"1874.43,-677.078 1867.01,-669.52 1868.1,-680.058 1874.43,-677.078\"/>\r\n",
       "</g>\r\n",
       "<!-- 65 -->\r\n",
       "<g id=\"node66\" class=\"node\"><title>65</title>\r\n",
       "<polygon fill=\"none\" stroke=\"black\" points=\"2083,-669.5 1943,-669.5 1943,-616.5 2083,-616.5 2083,-669.5\"/>\r\n",
       "<text text-anchor=\"middle\" x=\"2013\" y=\"-654.3\" font-family=\"Times New Roman,serif\" font-size=\"14.00\">mse = 107060763.889</text>\r\n",
       "<text text-anchor=\"middle\" x=\"2013\" y=\"-639.3\" font-family=\"Times New Roman,serif\" font-size=\"14.00\">samples = 12</text>\r\n",
       "<text text-anchor=\"middle\" x=\"2013\" y=\"-624.3\" font-family=\"Times New Roman,serif\" font-size=\"14.00\">value = 158208.333</text>\r\n",
       "</g>\r\n",
       "<!-- 63&#45;&gt;65 -->\r\n",
       "<g id=\"edge65\" class=\"edge\"><title>63&#45;&gt;65</title>\r\n",
       "<path fill=\"none\" stroke=\"black\" d=\"M1938.71,-712.884C1951.29,-701.226 1965.4,-688.141 1977.92,-676.532\"/>\r\n",
       "<polygon fill=\"black\" stroke=\"black\" points=\"1980.53,-678.886 1985.48,-669.52 1975.77,-673.753 1980.53,-678.886\"/>\r\n",
       "</g>\r\n",
       "<!-- 67 -->\r\n",
       "<g id=\"node68\" class=\"node\"><title>67</title>\r\n",
       "<polygon fill=\"none\" stroke=\"black\" points=\"2730,-1093 2560,-1093 2560,-1025 2730,-1025 2730,-1093\"/>\r\n",
       "<text text-anchor=\"middle\" x=\"2645\" y=\"-1077.8\" font-family=\"Times New Roman,serif\" font-size=\"14.00\">YearRemodAdd &lt;= 1966.5</text>\r\n",
       "<text text-anchor=\"middle\" x=\"2645\" y=\"-1062.8\" font-family=\"Times New Roman,serif\" font-size=\"14.00\">mse = 865288483.417</text>\r\n",
       "<text text-anchor=\"middle\" x=\"2645\" y=\"-1047.8\" font-family=\"Times New Roman,serif\" font-size=\"14.00\">samples = 101</text>\r\n",
       "<text text-anchor=\"middle\" x=\"2645\" y=\"-1032.8\" font-family=\"Times New Roman,serif\" font-size=\"14.00\">value = 140816.297</text>\r\n",
       "</g>\r\n",
       "<!-- 66&#45;&gt;67 -->\r\n",
       "<g id=\"edge67\" class=\"edge\"><title>66&#45;&gt;67</title>\r\n",
       "<path fill=\"none\" stroke=\"black\" d=\"M2706.45,-1128.88C2698.51,-1119.98 2689.82,-1110.24 2681.54,-1100.96\"/>\r\n",
       "<polygon fill=\"black\" stroke=\"black\" points=\"2683.98,-1098.43 2674.71,-1093.3 2678.75,-1103.09 2683.98,-1098.43\"/>\r\n",
       "</g>\r\n",
       "<!-- 80 -->\r\n",
       "<g id=\"node81\" class=\"node\"><title>80</title>\r\n",
       "<polygon fill=\"none\" stroke=\"black\" points=\"3057,-1093 2911,-1093 2911,-1025 3057,-1025 3057,-1093\"/>\r\n",
       "<text text-anchor=\"middle\" x=\"2984\" y=\"-1077.8\" font-family=\"Times New Roman,serif\" font-size=\"14.00\">OverallQual &lt;= 5.5</text>\r\n",
       "<text text-anchor=\"middle\" x=\"2984\" y=\"-1062.8\" font-family=\"Times New Roman,serif\" font-size=\"14.00\">mse = 1161784787.332</text>\r\n",
       "<text text-anchor=\"middle\" x=\"2984\" y=\"-1047.8\" font-family=\"Times New Roman,serif\" font-size=\"14.00\">samples = 247</text>\r\n",
       "<text text-anchor=\"middle\" x=\"2984\" y=\"-1032.8\" font-family=\"Times New Roman,serif\" font-size=\"14.00\">value = 175545.559</text>\r\n",
       "</g>\r\n",
       "<!-- 66&#45;&gt;80 -->\r\n",
       "<g id=\"edge80\" class=\"edge\"><title>66&#45;&gt;80</title>\r\n",
       "<path fill=\"none\" stroke=\"black\" d=\"M2806.07,-1133.18C2835.67,-1121.01 2870.35,-1106.74 2901.2,-1094.05\"/>\r\n",
       "<polygon fill=\"black\" stroke=\"black\" points=\"2902.73,-1097.21 2910.64,-1090.17 2900.06,-1090.74 2902.73,-1097.21\"/>\r\n",
       "</g>\r\n",
       "<!-- 68 -->\r\n",
       "<g id=\"node69\" class=\"node\"><title>68</title>\r\n",
       "<polygon fill=\"none\" stroke=\"black\" points=\"2489.5,-989 2302.5,-989 2302.5,-921 2489.5,-921 2489.5,-989\"/>\r\n",
       "<text text-anchor=\"middle\" x=\"2396\" y=\"-973.8\" font-family=\"Times New Roman,serif\" font-size=\"14.00\">MasVnrType_BrkFace &lt;= 0.5</text>\r\n",
       "<text text-anchor=\"middle\" x=\"2396\" y=\"-958.8\" font-family=\"Times New Roman,serif\" font-size=\"14.00\">mse = 544404036.792</text>\r\n",
       "<text text-anchor=\"middle\" x=\"2396\" y=\"-943.8\" font-family=\"Times New Roman,serif\" font-size=\"14.00\">samples = 47</text>\r\n",
       "<text text-anchor=\"middle\" x=\"2396\" y=\"-928.8\" font-family=\"Times New Roman,serif\" font-size=\"14.00\">value = 128968.872</text>\r\n",
       "</g>\r\n",
       "<!-- 67&#45;&gt;68 -->\r\n",
       "<g id=\"edge68\" class=\"edge\"><title>67&#45;&gt;68</title>\r\n",
       "<path fill=\"none\" stroke=\"black\" d=\"M2564.16,-1024.88C2539.24,-1014.68 2511.66,-1003.38 2486.16,-992.931\"/>\r\n",
       "<polygon fill=\"black\" stroke=\"black\" points=\"2487.44,-989.677 2476.86,-989.125 2484.79,-996.154 2487.44,-989.677\"/>\r\n",
       "</g>\r\n",
       "<!-- 73 -->\r\n",
       "<g id=\"node74\" class=\"node\"><title>73</title>\r\n",
       "<polygon fill=\"none\" stroke=\"black\" points=\"2715,-989 2575,-989 2575,-921 2715,-921 2715,-989\"/>\r\n",
       "<text text-anchor=\"middle\" x=\"2645\" y=\"-973.8\" font-family=\"Times New Roman,serif\" font-size=\"14.00\">GrLivArea &lt;= 1861.0</text>\r\n",
       "<text text-anchor=\"middle\" x=\"2645\" y=\"-958.8\" font-family=\"Times New Roman,serif\" font-size=\"14.00\">mse = 916080259.497</text>\r\n",
       "<text text-anchor=\"middle\" x=\"2645\" y=\"-943.8\" font-family=\"Times New Roman,serif\" font-size=\"14.00\">samples = 54</text>\r\n",
       "<text text-anchor=\"middle\" x=\"2645\" y=\"-928.8\" font-family=\"Times New Roman,serif\" font-size=\"14.00\">value = 151127.944</text>\r\n",
       "</g>\r\n",
       "<!-- 67&#45;&gt;73 -->\r\n",
       "<g id=\"edge73\" class=\"edge\"><title>67&#45;&gt;73</title>\r\n",
       "<path fill=\"none\" stroke=\"black\" d=\"M2645,-1024.88C2645,-1016.78 2645,-1007.98 2645,-999.472\"/>\r\n",
       "<polygon fill=\"black\" stroke=\"black\" points=\"2648.5,-999.299 2645,-989.299 2641.5,-999.299 2648.5,-999.299\"/>\r\n",
       "</g>\r\n",
       "<!-- 69 -->\r\n",
       "<g id=\"node70\" class=\"node\"><title>69</title>\r\n",
       "<polygon fill=\"none\" stroke=\"black\" points=\"2315,-885 2109,-885 2109,-817 2315,-817 2315,-885\"/>\r\n",
       "<text text-anchor=\"middle\" x=\"2212\" y=\"-869.8\" font-family=\"Times New Roman,serif\" font-size=\"14.00\">FireplaceQu_No Fireplace &lt;= 0.5</text>\r\n",
       "<text text-anchor=\"middle\" x=\"2212\" y=\"-854.8\" font-family=\"Times New Roman,serif\" font-size=\"14.00\">mse = 484198606.782</text>\r\n",
       "<text text-anchor=\"middle\" x=\"2212\" y=\"-839.8\" font-family=\"Times New Roman,serif\" font-size=\"14.00\">samples = 37</text>\r\n",
       "<text text-anchor=\"middle\" x=\"2212\" y=\"-824.8\" font-family=\"Times New Roman,serif\" font-size=\"14.00\">value = 124145.595</text>\r\n",
       "</g>\r\n",
       "<!-- 68&#45;&gt;69 -->\r\n",
       "<g id=\"edge69\" class=\"edge\"><title>68&#45;&gt;69</title>\r\n",
       "<path fill=\"none\" stroke=\"black\" d=\"M2336.26,-920.884C2318.5,-911.035 2298.89,-900.169 2280.61,-890.034\"/>\r\n",
       "<polygon fill=\"black\" stroke=\"black\" points=\"2282.2,-886.912 2271.75,-885.125 2278.8,-893.034 2282.2,-886.912\"/>\r\n",
       "</g>\r\n",
       "<!-- 72 -->\r\n",
       "<g id=\"node73\" class=\"node\"><title>72</title>\r\n",
       "<polygon fill=\"none\" stroke=\"black\" points=\"2459,-877.5 2333,-877.5 2333,-824.5 2459,-824.5 2459,-877.5\"/>\r\n",
       "<text text-anchor=\"middle\" x=\"2396\" y=\"-862.3\" font-family=\"Times New Roman,serif\" font-size=\"14.00\">mse = 362603025.0</text>\r\n",
       "<text text-anchor=\"middle\" x=\"2396\" y=\"-847.3\" font-family=\"Times New Roman,serif\" font-size=\"14.00\">samples = 10</text>\r\n",
       "<text text-anchor=\"middle\" x=\"2396\" y=\"-832.3\" font-family=\"Times New Roman,serif\" font-size=\"14.00\">value = 146815.0</text>\r\n",
       "</g>\r\n",
       "<!-- 68&#45;&gt;72 -->\r\n",
       "<g id=\"edge72\" class=\"edge\"><title>68&#45;&gt;72</title>\r\n",
       "<path fill=\"none\" stroke=\"black\" d=\"M2396,-920.884C2396,-910.326 2396,-898.597 2396,-887.854\"/>\r\n",
       "<polygon fill=\"black\" stroke=\"black\" points=\"2399.5,-887.52 2396,-877.52 2392.5,-887.52 2399.5,-887.52\"/>\r\n",
       "</g>\r\n",
       "<!-- 70 -->\r\n",
       "<g id=\"node71\" class=\"node\"><title>70</title>\r\n",
       "<polygon fill=\"none\" stroke=\"black\" points=\"2133,-773.5 1993,-773.5 1993,-720.5 2133,-720.5 2133,-773.5\"/>\r\n",
       "<text text-anchor=\"middle\" x=\"2063\" y=\"-758.3\" font-family=\"Times New Roman,serif\" font-size=\"14.00\">mse = 504984622.222</text>\r\n",
       "<text text-anchor=\"middle\" x=\"2063\" y=\"-743.3\" font-family=\"Times New Roman,serif\" font-size=\"14.00\">samples = 15</text>\r\n",
       "<text text-anchor=\"middle\" x=\"2063\" y=\"-728.3\" font-family=\"Times New Roman,serif\" font-size=\"14.00\">value = 132906.667</text>\r\n",
       "</g>\r\n",
       "<!-- 69&#45;&gt;70 -->\r\n",
       "<g id=\"edge70\" class=\"edge\"><title>69&#45;&gt;70</title>\r\n",
       "<path fill=\"none\" stroke=\"black\" d=\"M2163.62,-816.884C2145.95,-804.786 2126.03,-791.151 2108.61,-779.224\"/>\r\n",
       "<polygon fill=\"black\" stroke=\"black\" points=\"2110.51,-776.281 2100.28,-773.52 2106.55,-782.057 2110.51,-776.281\"/>\r\n",
       "</g>\r\n",
       "<!-- 71 -->\r\n",
       "<g id=\"node72\" class=\"node\"><title>71</title>\r\n",
       "<polygon fill=\"none\" stroke=\"black\" points=\"2291,-773.5 2151,-773.5 2151,-720.5 2291,-720.5 2291,-773.5\"/>\r\n",
       "<text text-anchor=\"middle\" x=\"2221\" y=\"-758.3\" font-family=\"Times New Roman,serif\" font-size=\"14.00\">mse = 382010222.209</text>\r\n",
       "<text text-anchor=\"middle\" x=\"2221\" y=\"-743.3\" font-family=\"Times New Roman,serif\" font-size=\"14.00\">samples = 22</text>\r\n",
       "<text text-anchor=\"middle\" x=\"2221\" y=\"-728.3\" font-family=\"Times New Roman,serif\" font-size=\"14.00\">value = 118172.136</text>\r\n",
       "</g>\r\n",
       "<!-- 69&#45;&gt;71 -->\r\n",
       "<g id=\"edge71\" class=\"edge\"><title>69&#45;&gt;71</title>\r\n",
       "<path fill=\"none\" stroke=\"black\" d=\"M2214.92,-816.884C2215.86,-806.216 2216.91,-794.352 2217.87,-783.519\"/>\r\n",
       "<polygon fill=\"black\" stroke=\"black\" points=\"2221.36,-783.789 2218.75,-773.52 2214.38,-783.174 2221.36,-783.789\"/>\r\n",
       "</g>\r\n",
       "<!-- 74 -->\r\n",
       "<g id=\"node75\" class=\"node\"><title>74</title>\r\n",
       "<polygon fill=\"none\" stroke=\"black\" points=\"2620.5,-885 2477.5,-885 2477.5,-817 2620.5,-817 2620.5,-885\"/>\r\n",
       "<text text-anchor=\"middle\" x=\"2549\" y=\"-869.8\" font-family=\"Times New Roman,serif\" font-size=\"14.00\">MSZoning_RL &lt;= 0.5</text>\r\n",
       "<text text-anchor=\"middle\" x=\"2549\" y=\"-854.8\" font-family=\"Times New Roman,serif\" font-size=\"14.00\">mse = 442756634.452</text>\r\n",
       "<text text-anchor=\"middle\" x=\"2549\" y=\"-839.8\" font-family=\"Times New Roman,serif\" font-size=\"14.00\">samples = 43</text>\r\n",
       "<text text-anchor=\"middle\" x=\"2549\" y=\"-824.8\" font-family=\"Times New Roman,serif\" font-size=\"14.00\">value = 141860.674</text>\r\n",
       "</g>\r\n",
       "<!-- 73&#45;&gt;74 -->\r\n",
       "<g id=\"edge74\" class=\"edge\"><title>73&#45;&gt;74</title>\r\n",
       "<path fill=\"none\" stroke=\"black\" d=\"M2613.83,-920.884C2605.36,-911.887 2596.1,-902.041 2587.29,-892.678\"/>\r\n",
       "<polygon fill=\"black\" stroke=\"black\" points=\"2589.74,-890.183 2580.34,-885.299 2584.65,-894.98 2589.74,-890.183\"/>\r\n",
       "</g>\r\n",
       "<!-- 79 -->\r\n",
       "<g id=\"node80\" class=\"node\"><title>79</title>\r\n",
       "<polygon fill=\"none\" stroke=\"black\" points=\"2785,-877.5 2639,-877.5 2639,-824.5 2785,-824.5 2785,-877.5\"/>\r\n",
       "<text text-anchor=\"middle\" x=\"2712\" y=\"-862.3\" font-family=\"Times New Roman,serif\" font-size=\"14.00\">mse = 1118257024.793</text>\r\n",
       "<text text-anchor=\"middle\" x=\"2712\" y=\"-847.3\" font-family=\"Times New Roman,serif\" font-size=\"14.00\">samples = 11</text>\r\n",
       "<text text-anchor=\"middle\" x=\"2712\" y=\"-832.3\" font-family=\"Times New Roman,serif\" font-size=\"14.00\">value = 187354.545</text>\r\n",
       "</g>\r\n",
       "<!-- 73&#45;&gt;79 -->\r\n",
       "<g id=\"edge79\" class=\"edge\"><title>73&#45;&gt;79</title>\r\n",
       "<path fill=\"none\" stroke=\"black\" d=\"M2666.75,-920.884C2674.05,-909.776 2682.2,-897.372 2689.55,-886.184\"/>\r\n",
       "<polygon fill=\"black\" stroke=\"black\" points=\"2692.67,-887.8 2695.24,-877.52 2686.82,-883.957 2692.67,-887.8\"/>\r\n",
       "</g>\r\n",
       "<!-- 75 -->\r\n",
       "<g id=\"node76\" class=\"node\"><title>75</title>\r\n",
       "<polygon fill=\"none\" stroke=\"black\" points=\"2449,-773.5 2309,-773.5 2309,-720.5 2449,-720.5 2449,-773.5\"/>\r\n",
       "<text text-anchor=\"middle\" x=\"2379\" y=\"-758.3\" font-family=\"Times New Roman,serif\" font-size=\"14.00\">mse = 315785693.917</text>\r\n",
       "<text text-anchor=\"middle\" x=\"2379\" y=\"-743.3\" font-family=\"Times New Roman,serif\" font-size=\"14.00\">samples = 13</text>\r\n",
       "<text text-anchor=\"middle\" x=\"2379\" y=\"-728.3\" font-family=\"Times New Roman,serif\" font-size=\"14.00\">value = 126994.923</text>\r\n",
       "</g>\r\n",
       "<!-- 74&#45;&gt;75 -->\r\n",
       "<g id=\"edge75\" class=\"edge\"><title>74&#45;&gt;75</title>\r\n",
       "<path fill=\"none\" stroke=\"black\" d=\"M2493.81,-816.884C2473.37,-804.621 2450.3,-790.779 2430.23,-778.737\"/>\r\n",
       "<polygon fill=\"black\" stroke=\"black\" points=\"2431.91,-775.664 2421.53,-773.52 2428.31,-781.666 2431.91,-775.664\"/>\r\n",
       "</g>\r\n",
       "<!-- 76 -->\r\n",
       "<g id=\"node77\" class=\"node\"><title>76</title>\r\n",
       "<polygon fill=\"none\" stroke=\"black\" points=\"2631,-781 2467,-781 2467,-713 2631,-713 2631,-781\"/>\r\n",
       "<text text-anchor=\"middle\" x=\"2549\" y=\"-765.8\" font-family=\"Times New Roman,serif\" font-size=\"14.00\">HouseStyle_1.5Fin &lt;= 0.5</text>\r\n",
       "<text text-anchor=\"middle\" x=\"2549\" y=\"-750.8\" font-family=\"Times New Roman,serif\" font-size=\"14.00\">mse = 360517681.25</text>\r\n",
       "<text text-anchor=\"middle\" x=\"2549\" y=\"-735.8\" font-family=\"Times New Roman,serif\" font-size=\"14.00\">samples = 30</text>\r\n",
       "<text text-anchor=\"middle\" x=\"2549\" y=\"-720.8\" font-family=\"Times New Roman,serif\" font-size=\"14.00\">value = 148302.5</text>\r\n",
       "</g>\r\n",
       "<!-- 74&#45;&gt;76 -->\r\n",
       "<g id=\"edge76\" class=\"edge\"><title>74&#45;&gt;76</title>\r\n",
       "<path fill=\"none\" stroke=\"black\" d=\"M2549,-816.884C2549,-808.778 2549,-799.982 2549,-791.472\"/>\r\n",
       "<polygon fill=\"black\" stroke=\"black\" points=\"2552.5,-791.299 2549,-781.299 2545.5,-791.299 2552.5,-791.299\"/>\r\n",
       "</g>\r\n",
       "<!-- 77 -->\r\n",
       "<g id=\"node78\" class=\"node\"><title>77</title>\r\n",
       "<polygon fill=\"none\" stroke=\"black\" points=\"2540,-669.5 2400,-669.5 2400,-616.5 2540,-616.5 2540,-669.5\"/>\r\n",
       "<text text-anchor=\"middle\" x=\"2470\" y=\"-654.3\" font-family=\"Times New Roman,serif\" font-size=\"14.00\">mse = 368173279.086</text>\r\n",
       "<text text-anchor=\"middle\" x=\"2470\" y=\"-639.3\" font-family=\"Times New Roman,serif\" font-size=\"14.00\">samples = 19</text>\r\n",
       "<text text-anchor=\"middle\" x=\"2470\" y=\"-624.3\" font-family=\"Times New Roman,serif\" font-size=\"14.00\">value = 153806.579</text>\r\n",
       "</g>\r\n",
       "<!-- 76&#45;&gt;77 -->\r\n",
       "<g id=\"edge77\" class=\"edge\"><title>76&#45;&gt;77</title>\r\n",
       "<path fill=\"none\" stroke=\"black\" d=\"M2523.35,-712.884C2514.58,-701.556 2504.76,-688.88 2495.96,-677.521\"/>\r\n",
       "<polygon fill=\"black\" stroke=\"black\" points=\"2498.66,-675.283 2489.77,-669.52 2493.12,-679.569 2498.66,-675.283\"/>\r\n",
       "</g>\r\n",
       "<!-- 78 -->\r\n",
       "<g id=\"node79\" class=\"node\"><title>78</title>\r\n",
       "<polygon fill=\"none\" stroke=\"black\" points=\"2698,-669.5 2558,-669.5 2558,-616.5 2698,-616.5 2698,-669.5\"/>\r\n",
       "<text text-anchor=\"middle\" x=\"2628\" y=\"-654.3\" font-family=\"Times New Roman,serif\" font-size=\"14.00\">mse = 204582933.884</text>\r\n",
       "<text text-anchor=\"middle\" x=\"2628\" y=\"-639.3\" font-family=\"Times New Roman,serif\" font-size=\"14.00\">samples = 11</text>\r\n",
       "<text text-anchor=\"middle\" x=\"2628\" y=\"-624.3\" font-family=\"Times New Roman,serif\" font-size=\"14.00\">value = 138795.455</text>\r\n",
       "</g>\r\n",
       "<!-- 76&#45;&gt;78 -->\r\n",
       "<g id=\"edge78\" class=\"edge\"><title>76&#45;&gt;78</title>\r\n",
       "<path fill=\"none\" stroke=\"black\" d=\"M2574.65,-712.884C2583.42,-701.556 2593.24,-688.88 2602.04,-677.521\"/>\r\n",
       "<polygon fill=\"black\" stroke=\"black\" points=\"2604.88,-679.569 2608.23,-669.52 2599.34,-675.283 2604.88,-679.569\"/>\r\n",
       "</g>\r\n",
       "<!-- 81 -->\r\n",
       "<g id=\"node82\" class=\"node\"><title>81</title>\r\n",
       "<polygon fill=\"none\" stroke=\"black\" points=\"3087,-989 2881,-989 2881,-921 3087,-921 3087,-989\"/>\r\n",
       "<text text-anchor=\"middle\" x=\"2984\" y=\"-973.8\" font-family=\"Times New Roman,serif\" font-size=\"14.00\">FireplaceQu_No Fireplace &lt;= 0.5</text>\r\n",
       "<text text-anchor=\"middle\" x=\"2984\" y=\"-958.8\" font-family=\"Times New Roman,serif\" font-size=\"14.00\">mse = 1052685762.163</text>\r\n",
       "<text text-anchor=\"middle\" x=\"2984\" y=\"-943.8\" font-family=\"Times New Roman,serif\" font-size=\"14.00\">samples = 78</text>\r\n",
       "<text text-anchor=\"middle\" x=\"2984\" y=\"-928.8\" font-family=\"Times New Roman,serif\" font-size=\"14.00\">value = 154787.205</text>\r\n",
       "</g>\r\n",
       "<!-- 80&#45;&gt;81 -->\r\n",
       "<g id=\"edge81\" class=\"edge\"><title>80&#45;&gt;81</title>\r\n",
       "<path fill=\"none\" stroke=\"black\" d=\"M2984,-1024.88C2984,-1016.78 2984,-1007.98 2984,-999.472\"/>\r\n",
       "<polygon fill=\"black\" stroke=\"black\" points=\"2987.5,-999.299 2984,-989.299 2980.5,-999.299 2987.5,-999.299\"/>\r\n",
       "</g>\r\n",
       "<!-- 88 -->\r\n",
       "<g id=\"node89\" class=\"node\"><title>88</title>\r\n",
       "<polygon fill=\"none\" stroke=\"black\" points=\"3484,-989 3344,-989 3344,-921 3484,-921 3484,-989\"/>\r\n",
       "<text text-anchor=\"middle\" x=\"3414\" y=\"-973.8\" font-family=\"Times New Roman,serif\" font-size=\"14.00\">GrLivArea &lt;= 1923.0</text>\r\n",
       "<text text-anchor=\"middle\" x=\"3414\" y=\"-958.8\" font-family=\"Times New Roman,serif\" font-size=\"14.00\">mse = 921465676.318</text>\r\n",
       "<text text-anchor=\"middle\" x=\"3414\" y=\"-943.8\" font-family=\"Times New Roman,serif\" font-size=\"14.00\">samples = 169</text>\r\n",
       "<text text-anchor=\"middle\" x=\"3414\" y=\"-928.8\" font-family=\"Times New Roman,serif\" font-size=\"14.00\">value = 185126.337</text>\r\n",
       "</g>\r\n",
       "<!-- 80&#45;&gt;88 -->\r\n",
       "<g id=\"edge88\" class=\"edge\"><title>80&#45;&gt;88</title>\r\n",
       "<path fill=\"none\" stroke=\"black\" d=\"M3057.43,-1040.58C3134.26,-1022.36 3254.51,-993.832 3333.79,-975.028\"/>\r\n",
       "<polygon fill=\"black\" stroke=\"black\" points=\"3334.8,-978.383 3343.73,-972.67 3333.19,-971.572 3334.8,-978.383\"/>\r\n",
       "</g>\r\n",
       "<!-- 82 -->\r\n",
       "<g id=\"node83\" class=\"node\"><title>82</title>\r\n",
       "<polygon fill=\"none\" stroke=\"black\" points=\"2956.5,-885 2803.5,-885 2803.5,-817 2956.5,-817 2956.5,-885\"/>\r\n",
       "<text text-anchor=\"middle\" x=\"2880\" y=\"-869.8\" font-family=\"Times New Roman,serif\" font-size=\"14.00\">TotalBsmtSF &lt;= 1302.5</text>\r\n",
       "<text text-anchor=\"middle\" x=\"2880\" y=\"-854.8\" font-family=\"Times New Roman,serif\" font-size=\"14.00\">mse = 868880087.798</text>\r\n",
       "<text text-anchor=\"middle\" x=\"2880\" y=\"-839.8\" font-family=\"Times New Roman,serif\" font-size=\"14.00\">samples = 40</text>\r\n",
       "<text text-anchor=\"middle\" x=\"2880\" y=\"-824.8\" font-family=\"Times New Roman,serif\" font-size=\"14.00\">value = 169800.55</text>\r\n",
       "</g>\r\n",
       "<!-- 81&#45;&gt;82 -->\r\n",
       "<g id=\"edge82\" class=\"edge\"><title>81&#45;&gt;82</title>\r\n",
       "<path fill=\"none\" stroke=\"black\" d=\"M2950.23,-920.884C2940.97,-911.798 2930.82,-901.845 2921.19,-892.4\"/>\r\n",
       "<polygon fill=\"black\" stroke=\"black\" points=\"2923.54,-889.803 2913.95,-885.299 2918.64,-894.8 2923.54,-889.803\"/>\r\n",
       "</g>\r\n",
       "<!-- 85 -->\r\n",
       "<g id=\"node86\" class=\"node\"><title>85</title>\r\n",
       "<polygon fill=\"none\" stroke=\"black\" points=\"3175,-885 2975,-885 2975,-817 3175,-817 3175,-885\"/>\r\n",
       "<text text-anchor=\"middle\" x=\"3075\" y=\"-869.8\" font-family=\"Times New Roman,serif\" font-size=\"14.00\">Neighborhood_OldTown &lt;= 0.5</text>\r\n",
       "<text text-anchor=\"middle\" x=\"3075\" y=\"-854.8\" font-family=\"Times New Roman,serif\" font-size=\"14.00\">mse = 759150436.269</text>\r\n",
       "<text text-anchor=\"middle\" x=\"3075\" y=\"-839.8\" font-family=\"Times New Roman,serif\" font-size=\"14.00\">samples = 38</text>\r\n",
       "<text text-anchor=\"middle\" x=\"3075\" y=\"-824.8\" font-family=\"Times New Roman,serif\" font-size=\"14.00\">value = 138983.684</text>\r\n",
       "</g>\r\n",
       "<!-- 81&#45;&gt;85 -->\r\n",
       "<g id=\"edge85\" class=\"edge\"><title>81&#45;&gt;85</title>\r\n",
       "<path fill=\"none\" stroke=\"black\" d=\"M3013.55,-920.884C3021.49,-911.976 3030.18,-902.235 3038.46,-892.957\"/>\r\n",
       "<polygon fill=\"black\" stroke=\"black\" points=\"3041.25,-895.091 3045.29,-885.299 3036.02,-890.431 3041.25,-895.091\"/>\r\n",
       "</g>\r\n",
       "<!-- 83 -->\r\n",
       "<g id=\"node84\" class=\"node\"><title>83</title>\r\n",
       "<polygon fill=\"none\" stroke=\"black\" points=\"2789,-773.5 2649,-773.5 2649,-720.5 2789,-720.5 2789,-773.5\"/>\r\n",
       "<text text-anchor=\"middle\" x=\"2719\" y=\"-758.3\" font-family=\"Times New Roman,serif\" font-size=\"14.00\">mse = 350679955.889</text>\r\n",
       "<text text-anchor=\"middle\" x=\"2719\" y=\"-743.3\" font-family=\"Times New Roman,serif\" font-size=\"14.00\">samples = 24</text>\r\n",
       "<text text-anchor=\"middle\" x=\"2719\" y=\"-728.3\" font-family=\"Times New Roman,serif\" font-size=\"14.00\">value = 157269.667</text>\r\n",
       "</g>\r\n",
       "<!-- 82&#45;&gt;83 -->\r\n",
       "<g id=\"edge83\" class=\"edge\"><title>82&#45;&gt;83</title>\r\n",
       "<path fill=\"none\" stroke=\"black\" d=\"M2827.73,-816.884C2808.46,-804.676 2786.72,-790.903 2767.77,-778.899\"/>\r\n",
       "<polygon fill=\"black\" stroke=\"black\" points=\"2769.6,-775.915 2759.28,-773.52 2765.86,-781.828 2769.6,-775.915\"/>\r\n",
       "</g>\r\n",
       "<!-- 84 -->\r\n",
       "<g id=\"node85\" class=\"node\"><title>84</title>\r\n",
       "<polygon fill=\"none\" stroke=\"black\" points=\"2953,-773.5 2807,-773.5 2807,-720.5 2953,-720.5 2953,-773.5\"/>\r\n",
       "<text text-anchor=\"middle\" x=\"2880\" y=\"-758.3\" font-family=\"Times New Roman,serif\" font-size=\"14.00\">mse = 1057343896.484</text>\r\n",
       "<text text-anchor=\"middle\" x=\"2880\" y=\"-743.3\" font-family=\"Times New Roman,serif\" font-size=\"14.00\">samples = 16</text>\r\n",
       "<text text-anchor=\"middle\" x=\"2880\" y=\"-728.3\" font-family=\"Times New Roman,serif\" font-size=\"14.00\">value = 188596.875</text>\r\n",
       "</g>\r\n",
       "<!-- 82&#45;&gt;84 -->\r\n",
       "<g id=\"edge84\" class=\"edge\"><title>82&#45;&gt;84</title>\r\n",
       "<path fill=\"none\" stroke=\"black\" d=\"M2880,-816.884C2880,-806.326 2880,-794.597 2880,-783.854\"/>\r\n",
       "<polygon fill=\"black\" stroke=\"black\" points=\"2883.5,-783.52 2880,-773.52 2876.5,-783.52 2883.5,-783.52\"/>\r\n",
       "</g>\r\n",
       "<!-- 86 -->\r\n",
       "<g id=\"node87\" class=\"node\"><title>86</title>\r\n",
       "<polygon fill=\"none\" stroke=\"black\" points=\"3111,-773.5 2971,-773.5 2971,-720.5 3111,-720.5 3111,-773.5\"/>\r\n",
       "<text text-anchor=\"middle\" x=\"3041\" y=\"-758.3\" font-family=\"Times New Roman,serif\" font-size=\"14.00\">mse = 637541373.765</text>\r\n",
       "<text text-anchor=\"middle\" x=\"3041\" y=\"-743.3\" font-family=\"Times New Roman,serif\" font-size=\"14.00\">samples = 28</text>\r\n",
       "<text text-anchor=\"middle\" x=\"3041\" y=\"-728.3\" font-family=\"Times New Roman,serif\" font-size=\"14.00\">value = 147052.857</text>\r\n",
       "</g>\r\n",
       "<!-- 85&#45;&gt;86 -->\r\n",
       "<g id=\"edge86\" class=\"edge\"><title>85&#45;&gt;86</title>\r\n",
       "<path fill=\"none\" stroke=\"black\" d=\"M3063.96,-816.884C3060.37,-806.106 3056.37,-794.108 3052.73,-783.184\"/>\r\n",
       "<polygon fill=\"black\" stroke=\"black\" points=\"3055.99,-781.9 3049.51,-773.52 3049.35,-784.114 3055.99,-781.9\"/>\r\n",
       "</g>\r\n",
       "<!-- 87 -->\r\n",
       "<g id=\"node88\" class=\"node\"><title>87</title>\r\n",
       "<polygon fill=\"none\" stroke=\"black\" points=\"3255,-773.5 3129,-773.5 3129,-720.5 3255,-720.5 3255,-773.5\"/>\r\n",
       "<text text-anchor=\"middle\" x=\"3192\" y=\"-758.3\" font-family=\"Times New Roman,serif\" font-size=\"14.00\">mse = 406868900.0</text>\r\n",
       "<text text-anchor=\"middle\" x=\"3192\" y=\"-743.3\" font-family=\"Times New Roman,serif\" font-size=\"14.00\">samples = 10</text>\r\n",
       "<text text-anchor=\"middle\" x=\"3192\" y=\"-728.3\" font-family=\"Times New Roman,serif\" font-size=\"14.00\">value = 116390.0</text>\r\n",
       "</g>\r\n",
       "<!-- 85&#45;&gt;87 -->\r\n",
       "<g id=\"edge87\" class=\"edge\"><title>85&#45;&gt;87</title>\r\n",
       "<path fill=\"none\" stroke=\"black\" d=\"M3112.99,-816.884C3126.48,-805.116 3141.65,-791.894 3155.06,-780.203\"/>\r\n",
       "<polygon fill=\"black\" stroke=\"black\" points=\"3157.49,-782.73 3162.73,-773.52 3152.89,-777.453 3157.49,-782.73\"/>\r\n",
       "</g>\r\n",
       "<!-- 89 -->\r\n",
       "<g id=\"node90\" class=\"node\"><title>89</title>\r\n",
       "<polygon fill=\"none\" stroke=\"black\" points=\"3499,-885 3329,-885 3329,-817 3499,-817 3499,-885\"/>\r\n",
       "<text text-anchor=\"middle\" x=\"3414\" y=\"-869.8\" font-family=\"Times New Roman,serif\" font-size=\"14.00\">YearRemodAdd &lt;= 1983.0</text>\r\n",
       "<text text-anchor=\"middle\" x=\"3414\" y=\"-854.8\" font-family=\"Times New Roman,serif\" font-size=\"14.00\">mse = 512700022.752</text>\r\n",
       "<text text-anchor=\"middle\" x=\"3414\" y=\"-839.8\" font-family=\"Times New Roman,serif\" font-size=\"14.00\">samples = 133</text>\r\n",
       "<text text-anchor=\"middle\" x=\"3414\" y=\"-824.8\" font-family=\"Times New Roman,serif\" font-size=\"14.00\">value = 178180.88</text>\r\n",
       "</g>\r\n",
       "<!-- 88&#45;&gt;89 -->\r\n",
       "<g id=\"edge89\" class=\"edge\"><title>88&#45;&gt;89</title>\r\n",
       "<path fill=\"none\" stroke=\"black\" d=\"M3414,-920.884C3414,-912.778 3414,-903.982 3414,-895.472\"/>\r\n",
       "<polygon fill=\"black\" stroke=\"black\" points=\"3417.5,-895.299 3414,-885.299 3410.5,-895.299 3417.5,-895.299\"/>\r\n",
       "</g>\r\n",
       "<!-- 104 -->\r\n",
       "<g id=\"node105\" class=\"node\"><title>104</title>\r\n",
       "<polygon fill=\"none\" stroke=\"black\" points=\"3735,-885 3589,-885 3589,-817 3735,-817 3735,-885\"/>\r\n",
       "<text text-anchor=\"middle\" x=\"3662\" y=\"-869.8\" font-family=\"Times New Roman,serif\" font-size=\"14.00\">1stFlrSF &lt;= 1488.5</text>\r\n",
       "<text text-anchor=\"middle\" x=\"3662\" y=\"-854.8\" font-family=\"Times New Roman,serif\" font-size=\"14.00\">mse = 1594994521.219</text>\r\n",
       "<text text-anchor=\"middle\" x=\"3662\" y=\"-839.8\" font-family=\"Times New Roman,serif\" font-size=\"14.00\">samples = 36</text>\r\n",
       "<text text-anchor=\"middle\" x=\"3662\" y=\"-824.8\" font-family=\"Times New Roman,serif\" font-size=\"14.00\">value = 210785.944</text>\r\n",
       "</g>\r\n",
       "<!-- 88&#45;&gt;104 -->\r\n",
       "<g id=\"edge104\" class=\"edge\"><title>88&#45;&gt;104</title>\r\n",
       "<path fill=\"none\" stroke=\"black\" d=\"M3484.07,-925.18C3513.67,-913.007 3548.35,-898.741 3579.2,-886.054\"/>\r\n",
       "<polygon fill=\"black\" stroke=\"black\" points=\"3580.73,-889.212 3588.64,-882.171 3578.06,-882.738 3580.73,-889.212\"/>\r\n",
       "</g>\r\n",
       "<!-- 90 -->\r\n",
       "<g id=\"node91\" class=\"node\"><title>90</title>\r\n",
       "<polygon fill=\"none\" stroke=\"black\" points=\"3413,-781 3273,-781 3273,-713 3413,-713 3413,-781\"/>\r\n",
       "<text text-anchor=\"middle\" x=\"3343\" y=\"-765.8\" font-family=\"Times New Roman,serif\" font-size=\"14.00\">LotShape_IR1 &lt;= 0.5</text>\r\n",
       "<text text-anchor=\"middle\" x=\"3343\" y=\"-750.8\" font-family=\"Times New Roman,serif\" font-size=\"14.00\">mse = 498311862.81</text>\r\n",
       "<text text-anchor=\"middle\" x=\"3343\" y=\"-735.8\" font-family=\"Times New Roman,serif\" font-size=\"14.00\">samples = 55</text>\r\n",
       "<text text-anchor=\"middle\" x=\"3343\" y=\"-720.8\" font-family=\"Times New Roman,serif\" font-size=\"14.00\">value = 167849.091</text>\r\n",
       "</g>\r\n",
       "<!-- 89&#45;&gt;90 -->\r\n",
       "<g id=\"edge90\" class=\"edge\"><title>89&#45;&gt;90</title>\r\n",
       "<path fill=\"none\" stroke=\"black\" d=\"M3390.95,-816.884C3384.87,-808.154 3378.24,-798.625 3371.9,-789.514\"/>\r\n",
       "<polygon fill=\"black\" stroke=\"black\" points=\"3374.76,-787.507 3366.18,-781.299 3369.02,-791.506 3374.76,-787.507\"/>\r\n",
       "</g>\r\n",
       "<!-- 95 -->\r\n",
       "<g id=\"node96\" class=\"node\"><title>95</title>\r\n",
       "<polygon fill=\"none\" stroke=\"black\" points=\"3571,-781 3431,-781 3431,-713 3571,-713 3571,-781\"/>\r\n",
       "<text text-anchor=\"middle\" x=\"3501\" y=\"-765.8\" font-family=\"Times New Roman,serif\" font-size=\"14.00\">1stFlrSF &lt;= 1594.0</text>\r\n",
       "<text text-anchor=\"middle\" x=\"3501\" y=\"-750.8\" font-family=\"Times New Roman,serif\" font-size=\"14.00\">mse = 394501344.769</text>\r\n",
       "<text text-anchor=\"middle\" x=\"3501\" y=\"-735.8\" font-family=\"Times New Roman,serif\" font-size=\"14.00\">samples = 78</text>\r\n",
       "<text text-anchor=\"middle\" x=\"3501\" y=\"-720.8\" font-family=\"Times New Roman,serif\" font-size=\"14.00\">value = 185466.115</text>\r\n",
       "</g>\r\n",
       "<!-- 89&#45;&gt;95 -->\r\n",
       "<g id=\"edge95\" class=\"edge\"><title>89&#45;&gt;95</title>\r\n",
       "<path fill=\"none\" stroke=\"black\" d=\"M3442.25,-816.884C3449.84,-807.976 3458.15,-798.235 3466.07,-788.957\"/>\r\n",
       "<polygon fill=\"black\" stroke=\"black\" points=\"3468.77,-791.179 3472.6,-781.299 3463.45,-786.636 3468.77,-791.179\"/>\r\n",
       "</g>\r\n",
       "<!-- 91 -->\r\n",
       "<g id=\"node92\" class=\"node\"><title>91</title>\r\n",
       "<polygon fill=\"none\" stroke=\"black\" points=\"3255,-677 3085,-677 3085,-609 3255,-609 3255,-677\"/>\r\n",
       "<text text-anchor=\"middle\" x=\"3170\" y=\"-661.8\" font-family=\"Times New Roman,serif\" font-size=\"14.00\">MasVnrType_None &lt;= 0.5</text>\r\n",
       "<text text-anchor=\"middle\" x=\"3170\" y=\"-646.8\" font-family=\"Times New Roman,serif\" font-size=\"14.00\">mse = 425106023.875</text>\r\n",
       "<text text-anchor=\"middle\" x=\"3170\" y=\"-631.8\" font-family=\"Times New Roman,serif\" font-size=\"14.00\">samples = 33</text>\r\n",
       "<text text-anchor=\"middle\" x=\"3170\" y=\"-616.8\" font-family=\"Times New Roman,serif\" font-size=\"14.00\">value = 160556.061</text>\r\n",
       "</g>\r\n",
       "<!-- 90&#45;&gt;91 -->\r\n",
       "<g id=\"edge91\" class=\"edge\"><title>90&#45;&gt;91</title>\r\n",
       "<path fill=\"none\" stroke=\"black\" d=\"M3286.83,-712.884C3270.28,-703.125 3252.03,-692.366 3234.98,-682.31\"/>\r\n",
       "<polygon fill=\"black\" stroke=\"black\" points=\"3236.57,-679.189 3226.18,-677.125 3233.02,-685.219 3236.57,-679.189\"/>\r\n",
       "</g>\r\n",
       "<!-- 94 -->\r\n",
       "<g id=\"node95\" class=\"node\"><title>94</title>\r\n",
       "<polygon fill=\"none\" stroke=\"black\" points=\"3413,-669.5 3273,-669.5 3273,-616.5 3413,-616.5 3413,-669.5\"/>\r\n",
       "<text text-anchor=\"middle\" x=\"3343\" y=\"-654.3\" font-family=\"Times New Roman,serif\" font-size=\"14.00\">mse = 408664529.959</text>\r\n",
       "<text text-anchor=\"middle\" x=\"3343\" y=\"-639.3\" font-family=\"Times New Roman,serif\" font-size=\"14.00\">samples = 22</text>\r\n",
       "<text text-anchor=\"middle\" x=\"3343\" y=\"-624.3\" font-family=\"Times New Roman,serif\" font-size=\"14.00\">value = 178788.636</text>\r\n",
       "</g>\r\n",
       "<!-- 90&#45;&gt;94 -->\r\n",
       "<g id=\"edge94\" class=\"edge\"><title>90&#45;&gt;94</title>\r\n",
       "<path fill=\"none\" stroke=\"black\" d=\"M3343,-712.884C3343,-702.326 3343,-690.597 3343,-679.854\"/>\r\n",
       "<polygon fill=\"black\" stroke=\"black\" points=\"3346.5,-679.52 3343,-669.52 3339.5,-679.52 3346.5,-679.52\"/>\r\n",
       "</g>\r\n",
       "<!-- 92 -->\r\n",
       "<g id=\"node93\" class=\"node\"><title>92</title>\r\n",
       "<polygon fill=\"none\" stroke=\"black\" points=\"3121,-565.5 2995,-565.5 2995,-512.5 3121,-512.5 3121,-565.5\"/>\r\n",
       "<text text-anchor=\"middle\" x=\"3058\" y=\"-550.3\" font-family=\"Times New Roman,serif\" font-size=\"14.00\">mse = 450198750.0</text>\r\n",
       "<text text-anchor=\"middle\" x=\"3058\" y=\"-535.3\" font-family=\"Times New Roman,serif\" font-size=\"14.00\">samples = 16</text>\r\n",
       "<text text-anchor=\"middle\" x=\"3058\" y=\"-520.3\" font-family=\"Times New Roman,serif\" font-size=\"14.00\">value = 165800.0</text>\r\n",
       "</g>\r\n",
       "<!-- 91&#45;&gt;92 -->\r\n",
       "<g id=\"edge92\" class=\"edge\"><title>91&#45;&gt;92</title>\r\n",
       "<path fill=\"none\" stroke=\"black\" d=\"M3133.64,-608.884C3120.84,-597.226 3106.47,-584.141 3093.72,-572.532\"/>\r\n",
       "<polygon fill=\"black\" stroke=\"black\" points=\"3095.77,-569.666 3086.02,-565.52 3091.06,-574.841 3095.77,-569.666\"/>\r\n",
       "</g>\r\n",
       "<!-- 93 -->\r\n",
       "<g id=\"node94\" class=\"node\"><title>93</title>\r\n",
       "<polygon fill=\"none\" stroke=\"black\" points=\"3279,-565.5 3139,-565.5 3139,-512.5 3279,-512.5 3279,-565.5\"/>\r\n",
       "<text text-anchor=\"middle\" x=\"3209\" y=\"-550.3\" font-family=\"Times New Roman,serif\" font-size=\"14.00\">mse = 351249134.948</text>\r\n",
       "<text text-anchor=\"middle\" x=\"3209\" y=\"-535.3\" font-family=\"Times New Roman,serif\" font-size=\"14.00\">samples = 17</text>\r\n",
       "<text text-anchor=\"middle\" x=\"3209\" y=\"-520.3\" font-family=\"Times New Roman,serif\" font-size=\"14.00\">value = 155620.588</text>\r\n",
       "</g>\r\n",
       "<!-- 91&#45;&gt;93 -->\r\n",
       "<g id=\"edge93\" class=\"edge\"><title>91&#45;&gt;93</title>\r\n",
       "<path fill=\"none\" stroke=\"black\" d=\"M3182.66,-608.884C3186.78,-598.106 3191.37,-586.108 3195.55,-575.184\"/>\r\n",
       "<polygon fill=\"black\" stroke=\"black\" points=\"3198.94,-576.11 3199.24,-565.52 3192.4,-573.61 3198.94,-576.11\"/>\r\n",
       "</g>\r\n",
       "<!-- 96 -->\r\n",
       "<g id=\"node97\" class=\"node\"><title>96</title>\r\n",
       "<polygon fill=\"none\" stroke=\"black\" points=\"3571,-677 3431,-677 3431,-609 3571,-609 3571,-677\"/>\r\n",
       "<text text-anchor=\"middle\" x=\"3501\" y=\"-661.8\" font-family=\"Times New Roman,serif\" font-size=\"14.00\">GrLivArea &lt;= 1709.5</text>\r\n",
       "<text text-anchor=\"middle\" x=\"3501\" y=\"-646.8\" font-family=\"Times New Roman,serif\" font-size=\"14.00\">mse = 269415086.129</text>\r\n",
       "<text text-anchor=\"middle\" x=\"3501\" y=\"-631.8\" font-family=\"Times New Roman,serif\" font-size=\"14.00\">samples = 67</text>\r\n",
       "<text text-anchor=\"middle\" x=\"3501\" y=\"-616.8\" font-family=\"Times New Roman,serif\" font-size=\"14.00\">value = 181378.463</text>\r\n",
       "</g>\r\n",
       "<!-- 95&#45;&gt;96 -->\r\n",
       "<g id=\"edge96\" class=\"edge\"><title>95&#45;&gt;96</title>\r\n",
       "<path fill=\"none\" stroke=\"black\" d=\"M3501,-712.884C3501,-704.778 3501,-695.982 3501,-687.472\"/>\r\n",
       "<polygon fill=\"black\" stroke=\"black\" points=\"3504.5,-687.299 3501,-677.299 3497.5,-687.299 3504.5,-687.299\"/>\r\n",
       "</g>\r\n",
       "<!-- 103 -->\r\n",
       "<g id=\"node104\" class=\"node\"><title>103</title>\r\n",
       "<polygon fill=\"none\" stroke=\"black\" points=\"3729,-669.5 3589,-669.5 3589,-616.5 3729,-616.5 3729,-669.5\"/>\r\n",
       "<text text-anchor=\"middle\" x=\"3659\" y=\"-654.3\" font-family=\"Times New Roman,serif\" font-size=\"14.00\">mse = 434731404.959</text>\r\n",
       "<text text-anchor=\"middle\" x=\"3659\" y=\"-639.3\" font-family=\"Times New Roman,serif\" font-size=\"14.00\">samples = 11</text>\r\n",
       "<text text-anchor=\"middle\" x=\"3659\" y=\"-624.3\" font-family=\"Times New Roman,serif\" font-size=\"14.00\">value = 210363.636</text>\r\n",
       "</g>\r\n",
       "<!-- 95&#45;&gt;103 -->\r\n",
       "<g id=\"edge103\" class=\"edge\"><title>95&#45;&gt;103</title>\r\n",
       "<path fill=\"none\" stroke=\"black\" d=\"M3552.3,-712.884C3571.12,-700.731 3592.35,-687.027 3610.89,-675.061\"/>\r\n",
       "<polygon fill=\"black\" stroke=\"black\" points=\"3612.97,-677.884 3619.47,-669.52 3609.17,-672.003 3612.97,-677.884\"/>\r\n",
       "</g>\r\n",
       "<!-- 97 -->\r\n",
       "<g id=\"node98\" class=\"node\"><title>97</title>\r\n",
       "<polygon fill=\"none\" stroke=\"black\" points=\"3507,-573 3337,-573 3337,-505 3507,-505 3507,-573\"/>\r\n",
       "<text text-anchor=\"middle\" x=\"3422\" y=\"-557.8\" font-family=\"Times New Roman,serif\" font-size=\"14.00\">YearRemodAdd &lt;= 2004.5</text>\r\n",
       "<text text-anchor=\"middle\" x=\"3422\" y=\"-542.8\" font-family=\"Times New Roman,serif\" font-size=\"14.00\">mse = 206981488.255</text>\r\n",
       "<text text-anchor=\"middle\" x=\"3422\" y=\"-527.8\" font-family=\"Times New Roman,serif\" font-size=\"14.00\">samples = 51</text>\r\n",
       "<text text-anchor=\"middle\" x=\"3422\" y=\"-512.8\" font-family=\"Times New Roman,serif\" font-size=\"14.00\">value = 177472.686</text>\r\n",
       "</g>\r\n",
       "<!-- 96&#45;&gt;97 -->\r\n",
       "<g id=\"edge97\" class=\"edge\"><title>96&#45;&gt;97</title>\r\n",
       "<path fill=\"none\" stroke=\"black\" d=\"M3475.35,-608.884C3468.52,-600.065 3461.06,-590.43 3453.94,-581.235\"/>\r\n",
       "<polygon fill=\"black\" stroke=\"black\" points=\"3456.68,-579.062 3447.79,-573.299 3451.15,-583.349 3456.68,-579.062\"/>\r\n",
       "</g>\r\n",
       "<!-- 102 -->\r\n",
       "<g id=\"node103\" class=\"node\"><title>102</title>\r\n",
       "<polygon fill=\"none\" stroke=\"black\" points=\"3665,-565.5 3525,-565.5 3525,-512.5 3665,-512.5 3665,-565.5\"/>\r\n",
       "<text text-anchor=\"middle\" x=\"3595\" y=\"-550.3\" font-family=\"Times New Roman,serif\" font-size=\"14.00\">mse = 264802490.234</text>\r\n",
       "<text text-anchor=\"middle\" x=\"3595\" y=\"-535.3\" font-family=\"Times New Roman,serif\" font-size=\"14.00\">samples = 16</text>\r\n",
       "<text text-anchor=\"middle\" x=\"3595\" y=\"-520.3\" font-family=\"Times New Roman,serif\" font-size=\"14.00\">value = 193828.125</text>\r\n",
       "</g>\r\n",
       "<!-- 96&#45;&gt;102 -->\r\n",
       "<g id=\"edge102\" class=\"edge\"><title>96&#45;&gt;102</title>\r\n",
       "<path fill=\"none\" stroke=\"black\" d=\"M3531.52,-608.884C3542.06,-597.446 3553.87,-584.634 3564.41,-573.19\"/>\r\n",
       "<polygon fill=\"black\" stroke=\"black\" points=\"3567.28,-575.245 3571.48,-565.52 3562.13,-570.502 3567.28,-575.245\"/>\r\n",
       "</g>\r\n",
       "<!-- 98 -->\r\n",
       "<g id=\"node99\" class=\"node\"><title>98</title>\r\n",
       "<polygon fill=\"none\" stroke=\"black\" points=\"3413,-469 3273,-469 3273,-401 3413,-401 3413,-469\"/>\r\n",
       "<text text-anchor=\"middle\" x=\"3343\" y=\"-453.8\" font-family=\"Times New Roman,serif\" font-size=\"14.00\">GarageArea &lt;= 505.0</text>\r\n",
       "<text text-anchor=\"middle\" x=\"3343\" y=\"-438.8\" font-family=\"Times New Roman,serif\" font-size=\"14.00\">mse = 119676544.321</text>\r\n",
       "<text text-anchor=\"middle\" x=\"3343\" y=\"-423.8\" font-family=\"Times New Roman,serif\" font-size=\"14.00\">samples = 38</text>\r\n",
       "<text text-anchor=\"middle\" x=\"3343\" y=\"-408.8\" font-family=\"Times New Roman,serif\" font-size=\"14.00\">value = 180923.684</text>\r\n",
       "</g>\r\n",
       "<!-- 97&#45;&gt;98 -->\r\n",
       "<g id=\"edge98\" class=\"edge\"><title>97&#45;&gt;98</title>\r\n",
       "<path fill=\"none\" stroke=\"black\" d=\"M3396.35,-504.884C3389.52,-496.065 3382.06,-486.43 3374.94,-477.235\"/>\r\n",
       "<polygon fill=\"black\" stroke=\"black\" points=\"3377.68,-475.062 3368.79,-469.299 3372.15,-479.349 3377.68,-475.062\"/>\r\n",
       "</g>\r\n",
       "<!-- 101 -->\r\n",
       "<g id=\"node102\" class=\"node\"><title>101</title>\r\n",
       "<polygon fill=\"none\" stroke=\"black\" points=\"3571,-461.5 3431,-461.5 3431,-408.5 3571,-408.5 3571,-461.5\"/>\r\n",
       "<text text-anchor=\"middle\" x=\"3501\" y=\"-446.3\" font-family=\"Times New Roman,serif\" font-size=\"14.00\">mse = 325610191.053</text>\r\n",
       "<text text-anchor=\"middle\" x=\"3501\" y=\"-431.3\" font-family=\"Times New Roman,serif\" font-size=\"14.00\">samples = 13</text>\r\n",
       "<text text-anchor=\"middle\" x=\"3501\" y=\"-416.3\" font-family=\"Times New Roman,serif\" font-size=\"14.00\">value = 167385.154</text>\r\n",
       "</g>\r\n",
       "<!-- 97&#45;&gt;101 -->\r\n",
       "<g id=\"edge101\" class=\"edge\"><title>97&#45;&gt;101</title>\r\n",
       "<path fill=\"none\" stroke=\"black\" d=\"M3447.65,-504.884C3456.42,-493.556 3466.24,-480.88 3475.04,-469.521\"/>\r\n",
       "<polygon fill=\"black\" stroke=\"black\" points=\"3477.88,-471.569 3481.23,-461.52 3472.34,-467.283 3477.88,-471.569\"/>\r\n",
       "</g>\r\n",
       "<!-- 99 -->\r\n",
       "<g id=\"node100\" class=\"node\"><title>99</title>\r\n",
       "<polygon fill=\"none\" stroke=\"black\" points=\"3335.5,-357.5 3202.5,-357.5 3202.5,-304.5 3335.5,-304.5 3335.5,-357.5\"/>\r\n",
       "<text text-anchor=\"middle\" x=\"3269\" y=\"-342.3\" font-family=\"Times New Roman,serif\" font-size=\"14.00\">mse = 47998915.816</text>\r\n",
       "<text text-anchor=\"middle\" x=\"3269\" y=\"-327.3\" font-family=\"Times New Roman,serif\" font-size=\"14.00\">samples = 28</text>\r\n",
       "<text text-anchor=\"middle\" x=\"3269\" y=\"-312.3\" font-family=\"Times New Roman,serif\" font-size=\"14.00\">value = 178146.429</text>\r\n",
       "</g>\r\n",
       "<!-- 98&#45;&gt;99 -->\r\n",
       "<g id=\"edge99\" class=\"edge\"><title>98&#45;&gt;99</title>\r\n",
       "<path fill=\"none\" stroke=\"black\" d=\"M3318.97,-400.884C3310.84,-389.666 3301.74,-377.126 3293.56,-365.852\"/>\r\n",
       "<polygon fill=\"black\" stroke=\"black\" points=\"3296.22,-363.559 3287.51,-357.52 3290.55,-367.669 3296.22,-363.559\"/>\r\n",
       "</g>\r\n",
       "<!-- 100 -->\r\n",
       "<g id=\"node101\" class=\"node\"><title>100</title>\r\n",
       "<polygon fill=\"none\" stroke=\"black\" points=\"3480,-357.5 3354,-357.5 3354,-304.5 3480,-304.5 3480,-357.5\"/>\r\n",
       "<text text-anchor=\"middle\" x=\"3417\" y=\"-342.3\" font-family=\"Times New Roman,serif\" font-size=\"14.00\">mse = 238306000.0</text>\r\n",
       "<text text-anchor=\"middle\" x=\"3417\" y=\"-327.3\" font-family=\"Times New Roman,serif\" font-size=\"14.00\">samples = 10</text>\r\n",
       "<text text-anchor=\"middle\" x=\"3417\" y=\"-312.3\" font-family=\"Times New Roman,serif\" font-size=\"14.00\">value = 188700.0</text>\r\n",
       "</g>\r\n",
       "<!-- 98&#45;&gt;100 -->\r\n",
       "<g id=\"edge100\" class=\"edge\"><title>98&#45;&gt;100</title>\r\n",
       "<path fill=\"none\" stroke=\"black\" d=\"M3367.03,-400.884C3375.16,-389.666 3384.26,-377.126 3392.44,-365.852\"/>\r\n",
       "<polygon fill=\"black\" stroke=\"black\" points=\"3395.45,-367.669 3398.49,-357.52 3389.78,-363.559 3395.45,-367.669\"/>\r\n",
       "</g>\r\n",
       "<!-- 105 -->\r\n",
       "<g id=\"node106\" class=\"node\"><title>105</title>\r\n",
       "<polygon fill=\"none\" stroke=\"black\" points=\"3735,-773.5 3589,-773.5 3589,-720.5 3735,-720.5 3735,-773.5\"/>\r\n",
       "<text text-anchor=\"middle\" x=\"3662\" y=\"-758.3\" font-family=\"Times New Roman,serif\" font-size=\"14.00\">mse = 1535249171.598</text>\r\n",
       "<text text-anchor=\"middle\" x=\"3662\" y=\"-743.3\" font-family=\"Times New Roman,serif\" font-size=\"14.00\">samples = 26</text>\r\n",
       "<text text-anchor=\"middle\" x=\"3662\" y=\"-728.3\" font-family=\"Times New Roman,serif\" font-size=\"14.00\">value = 199507.692</text>\r\n",
       "</g>\r\n",
       "<!-- 104&#45;&gt;105 -->\r\n",
       "<g id=\"edge105\" class=\"edge\"><title>104&#45;&gt;105</title>\r\n",
       "<path fill=\"none\" stroke=\"black\" d=\"M3662,-816.884C3662,-806.326 3662,-794.597 3662,-783.854\"/>\r\n",
       "<polygon fill=\"black\" stroke=\"black\" points=\"3665.5,-783.52 3662,-773.52 3658.5,-783.52 3665.5,-783.52\"/>\r\n",
       "</g>\r\n",
       "<!-- 106 -->\r\n",
       "<g id=\"node107\" class=\"node\"><title>106</title>\r\n",
       "<polygon fill=\"none\" stroke=\"black\" points=\"3886.5,-773.5 3753.5,-773.5 3753.5,-720.5 3886.5,-720.5 3886.5,-773.5\"/>\r\n",
       "<text text-anchor=\"middle\" x=\"3820\" y=\"-758.3\" font-family=\"Times New Roman,serif\" font-size=\"14.00\">mse = 559750059.24</text>\r\n",
       "<text text-anchor=\"middle\" x=\"3820\" y=\"-743.3\" font-family=\"Times New Roman,serif\" font-size=\"14.00\">samples = 10</text>\r\n",
       "<text text-anchor=\"middle\" x=\"3820\" y=\"-728.3\" font-family=\"Times New Roman,serif\" font-size=\"14.00\">value = 240109.4</text>\r\n",
       "</g>\r\n",
       "<!-- 104&#45;&gt;106 -->\r\n",
       "<g id=\"edge106\" class=\"edge\"><title>104&#45;&gt;106</title>\r\n",
       "<path fill=\"none\" stroke=\"black\" d=\"M3713.3,-816.884C3732.12,-804.731 3753.35,-791.027 3771.89,-779.061\"/>\r\n",
       "<polygon fill=\"black\" stroke=\"black\" points=\"3773.97,-781.884 3780.47,-773.52 3770.17,-776.003 3773.97,-781.884\"/>\r\n",
       "</g>\r\n",
       "<!-- 108 -->\r\n",
       "<g id=\"node109\" class=\"node\"><title>108</title>\r\n",
       "<polygon fill=\"none\" stroke=\"black\" points=\"4659.5,-1197 4506.5,-1197 4506.5,-1129 4659.5,-1129 4659.5,-1197\"/>\r\n",
       "<text text-anchor=\"middle\" x=\"4583\" y=\"-1181.8\" font-family=\"Times New Roman,serif\" font-size=\"14.00\">TotalBsmtSF &lt;= 1469.0</text>\r\n",
       "<text text-anchor=\"middle\" x=\"4583\" y=\"-1166.8\" font-family=\"Times New Roman,serif\" font-size=\"14.00\">mse = 1243894899.002</text>\r\n",
       "<text text-anchor=\"middle\" x=\"4583\" y=\"-1151.8\" font-family=\"Times New Roman,serif\" font-size=\"14.00\">samples = 239</text>\r\n",
       "<text text-anchor=\"middle\" x=\"4583\" y=\"-1136.8\" font-family=\"Times New Roman,serif\" font-size=\"14.00\">value = 194238.745</text>\r\n",
       "</g>\r\n",
       "<!-- 107&#45;&gt;108 -->\r\n",
       "<g id=\"edge108\" class=\"edge\"><title>107&#45;&gt;108</title>\r\n",
       "<path fill=\"none\" stroke=\"black\" d=\"M4705.91,-1232.88C4688.34,-1223.04 4668.95,-1212.17 4650.86,-1202.03\"/>\r\n",
       "<polygon fill=\"black\" stroke=\"black\" points=\"4652.54,-1198.96 4642.1,-1197.12 4649.12,-1205.07 4652.54,-1198.96\"/>\r\n",
       "</g>\r\n",
       "<!-- 135 -->\r\n",
       "<g id=\"node136\" class=\"node\"><title>135</title>\r\n",
       "<polygon fill=\"none\" stroke=\"black\" points=\"5014.5,-1197 4861.5,-1197 4861.5,-1129 5014.5,-1129 5014.5,-1197\"/>\r\n",
       "<text text-anchor=\"middle\" x=\"4938\" y=\"-1181.8\" font-family=\"Times New Roman,serif\" font-size=\"14.00\">TotalBsmtSF &lt;= 1191.0</text>\r\n",
       "<text text-anchor=\"middle\" x=\"4938\" y=\"-1166.8\" font-family=\"Times New Roman,serif\" font-size=\"14.00\">mse = 1979517700.562</text>\r\n",
       "<text text-anchor=\"middle\" x=\"4938\" y=\"-1151.8\" font-family=\"Times New Roman,serif\" font-size=\"14.00\">samples = 80</text>\r\n",
       "<text text-anchor=\"middle\" x=\"4938\" y=\"-1136.8\" font-family=\"Times New Roman,serif\" font-size=\"14.00\">value = 247980.988</text>\r\n",
       "</g>\r\n",
       "<!-- 107&#45;&gt;135 -->\r\n",
       "<g id=\"edge135\" class=\"edge\"><title>107&#45;&gt;135</title>\r\n",
       "<path fill=\"none\" stroke=\"black\" d=\"M4821.17,-1232.88C4837.72,-1223.12 4855.97,-1212.37 4873.02,-1202.31\"/>\r\n",
       "<polygon fill=\"black\" stroke=\"black\" points=\"4874.98,-1205.22 4881.82,-1197.12 4871.43,-1199.19 4874.98,-1205.22\"/>\r\n",
       "</g>\r\n",
       "<!-- 109 -->\r\n",
       "<g id=\"node110\" class=\"node\"><title>109</title>\r\n",
       "<polygon fill=\"none\" stroke=\"black\" points=\"4369,-1093 4223,-1093 4223,-1025 4369,-1025 4369,-1093\"/>\r\n",
       "<text text-anchor=\"middle\" x=\"4296\" y=\"-1077.8\" font-family=\"Times New Roman,serif\" font-size=\"14.00\">MSZoning_RM &lt;= 0.5</text>\r\n",
       "<text text-anchor=\"middle\" x=\"4296\" y=\"-1062.8\" font-family=\"Times New Roman,serif\" font-size=\"14.00\">mse = 831451877.329</text>\r\n",
       "<text text-anchor=\"middle\" x=\"4296\" y=\"-1047.8\" font-family=\"Times New Roman,serif\" font-size=\"14.00\">samples = 198</text>\r\n",
       "<text text-anchor=\"middle\" x=\"4296\" y=\"-1032.8\" font-family=\"Times New Roman,serif\" font-size=\"14.00\">value = 185459.611</text>\r\n",
       "</g>\r\n",
       "<!-- 108&#45;&gt;109 -->\r\n",
       "<g id=\"edge109\" class=\"edge\"><title>108&#45;&gt;109</title>\r\n",
       "<path fill=\"none\" stroke=\"black\" d=\"M4506.47,-1134.8C4467.11,-1120.81 4419.09,-1103.75 4378.87,-1089.45\"/>\r\n",
       "<polygon fill=\"black\" stroke=\"black\" points=\"4379.95,-1086.12 4369.35,-1086.07 4377.6,-1092.72 4379.95,-1086.12\"/>\r\n",
       "</g>\r\n",
       "<!-- 130 -->\r\n",
       "<g id=\"node131\" class=\"node\"><title>130</title>\r\n",
       "<polygon fill=\"none\" stroke=\"black\" points=\"4653,-1093 4513,-1093 4513,-1025 4653,-1025 4653,-1093\"/>\r\n",
       "<text text-anchor=\"middle\" x=\"4583\" y=\"-1077.8\" font-family=\"Times New Roman,serif\" font-size=\"14.00\">1stFlrSF &lt;= 1684.5</text>\r\n",
       "<text text-anchor=\"middle\" x=\"4583\" y=\"-1062.8\" font-family=\"Times New Roman,serif\" font-size=\"14.00\">mse = 1065997847.81</text>\r\n",
       "<text text-anchor=\"middle\" x=\"4583\" y=\"-1047.8\" font-family=\"Times New Roman,serif\" font-size=\"14.00\">samples = 41</text>\r\n",
       "<text text-anchor=\"middle\" x=\"4583\" y=\"-1032.8\" font-family=\"Times New Roman,serif\" font-size=\"14.00\">value = 236635.537</text>\r\n",
       "</g>\r\n",
       "<!-- 108&#45;&gt;130 -->\r\n",
       "<g id=\"edge130\" class=\"edge\"><title>108&#45;&gt;130</title>\r\n",
       "<path fill=\"none\" stroke=\"black\" d=\"M4583,-1128.88C4583,-1120.78 4583,-1111.98 4583,-1103.47\"/>\r\n",
       "<polygon fill=\"black\" stroke=\"black\" points=\"4586.5,-1103.3 4583,-1093.3 4579.5,-1103.3 4586.5,-1103.3\"/>\r\n",
       "</g>\r\n",
       "<!-- 110 -->\r\n",
       "<g id=\"node111\" class=\"node\"><title>110</title>\r\n",
       "<polygon fill=\"none\" stroke=\"black\" points=\"4208,-989 4068,-989 4068,-921 4208,-921 4208,-989\"/>\r\n",
       "<text text-anchor=\"middle\" x=\"4138\" y=\"-973.8\" font-family=\"Times New Roman,serif\" font-size=\"14.00\">GrLivArea &lt;= 1730.5</text>\r\n",
       "<text text-anchor=\"middle\" x=\"4138\" y=\"-958.8\" font-family=\"Times New Roman,serif\" font-size=\"14.00\">mse = 701860002.417</text>\r\n",
       "<text text-anchor=\"middle\" x=\"4138\" y=\"-943.8\" font-family=\"Times New Roman,serif\" font-size=\"14.00\">samples = 177</text>\r\n",
       "<text text-anchor=\"middle\" x=\"4138\" y=\"-928.8\" font-family=\"Times New Roman,serif\" font-size=\"14.00\">value = 189524.085</text>\r\n",
       "</g>\r\n",
       "<!-- 109&#45;&gt;110 -->\r\n",
       "<g id=\"edge110\" class=\"edge\"><title>109&#45;&gt;110</title>\r\n",
       "<path fill=\"none\" stroke=\"black\" d=\"M4244.7,-1024.88C4229.72,-1015.21 4213.23,-1004.56 4197.77,-994.587\"/>\r\n",
       "<polygon fill=\"black\" stroke=\"black\" points=\"4199.61,-991.608 4189.31,-989.125 4195.81,-997.489 4199.61,-991.608\"/>\r\n",
       "</g>\r\n",
       "<!-- 129 -->\r\n",
       "<g id=\"node130\" class=\"node\"><title>129</title>\r\n",
       "<polygon fill=\"none\" stroke=\"black\" points=\"4366,-981.5 4226,-981.5 4226,-928.5 4366,-928.5 4366,-981.5\"/>\r\n",
       "<text text-anchor=\"middle\" x=\"4296\" y=\"-966.3\" font-family=\"Times New Roman,serif\" font-size=\"14.00\">mse = 610896263.039</text>\r\n",
       "<text text-anchor=\"middle\" x=\"4296\" y=\"-951.3\" font-family=\"Times New Roman,serif\" font-size=\"14.00\">samples = 21</text>\r\n",
       "<text text-anchor=\"middle\" x=\"4296\" y=\"-936.3\" font-family=\"Times New Roman,serif\" font-size=\"14.00\">value = 151201.905</text>\r\n",
       "</g>\r\n",
       "<!-- 109&#45;&gt;129 -->\r\n",
       "<g id=\"edge129\" class=\"edge\"><title>109&#45;&gt;129</title>\r\n",
       "<path fill=\"none\" stroke=\"black\" d=\"M4296,-1024.88C4296,-1014.33 4296,-1002.6 4296,-991.854\"/>\r\n",
       "<polygon fill=\"black\" stroke=\"black\" points=\"4299.5,-991.52 4296,-981.52 4292.5,-991.52 4299.5,-991.52\"/>\r\n",
       "</g>\r\n",
       "<!-- 111 -->\r\n",
       "<g id=\"node112\" class=\"node\"><title>111</title>\r\n",
       "<polygon fill=\"none\" stroke=\"black\" points=\"4211,-885 4065,-885 4065,-817 4211,-817 4211,-885\"/>\r\n",
       "<text text-anchor=\"middle\" x=\"4138\" y=\"-869.8\" font-family=\"Times New Roman,serif\" font-size=\"14.00\">TotalBsmtSF &lt;= 779.5</text>\r\n",
       "<text text-anchor=\"middle\" x=\"4138\" y=\"-854.8\" font-family=\"Times New Roman,serif\" font-size=\"14.00\">mse = 615428411.829</text>\r\n",
       "<text text-anchor=\"middle\" x=\"4138\" y=\"-839.8\" font-family=\"Times New Roman,serif\" font-size=\"14.00\">samples = 141</text>\r\n",
       "<text text-anchor=\"middle\" x=\"4138\" y=\"-824.8\" font-family=\"Times New Roman,serif\" font-size=\"14.00\">value = 183577.305</text>\r\n",
       "</g>\r\n",
       "<!-- 110&#45;&gt;111 -->\r\n",
       "<g id=\"edge111\" class=\"edge\"><title>110&#45;&gt;111</title>\r\n",
       "<path fill=\"none\" stroke=\"black\" d=\"M4138,-920.884C4138,-912.778 4138,-903.982 4138,-895.472\"/>\r\n",
       "<polygon fill=\"black\" stroke=\"black\" points=\"4141.5,-895.299 4138,-885.299 4134.5,-895.299 4141.5,-895.299\"/>\r\n",
       "</g>\r\n",
       "<!-- 126 -->\r\n",
       "<g id=\"node127\" class=\"node\"><title>126</title>\r\n",
       "<polygon fill=\"none\" stroke=\"black\" points=\"4388,-885 4248,-885 4248,-817 4388,-817 4388,-885\"/>\r\n",
       "<text text-anchor=\"middle\" x=\"4318\" y=\"-869.8\" font-family=\"Times New Roman,serif\" font-size=\"14.00\">YearBuilt &lt;= 1999.5</text>\r\n",
       "<text text-anchor=\"middle\" x=\"4318\" y=\"-854.8\" font-family=\"Times New Roman,serif\" font-size=\"14.00\">mse = 359377494.564</text>\r\n",
       "<text text-anchor=\"middle\" x=\"4318\" y=\"-839.8\" font-family=\"Times New Roman,serif\" font-size=\"14.00\">samples = 36</text>\r\n",
       "<text text-anchor=\"middle\" x=\"4318\" y=\"-824.8\" font-family=\"Times New Roman,serif\" font-size=\"14.00\">value = 212815.639</text>\r\n",
       "</g>\r\n",
       "<!-- 110&#45;&gt;126 -->\r\n",
       "<g id=\"edge126\" class=\"edge\"><title>110&#45;&gt;126</title>\r\n",
       "<path fill=\"none\" stroke=\"black\" d=\"M4196.44,-920.884C4213.66,-911.125 4232.65,-900.366 4250.39,-890.31\"/>\r\n",
       "<polygon fill=\"black\" stroke=\"black\" points=\"4252.57,-893.1 4259.54,-885.125 4249.12,-887.01 4252.57,-893.1\"/>\r\n",
       "</g>\r\n",
       "<!-- 112 -->\r\n",
       "<g id=\"node113\" class=\"node\"><title>112</title>\r\n",
       "<polygon fill=\"none\" stroke=\"black\" points=\"4041.5,-781 3904.5,-781 3904.5,-713 4041.5,-713 4041.5,-781\"/>\r\n",
       "<text text-anchor=\"middle\" x=\"3973\" y=\"-765.8\" font-family=\"Times New Roman,serif\" font-size=\"14.00\">GrLivArea &lt;= 1423.0</text>\r\n",
       "<text text-anchor=\"middle\" x=\"3973\" y=\"-750.8\" font-family=\"Times New Roman,serif\" font-size=\"14.00\">mse = 309005605.81</text>\r\n",
       "<text text-anchor=\"middle\" x=\"3973\" y=\"-735.8\" font-family=\"Times New Roman,serif\" font-size=\"14.00\">samples = 40</text>\r\n",
       "<text text-anchor=\"middle\" x=\"3973\" y=\"-720.8\" font-family=\"Times New Roman,serif\" font-size=\"14.00\">value = 168129.8</text>\r\n",
       "</g>\r\n",
       "<!-- 111&#45;&gt;112 -->\r\n",
       "<g id=\"edge112\" class=\"edge\"><title>111&#45;&gt;112</title>\r\n",
       "<path fill=\"none\" stroke=\"black\" d=\"M4084.43,-816.884C4068.79,-807.214 4051.56,-796.563 4035.42,-786.587\"/>\r\n",
       "<polygon fill=\"black\" stroke=\"black\" points=\"4036.93,-783.406 4026.58,-781.125 4033.25,-789.36 4036.93,-783.406\"/>\r\n",
       "</g>\r\n",
       "<!-- 115 -->\r\n",
       "<g id=\"node116\" class=\"node\"><title>115</title>\r\n",
       "<polygon fill=\"none\" stroke=\"black\" points=\"4230,-781 4060,-781 4060,-713 4230,-713 4230,-781\"/>\r\n",
       "<text text-anchor=\"middle\" x=\"4145\" y=\"-765.8\" font-family=\"Times New Roman,serif\" font-size=\"14.00\">YearRemodAdd &lt;= 1978.5</text>\r\n",
       "<text text-anchor=\"middle\" x=\"4145\" y=\"-750.8\" font-family=\"Times New Roman,serif\" font-size=\"14.00\">mse = 604851098.429</text>\r\n",
       "<text text-anchor=\"middle\" x=\"4145\" y=\"-735.8\" font-family=\"Times New Roman,serif\" font-size=\"14.00\">samples = 101</text>\r\n",
       "<text text-anchor=\"middle\" x=\"4145\" y=\"-720.8\" font-family=\"Times New Roman,serif\" font-size=\"14.00\">value = 189695.129</text>\r\n",
       "</g>\r\n",
       "<!-- 111&#45;&gt;115 -->\r\n",
       "<g id=\"edge115\" class=\"edge\"><title>111&#45;&gt;115</title>\r\n",
       "<path fill=\"none\" stroke=\"black\" d=\"M4140.27,-816.884C4140.83,-808.778 4141.43,-799.982 4142.02,-791.472\"/>\r\n",
       "<polygon fill=\"black\" stroke=\"black\" points=\"4145.52,-791.516 4142.71,-781.299 4138.54,-791.036 4145.52,-791.516\"/>\r\n",
       "</g>\r\n",
       "<!-- 113 -->\r\n",
       "<g id=\"node114\" class=\"node\"><title>113</title>\r\n",
       "<polygon fill=\"none\" stroke=\"black\" points=\"3887.5,-669.5 3754.5,-669.5 3754.5,-616.5 3887.5,-616.5 3887.5,-669.5\"/>\r\n",
       "<text text-anchor=\"middle\" x=\"3821\" y=\"-654.3\" font-family=\"Times New Roman,serif\" font-size=\"14.00\">mse = 96314618.122</text>\r\n",
       "<text text-anchor=\"middle\" x=\"3821\" y=\"-639.3\" font-family=\"Times New Roman,serif\" font-size=\"14.00\">samples = 14</text>\r\n",
       "<text text-anchor=\"middle\" x=\"3821\" y=\"-624.3\" font-family=\"Times New Roman,serif\" font-size=\"14.00\">value = 153925.143</text>\r\n",
       "</g>\r\n",
       "<!-- 112&#45;&gt;113 -->\r\n",
       "<g id=\"edge113\" class=\"edge\"><title>112&#45;&gt;113</title>\r\n",
       "<path fill=\"none\" stroke=\"black\" d=\"M3923.65,-712.884C3905.62,-700.786 3885.3,-687.151 3867.53,-675.224\"/>\r\n",
       "<polygon fill=\"black\" stroke=\"black\" points=\"3869.28,-672.186 3859.03,-669.52 3865.38,-677.998 3869.28,-672.186\"/>\r\n",
       "</g>\r\n",
       "<!-- 114 -->\r\n",
       "<g id=\"node115\" class=\"node\"><title>114</title>\r\n",
       "<polygon fill=\"none\" stroke=\"black\" points=\"4046,-669.5 3906,-669.5 3906,-616.5 4046,-616.5 4046,-669.5\"/>\r\n",
       "<text text-anchor=\"middle\" x=\"3976\" y=\"-654.3\" font-family=\"Times New Roman,serif\" font-size=\"14.00\">mse = 256382884.172</text>\r\n",
       "<text text-anchor=\"middle\" x=\"3976\" y=\"-639.3\" font-family=\"Times New Roman,serif\" font-size=\"14.00\">samples = 26</text>\r\n",
       "<text text-anchor=\"middle\" x=\"3976\" y=\"-624.3\" font-family=\"Times New Roman,serif\" font-size=\"14.00\">value = 175778.462</text>\r\n",
       "</g>\r\n",
       "<!-- 112&#45;&gt;114 -->\r\n",
       "<g id=\"edge114\" class=\"edge\"><title>112&#45;&gt;114</title>\r\n",
       "<path fill=\"none\" stroke=\"black\" d=\"M3973.97,-712.884C3974.29,-702.216 3974.64,-690.352 3974.96,-679.519\"/>\r\n",
       "<polygon fill=\"black\" stroke=\"black\" points=\"3978.45,-679.619 3975.25,-669.52 3971.46,-679.413 3978.45,-679.619\"/>\r\n",
       "</g>\r\n",
       "<!-- 116 -->\r\n",
       "<g id=\"node117\" class=\"node\"><title>116</title>\r\n",
       "<polygon fill=\"none\" stroke=\"black\" points=\"4211,-669.5 4071,-669.5 4071,-616.5 4211,-616.5 4211,-669.5\"/>\r\n",
       "<text text-anchor=\"middle\" x=\"4141\" y=\"-654.3\" font-family=\"Times New Roman,serif\" font-size=\"14.00\">mse = 624289256.198</text>\r\n",
       "<text text-anchor=\"middle\" x=\"4141\" y=\"-639.3\" font-family=\"Times New Roman,serif\" font-size=\"14.00\">samples = 11</text>\r\n",
       "<text text-anchor=\"middle\" x=\"4141\" y=\"-624.3\" font-family=\"Times New Roman,serif\" font-size=\"14.00\">value = 153627.273</text>\r\n",
       "</g>\r\n",
       "<!-- 115&#45;&gt;116 -->\r\n",
       "<g id=\"edge116\" class=\"edge\"><title>115&#45;&gt;116</title>\r\n",
       "<path fill=\"none\" stroke=\"black\" d=\"M4143.7,-712.884C4143.28,-702.216 4142.82,-690.352 4142.39,-679.519\"/>\r\n",
       "<polygon fill=\"black\" stroke=\"black\" points=\"4145.89,-679.375 4142,-669.52 4138.9,-679.649 4145.89,-679.375\"/>\r\n",
       "</g>\r\n",
       "<!-- 117 -->\r\n",
       "<g id=\"node118\" class=\"node\"><title>117</title>\r\n",
       "<polygon fill=\"none\" stroke=\"black\" points=\"4369,-677 4229,-677 4229,-609 4369,-609 4369,-677\"/>\r\n",
       "<text text-anchor=\"middle\" x=\"4299\" y=\"-661.8\" font-family=\"Times New Roman,serif\" font-size=\"14.00\">GrLivArea &lt;= 1312.0</text>\r\n",
       "<text text-anchor=\"middle\" x=\"4299\" y=\"-646.8\" font-family=\"Times New Roman,serif\" font-size=\"14.00\">mse = 424044576.488</text>\r\n",
       "<text text-anchor=\"middle\" x=\"4299\" y=\"-631.8\" font-family=\"Times New Roman,serif\" font-size=\"14.00\">samples = 90</text>\r\n",
       "<text text-anchor=\"middle\" x=\"4299\" y=\"-616.8\" font-family=\"Times New Roman,serif\" font-size=\"14.00\">value = 194103.422</text>\r\n",
       "</g>\r\n",
       "<!-- 115&#45;&gt;117 -->\r\n",
       "<g id=\"edge117\" class=\"edge\"><title>115&#45;&gt;117</title>\r\n",
       "<path fill=\"none\" stroke=\"black\" d=\"M4195,-712.884C4209.46,-703.304 4225.38,-692.761 4240.32,-682.864\"/>\r\n",
       "<polygon fill=\"black\" stroke=\"black\" points=\"4242.58,-685.565 4248.99,-677.125 4238.72,-679.729 4242.58,-685.565\"/>\r\n",
       "</g>\r\n",
       "<!-- 118 -->\r\n",
       "<g id=\"node119\" class=\"node\"><title>118</title>\r\n",
       "<polygon fill=\"none\" stroke=\"black\" points=\"4291,-565.5 4151,-565.5 4151,-512.5 4291,-512.5 4291,-565.5\"/>\r\n",
       "<text text-anchor=\"middle\" x=\"4221\" y=\"-550.3\" font-family=\"Times New Roman,serif\" font-size=\"14.00\">mse = 230221632.611</text>\r\n",
       "<text text-anchor=\"middle\" x=\"4221\" y=\"-535.3\" font-family=\"Times New Roman,serif\" font-size=\"14.00\">samples = 26</text>\r\n",
       "<text text-anchor=\"middle\" x=\"4221\" y=\"-520.3\" font-family=\"Times New Roman,serif\" font-size=\"14.00\">value = 182247.654</text>\r\n",
       "</g>\r\n",
       "<!-- 117&#45;&gt;118 -->\r\n",
       "<g id=\"edge118\" class=\"edge\"><title>117&#45;&gt;118</title>\r\n",
       "<path fill=\"none\" stroke=\"black\" d=\"M4273.68,-608.884C4265.01,-597.556 4255.32,-584.88 4246.63,-573.521\"/>\r\n",
       "<polygon fill=\"black\" stroke=\"black\" points=\"4249.37,-571.337 4240.52,-565.52 4243.81,-575.59 4249.37,-571.337\"/>\r\n",
       "</g>\r\n",
       "<!-- 119 -->\r\n",
       "<g id=\"node120\" class=\"node\"><title>119</title>\r\n",
       "<polygon fill=\"none\" stroke=\"black\" points=\"4442.5,-573 4309.5,-573 4309.5,-505 4442.5,-505 4442.5,-573\"/>\r\n",
       "<text text-anchor=\"middle\" x=\"4376\" y=\"-557.8\" font-family=\"Times New Roman,serif\" font-size=\"14.00\">YearBuilt &lt;= 2005.5</text>\r\n",
       "<text text-anchor=\"middle\" x=\"4376\" y=\"-542.8\" font-family=\"Times New Roman,serif\" font-size=\"14.00\">mse = 422485188.83</text>\r\n",
       "<text text-anchor=\"middle\" x=\"4376\" y=\"-527.8\" font-family=\"Times New Roman,serif\" font-size=\"14.00\">samples = 64</text>\r\n",
       "<text text-anchor=\"middle\" x=\"4376\" y=\"-512.8\" font-family=\"Times New Roman,serif\" font-size=\"14.00\">value = 198919.828</text>\r\n",
       "</g>\r\n",
       "<!-- 117&#45;&gt;119 -->\r\n",
       "<g id=\"edge119\" class=\"edge\"><title>117&#45;&gt;119</title>\r\n",
       "<path fill=\"none\" stroke=\"black\" d=\"M4324,-608.884C4330.59,-600.154 4337.78,-590.625 4344.66,-581.514\"/>\r\n",
       "<polygon fill=\"black\" stroke=\"black\" points=\"4347.63,-583.389 4350.86,-573.299 4342.04,-579.172 4347.63,-583.389\"/>\r\n",
       "</g>\r\n",
       "<!-- 120 -->\r\n",
       "<g id=\"node121\" class=\"node\"><title>120</title>\r\n",
       "<polygon fill=\"none\" stroke=\"black\" points=\"4367,-469 4227,-469 4227,-401 4367,-401 4367,-469\"/>\r\n",
       "<text text-anchor=\"middle\" x=\"4297\" y=\"-453.8\" font-family=\"Times New Roman,serif\" font-size=\"14.00\">GarageArea &lt;= 543.5</text>\r\n",
       "<text text-anchor=\"middle\" x=\"4297\" y=\"-438.8\" font-family=\"Times New Roman,serif\" font-size=\"14.00\">mse = 301854940.788</text>\r\n",
       "<text text-anchor=\"middle\" x=\"4297\" y=\"-423.8\" font-family=\"Times New Roman,serif\" font-size=\"14.00\">samples = 48</text>\r\n",
       "<text text-anchor=\"middle\" x=\"4297\" y=\"-408.8\" font-family=\"Times New Roman,serif\" font-size=\"14.00\">value = 194933.438</text>\r\n",
       "</g>\r\n",
       "<!-- 119&#45;&gt;120 -->\r\n",
       "<g id=\"edge120\" class=\"edge\"><title>119&#45;&gt;120</title>\r\n",
       "<path fill=\"none\" stroke=\"black\" d=\"M4350.35,-504.884C4343.52,-496.065 4336.06,-486.43 4328.94,-477.235\"/>\r\n",
       "<polygon fill=\"black\" stroke=\"black\" points=\"4331.68,-475.062 4322.79,-469.299 4326.15,-479.349 4331.68,-475.062\"/>\r\n",
       "</g>\r\n",
       "<!-- 125 -->\r\n",
       "<g id=\"node126\" class=\"node\"><title>125</title>\r\n",
       "<polygon fill=\"none\" stroke=\"black\" points=\"4525,-461.5 4385,-461.5 4385,-408.5 4525,-408.5 4525,-461.5\"/>\r\n",
       "<text text-anchor=\"middle\" x=\"4455\" y=\"-446.3\" font-family=\"Times New Roman,serif\" font-size=\"14.00\">mse = 593680210.375</text>\r\n",
       "<text text-anchor=\"middle\" x=\"4455\" y=\"-431.3\" font-family=\"Times New Roman,serif\" font-size=\"14.00\">samples = 16</text>\r\n",
       "<text text-anchor=\"middle\" x=\"4455\" y=\"-416.3\" font-family=\"Times New Roman,serif\" font-size=\"14.00\">value = 210879.0</text>\r\n",
       "</g>\r\n",
       "<!-- 119&#45;&gt;125 -->\r\n",
       "<g id=\"edge125\" class=\"edge\"><title>119&#45;&gt;125</title>\r\n",
       "<path fill=\"none\" stroke=\"black\" d=\"M4401.65,-504.884C4410.42,-493.556 4420.24,-480.88 4429.04,-469.521\"/>\r\n",
       "<polygon fill=\"black\" stroke=\"black\" points=\"4431.88,-471.569 4435.23,-461.52 4426.34,-467.283 4431.88,-471.569\"/>\r\n",
       "</g>\r\n",
       "<!-- 121 -->\r\n",
       "<g id=\"node122\" class=\"node\"><title>121</title>\r\n",
       "<polygon fill=\"none\" stroke=\"black\" points=\"4299,-365 4129,-365 4129,-297 4299,-297 4299,-365\"/>\r\n",
       "<text text-anchor=\"middle\" x=\"4214\" y=\"-349.8\" font-family=\"Times New Roman,serif\" font-size=\"14.00\">YearRemodAdd &lt;= 2003.5</text>\r\n",
       "<text text-anchor=\"middle\" x=\"4214\" y=\"-334.8\" font-family=\"Times New Roman,serif\" font-size=\"14.00\">mse = 219781439.118</text>\r\n",
       "<text text-anchor=\"middle\" x=\"4214\" y=\"-319.8\" font-family=\"Times New Roman,serif\" font-size=\"14.00\">samples = 33</text>\r\n",
       "<text text-anchor=\"middle\" x=\"4214\" y=\"-304.8\" font-family=\"Times New Roman,serif\" font-size=\"14.00\">value = 192203.182</text>\r\n",
       "</g>\r\n",
       "<!-- 120&#45;&gt;121 -->\r\n",
       "<g id=\"edge121\" class=\"edge\"><title>120&#45;&gt;121</title>\r\n",
       "<path fill=\"none\" stroke=\"black\" d=\"M4270.05,-400.884C4262.88,-392.065 4255.04,-382.43 4247.55,-373.235\"/>\r\n",
       "<polygon fill=\"black\" stroke=\"black\" points=\"4250.12,-370.847 4241.1,-365.299 4244.69,-375.265 4250.12,-370.847\"/>\r\n",
       "</g>\r\n",
       "<!-- 124 -->\r\n",
       "<g id=\"node125\" class=\"node\"><title>124</title>\r\n",
       "<polygon fill=\"none\" stroke=\"black\" points=\"4443,-357.5 4317,-357.5 4317,-304.5 4443,-304.5 4443,-357.5\"/>\r\n",
       "<text text-anchor=\"middle\" x=\"4380\" y=\"-342.3\" font-family=\"Times New Roman,serif\" font-size=\"14.00\">mse = 429938400.0</text>\r\n",
       "<text text-anchor=\"middle\" x=\"4380\" y=\"-327.3\" font-family=\"Times New Roman,serif\" font-size=\"14.00\">samples = 15</text>\r\n",
       "<text text-anchor=\"middle\" x=\"4380\" y=\"-312.3\" font-family=\"Times New Roman,serif\" font-size=\"14.00\">value = 200940.0</text>\r\n",
       "</g>\r\n",
       "<!-- 120&#45;&gt;124 -->\r\n",
       "<g id=\"edge124\" class=\"edge\"><title>120&#45;&gt;124</title>\r\n",
       "<path fill=\"none\" stroke=\"black\" d=\"M4323.95,-400.884C4333.17,-389.556 4343.48,-376.88 4352.72,-365.521\"/>\r\n",
       "<polygon fill=\"black\" stroke=\"black\" points=\"4355.64,-367.486 4359.23,-357.52 4350.21,-363.067 4355.64,-367.486\"/>\r\n",
       "</g>\r\n",
       "<!-- 122 -->\r\n",
       "<g id=\"node123\" class=\"node\"><title>122</title>\r\n",
       "<polygon fill=\"none\" stroke=\"black\" points=\"4202.5,-253.5 4069.5,-253.5 4069.5,-200.5 4202.5,-200.5 4202.5,-253.5\"/>\r\n",
       "<text text-anchor=\"middle\" x=\"4136\" y=\"-238.3\" font-family=\"Times New Roman,serif\" font-size=\"14.00\">mse = 55394307.479</text>\r\n",
       "<text text-anchor=\"middle\" x=\"4136\" y=\"-223.3\" font-family=\"Times New Roman,serif\" font-size=\"14.00\">samples = 19</text>\r\n",
       "<text text-anchor=\"middle\" x=\"4136\" y=\"-208.3\" font-family=\"Times New Roman,serif\" font-size=\"14.00\">value = 186273.684</text>\r\n",
       "</g>\r\n",
       "<!-- 121&#45;&gt;122 -->\r\n",
       "<g id=\"edge122\" class=\"edge\"><title>121&#45;&gt;122</title>\r\n",
       "<path fill=\"none\" stroke=\"black\" d=\"M4188.68,-296.884C4180.01,-285.556 4170.32,-272.88 4161.63,-261.521\"/>\r\n",
       "<polygon fill=\"black\" stroke=\"black\" points=\"4164.37,-259.337 4155.52,-253.52 4158.81,-263.59 4164.37,-259.337\"/>\r\n",
       "</g>\r\n",
       "<!-- 123 -->\r\n",
       "<g id=\"node124\" class=\"node\"><title>123</title>\r\n",
       "<polygon fill=\"none\" stroke=\"black\" points=\"4361,-253.5 4221,-253.5 4221,-200.5 4361,-200.5 4361,-253.5\"/>\r\n",
       "<text text-anchor=\"middle\" x=\"4291\" y=\"-238.3\" font-family=\"Times New Roman,serif\" font-size=\"14.00\">mse = 330405523.087</text>\r\n",
       "<text text-anchor=\"middle\" x=\"4291\" y=\"-223.3\" font-family=\"Times New Roman,serif\" font-size=\"14.00\">samples = 14</text>\r\n",
       "<text text-anchor=\"middle\" x=\"4291\" y=\"-208.3\" font-family=\"Times New Roman,serif\" font-size=\"14.00\">value = 200250.357</text>\r\n",
       "</g>\r\n",
       "<!-- 121&#45;&gt;123 -->\r\n",
       "<g id=\"edge123\" class=\"edge\"><title>121&#45;&gt;123</title>\r\n",
       "<path fill=\"none\" stroke=\"black\" d=\"M4239,-296.884C4247.55,-285.556 4257.12,-272.88 4265.7,-261.521\"/>\r\n",
       "<polygon fill=\"black\" stroke=\"black\" points=\"4268.5,-263.61 4271.73,-253.52 4262.92,-259.392 4268.5,-263.61\"/>\r\n",
       "</g>\r\n",
       "<!-- 127 -->\r\n",
       "<g id=\"node128\" class=\"node\"><title>127</title>\r\n",
       "<polygon fill=\"none\" stroke=\"black\" points=\"4388,-773.5 4248,-773.5 4248,-720.5 4388,-720.5 4388,-773.5\"/>\r\n",
       "<text text-anchor=\"middle\" x=\"4318\" y=\"-758.3\" font-family=\"Times New Roman,serif\" font-size=\"14.00\">mse = 344034969.136</text>\r\n",
       "<text text-anchor=\"middle\" x=\"4318\" y=\"-743.3\" font-family=\"Times New Roman,serif\" font-size=\"14.00\">samples = 18</text>\r\n",
       "<text text-anchor=\"middle\" x=\"4318\" y=\"-728.3\" font-family=\"Times New Roman,serif\" font-size=\"14.00\">value = 203505.556</text>\r\n",
       "</g>\r\n",
       "<!-- 126&#45;&gt;127 -->\r\n",
       "<g id=\"edge127\" class=\"edge\"><title>126&#45;&gt;127</title>\r\n",
       "<path fill=\"none\" stroke=\"black\" d=\"M4318,-816.884C4318,-806.326 4318,-794.597 4318,-783.854\"/>\r\n",
       "<polygon fill=\"black\" stroke=\"black\" points=\"4321.5,-783.52 4318,-773.52 4314.5,-783.52 4321.5,-783.52\"/>\r\n",
       "</g>\r\n",
       "<!-- 128 -->\r\n",
       "<g id=\"node129\" class=\"node\"><title>128</title>\r\n",
       "<polygon fill=\"none\" stroke=\"black\" points=\"4546,-773.5 4406,-773.5 4406,-720.5 4546,-720.5 4546,-773.5\"/>\r\n",
       "<text text-anchor=\"middle\" x=\"4476\" y=\"-758.3\" font-family=\"Times New Roman,serif\" font-size=\"14.00\">mse = 201364716.645</text>\r\n",
       "<text text-anchor=\"middle\" x=\"4476\" y=\"-743.3\" font-family=\"Times New Roman,serif\" font-size=\"14.00\">samples = 18</text>\r\n",
       "<text text-anchor=\"middle\" x=\"4476\" y=\"-728.3\" font-family=\"Times New Roman,serif\" font-size=\"14.00\">value = 222125.722</text>\r\n",
       "</g>\r\n",
       "<!-- 126&#45;&gt;128 -->\r\n",
       "<g id=\"edge128\" class=\"edge\"><title>126&#45;&gt;128</title>\r\n",
       "<path fill=\"none\" stroke=\"black\" d=\"M4369.3,-816.884C4388.12,-804.731 4409.35,-791.027 4427.89,-779.061\"/>\r\n",
       "<polygon fill=\"black\" stroke=\"black\" points=\"4429.97,-781.884 4436.47,-773.52 4426.17,-776.003 4429.97,-781.884\"/>\r\n",
       "</g>\r\n",
       "<!-- 131 -->\r\n",
       "<g id=\"node132\" class=\"node\"><title>131</title>\r\n",
       "<polygon fill=\"none\" stroke=\"black\" points=\"4590,-989 4384,-989 4384,-921 4590,-921 4590,-989\"/>\r\n",
       "<text text-anchor=\"middle\" x=\"4487\" y=\"-973.8\" font-family=\"Times New Roman,serif\" font-size=\"14.00\">FireplaceQu_No Fireplace &lt;= 0.5</text>\r\n",
       "<text text-anchor=\"middle\" x=\"4487\" y=\"-958.8\" font-family=\"Times New Roman,serif\" font-size=\"14.00\">mse = 515579280.957</text>\r\n",
       "<text text-anchor=\"middle\" x=\"4487\" y=\"-943.8\" font-family=\"Times New Roman,serif\" font-size=\"14.00\">samples = 31</text>\r\n",
       "<text text-anchor=\"middle\" x=\"4487\" y=\"-928.8\" font-family=\"Times New Roman,serif\" font-size=\"14.00\">value = 225713.548</text>\r\n",
       "</g>\r\n",
       "<!-- 130&#45;&gt;131 -->\r\n",
       "<g id=\"edge131\" class=\"edge\"><title>130&#45;&gt;131</title>\r\n",
       "<path fill=\"none\" stroke=\"black\" d=\"M4551.83,-1024.88C4543.36,-1015.89 4534.1,-1006.04 4525.29,-996.678\"/>\r\n",
       "<polygon fill=\"black\" stroke=\"black\" points=\"4527.74,-994.183 4518.34,-989.299 4522.65,-998.98 4527.74,-994.183\"/>\r\n",
       "</g>\r\n",
       "<!-- 134 -->\r\n",
       "<g id=\"node135\" class=\"node\"><title>134</title>\r\n",
       "<polygon fill=\"none\" stroke=\"black\" points=\"4748,-981.5 4608,-981.5 4608,-928.5 4748,-928.5 4748,-981.5\"/>\r\n",
       "<text text-anchor=\"middle\" x=\"4678\" y=\"-966.3\" font-family=\"Times New Roman,serif\" font-size=\"14.00\">mse = 1256121714.01</text>\r\n",
       "<text text-anchor=\"middle\" x=\"4678\" y=\"-951.3\" font-family=\"Times New Roman,serif\" font-size=\"14.00\">samples = 10</text>\r\n",
       "<text text-anchor=\"middle\" x=\"4678\" y=\"-936.3\" font-family=\"Times New Roman,serif\" font-size=\"14.00\">value = 270493.7</text>\r\n",
       "</g>\r\n",
       "<!-- 130&#45;&gt;134 -->\r\n",
       "<g id=\"edge134\" class=\"edge\"><title>130&#45;&gt;134</title>\r\n",
       "<path fill=\"none\" stroke=\"black\" d=\"M4613.84,-1024.88C4624.6,-1013.34 4636.66,-1000.39 4647.39,-988.86\"/>\r\n",
       "<polygon fill=\"black\" stroke=\"black\" points=\"4649.98,-991.223 4654.23,-981.52 4644.85,-986.452 4649.98,-991.223\"/>\r\n",
       "</g>\r\n",
       "<!-- 132 -->\r\n",
       "<g id=\"node133\" class=\"node\"><title>132</title>\r\n",
       "<polygon fill=\"none\" stroke=\"black\" points=\"4538,-877.5 4412,-877.5 4412,-824.5 4538,-824.5 4538,-877.5\"/>\r\n",
       "<text text-anchor=\"middle\" x=\"4475\" y=\"-862.3\" font-family=\"Times New Roman,serif\" font-size=\"14.00\">mse = 728485000.0</text>\r\n",
       "<text text-anchor=\"middle\" x=\"4475\" y=\"-847.3\" font-family=\"Times New Roman,serif\" font-size=\"14.00\">samples = 15</text>\r\n",
       "<text text-anchor=\"middle\" x=\"4475\" y=\"-832.3\" font-family=\"Times New Roman,serif\" font-size=\"14.00\">value = 235050.0</text>\r\n",
       "</g>\r\n",
       "<!-- 131&#45;&gt;132 -->\r\n",
       "<g id=\"edge132\" class=\"edge\"><title>131&#45;&gt;132</title>\r\n",
       "<path fill=\"none\" stroke=\"black\" d=\"M4483.1,-920.884C4481.85,-910.216 4480.45,-898.352 4479.18,-887.519\"/>\r\n",
       "<polygon fill=\"black\" stroke=\"black\" points=\"4482.65,-887.042 4478,-877.52 4475.69,-887.86 4482.65,-887.042\"/>\r\n",
       "</g>\r\n",
       "<!-- 133 -->\r\n",
       "<g id=\"node134\" class=\"node\"><title>133</title>\r\n",
       "<polygon fill=\"none\" stroke=\"black\" points=\"4696,-877.5 4556,-877.5 4556,-824.5 4696,-824.5 4696,-877.5\"/>\r\n",
       "<text text-anchor=\"middle\" x=\"4626\" y=\"-862.3\" font-family=\"Times New Roman,serif\" font-size=\"14.00\">mse = 157645255.859</text>\r\n",
       "<text text-anchor=\"middle\" x=\"4626\" y=\"-847.3\" font-family=\"Times New Roman,serif\" font-size=\"14.00\">samples = 16</text>\r\n",
       "<text text-anchor=\"middle\" x=\"4626\" y=\"-832.3\" font-family=\"Times New Roman,serif\" font-size=\"14.00\">value = 216960.625</text>\r\n",
       "</g>\r\n",
       "<!-- 131&#45;&gt;133 -->\r\n",
       "<g id=\"edge133\" class=\"edge\"><title>131&#45;&gt;133</title>\r\n",
       "<path fill=\"none\" stroke=\"black\" d=\"M4532.13,-920.884C4548.47,-908.896 4566.86,-895.399 4583.01,-883.549\"/>\r\n",
       "<polygon fill=\"black\" stroke=\"black\" points=\"4585.23,-886.258 4591.22,-877.52 4581.09,-880.614 4585.23,-886.258\"/>\r\n",
       "</g>\r\n",
       "<!-- 136 -->\r\n",
       "<g id=\"node137\" class=\"node\"><title>136</title>\r\n",
       "<polygon fill=\"none\" stroke=\"black\" points=\"5008,-1093 4868,-1093 4868,-1025 5008,-1025 5008,-1093\"/>\r\n",
       "<text text-anchor=\"middle\" x=\"4938\" y=\"-1077.8\" font-family=\"Times New Roman,serif\" font-size=\"14.00\">ExterQual_TA &lt;= 0.5</text>\r\n",
       "<text text-anchor=\"middle\" x=\"4938\" y=\"-1062.8\" font-family=\"Times New Roman,serif\" font-size=\"14.00\">mse = 990761769.388</text>\r\n",
       "<text text-anchor=\"middle\" x=\"4938\" y=\"-1047.8\" font-family=\"Times New Roman,serif\" font-size=\"14.00\">samples = 49</text>\r\n",
       "<text text-anchor=\"middle\" x=\"4938\" y=\"-1032.8\" font-family=\"Times New Roman,serif\" font-size=\"14.00\">value = 232135.0</text>\r\n",
       "</g>\r\n",
       "<!-- 135&#45;&gt;136 -->\r\n",
       "<g id=\"edge136\" class=\"edge\"><title>135&#45;&gt;136</title>\r\n",
       "<path fill=\"none\" stroke=\"black\" d=\"M4938,-1128.88C4938,-1120.78 4938,-1111.98 4938,-1103.47\"/>\r\n",
       "<polygon fill=\"black\" stroke=\"black\" points=\"4941.5,-1103.3 4938,-1093.3 4934.5,-1103.3 4941.5,-1103.3\"/>\r\n",
       "</g>\r\n",
       "<!-- 141 -->\r\n",
       "<g id=\"node142\" class=\"node\"><title>141</title>\r\n",
       "<polygon fill=\"none\" stroke=\"black\" points=\"5255,-1093 5115,-1093 5115,-1025 5255,-1025 5255,-1093\"/>\r\n",
       "<text text-anchor=\"middle\" x=\"5185\" y=\"-1077.8\" font-family=\"Times New Roman,serif\" font-size=\"14.00\">GrLivArea &lt;= 2371.0</text>\r\n",
       "<text text-anchor=\"middle\" x=\"5185\" y=\"-1062.8\" font-family=\"Times New Roman,serif\" font-size=\"14.00\">mse = 2518151005.08</text>\r\n",
       "<text text-anchor=\"middle\" x=\"5185\" y=\"-1047.8\" font-family=\"Times New Roman,serif\" font-size=\"14.00\">samples = 31</text>\r\n",
       "<text text-anchor=\"middle\" x=\"5185\" y=\"-1032.8\" font-family=\"Times New Roman,serif\" font-size=\"14.00\">value = 273027.871</text>\r\n",
       "</g>\r\n",
       "<!-- 135&#45;&gt;141 -->\r\n",
       "<g id=\"edge141\" class=\"edge\"><title>135&#45;&gt;141</title>\r\n",
       "<path fill=\"none\" stroke=\"black\" d=\"M5014.8,-1130.29C5043.68,-1118.36 5076.55,-1104.78 5105.66,-1092.76\"/>\r\n",
       "<polygon fill=\"black\" stroke=\"black\" points=\"5107.06,-1095.97 5114.97,-1088.92 5104.39,-1089.5 5107.06,-1095.97\"/>\r\n",
       "</g>\r\n",
       "<!-- 137 -->\r\n",
       "<g id=\"node138\" class=\"node\"><title>137</title>\r\n",
       "<polygon fill=\"none\" stroke=\"black\" points=\"4936,-989 4766,-989 4766,-921 4936,-921 4936,-989\"/>\r\n",
       "<text text-anchor=\"middle\" x=\"4851\" y=\"-973.8\" font-family=\"Times New Roman,serif\" font-size=\"14.00\">YearRemodAdd &lt;= 2003.0</text>\r\n",
       "<text text-anchor=\"middle\" x=\"4851\" y=\"-958.8\" font-family=\"Times New Roman,serif\" font-size=\"14.00\">mse = 680283065.405</text>\r\n",
       "<text text-anchor=\"middle\" x=\"4851\" y=\"-943.8\" font-family=\"Times New Roman,serif\" font-size=\"14.00\">samples = 32</text>\r\n",
       "<text text-anchor=\"middle\" x=\"4851\" y=\"-928.8\" font-family=\"Times New Roman,serif\" font-size=\"14.00\">value = 243887.969</text>\r\n",
       "</g>\r\n",
       "<!-- 136&#45;&gt;137 -->\r\n",
       "<g id=\"edge137\" class=\"edge\"><title>136&#45;&gt;137</title>\r\n",
       "<path fill=\"none\" stroke=\"black\" d=\"M4909.75,-1024.88C4902.16,-1015.98 4893.85,-1006.24 4885.93,-996.957\"/>\r\n",
       "<polygon fill=\"black\" stroke=\"black\" points=\"4888.55,-994.636 4879.4,-989.299 4883.23,-999.179 4888.55,-994.636\"/>\r\n",
       "</g>\r\n",
       "<!-- 140 -->\r\n",
       "<g id=\"node141\" class=\"node\"><title>140</title>\r\n",
       "<polygon fill=\"none\" stroke=\"black\" points=\"5094,-981.5 4954,-981.5 4954,-928.5 5094,-928.5 5094,-981.5\"/>\r\n",
       "<text text-anchor=\"middle\" x=\"5024\" y=\"-966.3\" font-family=\"Times New Roman,serif\" font-size=\"14.00\">mse = 825741038.062</text>\r\n",
       "<text text-anchor=\"middle\" x=\"5024\" y=\"-951.3\" font-family=\"Times New Roman,serif\" font-size=\"14.00\">samples = 17</text>\r\n",
       "<text text-anchor=\"middle\" x=\"5024\" y=\"-936.3\" font-family=\"Times New Roman,serif\" font-size=\"14.00\">value = 210011.765</text>\r\n",
       "</g>\r\n",
       "<!-- 136&#45;&gt;140 -->\r\n",
       "<g id=\"edge140\" class=\"edge\"><title>136&#45;&gt;140</title>\r\n",
       "<path fill=\"none\" stroke=\"black\" d=\"M4965.92,-1024.88C4975.57,-1013.45 4986.37,-1000.63 4996.02,-989.19\"/>\r\n",
       "<polygon fill=\"black\" stroke=\"black\" points=\"4998.71,-991.421 5002.48,-981.52 4993.36,-986.909 4998.71,-991.421\"/>\r\n",
       "</g>\r\n",
       "<!-- 138 -->\r\n",
       "<g id=\"node139\" class=\"node\"><title>138</title>\r\n",
       "<polygon fill=\"none\" stroke=\"black\" points=\"4887,-877.5 4747,-877.5 4747,-824.5 4887,-824.5 4887,-877.5\"/>\r\n",
       "<text text-anchor=\"middle\" x=\"4817\" y=\"-862.3\" font-family=\"Times New Roman,serif\" font-size=\"14.00\">mse = 402710896.953</text>\r\n",
       "<text text-anchor=\"middle\" x=\"4817\" y=\"-847.3\" font-family=\"Times New Roman,serif\" font-size=\"14.00\">samples = 19</text>\r\n",
       "<text text-anchor=\"middle\" x=\"4817\" y=\"-832.3\" font-family=\"Times New Roman,serif\" font-size=\"14.00\">value = 235883.684</text>\r\n",
       "</g>\r\n",
       "<!-- 137&#45;&gt;138 -->\r\n",
       "<g id=\"edge138\" class=\"edge\"><title>137&#45;&gt;138</title>\r\n",
       "<path fill=\"none\" stroke=\"black\" d=\"M4839.96,-920.884C4836.37,-910.106 4832.37,-898.108 4828.73,-887.184\"/>\r\n",
       "<polygon fill=\"black\" stroke=\"black\" points=\"4831.99,-885.9 4825.51,-877.52 4825.35,-888.114 4831.99,-885.9\"/>\r\n",
       "</g>\r\n",
       "<!-- 139 -->\r\n",
       "<g id=\"node140\" class=\"node\"><title>139</title>\r\n",
       "<polygon fill=\"none\" stroke=\"black\" points=\"5045,-877.5 4905,-877.5 4905,-824.5 5045,-824.5 5045,-877.5\"/>\r\n",
       "<text text-anchor=\"middle\" x=\"4975\" y=\"-862.3\" font-family=\"Times New Roman,serif\" font-size=\"14.00\">mse = 855470251.479</text>\r\n",
       "<text text-anchor=\"middle\" x=\"4975\" y=\"-847.3\" font-family=\"Times New Roman,serif\" font-size=\"14.00\">samples = 13</text>\r\n",
       "<text text-anchor=\"middle\" x=\"4975\" y=\"-832.3\" font-family=\"Times New Roman,serif\" font-size=\"14.00\">value = 255586.538</text>\r\n",
       "</g>\r\n",
       "<!-- 137&#45;&gt;139 -->\r\n",
       "<g id=\"edge139\" class=\"edge\"><title>137&#45;&gt;139</title>\r\n",
       "<path fill=\"none\" stroke=\"black\" d=\"M4891.26,-920.884C4905.7,-909.006 4921.94,-895.646 4936.25,-883.876\"/>\r\n",
       "<polygon fill=\"black\" stroke=\"black\" points=\"4938.48,-886.576 4943.98,-877.52 4934.03,-881.17 4938.48,-886.576\"/>\r\n",
       "</g>\r\n",
       "<!-- 142 -->\r\n",
       "<g id=\"node143\" class=\"node\"><title>142</title>\r\n",
       "<polygon fill=\"none\" stroke=\"black\" points=\"5258,-981.5 5112,-981.5 5112,-928.5 5258,-928.5 5258,-981.5\"/>\r\n",
       "<text text-anchor=\"middle\" x=\"5185\" y=\"-966.3\" font-family=\"Times New Roman,serif\" font-size=\"14.00\">mse = 2237246438.028</text>\r\n",
       "<text text-anchor=\"middle\" x=\"5185\" y=\"-951.3\" font-family=\"Times New Roman,serif\" font-size=\"14.00\">samples = 18</text>\r\n",
       "<text text-anchor=\"middle\" x=\"5185\" y=\"-936.3\" font-family=\"Times New Roman,serif\" font-size=\"14.00\">value = 252009.167</text>\r\n",
       "</g>\r\n",
       "<!-- 141&#45;&gt;142 -->\r\n",
       "<g id=\"edge142\" class=\"edge\"><title>141&#45;&gt;142</title>\r\n",
       "<path fill=\"none\" stroke=\"black\" d=\"M5185,-1024.88C5185,-1014.33 5185,-1002.6 5185,-991.854\"/>\r\n",
       "<polygon fill=\"black\" stroke=\"black\" points=\"5188.5,-991.52 5185,-981.52 5181.5,-991.52 5188.5,-991.52\"/>\r\n",
       "</g>\r\n",
       "<!-- 143 -->\r\n",
       "<g id=\"node144\" class=\"node\"><title>143</title>\r\n",
       "<polygon fill=\"none\" stroke=\"black\" points=\"5422,-981.5 5276,-981.5 5276,-928.5 5422,-928.5 5422,-981.5\"/>\r\n",
       "<text text-anchor=\"middle\" x=\"5349\" y=\"-966.3\" font-family=\"Times New Roman,serif\" font-size=\"14.00\">mse = 1448417984.213</text>\r\n",
       "<text text-anchor=\"middle\" x=\"5349\" y=\"-951.3\" font-family=\"Times New Roman,serif\" font-size=\"14.00\">samples = 13</text>\r\n",
       "<text text-anchor=\"middle\" x=\"5349\" y=\"-936.3\" font-family=\"Times New Roman,serif\" font-size=\"14.00\">value = 302130.692</text>\r\n",
       "</g>\r\n",
       "<!-- 141&#45;&gt;143 -->\r\n",
       "<g id=\"edge143\" class=\"edge\"><title>141&#45;&gt;143</title>\r\n",
       "<path fill=\"none\" stroke=\"black\" d=\"M5238.25,-1024.88C5257.87,-1012.68 5280.02,-998.903 5299.32,-986.899\"/>\r\n",
       "<polygon fill=\"black\" stroke=\"black\" points=\"5301.32,-989.773 5307.97,-981.52 5297.63,-983.829 5301.32,-989.773\"/>\r\n",
       "</g>\r\n",
       "<!-- 145 -->\r\n",
       "<g id=\"node146\" class=\"node\"><title>145</title>\r\n",
       "<polygon fill=\"none\" stroke=\"black\" points=\"6149,-1301 6003,-1301 6003,-1233 6149,-1233 6149,-1301\"/>\r\n",
       "<text text-anchor=\"middle\" x=\"6076\" y=\"-1285.8\" font-family=\"Times New Roman,serif\" font-size=\"14.00\">GrLivArea &lt;= 1971.5</text>\r\n",
       "<text text-anchor=\"middle\" x=\"6076\" y=\"-1270.8\" font-family=\"Times New Roman,serif\" font-size=\"14.00\">mse = 4058765722.773</text>\r\n",
       "<text text-anchor=\"middle\" x=\"6076\" y=\"-1255.8\" font-family=\"Times New Roman,serif\" font-size=\"14.00\">samples = 168</text>\r\n",
       "<text text-anchor=\"middle\" x=\"6076\" y=\"-1240.8\" font-family=\"Times New Roman,serif\" font-size=\"14.00\">value = 274735.536</text>\r\n",
       "</g>\r\n",
       "<!-- 144&#45;&gt;145 -->\r\n",
       "<g id=\"edge145\" class=\"edge\"><title>144&#45;&gt;145</title>\r\n",
       "<path fill=\"none\" stroke=\"black\" d=\"M6076,-1336.88C6076,-1328.78 6076,-1319.98 6076,-1311.47\"/>\r\n",
       "<polygon fill=\"black\" stroke=\"black\" points=\"6079.5,-1311.3 6076,-1301.3 6072.5,-1311.3 6079.5,-1311.3\"/>\r\n",
       "</g>\r\n",
       "<!-- 164 -->\r\n",
       "<g id=\"node165\" class=\"node\"><title>164</title>\r\n",
       "<polygon fill=\"none\" stroke=\"black\" points=\"6692.5,-1301 6539.5,-1301 6539.5,-1233 6692.5,-1233 6692.5,-1301\"/>\r\n",
       "<text text-anchor=\"middle\" x=\"6616\" y=\"-1285.8\" font-family=\"Times New Roman,serif\" font-size=\"14.00\">GrLivArea &lt;= 2229.0</text>\r\n",
       "<text text-anchor=\"middle\" x=\"6616\" y=\"-1270.8\" font-family=\"Times New Roman,serif\" font-size=\"14.00\">mse = 12714598711.223</text>\r\n",
       "<text text-anchor=\"middle\" x=\"6616\" y=\"-1255.8\" font-family=\"Times New Roman,serif\" font-size=\"14.00\">samples = 61</text>\r\n",
       "<text text-anchor=\"middle\" x=\"6616\" y=\"-1240.8\" font-family=\"Times New Roman,serif\" font-size=\"14.00\">value = 388486.082</text>\r\n",
       "</g>\r\n",
       "<!-- 144&#45;&gt;164 -->\r\n",
       "<g id=\"edge164\" class=\"edge\"><title>144&#45;&gt;164</title>\r\n",
       "<path fill=\"none\" stroke=\"black\" d=\"M6149.11,-1356.19C6247.92,-1337.53 6423.82,-1304.3 6529.22,-1284.39\"/>\r\n",
       "<polygon fill=\"black\" stroke=\"black\" points=\"6530.02,-1287.8 6539.19,-1282.51 6528.72,-1280.92 6530.02,-1287.8\"/>\r\n",
       "</g>\r\n",
       "<!-- 146 -->\r\n",
       "<g id=\"node147\" class=\"node\"><title>146</title>\r\n",
       "<polygon fill=\"none\" stroke=\"black\" points=\"5992.5,-1197 5839.5,-1197 5839.5,-1129 5992.5,-1129 5992.5,-1197\"/>\r\n",
       "<text text-anchor=\"middle\" x=\"5916\" y=\"-1181.8\" font-family=\"Times New Roman,serif\" font-size=\"14.00\">TotalBsmtSF &lt;= 1412.5</text>\r\n",
       "<text text-anchor=\"middle\" x=\"5916\" y=\"-1166.8\" font-family=\"Times New Roman,serif\" font-size=\"14.00\">mse = 2332108528.579</text>\r\n",
       "<text text-anchor=\"middle\" x=\"5916\" y=\"-1151.8\" font-family=\"Times New Roman,serif\" font-size=\"14.00\">samples = 103</text>\r\n",
       "<text text-anchor=\"middle\" x=\"5916\" y=\"-1136.8\" font-family=\"Times New Roman,serif\" font-size=\"14.00\">value = 249392.466</text>\r\n",
       "</g>\r\n",
       "<!-- 145&#45;&gt;146 -->\r\n",
       "<g id=\"edge146\" class=\"edge\"><title>145&#45;&gt;146</title>\r\n",
       "<path fill=\"none\" stroke=\"black\" d=\"M6024.05,-1232.88C6008.89,-1223.21 5992.18,-1212.56 5976.53,-1202.59\"/>\r\n",
       "<polygon fill=\"black\" stroke=\"black\" points=\"5978.27,-1199.55 5967.96,-1197.12 5974.51,-1205.45 5978.27,-1199.55\"/>\r\n",
       "</g>\r\n",
       "<!-- 157 -->\r\n",
       "<g id=\"node158\" class=\"node\"><title>157</title>\r\n",
       "<polygon fill=\"none\" stroke=\"black\" points=\"6279,-1197 6133,-1197 6133,-1129 6279,-1129 6279,-1197\"/>\r\n",
       "<text text-anchor=\"middle\" x=\"6206\" y=\"-1181.8\" font-family=\"Times New Roman,serif\" font-size=\"14.00\">1stFlrSF &lt;= 1383.5</text>\r\n",
       "<text text-anchor=\"middle\" x=\"6206\" y=\"-1166.8\" font-family=\"Times New Roman,serif\" font-size=\"14.00\">mse = 4164353743.939</text>\r\n",
       "<text text-anchor=\"middle\" x=\"6206\" y=\"-1151.8\" font-family=\"Times New Roman,serif\" font-size=\"14.00\">samples = 65</text>\r\n",
       "<text text-anchor=\"middle\" x=\"6206\" y=\"-1136.8\" font-family=\"Times New Roman,serif\" font-size=\"14.00\">value = 314894.554</text>\r\n",
       "</g>\r\n",
       "<!-- 145&#45;&gt;157 -->\r\n",
       "<g id=\"edge157\" class=\"edge\"><title>145&#45;&gt;157</title>\r\n",
       "<path fill=\"none\" stroke=\"black\" d=\"M6118.21,-1232.88C6130.13,-1223.53 6143.22,-1213.26 6155.57,-1203.57\"/>\r\n",
       "<polygon fill=\"black\" stroke=\"black\" points=\"6157.85,-1206.23 6163.56,-1197.3 6153.53,-1200.72 6157.85,-1206.23\"/>\r\n",
       "</g>\r\n",
       "<!-- 147 -->\r\n",
       "<g id=\"node148\" class=\"node\"><title>147</title>\r\n",
       "<polygon fill=\"none\" stroke=\"black\" points=\"5741,-1093 5595,-1093 5595,-1025 5741,-1025 5741,-1093\"/>\r\n",
       "<text text-anchor=\"middle\" x=\"5668\" y=\"-1077.8\" font-family=\"Times New Roman,serif\" font-size=\"14.00\">GrLivArea &lt;= 1784.5</text>\r\n",
       "<text text-anchor=\"middle\" x=\"5668\" y=\"-1062.8\" font-family=\"Times New Roman,serif\" font-size=\"14.00\">mse = 1253083945.425</text>\r\n",
       "<text text-anchor=\"middle\" x=\"5668\" y=\"-1047.8\" font-family=\"Times New Roman,serif\" font-size=\"14.00\">samples = 41</text>\r\n",
       "<text text-anchor=\"middle\" x=\"5668\" y=\"-1032.8\" font-family=\"Times New Roman,serif\" font-size=\"14.00\">value = 218193.195</text>\r\n",
       "</g>\r\n",
       "<!-- 146&#45;&gt;147 -->\r\n",
       "<g id=\"edge147\" class=\"edge\"><title>146&#45;&gt;147</title>\r\n",
       "<path fill=\"none\" stroke=\"black\" d=\"M5839.23,-1130.43C5811.11,-1118.86 5779.18,-1105.73 5750.58,-1093.96\"/>\r\n",
       "<polygon fill=\"black\" stroke=\"black\" points=\"5751.6,-1090.6 5741.02,-1090.03 5748.93,-1097.07 5751.6,-1090.6\"/>\r\n",
       "</g>\r\n",
       "<!-- 150 -->\r\n",
       "<g id=\"node151\" class=\"node\"><title>150</title>\r\n",
       "<polygon fill=\"none\" stroke=\"black\" points=\"6001,-1093 5831,-1093 5831,-1025 6001,-1025 6001,-1093\"/>\r\n",
       "<text text-anchor=\"middle\" x=\"5916\" y=\"-1077.8\" font-family=\"Times New Roman,serif\" font-size=\"14.00\">YearRemodAdd &lt;= 2007.5</text>\r\n",
       "<text text-anchor=\"middle\" x=\"5916\" y=\"-1062.8\" font-family=\"Times New Roman,serif\" font-size=\"14.00\">mse = 1976290499.893</text>\r\n",
       "<text text-anchor=\"middle\" x=\"5916\" y=\"-1047.8\" font-family=\"Times New Roman,serif\" font-size=\"14.00\">samples = 62</text>\r\n",
       "<text text-anchor=\"middle\" x=\"5916\" y=\"-1032.8\" font-family=\"Times New Roman,serif\" font-size=\"14.00\">value = 270024.242</text>\r\n",
       "</g>\r\n",
       "<!-- 146&#45;&gt;150 -->\r\n",
       "<g id=\"edge150\" class=\"edge\"><title>146&#45;&gt;150</title>\r\n",
       "<path fill=\"none\" stroke=\"black\" d=\"M5916,-1128.88C5916,-1120.78 5916,-1111.98 5916,-1103.47\"/>\r\n",
       "<polygon fill=\"black\" stroke=\"black\" points=\"5919.5,-1103.3 5916,-1093.3 5912.5,-1103.3 5919.5,-1103.3\"/>\r\n",
       "</g>\r\n",
       "<!-- 148 -->\r\n",
       "<g id=\"node149\" class=\"node\"><title>148</title>\r\n",
       "<polygon fill=\"none\" stroke=\"black\" points=\"5580,-981.5 5440,-981.5 5440,-928.5 5580,-928.5 5580,-981.5\"/>\r\n",
       "<text text-anchor=\"middle\" x=\"5510\" y=\"-966.3\" font-family=\"Times New Roman,serif\" font-size=\"14.00\">mse = 661085239.142</text>\r\n",
       "<text text-anchor=\"middle\" x=\"5510\" y=\"-951.3\" font-family=\"Times New Roman,serif\" font-size=\"14.00\">samples = 25</text>\r\n",
       "<text text-anchor=\"middle\" x=\"5510\" y=\"-936.3\" font-family=\"Times New Roman,serif\" font-size=\"14.00\">value = 198238.24</text>\r\n",
       "</g>\r\n",
       "<!-- 147&#45;&gt;148 -->\r\n",
       "<g id=\"edge148\" class=\"edge\"><title>147&#45;&gt;148</title>\r\n",
       "<path fill=\"none\" stroke=\"black\" d=\"M5616.7,-1024.88C5597.88,-1012.73 5576.65,-999.027 5558.11,-987.061\"/>\r\n",
       "<polygon fill=\"black\" stroke=\"black\" points=\"5559.83,-984.003 5549.53,-981.52 5556.03,-989.884 5559.83,-984.003\"/>\r\n",
       "</g>\r\n",
       "<!-- 149 -->\r\n",
       "<g id=\"node150\" class=\"node\"><title>149</title>\r\n",
       "<polygon fill=\"none\" stroke=\"black\" points=\"5738,-981.5 5598,-981.5 5598,-928.5 5738,-928.5 5738,-981.5\"/>\r\n",
       "<text text-anchor=\"middle\" x=\"5668\" y=\"-966.3\" font-family=\"Times New Roman,serif\" font-size=\"14.00\">mse = 583725518.652</text>\r\n",
       "<text text-anchor=\"middle\" x=\"5668\" y=\"-951.3\" font-family=\"Times New Roman,serif\" font-size=\"14.00\">samples = 16</text>\r\n",
       "<text text-anchor=\"middle\" x=\"5668\" y=\"-936.3\" font-family=\"Times New Roman,serif\" font-size=\"14.00\">value = 249372.812</text>\r\n",
       "</g>\r\n",
       "<!-- 147&#45;&gt;149 -->\r\n",
       "<g id=\"edge149\" class=\"edge\"><title>147&#45;&gt;149</title>\r\n",
       "<path fill=\"none\" stroke=\"black\" d=\"M5668,-1024.88C5668,-1014.33 5668,-1002.6 5668,-991.854\"/>\r\n",
       "<polygon fill=\"black\" stroke=\"black\" points=\"5671.5,-991.52 5668,-981.52 5664.5,-991.52 5671.5,-991.52\"/>\r\n",
       "</g>\r\n",
       "<!-- 151 -->\r\n",
       "<g id=\"node152\" class=\"node\"><title>151</title>\r\n",
       "<polygon fill=\"none\" stroke=\"black\" points=\"5909.5,-989 5756.5,-989 5756.5,-921 5909.5,-921 5909.5,-989\"/>\r\n",
       "<text text-anchor=\"middle\" x=\"5833\" y=\"-973.8\" font-family=\"Times New Roman,serif\" font-size=\"14.00\">TotalBsmtSF &lt;= 1658.5</text>\r\n",
       "<text text-anchor=\"middle\" x=\"5833\" y=\"-958.8\" font-family=\"Times New Roman,serif\" font-size=\"14.00\">mse = 1450612208.874</text>\r\n",
       "<text text-anchor=\"middle\" x=\"5833\" y=\"-943.8\" font-family=\"Times New Roman,serif\" font-size=\"14.00\">samples = 50</text>\r\n",
       "<text text-anchor=\"middle\" x=\"5833\" y=\"-928.8\" font-family=\"Times New Roman,serif\" font-size=\"14.00\">value = 262314.92</text>\r\n",
       "</g>\r\n",
       "<!-- 150&#45;&gt;151 -->\r\n",
       "<g id=\"edge151\" class=\"edge\"><title>150&#45;&gt;151</title>\r\n",
       "<path fill=\"none\" stroke=\"black\" d=\"M5889.05,-1024.88C5881.88,-1016.07 5874.04,-1006.43 5866.55,-997.235\"/>\r\n",
       "<polygon fill=\"black\" stroke=\"black\" points=\"5869.12,-994.847 5860.1,-989.299 5863.69,-999.265 5869.12,-994.847\"/>\r\n",
       "</g>\r\n",
       "<!-- 156 -->\r\n",
       "<g id=\"node157\" class=\"node\"><title>156</title>\r\n",
       "<polygon fill=\"none\" stroke=\"black\" points=\"6074,-981.5 5928,-981.5 5928,-928.5 6074,-928.5 6074,-981.5\"/>\r\n",
       "<text text-anchor=\"middle\" x=\"6001\" y=\"-966.3\" font-family=\"Times New Roman,serif\" font-size=\"14.00\">mse = 2887142416.743</text>\r\n",
       "<text text-anchor=\"middle\" x=\"6001\" y=\"-951.3\" font-family=\"Times New Roman,serif\" font-size=\"14.00\">samples = 12</text>\r\n",
       "<text text-anchor=\"middle\" x=\"6001\" y=\"-936.3\" font-family=\"Times New Roman,serif\" font-size=\"14.00\">value = 302146.417</text>\r\n",
       "</g>\r\n",
       "<!-- 150&#45;&gt;156 -->\r\n",
       "<g id=\"edge156\" class=\"edge\"><title>150&#45;&gt;156</title>\r\n",
       "<path fill=\"none\" stroke=\"black\" d=\"M5943.6,-1024.88C5953.04,-1013.56 5963.6,-1000.88 5973.07,-989.521\"/>\r\n",
       "<polygon fill=\"black\" stroke=\"black\" points=\"5976.02,-991.443 5979.73,-981.52 5970.64,-986.962 5976.02,-991.443\"/>\r\n",
       "</g>\r\n",
       "<!-- 152 -->\r\n",
       "<g id=\"node153\" class=\"node\"><title>152</title>\r\n",
       "<polygon fill=\"none\" stroke=\"black\" points=\"5833,-885 5657,-885 5657,-817 5833,-817 5833,-885\"/>\r\n",
       "<text text-anchor=\"middle\" x=\"5745\" y=\"-869.8\" font-family=\"Times New Roman,serif\" font-size=\"14.00\">Exterior2nd_VinylSd &lt;= 0.5</text>\r\n",
       "<text text-anchor=\"middle\" x=\"5745\" y=\"-854.8\" font-family=\"Times New Roman,serif\" font-size=\"14.00\">mse = 1107695614.221</text>\r\n",
       "<text text-anchor=\"middle\" x=\"5745\" y=\"-839.8\" font-family=\"Times New Roman,serif\" font-size=\"14.00\">samples = 31</text>\r\n",
       "<text text-anchor=\"middle\" x=\"5745\" y=\"-824.8\" font-family=\"Times New Roman,serif\" font-size=\"14.00\">value = 254867.194</text>\r\n",
       "</g>\r\n",
       "<!-- 151&#45;&gt;152 -->\r\n",
       "<g id=\"edge152\" class=\"edge\"><title>151&#45;&gt;152</title>\r\n",
       "<path fill=\"none\" stroke=\"black\" d=\"M5804.43,-920.884C5796.74,-911.976 5788.34,-902.235 5780.34,-892.957\"/>\r\n",
       "<polygon fill=\"black\" stroke=\"black\" points=\"5782.91,-890.585 5773.73,-885.299 5777.61,-895.157 5782.91,-890.585\"/>\r\n",
       "</g>\r\n",
       "<!-- 155 -->\r\n",
       "<g id=\"node156\" class=\"node\"><title>155</title>\r\n",
       "<polygon fill=\"none\" stroke=\"black\" points=\"5991,-877.5 5851,-877.5 5851,-824.5 5991,-824.5 5991,-877.5\"/>\r\n",
       "<text text-anchor=\"middle\" x=\"5921\" y=\"-862.3\" font-family=\"Times New Roman,serif\" font-size=\"14.00\">mse = 1771946000.67</text>\r\n",
       "<text text-anchor=\"middle\" x=\"5921\" y=\"-847.3\" font-family=\"Times New Roman,serif\" font-size=\"14.00\">samples = 19</text>\r\n",
       "<text text-anchor=\"middle\" x=\"5921\" y=\"-832.3\" font-family=\"Times New Roman,serif\" font-size=\"14.00\">value = 274466.474</text>\r\n",
       "</g>\r\n",
       "<!-- 151&#45;&gt;155 -->\r\n",
       "<g id=\"edge155\" class=\"edge\"><title>151&#45;&gt;155</title>\r\n",
       "<path fill=\"none\" stroke=\"black\" d=\"M5861.57,-920.884C5871.44,-909.446 5882.49,-896.634 5892.37,-885.19\"/>\r\n",
       "<polygon fill=\"black\" stroke=\"black\" points=\"5895.1,-887.378 5898.98,-877.52 5889.8,-882.805 5895.1,-887.378\"/>\r\n",
       "</g>\r\n",
       "<!-- 153 -->\r\n",
       "<g id=\"node154\" class=\"node\"><title>153</title>\r\n",
       "<polygon fill=\"none\" stroke=\"black\" points=\"5737,-773.5 5591,-773.5 5591,-720.5 5737,-720.5 5737,-773.5\"/>\r\n",
       "<text text-anchor=\"middle\" x=\"5664\" y=\"-758.3\" font-family=\"Times New Roman,serif\" font-size=\"14.00\">mse = 1848130208.333</text>\r\n",
       "<text text-anchor=\"middle\" x=\"5664\" y=\"-743.3\" font-family=\"Times New Roman,serif\" font-size=\"14.00\">samples = 12</text>\r\n",
       "<text text-anchor=\"middle\" x=\"5664\" y=\"-728.3\" font-family=\"Times New Roman,serif\" font-size=\"14.00\">value = 269375.0</text>\r\n",
       "</g>\r\n",
       "<!-- 152&#45;&gt;153 -->\r\n",
       "<g id=\"edge153\" class=\"edge\"><title>152&#45;&gt;153</title>\r\n",
       "<path fill=\"none\" stroke=\"black\" d=\"M5718.7,-816.884C5709.71,-805.556 5699.64,-792.88 5690.62,-781.521\"/>\r\n",
       "<polygon fill=\"black\" stroke=\"black\" points=\"5693.23,-779.174 5684.27,-773.52 5687.74,-783.528 5693.23,-779.174\"/>\r\n",
       "</g>\r\n",
       "<!-- 154 -->\r\n",
       "<g id=\"node155\" class=\"node\"><title>154</title>\r\n",
       "<polygon fill=\"none\" stroke=\"black\" points=\"5895,-773.5 5755,-773.5 5755,-720.5 5895,-720.5 5895,-773.5\"/>\r\n",
       "<text text-anchor=\"middle\" x=\"5825\" y=\"-758.3\" font-family=\"Times New Roman,serif\" font-size=\"14.00\">mse = 423162854.864</text>\r\n",
       "<text text-anchor=\"middle\" x=\"5825\" y=\"-743.3\" font-family=\"Times New Roman,serif\" font-size=\"14.00\">samples = 19</text>\r\n",
       "<text text-anchor=\"middle\" x=\"5825\" y=\"-728.3\" font-family=\"Times New Roman,serif\" font-size=\"14.00\">value = 245704.368</text>\r\n",
       "</g>\r\n",
       "<!-- 152&#45;&gt;154 -->\r\n",
       "<g id=\"edge154\" class=\"edge\"><title>152&#45;&gt;154</title>\r\n",
       "<path fill=\"none\" stroke=\"black\" d=\"M5770.97,-816.884C5779.86,-805.556 5789.8,-792.88 5798.71,-781.521\"/>\r\n",
       "<polygon fill=\"black\" stroke=\"black\" points=\"5801.57,-783.548 5804.98,-773.52 5796.06,-779.228 5801.57,-783.548\"/>\r\n",
       "</g>\r\n",
       "<!-- 158 -->\r\n",
       "<g id=\"node159\" class=\"node\"><title>158</title>\r\n",
       "<polygon fill=\"none\" stroke=\"black\" points=\"6279,-1093 6133,-1093 6133,-1025 6279,-1025 6279,-1093\"/>\r\n",
       "<text text-anchor=\"middle\" x=\"6206\" y=\"-1077.8\" font-family=\"Times New Roman,serif\" font-size=\"14.00\">GarageCars &lt;= 2.5</text>\r\n",
       "<text text-anchor=\"middle\" x=\"6206\" y=\"-1062.8\" font-family=\"Times New Roman,serif\" font-size=\"14.00\">mse = 2182202500.244</text>\r\n",
       "<text text-anchor=\"middle\" x=\"6206\" y=\"-1047.8\" font-family=\"Times New Roman,serif\" font-size=\"14.00\">samples = 33</text>\r\n",
       "<text text-anchor=\"middle\" x=\"6206\" y=\"-1032.8\" font-family=\"Times New Roman,serif\" font-size=\"14.00\">value = 281147.242</text>\r\n",
       "</g>\r\n",
       "<!-- 157&#45;&gt;158 -->\r\n",
       "<g id=\"edge158\" class=\"edge\"><title>157&#45;&gt;158</title>\r\n",
       "<path fill=\"none\" stroke=\"black\" d=\"M6206,-1128.88C6206,-1120.78 6206,-1111.98 6206,-1103.47\"/>\r\n",
       "<polygon fill=\"black\" stroke=\"black\" points=\"6209.5,-1103.3 6206,-1093.3 6202.5,-1103.3 6209.5,-1103.3\"/>\r\n",
       "</g>\r\n",
       "<!-- 161 -->\r\n",
       "<g id=\"node162\" class=\"node\"><title>161</title>\r\n",
       "<polygon fill=\"none\" stroke=\"black\" points=\"6525,-1093 6379,-1093 6379,-1025 6525,-1025 6525,-1093\"/>\r\n",
       "<text text-anchor=\"middle\" x=\"6452\" y=\"-1077.8\" font-family=\"Times New Roman,serif\" font-size=\"14.00\">GarageCars &lt;= 2.5</text>\r\n",
       "<text text-anchor=\"middle\" x=\"6452\" y=\"-1062.8\" font-family=\"Times New Roman,serif\" font-size=\"14.00\">mse = 3822802872.687</text>\r\n",
       "<text text-anchor=\"middle\" x=\"6452\" y=\"-1047.8\" font-family=\"Times New Roman,serif\" font-size=\"14.00\">samples = 32</text>\r\n",
       "<text text-anchor=\"middle\" x=\"6452\" y=\"-1032.8\" font-family=\"Times New Roman,serif\" font-size=\"14.00\">value = 349696.469</text>\r\n",
       "</g>\r\n",
       "<!-- 157&#45;&gt;161 -->\r\n",
       "<g id=\"edge161\" class=\"edge\"><title>157&#45;&gt;161</title>\r\n",
       "<path fill=\"none\" stroke=\"black\" d=\"M6279.14,-1131.67C6307.51,-1119.91 6340.14,-1106.38 6369.36,-1094.27\"/>\r\n",
       "<polygon fill=\"black\" stroke=\"black\" points=\"6370.82,-1097.45 6378.71,-1090.39 6368.14,-1090.98 6370.82,-1097.45\"/>\r\n",
       "</g>\r\n",
       "<!-- 159 -->\r\n",
       "<g id=\"node160\" class=\"node\"><title>159</title>\r\n",
       "<polygon fill=\"none\" stroke=\"black\" points=\"6238,-981.5 6092,-981.5 6092,-928.5 6238,-928.5 6238,-981.5\"/>\r\n",
       "<text text-anchor=\"middle\" x=\"6165\" y=\"-966.3\" font-family=\"Times New Roman,serif\" font-size=\"14.00\">mse = 1644188042.693</text>\r\n",
       "<text text-anchor=\"middle\" x=\"6165\" y=\"-951.3\" font-family=\"Times New Roman,serif\" font-size=\"14.00\">samples = 15</text>\r\n",
       "<text text-anchor=\"middle\" x=\"6165\" y=\"-936.3\" font-family=\"Times New Roman,serif\" font-size=\"14.00\">value = 249211.8</text>\r\n",
       "</g>\r\n",
       "<!-- 158&#45;&gt;159 -->\r\n",
       "<g id=\"edge159\" class=\"edge\"><title>158&#45;&gt;159</title>\r\n",
       "<path fill=\"none\" stroke=\"black\" d=\"M6192.69,-1024.88C6188.31,-1014 6183.43,-1001.86 6179.01,-990.85\"/>\r\n",
       "<polygon fill=\"black\" stroke=\"black\" points=\"6182.24,-989.493 6175.26,-981.52 6175.74,-992.104 6182.24,-989.493\"/>\r\n",
       "</g>\r\n",
       "<!-- 160 -->\r\n",
       "<g id=\"node161\" class=\"node\"><title>160</title>\r\n",
       "<polygon fill=\"none\" stroke=\"black\" points=\"6402,-981.5 6256,-981.5 6256,-928.5 6402,-928.5 6402,-981.5\"/>\r\n",
       "<text text-anchor=\"middle\" x=\"6329\" y=\"-966.3\" font-family=\"Times New Roman,serif\" font-size=\"14.00\">mse = 1072409366.099</text>\r\n",
       "<text text-anchor=\"middle\" x=\"6329\" y=\"-951.3\" font-family=\"Times New Roman,serif\" font-size=\"14.00\">samples = 18</text>\r\n",
       "<text text-anchor=\"middle\" x=\"6329\" y=\"-936.3\" font-family=\"Times New Roman,serif\" font-size=\"14.00\">value = 307760.111</text>\r\n",
       "</g>\r\n",
       "<!-- 158&#45;&gt;160 -->\r\n",
       "<g id=\"edge160\" class=\"edge\"><title>158&#45;&gt;160</title>\r\n",
       "<path fill=\"none\" stroke=\"black\" d=\"M6245.93,-1024.88C6260.13,-1013.12 6276.07,-999.894 6290.17,-988.203\"/>\r\n",
       "<polygon fill=\"black\" stroke=\"black\" points=\"6292.76,-990.597 6298.23,-981.52 6288.29,-985.209 6292.76,-990.597\"/>\r\n",
       "</g>\r\n",
       "<!-- 162 -->\r\n",
       "<g id=\"node163\" class=\"node\"><title>162</title>\r\n",
       "<polygon fill=\"none\" stroke=\"black\" points=\"6566,-981.5 6420,-981.5 6420,-928.5 6566,-928.5 6566,-981.5\"/>\r\n",
       "<text text-anchor=\"middle\" x=\"6493\" y=\"-966.3\" font-family=\"Times New Roman,serif\" font-size=\"14.00\">mse = 1704533846.154</text>\r\n",
       "<text text-anchor=\"middle\" x=\"6493\" y=\"-951.3\" font-family=\"Times New Roman,serif\" font-size=\"14.00\">samples = 13</text>\r\n",
       "<text text-anchor=\"middle\" x=\"6493\" y=\"-936.3\" font-family=\"Times New Roman,serif\" font-size=\"14.00\">value = 319400.0</text>\r\n",
       "</g>\r\n",
       "<!-- 161&#45;&gt;162 -->\r\n",
       "<g id=\"edge162\" class=\"edge\"><title>161&#45;&gt;162</title>\r\n",
       "<path fill=\"none\" stroke=\"black\" d=\"M6465.31,-1024.88C6469.69,-1014 6474.57,-1001.86 6478.99,-990.85\"/>\r\n",
       "<polygon fill=\"black\" stroke=\"black\" points=\"6482.26,-992.104 6482.74,-981.52 6475.76,-989.493 6482.26,-992.104\"/>\r\n",
       "</g>\r\n",
       "<!-- 163 -->\r\n",
       "<g id=\"node164\" class=\"node\"><title>163</title>\r\n",
       "<polygon fill=\"none\" stroke=\"black\" points=\"6730,-981.5 6584,-981.5 6584,-928.5 6730,-928.5 6730,-981.5\"/>\r\n",
       "<text text-anchor=\"middle\" x=\"6657\" y=\"-966.3\" font-family=\"Times New Roman,serif\" font-size=\"14.00\">mse = 4214426212.759</text>\r\n",
       "<text text-anchor=\"middle\" x=\"6657\" y=\"-951.3\" font-family=\"Times New Roman,serif\" font-size=\"14.00\">samples = 19</text>\r\n",
       "<text text-anchor=\"middle\" x=\"6657\" y=\"-936.3\" font-family=\"Times New Roman,serif\" font-size=\"14.00\">value = 370425.632</text>\r\n",
       "</g>\r\n",
       "<!-- 161&#45;&gt;163 -->\r\n",
       "<g id=\"edge163\" class=\"edge\"><title>161&#45;&gt;163</title>\r\n",
       "<path fill=\"none\" stroke=\"black\" d=\"M6518.56,-1024.88C6543.65,-1012.4 6572.02,-998.282 6596.52,-986.091\"/>\r\n",
       "<polygon fill=\"black\" stroke=\"black\" points=\"6598.32,-989.108 6605.71,-981.52 6595.2,-982.841 6598.32,-989.108\"/>\r\n",
       "</g>\r\n",
       "<!-- 165 -->\r\n",
       "<g id=\"node166\" class=\"node\"><title>165</title>\r\n",
       "<polygon fill=\"none\" stroke=\"black\" points=\"6692.5,-1197 6539.5,-1197 6539.5,-1129 6692.5,-1129 6692.5,-1197\"/>\r\n",
       "<text text-anchor=\"middle\" x=\"6616\" y=\"-1181.8\" font-family=\"Times New Roman,serif\" font-size=\"14.00\">TotalBsmtSF &lt;= 1840.0</text>\r\n",
       "<text text-anchor=\"middle\" x=\"6616\" y=\"-1166.8\" font-family=\"Times New Roman,serif\" font-size=\"14.00\">mse = 2218086011.703</text>\r\n",
       "<text text-anchor=\"middle\" x=\"6616\" y=\"-1151.8\" font-family=\"Times New Roman,serif\" font-size=\"14.00\">samples = 35</text>\r\n",
       "<text text-anchor=\"middle\" x=\"6616\" y=\"-1136.8\" font-family=\"Times New Roman,serif\" font-size=\"14.00\">value = 341248.2</text>\r\n",
       "</g>\r\n",
       "<!-- 164&#45;&gt;165 -->\r\n",
       "<g id=\"edge165\" class=\"edge\"><title>164&#45;&gt;165</title>\r\n",
       "<path fill=\"none\" stroke=\"black\" d=\"M6616,-1232.88C6616,-1224.78 6616,-1215.98 6616,-1207.47\"/>\r\n",
       "<polygon fill=\"black\" stroke=\"black\" points=\"6619.5,-1207.3 6616,-1197.3 6612.5,-1207.3 6619.5,-1207.3\"/>\r\n",
       "</g>\r\n",
       "<!-- 168 -->\r\n",
       "<g id=\"node169\" class=\"node\"><title>168</title>\r\n",
       "<polygon fill=\"none\" stroke=\"black\" points=\"6863.5,-1189.5 6710.5,-1189.5 6710.5,-1136.5 6863.5,-1136.5 6863.5,-1189.5\"/>\r\n",
       "<text text-anchor=\"middle\" x=\"6787\" y=\"-1174.3\" font-family=\"Times New Roman,serif\" font-size=\"14.00\">mse = 19797069435.402</text>\r\n",
       "<text text-anchor=\"middle\" x=\"6787\" y=\"-1159.3\" font-family=\"Times New Roman,serif\" font-size=\"14.00\">samples = 26</text>\r\n",
       "<text text-anchor=\"middle\" x=\"6787\" y=\"-1144.3\" font-family=\"Times New Roman,serif\" font-size=\"14.00\">value = 452075.538</text>\r\n",
       "</g>\r\n",
       "<!-- 164&#45;&gt;168 -->\r\n",
       "<g id=\"edge168\" class=\"edge\"><title>164&#45;&gt;168</title>\r\n",
       "<path fill=\"none\" stroke=\"black\" d=\"M6671.52,-1232.88C6692.08,-1220.62 6715.28,-1206.78 6735.47,-1194.74\"/>\r\n",
       "<polygon fill=\"black\" stroke=\"black\" points=\"6737.42,-1197.65 6744.22,-1189.52 6733.84,-1191.64 6737.42,-1197.65\"/>\r\n",
       "</g>\r\n",
       "<!-- 166 -->\r\n",
       "<g id=\"node167\" class=\"node\"><title>166</title>\r\n",
       "<polygon fill=\"none\" stroke=\"black\" points=\"6689,-1085.5 6543,-1085.5 6543,-1032.5 6689,-1032.5 6689,-1085.5\"/>\r\n",
       "<text text-anchor=\"middle\" x=\"6616\" y=\"-1070.3\" font-family=\"Times New Roman,serif\" font-size=\"14.00\">mse = 1293940088.424</text>\r\n",
       "<text text-anchor=\"middle\" x=\"6616\" y=\"-1055.3\" font-family=\"Times New Roman,serif\" font-size=\"14.00\">samples = 22</text>\r\n",
       "<text text-anchor=\"middle\" x=\"6616\" y=\"-1040.3\" font-family=\"Times New Roman,serif\" font-size=\"14.00\">value = 319632.591</text>\r\n",
       "</g>\r\n",
       "<!-- 165&#45;&gt;166 -->\r\n",
       "<g id=\"edge166\" class=\"edge\"><title>165&#45;&gt;166</title>\r\n",
       "<path fill=\"none\" stroke=\"black\" d=\"M6616,-1128.88C6616,-1118.33 6616,-1106.6 6616,-1095.85\"/>\r\n",
       "<polygon fill=\"black\" stroke=\"black\" points=\"6619.5,-1095.52 6616,-1085.52 6612.5,-1095.52 6619.5,-1095.52\"/>\r\n",
       "</g>\r\n",
       "<!-- 167 -->\r\n",
       "<g id=\"node168\" class=\"node\"><title>167</title>\r\n",
       "<polygon fill=\"none\" stroke=\"black\" points=\"6853,-1085.5 6707,-1085.5 6707,-1032.5 6853,-1032.5 6853,-1085.5\"/>\r\n",
       "<text text-anchor=\"middle\" x=\"6780\" y=\"-1070.3\" font-family=\"Times New Roman,serif\" font-size=\"14.00\">mse = 1653205098.402</text>\r\n",
       "<text text-anchor=\"middle\" x=\"6780\" y=\"-1055.3\" font-family=\"Times New Roman,serif\" font-size=\"14.00\">samples = 13</text>\r\n",
       "<text text-anchor=\"middle\" x=\"6780\" y=\"-1040.3\" font-family=\"Times New Roman,serif\" font-size=\"14.00\">value = 377828.462</text>\r\n",
       "</g>\r\n",
       "<!-- 165&#45;&gt;167 -->\r\n",
       "<g id=\"edge167\" class=\"edge\"><title>165&#45;&gt;167</title>\r\n",
       "<path fill=\"none\" stroke=\"black\" d=\"M6669.25,-1128.88C6688.87,-1116.68 6711.02,-1102.9 6730.32,-1090.9\"/>\r\n",
       "<polygon fill=\"black\" stroke=\"black\" points=\"6732.32,-1093.77 6738.97,-1085.52 6728.63,-1087.83 6732.32,-1093.77\"/>\r\n",
       "</g>\r\n",
       "</g>\r\n",
       "</svg>\r\n"
      ],
      "text/plain": [
       "<graphviz.files.Source at 0x25bc8c6df88>"
      ]
     },
     "execution_count": 97,
     "metadata": {},
     "output_type": "execute_result"
    }
   ],
   "source": [
    "with open('C:/Users/Cesar Aaron/Documents/Practicas de Python/House_Prices_Kaggle/house_prices__rtree.dot','w') as dotfile:\n",
    "    export_graphviz(reg_tree, out_file = dotfile, feature_names = X.columns.values)\n",
    "    dotfile.close()\n",
    "\n",
    "import os\n",
    "from graphviz import Source\n",
    "\n",
    "file = open('C:/Users/Cesar Aaron/Documents/Practicas de Python/House_Prices_Kaggle/house_prices__rtree.dot','r')\n",
    "text = file.read()\n",
    "Source(text)"
   ]
  },
  {
   "cell_type": "code",
   "execution_count": 98,
   "metadata": {},
   "outputs": [],
   "source": [
    "from sklearn.model_selection import KFold\n",
    "from sklearn.model_selection import cross_val_score"
   ]
  },
  {
   "cell_type": "code",
   "execution_count": 99,
   "metadata": {},
   "outputs": [
    {
     "data": {
      "text/plain": [
       "1452913585.4840896"
      ]
     },
     "execution_count": 99,
     "metadata": {},
     "output_type": "execute_result"
    }
   ],
   "source": [
    "cv = KFold(n_splits = 10, shuffle = True, random_state = 1)\n",
    "score = np.abs(np.mean(cross_val_score(reg_tree, X, Y, scoring = 'neg_mean_squared_error', cv = cv, n_jobs = 1)))\n",
    "score"
   ]
  },
  {
   "cell_type": "code",
   "execution_count": 100,
   "metadata": {},
   "outputs": [
    {
     "data": {
      "text/plain": [
       "array([1.09064761e+09, 1.32167190e+09, 1.14038943e+09, 1.86080061e+09,\n",
       "       1.43309522e+09, 1.46930059e+09, 2.29395095e+09, 1.77050231e+09,\n",
       "       1.22886615e+09, 9.19911081e+08])"
      ]
     },
     "execution_count": 100,
     "metadata": {},
     "output_type": "execute_result"
    }
   ],
   "source": [
    "np.abs(cross_val_score(reg_tree, X, Y, scoring = 'neg_mean_squared_error', cv = cv, n_jobs = 1))"
   ]
  }
 ],
 "metadata": {
  "kernelspec": {
   "display_name": "Python 3",
   "language": "python",
   "name": "python3"
  },
  "language_info": {
   "codemirror_mode": {
    "name": "ipython",
    "version": 3
   },
   "file_extension": ".py",
   "mimetype": "text/x-python",
   "name": "python",
   "nbconvert_exporter": "python",
   "pygments_lexer": "ipython3",
   "version": "3.7.6"
  }
 },
 "nbformat": 4,
 "nbformat_minor": 4
}
